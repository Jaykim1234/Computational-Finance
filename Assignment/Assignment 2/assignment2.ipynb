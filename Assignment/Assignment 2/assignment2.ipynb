{
 "cells": [
  {
   "cell_type": "markdown",
   "metadata": {},
   "source": [
    "# Assignment 2"
   ]
  },
  {
   "cell_type": "markdown",
   "metadata": {},
   "source": [
    "**Deadline**:  Sunday 12 December, 23.59.\n",
    "\n",
    "Your notebook should not give errors when executed with `Run All`. Please submit your answers via [Canvas](https://canvas.uva.nl/courses/25150/assignments/248823).\n",
    "\n",
    "|**Name**|**Student ID**|**Email**|\n",
    "|:-------|:-------------|:--------|\n",
    "|        |              |         |\n",
    "\n",
    "\n",
    "#### Hand in the following:\n",
    "* Your notebook. **click on `Kernel`, then `Restart & Run All`** before submitting.\n",
    "* A (printed) pdf version of your notebook.\n",
    "\n",
    "#### NOTES:\n",
    "* This is an individual assignment. Teamwork is **not** permitted, including during lectures.\n",
    "* The assignment is a partial stand-in for a final examination, so the usual rules regarding plagiarism and fraud apply, with all attendant consequences. Code found on the internet or elsewhere is not acceptable as a solution.\n",
    "* Efficient code is required for full marks.\n",
    "* Make sure that any function you write has a docstring, and comments where appropriate.\n",
    "* Before submitting your work, **click on `Kernel`, then `Restart & Run All`** and verify that your notebook produces the desired results and does not error.\n",
    "* Some questions require you to write code to obtain a numerical result (e.g., an option price). In that case, don't just give the function, but also the result of calling it with the given parameter values (i.e., the numerial value that it returns). If your function uses random numbers, then set the seed to 0 before calling it. This makes it much easier to grade the assignments (at least as long as the answer is correct).\n",
    "* How to convert your notebook to pdf: The easiest way is probably to use your browser's print functionality: e.g. in Chrome, press the three dots to go to Options, select 'Print...', and then select 'save as pdf' as Destination. I usually set it to 70% zoom such that the output fits the printed pdf pages.\n",
    "\n",
    "\n",
    "#### Declaration of Originality:\n",
    "By submitting these answers, I declare that\n",
    "1. I have read and understood the notes above.\n",
    "2. These solutions are solely my own work.\n",
    "3. I have not made these solutions available to any other student."
   ]
  },
  {
   "cell_type": "markdown",
   "metadata": {},
   "source": [
    "**Question A**:\n",
    "Consider an $N$-period model with two assets: a riskless bond with value $B_t=e^{rt}$, and a stock that evolves according to a binomial tree, such that $S_t=S_{t-\\Delta t}u$ or $S_t=S_{t-\\Delta t}d$ in the good and bad states of the world, respectively. Here $u=1/d=\\exp(\\sigma\\sqrt{\\Delta t})$ and $\\Delta t= T/N$ as usual. We would like to price a *chooser* option, which has the property that, after $M<N$ periods, the holder can choose whether the option is a European call or put option, both maturing after $N$ periods, and with the same strike price $K$ (See Hull, section 25.7 (ed. 8) or 26.8 (ed. 9, 10, or 11)). Denoting their prices after $i$ periods as $C_{i}$ and $P_{i}$, respectively, the value of the chooser option after $M$ periods is $V_{M}=\\max \\{C_{M},P_{M}\\}\\,$. Our starting point is the function `calltree` (or `calltree_numpy`) from Week 5. \n",
    "\n",
    "**For each of the following subquestions, your answer should include the function itself, as well as the result of calling it with the following parameter values**: $S_0 = 12$, $K = 15$, $T = 3/12$, $r = 0.02$, $\\sigma = 0.25$, $q = 0.01$, $N = 500$, $M=200$.\n",
    "\n",
    "   1. We want to allow for a dividend yield, $q$. Modify `calltree_numpy` to accept an additional input argument `q`. That is, the function becomes `calltree_numpy(S0, K, T, r, sigma, q, N)`. In the function change the risk-neutral probability to $(e^{(r-q)\\Delta t}-d)/(u-d)$.\n",
    "   2. Building on your function from the previous question write a function `chooser(S0, K, T, r, sigma, q, N, M)` that prices a European chooser option. Along with the call price tree, this function should also compute a put price tree stored in a matrix `P` (of the same size as the call price matrix). Following computation of `C` and `P`, create a $(M+1) \\times (M+1)$ matrix `CH`, which stores the tree for the chooser option. At point in time `M`, the last column of this tree will be populated with $V_M=\\max \\{C_{M},P_{M}\\}\\,$. Based on the `CH` tree perform the backwards induction to determine the price of the chooser.\n",
    "   3. Now consider a chooser option for which after $M$ periods, the holder will choose between an *American* call or an *American* put (above we were choosing between a *European* call and a *European* put). Modify the function from above so that before populating the chooser tree `CH` the first loop also determines whether to exercise or keep the respective *American* put and *American* call. Call the function that evaluates the price of this particular derivative `chooser_american(S0, K, T, r, sigma, q, N, M)`.\n",
    "   4. For the given parameters values ($S_0$, $K$, $T$, $r$, $\\sigma$, $q$, $N$) plot the prices of `chooser` and `chooser_american` as a function of $M$. That is, produce a graph that has the prices of the two options on the y-axis and $M$ on the x-axis. Describe and explain (in words) the price convergence."
   ]
  },
  {
   "cell_type": "code",
   "execution_count": 115,
   "metadata": {},
   "outputs": [],
   "source": [
    "# importing package\n",
    "from scipy.stats import norm\n",
    "from sklearn.linear_model import LinearRegression\n",
    "import numpy as np\n",
    "import statsmodels.api as sm\n",
    "import matplotlib.pyplot as plt\n"
   ]
  },
  {
   "cell_type": "markdown",
   "metadata": {},
   "source": [
    "## QA- 1"
   ]
  },
  {
   "cell_type": "code",
   "execution_count": 116,
   "metadata": {},
   "outputs": [
    {
     "name": "stdout",
     "output_type": "stream",
     "text": [
      "0.025863747363824963\n"
     ]
    }
   ],
   "source": [
    "def calltree_numpy(S0, K, T, r, sigma, q, N):\n",
    "    \"\"\"\n",
    "    European call price based on an N-step binomial tree \n",
    "    with a consideration for a dividend yield, q\"\"\"\n",
    "    deltaT = T / float(N)\n",
    "    u = np.exp(sigma*np.sqrt(deltaT))\n",
    "    d = 1.0 / u\n",
    "    p = (np.exp((r-q)*deltaT)-d) / (u-d)\n",
    "    piu = np.exp(-r*deltaT) * p\n",
    "    pid = np.exp(-r*deltaT) * (1-p)\n",
    "    C = np.zeros((N+1, N+1))\n",
    "    \n",
    "    # Stock price\n",
    "    S = S0 * u**np.arange(N+1) * d**(2*np.arange(N+1)[:, np.newaxis])\n",
    "    S = np.triu(S)  #keep only the upper triangular part\n",
    "\n",
    "    # Final payoffs\n",
    "    C[:, N] = np.maximum(0, S[:, N]-K)  #note: np.maximum in place of max\n",
    "    \n",
    "    # Work backwards through the tree\n",
    "    for j in range(N-1, -1, -1):\n",
    "        C[:j+1, j] = piu * C[:j+1, j+1] + pid * C[1:j+2, j+1]\n",
    "\n",
    "    return  C[0, 0]\n",
    "\n",
    "print(calltree_numpy(12, 15, 3/12, 0.02, 0.25, 0.01, 500))"
   ]
  },
  {
   "cell_type": "markdown",
   "metadata": {},
   "source": [
    "## QA-2"
   ]
  },
  {
   "cell_type": "code",
   "execution_count": 117,
   "metadata": {},
   "outputs": [
    {
     "name": "stdout",
     "output_type": "stream",
     "text": [
      "2.981816416843708\n"
     ]
    }
   ],
   "source": [
    "def chooser(S0, K, T, r, sigma, q, N, M):\n",
    "    \"\"\"\n",
    "    European call price based on an N-step binomial tree \n",
    "    with a consideration for a dividend yield, q\"\"\"\n",
    "    deltaT = T / float(N)\n",
    "    u = np.exp(sigma*np.sqrt(deltaT))\n",
    "    d = 1.0 / u\n",
    "    p = (np.exp((r-q)*deltaT)-d) / (u-d)\n",
    "    piu = np.exp(-r*deltaT) * p\n",
    "    pid = np.exp(-r*deltaT) * (1-p)\n",
    "    C = np.zeros((N+1, N+1)) # Create an empty matrics for the put option\n",
    "    P = np.zeros((N+1, N+1)) # Create an empty matrics for the put option\n",
    "\n",
    "    # Stock price\n",
    "    S = S0 * u**np.arange(N+1) * d**(2*np.arange(N+1)[:, np.newaxis])\n",
    "    S = np.triu(S)  #keep only the upper triangular part\n",
    "\n",
    "    # Final call option payoffs \n",
    "    C[:, N] = np.maximum(0, S[:, N]-K)  #note: np.maximum in place of max\n",
    "    \n",
    "    # Final put option payoffs \n",
    "    P[:, N] = np.maximum(0, K- S[:, N])  #note: np.maximum in place of max   \n",
    "    \n",
    "    # Work backwards through the tree\n",
    "    for j in range(N-1, -1, -1):\n",
    "        C[:j+1, j] = piu * C[:j+1, j+1] + pid * C[1:j+2, j+1]\n",
    "        P[:j+1, j] = piu * P[:j+1, j+1] + pid * P[1:j+2, j+1]\n",
    "    \n",
    "    # To store the tree for the chooser option.\n",
    "    CH = np.zeros((M+1, M+1)) \n",
    "\n",
    "    # Final higher option prices between call option and put option at M time.\n",
    "    CH[:, M] = np.maximum(C[:M+1, M], P[:M+1, M])\n",
    "\n",
    "    # Work backwards through the tree\n",
    "    for j in range(M-1, -1, -1):\n",
    "        CH[:j+1, j] = piu * CH[:j+1, j+1] + pid * CH[1:j+2, j+1]\n",
    "\n",
    "    return  CH[0,0]\n",
    "\n",
    "print(chooser(12, 15, 3/12, 0.02, 0.25, 0.01, 500, 200))"
   ]
  },
  {
   "cell_type": "markdown",
   "metadata": {},
   "source": [
    "## QA-3"
   ]
  },
  {
   "cell_type": "code",
   "execution_count": 118,
   "metadata": {},
   "outputs": [
    {
     "name": "stdout",
     "output_type": "stream",
     "text": [
      "3.0019380410392396\n"
     ]
    }
   ],
   "source": [
    "def chooser_american(S0, K, T, r, sigma, q, N, M):\n",
    "    \"\"\"\n",
    "    European call price based on an N-step binomial tree \n",
    "    with a consideration for a dividend yield, q\"\"\"\n",
    "    deltaT = T / float(N)\n",
    "    u = np.exp(sigma*np.sqrt(deltaT))\n",
    "    d = 1.0 / u\n",
    "    p = (np.exp((r-q)*deltaT)-d) / (u-d)\n",
    "    piu = np.exp(-r*deltaT) * p\n",
    "    pid = np.exp(-r*deltaT) * (1-p)\n",
    "    C = np.zeros((N+1, N+1)) # Create an empty matrics for the put option\n",
    "    P = np.zeros((N+1, N+1)) # Create an empty matrics for the put option\n",
    "\n",
    "    # Stock price\n",
    "    S = S0 * u**np.arange(N+1) * d**(2*np.arange(N+1)[:, np.newaxis])\n",
    "    S = np.triu(S)  #keep only the upper triangular part\n",
    "    \n",
    "    # Final call option payoffs (N step).\n",
    "    C[:, N] = np.maximum(0, S[:, N]-K)  #note: np.maximum in place of max\n",
    "    \n",
    "    # Final put option payoffs (N step).\n",
    "    P[:, N] = np.maximum(0, K- S[:, N])  #note: np.maximum in place of max   \n",
    "    \n",
    "    # Work backwards through the tree\n",
    "    for j in range(N-1, -1, -1):\n",
    "        C[:j+1, j] = piu * C[:j+1, j+1] + pid * C[1:j+2, j+1]\n",
    "        C[:j+1, j] = np.maximum(C[:j+1, j], S[:j+1, j]- K )\n",
    "        P[:j+1, j] = piu * P[:j+1, j+1] + pid * P[1:j+2, j+1]\n",
    "        P[:j+1, j] = np.maximum(P[:j+1, j], K-S[:j+1, j]  )\n",
    "     \n",
    "    # To store the tree for the chooser option.\n",
    "    CH = np.zeros((M+1, M+1)) \n",
    "\n",
    "    # Final higher option prices between call option and put option at M time.\n",
    "    CH[:, M] = np.maximum(C[:M+1, M], P[:M+1, M])\n",
    "\n",
    "    # Work backwards through the tree\n",
    "    for j in range(M-1, -1, -1):\n",
    "        CH[:j+1, j] = piu * CH[:j+1, j+1] + pid * CH[1:j+2, j+1]\n",
    "\n",
    "    return  CH[0,0]\n",
    "\n",
    "print(chooser_american(12, 15, 3/12, 0.02, 0.25, 0.01, 500, 200))"
   ]
  },
  {
   "cell_type": "markdown",
   "metadata": {},
   "source": [
    "## QA-4"
   ]
  },
  {
   "cell_type": "code",
   "execution_count": 119,
   "metadata": {},
   "outputs": [
    {
     "name": "stderr",
     "output_type": "stream",
     "text": [
      "No handles with labels found to put in legend.\n"
     ]
    },
    {
     "data": {
      "image/png": "[encoded data removed]",
      "text/plain": [
       "<Figure size 432x288 with 1 Axes>"
      ]
     },
     "metadata": {
      "needs_background": "light"
     },
     "output_type": "display_data"
    }
   ],
   "source": [
    "def plotting (S0, K, T, r, sigma, q, N ):\n",
    "    M = np.arange(0, N)\n",
    "    y1 = [chooser(S0, K, T, r, sigma, q, N, i) for i in M ]\n",
    "    y2 = [chooser_american(S0, K, T, r, sigma, q, N, j) for j in M ]\n",
    "    # plot line\n",
    "    plt.plot(M, y1)\n",
    "    plt.plot(M, y2)\n",
    "    plt.legend()\n",
    "    plt.show()\n",
    "plotting (12, 15, 3/12, 0.02, 0.25, 0.01, 500)"
   ]
  },
  {
   "cell_type": "markdown",
   "metadata": {},
   "source": [
    "## Interpretation\n",
    "\n",
    "# ~~~"
   ]
  },
  {
   "cell_type": "markdown",
   "metadata": {},
   "source": [
    " **Question B**:\n",
    "\n",
    " We wish to obtain the no-arbitrage price $X_{0}$ of an index-linked certificate. The derivative has payoff $X_{T}$, defined from the path of an equity index $\\{S_{t}\\}_{0\\leq t\\leq T}$ as follows:\n",
    " $$\n",
    " X_{T}=S_{0}\\prod\\nolimits_{t=1}^{T}(1+\\max (R_{t},R)),\\qquad R_{t}=\\frac{S_{t}-S_{t-1}}{S_{t-1}},\\qquad R=e^{r}-1,\n",
    " $$\n",
    " where $r\\equiv \\log (1+R)$ is the continuously compounded interest rate, so that $R$ is the corresponding annually compounded interest rate. Time is measured in years, and $T$ is a positive integer, representing the number of years after which the payoff is received. The idea behind this derivative is that the investor participates in the upside potential of the stock market, but receives a guaranteed minimum return. The value $X_{0}$ of this product cannot be evaluated analytically. \n",
    "\n",
    " We assume a Black-Scholes economy and use the following parameter values: $S_0=9$, $T=10$, $R=0.02$, $\\sigma =0.25$, and $q =0.01$. \n",
    "     \n",
    "   1. Using `asianmc_vec` (and `bmsim_vec`) as a starting point, modify the `payoff` of the derivative accordingly. Call the function `certificatemc(S0, R, T, sigma, q, numsim=10000)`, which will return the Monte Carlo estimate of $X_{0}$, along with a 95% confidence interval. **Notice that both the price (at origination) and the CI should be stated explicitly in your answers, based on a random seed of 0**.\n",
    "   \n",
    "   2. Test if the confidence interval returned by `certificatemc` has correct coverage, by simulating 1000 independent ones (with `numsim=1000`), and recording in a hit series $I_j$, $j\\in\\{1, \\ldots, 1000\\}$, whether an interval contains the true price ($I_j=1$) or not ($I_j=0$). The test can be conducted by regressing $\\{I_j-0.95\\}_{j=1}^{1000}$ on an intercept and testing whether that is zero. The 'true' price should be obtained from `certificatemc` with `numsim=100000`."
   ]
  },
  {
   "cell_type": "markdown",
   "metadata": {},
   "source": [
    "## Q2-1"
   ]
  },
  {
   "cell_type": "code",
   "execution_count": 102,
   "metadata": {},
   "outputs": [],
   "source": [
    "np.random.seed(0)\n",
    "\n",
    "def bmsim_vec(T,numsim, N=500, X0=0, mu=0, sigma=0.25):  # input: numsim, the number of paths.\n",
    "    \"\"\"Simulate `numsim` Brownian motion paths.\"\"\"\n",
    "    deltaT = float(T)/N #Set delta T as total period(T) divided by N.\n",
    "    tvec = np.linspace(0, T, N+1) #Make an array that has \n",
    "    z = np.random.randn(numsim, N+1)  #Create an random array with 'numsim' rows and 'N+1' columns.\n",
    "    dX = mu*deltaT + sigma*np.sqrt(deltaT)*z\n",
    "    dX[:, 0] = 0.  #Set all the values of the first columns as 0.\n",
    "    X = np.cumsum(dX, axis=1) #Make an array that contain the cummulative sum at each row.\n",
    "    X += X0  #Add the initial stock value to the array 'X'.\n",
    "    return tvec, X\n",
    "\n",
    "def certificatemc(S0, T, r, sigma, q, numsim=10000):\n",
    "    \"\"\"Monte Carlo price of ~~~~.\"\"\"\n",
    "    X0 = np.log(S0)\n",
    "    nu = r-q-.5*sigma**2    \n",
    "    #Simulate all paths at once:\n",
    "    _, X = bmsim_vec(T,numsim, N=500, X0=0, mu=0, sigma=0.25)\n",
    "    S = np.exp(X) #Since X is ln(S), we use the exp function to derive the original Stock value. \n",
    "    R = np.diff(S)/S[:,:-1] #Get the return rate of stock. (R_i1 -Ri)/Ri\n",
    "    payoffs = S0*np.cumprod((1+ np.maximum(R, r)), axis =1) #Multiply S0 with the product of maximum rate of returns at each step.\n",
    "    g = np.exp(-r*T)*payoffs #Calculate the present value of all the payoffs at every steps. \n",
    "    C = g.mean(); s = g.std() #Get the mean and std of all the pv(payoffs).\n",
    "    zq = norm.ppf(0.975)\n",
    "    Cl = C - zq/np.sqrt(numsim)*s\n",
    "    Cu = C + zq/np.sqrt(numsim)*s\n",
    "    return C, Cl, Cu\n"
   ]
  },
  {
   "cell_type": "code",
   "execution_count": 103,
   "metadata": {},
   "outputs": [
    {
     "data": {
      "text/plain": [
       "(285437.60050258297, 271510.13041849, 299365.07058667595)"
      ]
     },
     "execution_count": 103,
     "metadata": {},
     "output_type": "execute_result"
    }
   ],
   "source": [
    "certificatemc(9, 10, 0.02, 0.25, 0.01, numsim=10000)"
   ]
  },
  {
   "cell_type": "markdown",
   "metadata": {},
   "source": [
    "## Q2-2"
   ]
  },
  {
   "cell_type": "code",
   "execution_count": 113,
   "metadata": {},
   "outputs": [],
   "source": [
    "\n",
    "def simulator(S0, T, r, sigma, q, N, numsim=1000):\n",
    "    \"\"\"Simulate independent price 'numsim' times.\"\"\"\n",
    "    arr = np.zeros(numsim) #Create numpy array filled with zero\n",
    "    return np.array(list(map(lambda x: +certificatemc(S0, T, r, sigma, q, numsim=10000)[0], arr))) #Add simulated indepedent prices to the created array.\n",
    "\n",
    "def hit_series(S0, T, r, sigma, q, N, numsim):\n",
    "    \"\"\"Return hit series.\"\"\"\n",
    "    cf_intv = certificatemc(S0, T, r, sigma, q, numsim = 10000)[1:3] #Extract 95% confidence interval.\n",
    "    simul_p = simulator(S0, T, r, sigma, q, N, numsim = 1000) # Create array that contain 1000 indenpednet simulated prices.\n",
    "    return np.array([1 if cf_intv[0] <= price <= cf_intv[1] else 0 for price in simul_p]) #Create hit series.\n",
    "\n",
    "def tester(S0, T, r, sigma, q, N=500, numsim=1000):\n",
    "    \"\"\"\n",
    "    Test if the confidence interval returned by `certificatemc` \n",
    "    has correct coverage, by simulating 1000 independent ones.\n",
    "    \"\"\"\n",
    "    Y = hit_series(S0, T, r, sigma, q, N, numsim) - 0.95\n",
    "    X = sm.add_constant(np.zeros(numsim))\n",
    "    model = sm.OLS(Y, X)\n",
    "    results = model.fit()\n",
    "    print(results.t_test([1, 0]))\n"
   ]
  },
  {
   "cell_type": "code",
   "execution_count": 114,
   "metadata": {},
   "outputs": [
    {
     "name": "stdout",
     "output_type": "stream",
     "text": [
      "                             Test for Constraints                             \n",
      "==============================================================================\n",
      "                 coef    std err          t      P>|t|      [0.025      0.975]\n",
      "------------------------------------------------------------------------------\n",
      "c0             0.0500   2.85e-18   1.75e+16      0.000       0.050       0.050\n",
      "==============================================================================\n"
     ]
    }
   ],
   "source": [
    "tester(9, 10, 0.02, 0.25, 0.01, N=500, numsim=1000)"
   ]
  }
 ],
 "metadata": {
  "kernelspec": {
   "display_name": "Python 3 (ipykernel)",
   "language": "python",
   "name": "python3"
  },
  "language_info": {
   "codemirror_mode": {
    "name": "ipython",
    "version": 3
   },
   "file_extension": ".py",
   "mimetype": "text/x-python",
   "name": "python",
   "nbconvert_exporter": "python",
   "pygments_lexer": "ipython3",
   "version": "3.8.8"
  }
 },
 "nbformat": 4,
 "nbformat_minor": 2
}

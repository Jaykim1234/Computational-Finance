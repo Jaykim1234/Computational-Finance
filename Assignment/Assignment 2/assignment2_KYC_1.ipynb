{
 "cells": [
  {
   "cell_type": "markdown",
   "metadata": {},
   "source": [
    "# Assignment 2"
   ]
  },
  {
   "cell_type": "markdown",
   "metadata": {},
   "source": [
    "**Deadline**:  Sunday 12 December, 23.59.\n",
    "\n",
    "Your notebook should not give errors when executed with `Run All`. Please submit your answers via [Canvas](https://canvas.uva.nl/courses/25150/assignments/248823).\n",
    "\n",
    "|**Name**|**Student ID**|**Email**|\n",
    "|:-------|:-------------|:--------|\n",
    "|Yechan Kim        |11630655              |kkyc1227@naver.com         |\n",
    "\n",
    "\n",
    "#### Hand in the following:\n",
    "* Your notebook. **click on `Kernel`, then `Restart & Run All`** before submitting.\n",
    "* A (printed) pdf version of your notebook.\n",
    "\n",
    "#### NOTES:\n",
    "* This is an individual assignment. Teamwork is **not** permitted, including during lectures.\n",
    "* The assignment is a partial stand-in for a final examination, so the usual rules regarding plagiarism and fraud apply, with all attendant consequences. Code found on the internet or elsewhere is not acceptable as a solution.\n",
    "* Efficient code is required for full marks.\n",
    "* Make sure that any function you write has a docstring, and comments where appropriate.\n",
    "* Before submitting your work, **click on `Kernel`, then `Restart & Run All`** and verify that your notebook produces the desired results and does not error.\n",
    "* Some questions require you to write code to obtain a numerical result (e.g., an option price). In that case, don't just give the function, but also the result of calling it with the given parameter values (i.e., the numerial value that it returns). If your function uses random numbers, then set the seed to 0 before calling it. This makes it much easier to grade the assignments (at least as long as the answer is correct).\n",
    "* How to convert your notebook to pdf: The easiest way is probably to use your browser's print functionality: e.g. in Chrome, press the three dots to go to Options, select 'Print...', and then select 'save as pdf' as Destination. I usually set it to 70% zoom such that the output fits the printed pdf pages.\n",
    "\n",
    "\n",
    "#### Declaration of Originality:\n",
    "By submitting these answers, I declare that\n",
    "1. I have read and understood the notes above.\n",
    "2. These solutions are solely my own work.\n",
    "3. I have not made these solutions available to any other student."
   ]
  },
  {
   "cell_type": "code",
   "execution_count": 1,
   "metadata": {},
   "outputs": [],
   "source": [
    "import numpy as np\n",
    "import matplotlib.pyplot as plt\n",
    "import statsmodels.api as sm\n",
    "from scipy.stats import norm\n",
    "from sklearn.linear_model import LinearRegression"
   ]
  },
  {
   "cell_type": "markdown",
   "metadata": {},
   "source": [
    "**Question A**:\n",
    "Consider an $N$-period model with two assets: a riskless bond with value $B_t=e^{rt}$, and a stock that evolves according to a binomial tree, such that $S_t=S_{t-\\Delta t}u$ or $S_t=S_{t-\\Delta t}d$ in the good and bad states of the world, respectively. Here $u=1/d=\\exp(\\sigma\\sqrt{\\Delta t})$ and $\\Delta t= T/N$ as usual. We would like to price a *chooser* option, which has the property that, after $M<N$ periods, the holder can choose whether the option is a European call or put option, both maturing after $N$ periods, and with the same strike price $K$ (See Hull, section 25.7 (ed. 8) or 26.8 (ed. 9, 10, or 11)). Denoting their prices after $i$ periods as $C_{i}$ and $P_{i}$, respectively, the value of the chooser option after $M$ periods is $V_{M}=\\max \\{C_{M},P_{M}\\}\\,$. Our starting point is the function `calltree` (or `calltree_numpy`) from Week 5. \n",
    "\n",
    "**For each of the following subquestions, your answer should include the function itself, as well as the result of calling it with the following parameter values**: $S_0 = 12$, $K = 15$, $T = 3/12$, $r = 0.02$, $\\sigma = 0.25$, $q = 0.01$, $N = 500$, $M=200$.\n",
    "\n",
    "   1. We want to allow for a dividend yield, $q$. Modify `calltree_numpy` to accept an additional input argument `q`. That is, the function becomes `calltree_numpy(S0, K, T, r, sigma, q, N)`. In the function change the risk-neutral probability to $(e^{(r-q)\\Delta t}-d)/(u-d)$.\n",
    "   2. Building on your function from the previous question write a function `chooser(S0, K, T, r, sigma, q, N, M)` that prices a European chooser option. Along with the call price tree, this function should also compute a put price tree stored in a matrix `P` (of the same size as the call price matrix). Following computation of `C` and `P`, create a $(M+1) \\times (M+1)$ matrix `CH`, which stores the tree for the chooser option. At point in time `M`, the last column of this tree will be populated with $V_M=\\max \\{C_{M},P_{M}\\}\\,$. Based on the `CH` tree perform the backwards induction to determine the price of the chooser.\n",
    "   3. Now consider a chooser option for which after $M$ periods, the holder will choose between an *American* call or an *American* put (above we were choosing between a *European* call and a *European* put). Modify the function from above so that before populating the chooser tree `CH` the first loop also determines whether to exercise or keep the respective *American* put and *American* call. Call the function that evaluates the price of this particular derivative `chooser_american(S0, K, T, r, sigma, q, N, M)`.\n",
    "   4. For the given parameters values ($S_0$, $K$, $T$, $r$, $\\sigma$, $q$, $N$) plot the prices of `chooser` and `chooser_american` as a function of $M$. That is, produce a graph that has the prices of the two options on the y-axis and $M$ on the x-axis. Describe and explain (in words) the price convergence."
   ]
  },
  {
   "cell_type": "markdown",
   "metadata": {},
   "source": [
    "Question A 1"
   ]
  },
  {
   "cell_type": "code",
   "execution_count": 2,
   "metadata": {},
   "outputs": [
    {
     "data": {
      "text/plain": [
       "0.025863747363824963"
      ]
     },
     "execution_count": 2,
     "metadata": {},
     "output_type": "execute_result"
    }
   ],
   "source": [
    "# set the option parameters\n",
    "S0 = 12.; K = 15.; T = 3/12.; r = .02; sigma = .25; q = 0.01; N = 500; M = 200;\n",
    "\n",
    "def calltree_numpy(S0, K, T, r, sigma, q, N):\n",
    "    \"\"\"European call price based on an N-step binomial tree with the dividend yield\"\"\"\n",
    "    deltaT = T / float(N)\n",
    "    u = np.exp(sigma*np.sqrt(deltaT))\n",
    "    d = 1.0 / u\n",
    "    p = (np.exp((r-q)*deltaT)-d) / (u-d)\n",
    "    piu = np.exp(-r*deltaT) * p\n",
    "    pid = np.exp(-r*deltaT) * (1-p)\n",
    "    C = np.zeros((N+1, N+1))\n",
    "        \n",
    "    # Stock Price\n",
    "    S = S0 * u**np.arange(N+1) * d**(2*np.arange(N+1)[:, np.newaxis])\n",
    "    S = np.triu(S) #keep only the upper triangular part\n",
    "\n",
    "    # Final Payoffs\n",
    "    C[:, N] = np.maximum(0, S[:, N]-K) #note: np.maximum in place of max\n",
    "\n",
    "    # Work backwards through the tree\n",
    "    for j in range(N-1, -1, -1):\n",
    "        C[:j+1, j] = piu * C[:j+1, j+1] + pid * C[1:j+2, j+1]\n",
    "\n",
    "    return C[0, 0]\n",
    "\n",
    "\n",
    "calltree_numpy(S0, K, T, r, sigma, q, N)\n"
   ]
  },
  {
   "cell_type": "markdown",
   "metadata": {},
   "source": [
    "Question A 2"
   ]
  },
  {
   "cell_type": "code",
   "execution_count": 3,
   "metadata": {},
   "outputs": [
    {
     "data": {
      "text/plain": [
       "2.981816416843708"
      ]
     },
     "execution_count": 3,
     "metadata": {},
     "output_type": "execute_result"
    }
   ],
   "source": [
    "def chooser(S0, K, T, r, sigma, q, N, M):\n",
    "    \"\"\"European chooser option based on an N-step binomial tree\"\"\"\n",
    "    \n",
    "    # Option Parameters\n",
    "    deltaT = T / float(N)\n",
    "    u = np.exp(sigma*np.sqrt(deltaT))\n",
    "    d = 1.0 / u\n",
    "    p = (np.exp((r-q)*deltaT)-d) / (u-d)\n",
    "    piu = np.exp(-r*deltaT) * p\n",
    "    pid = np.exp(-r*deltaT) * (1-p)\n",
    "    \n",
    "    # For this question, I run the same process for both Call and Put Option\n",
    "    C = np.zeros((N+1, N+1)) # Call Option\n",
    "    P = np.zeros((N+1, N+1)) # Put Option\n",
    "        \n",
    "    # Stock Price\n",
    "    S = S0 * u**np.arange(N+1) * d**(2*np.arange(N+1)[:, np.newaxis])\n",
    "    S = np.triu(S) #keep only the upper triangular part\n",
    "    \n",
    "    # Final Payoffs for both Call and Put Option\n",
    "    C[:, N] = np.maximum(0, S[:, N]-K) #note: np.maximum in place of max\n",
    "    P[:, N] = np.maximum(0, K-S[:, N]) #note: np.maximum in place of max\n",
    "        \n",
    "    # Work backwards through the tree for both Call and Put Option\n",
    "    for j in range(N-1, -1, -1):\n",
    "        C[:j+1, j] = piu * C[:j+1, j+1] + pid * C[1:j+2, j+1]\n",
    "        P[:j+1, j] = piu * P[:j+1, j+1] + pid * P[1:j+2, j+1]\n",
    "    \n",
    "    # Perform the same process for the Chooser Option\n",
    "    \n",
    "    # Definition of Chooer Option\n",
    "    CH = np.zeros((M+1, M+1)) # Chooser Option\n",
    "    \n",
    "    # Final Payoffs for Chooser Option\n",
    "    CH[:, M] = np.maximum(C[:M+1, M], P[:M+1, M])\n",
    "    \n",
    "    # Work backwards through the tree for Chooser Option\n",
    "    for j in range(M-1, -1, -1):\n",
    "        CH[:j+1, j] = piu * CH[:j+1, j+1] + pid * CH[1:j+2, j+1]\n",
    "        \n",
    "    return CH[0,0]\n",
    "\n",
    "chooser(S0, K, T, r, sigma, q, N, M)"
   ]
  },
  {
   "cell_type": "markdown",
   "metadata": {},
   "source": [
    "Question A 3"
   ]
  },
  {
   "cell_type": "code",
   "execution_count": 4,
   "metadata": {},
   "outputs": [
    {
     "data": {
      "text/plain": [
       "3.0019380410392396"
      ]
     },
     "execution_count": 4,
     "metadata": {},
     "output_type": "execute_result"
    }
   ],
   "source": [
    "def chooser_american(S0, K, T, r, sigma, q, N, M):\n",
    "    \"\"\"American Chooser Option based on an N-step binomial tree\"\"\"\n",
    "    \n",
    "    # Option Parameters\n",
    "    deltaT = T / float(N)\n",
    "    u = np.exp(sigma*np.sqrt(deltaT))\n",
    "    d = 1.0 / u\n",
    "    p = (np.exp((r-q)*deltaT)-d) / (u-d)\n",
    "    piu = np.exp(-r*deltaT) * p\n",
    "    pid = np.exp(-r*deltaT) * (1-p)\n",
    "    \n",
    "    # For this question, I run the same process for both American Call and Put Option\n",
    "    C = np.zeros((N+1, N+1)) # Call Option\n",
    "    P = np.zeros((N+1, N+1)) # Put Option\n",
    "        \n",
    "    # Stock Price\n",
    "    S = S0 * u**np.arange(N+1) * d**(2*np.arange(N+1)[:, np.newaxis])\n",
    "    S = np.triu(S) #keep only the upper triangular part\n",
    "    \n",
    "    # Final Payoffs for both American Call and Put Option\n",
    "    C[:, N] = np.maximum(0, S[:, N]-K) #note: np.maximum in place of max\n",
    "    P[:, N] = np.maximum(0, K-S[:, N]) #note: np.maximum in place of max\n",
    "        \n",
    "    # Work backwards through the tree for both American Call and Put Option\n",
    "    for j in range(N-1, -1, -1):\n",
    "        C[:j+1, j] = piu * C[:j+1, j+1] + pid * C[1:j+2, j+1]\n",
    "        C[:j+1, j] = np.maximum(C[:j+1, j], S[:j+1, j]-K ) # added for the American Call Price\n",
    "        P[:j+1, j] = piu * P[:j+1, j+1] + pid * P[1:j+2, j+1]\n",
    "        P[:j+1, j] = np.maximum(P[:j+1, j], K-S[:j+1, j] ) # added for the American Put Price\n",
    "            \n",
    "    # Perform the same process for the American Chooser Option\n",
    "    \n",
    "    # Definition of American Chooer Option\n",
    "    CH = np.zeros((M+1, M+1)) # Chooser Option\n",
    "    \n",
    "    # Final Payoffs for Chooser Option\n",
    "    CH[:, M] = np.maximum(C[:M+1, M], P[:M+1, M])\n",
    "    \n",
    "    # Work backwards through the tree for Chooser Option\n",
    "    for j in range(M-1, -1, -1):\n",
    "        CH[:j+1, j] = piu * CH[:j+1, j+1] + pid * CH[1:j+2, j+1]\n",
    "        #CH[:j+1, j] = np.maximum(P[:j+1, j], K-S[:j+1, j] )\n",
    "        \n",
    "    return CH[0,0]\n",
    "\n",
    "chooser_american(S0, K, T, r, sigma, q, N, M)"
   ]
  },
  {
   "cell_type": "markdown",
   "metadata": {},
   "source": [
    "Question A 4"
   ]
  },
  {
   "cell_type": "code",
   "execution_count": 5,
   "metadata": {},
   "outputs": [],
   "source": [
    "def plot_chooser_options (S0, K, T, r, sigma, q, N ):\n",
    "    \"\"\"Plot the prices of \"chooser (European)\" and \"chooser_american\" as a function of M\"\"\"\n",
    "    \n",
    "    # A function of M\n",
    "    \n",
    "    # x-axis\n",
    "    M = range(0, 500) # N = 500\n",
    "    \n",
    "    # y-axis\n",
    "    CH_EU = [chooser(S0, K, T, r, sigma, q, N, i) for i in M ]\n",
    "    CH_AM = [chooser_american(S0, K, T, r, sigma, q, N, j) for j in M ]\n",
    "    \n",
    "    # plot specifications\n",
    "    plt.plot(M, CH_EU) # A Function shows the Prices of European Chooser Option\n",
    "    plt.plot(M, CH_AM) # A Function shows the Prices of American Chooser Option\n",
    "    plt.title(\"Prices of European and American Chooser Option\")\n",
    "    plt.xlabel(\"M\")\n",
    "    plt.ylabel(\"Prices of two Chooser Options\")\n",
    "    plt.show()"
   ]
  },
  {
   "cell_type": "code",
   "execution_count": 6,
   "metadata": {},
   "outputs": [
    {
     "data": {
      "image/png": "[encoded data removed]",
      "text/plain": [
       "<Figure size 432x288 with 1 Axes>"
      ]
     },
     "metadata": {
      "needs_background": "light"
     },
     "output_type": "display_data"
    }
   ],
   "source": [
    "plot_chooser_options (S0, K, T, r, sigma, q, N )"
   ]
  },
  {
   "cell_type": "markdown",
   "metadata": {},
   "source": [
    "The blue line indicates the prices of the (European) chooser option.\n",
    "The orange line indicates the prices of the American chooser option. \n",
    "The prices of the European and American chooser option converges at the end of the period (N = 500). \n",
    "\n",
    "To be specific, as answered in the previous questions, the price of put option is larger than the price of call option for both the (European) chooser option and the American chooser option. Thus, the graph shows the difference between the European and American put option because the chooser options are designed to choose the higher price option. \n",
    "\n",
    "The American put option is more valuable than the European put option when the American option is exercised earky before the expiration date (N = 500). An early exercise of American put option is more valuable when the exercise is far away from the expiration date. \n",
    "\n",
    "As the American put option approaches to the expiration date (N = 500 in this case), the advantage of the early exercise disappears. In other words, the American put option will be equal to the European put option at the expiration date (N = 500). This is the reason of price convergence. \n"
   ]
  },
  {
   "cell_type": "markdown",
   "metadata": {},
   "source": [
    " **Question B**:\n",
    "\n",
    " We wish to obtain the no-arbitrage price $X_{0}$ of an index-linked certificate. The derivative has payoff $X_{T}$, defined from the path of an equity index $\\{S_{t}\\}_{0\\leq t\\leq T}$ as follows:\n",
    " $$\n",
    " X_{T}=S_{0}\\prod\\nolimits_{t=1}^{T}(1+\\max (R_{t},R)),\\qquad R_{t}=\\frac{S_{t}-S_{t-1}}{S_{t-1}},\\qquad R=e^{r}-1,\n",
    " $$\n",
    " where $r\\equiv \\log (1+R)$ is the continuously compounded interest rate, so that $R$ is the corresponding annually compounded interest rate. Time is measured in years, and $T$ is a positive integer, representing the number of years after which the payoff is received. The idea behind this derivative is that the investor participates in the upside potential of the stock market, but receives a guaranteed minimum return. The value $X_{0}$ of this product cannot be evaluated analytically. \n",
    "\n",
    " We assume a Black-Scholes economy and use the following parameter values: $S_0=9$, $T=10$, $R=0.02$, $\\sigma =0.25$, and $q =0.01$. \n",
    "     \n",
    "   1. Using `asianmc_vec` (and `bmsim_vec`) as a starting point, modify the `payoff` of the derivative accordingly. Call the function `certificatemc(S0, R, T, sigma, q, numsim=10000)`, which will return the Monte Carlo estimate of $X_{0}$, along with a 95% confidence interval. **Notice that both the price (at origination) and the CI should be stated explicitly in your answers, based on a random seed of 0**.\n",
    "   \n",
    "   2. Test if the confidence interval returned by `certificatemc` has correct coverage, by simulating 1000 independent ones (with `numsim=1000`), and recording in a hit series $I_j$, $j\\in\\{1, \\ldots, 1000\\}$, whether an interval contains the true price ($I_j=1$) or not ($I_j=0$). The test can be conducted by regressing $\\{I_j-0.95\\}_{j=1}^{1000}$ on an intercept and testing whether that is zero. The 'true' price should be obtained from `certificatemc` with `numsim=100000`."
   ]
  },
  {
   "cell_type": "markdown",
   "metadata": {},
   "source": [
    "Question B 1"
   ]
  },
  {
   "cell_type": "code",
   "execution_count": 19,
   "metadata": {},
   "outputs": [
    {
     "data": {
      "text/plain": [
       "(1893.892390375058, 1872.5042675097425, 1915.2805132403737)"
      ]
     },
     "execution_count": 19,
     "metadata": {},
     "output_type": "execute_result"
    }
   ],
   "source": [
    "# Set the option parameters\n",
    "S0 = 9; T = 10; R = 0.02; sigma = 0.25; q = 0.01;\n",
    "\n",
    "# Define the function \"certifictemc\"\n",
    "def certificatemc(S0, R, T, sigma, q, numsim = 10000):\n",
    "    \"\"\"Return the Monte Carlo estimate of X0 along with a 95% Confidence Interval\"\"\"     \n",
    "    \n",
    "    def bmsim_vec(T, N, X0=0, mu=0, sigma=1, numsim=10000):\n",
    "        np.random.seed(0)\n",
    "        deltaT = float(T)/N\n",
    "        tvec = np.linspace(0, T, N+1)\n",
    "        z = np.random.randn(numsim, N+1)  #(N+1)->(numsim, N+1)\n",
    "        dX = mu*deltaT + sigma*np.sqrt(deltaT)*z\n",
    "        dX[:, 0] = 0.  #dX[0]->dX[:, 0]\n",
    "        X = np.cumsum(dX, axis=1)  #cumsum(dX)->cumsum(dX, axis=1)\n",
    "        X += X0    \n",
    "        return tvec, X\n",
    "    tvec, X = bmsim_vec(T, N, X0=0, mu=0, sigma=1, numsim=10000)\n",
    "    #print(X)\n",
    "    \n",
    "    def asianmc_vec_modified(S0, K, T, r, sigma, q, N, numsim=10000):\n",
    "        np.random.seed(0)\n",
    "        X0 = np.log(S0)\n",
    "        nu = r-q-.5*sigma**2    \n",
    "        #simulate all paths at once:\n",
    "        _, X = bmsim_vec(T, N, X0, nu, sigma, numsim)\n",
    "        S = np.exp(X)\n",
    "        \n",
    "        # Calculate the payoff of X0\n",
    "        R_log = np.exp(R)-1 # R = e^r - 1\n",
    "        R_t = np.diff(S)/S[:, 1:] # R_t = (S_t - S_t-1)/ S_t-1\n",
    "        payoffs = S0*np.cumsum(1+np.maximum(R_t,R_log), axis = 1)\n",
    "        \n",
    "        # Confidence Interval\n",
    "        g = np.exp(-r*T)*payoffs\n",
    "        C = g.mean()\n",
    "        s = g.std()\n",
    "        zq = norm.ppf(0.975)\n",
    "        Cl = C - zq/np.sqrt(numsim)*s\n",
    "        Cu = C + zq/np.sqrt(numsim)*s\n",
    "        return C, Cl, Cu\n",
    "\n",
    "    AVM = asianmc_vec_modified(S0, K, T, r, sigma, q, N, numsim=10000)\n",
    "    \n",
    "    return AVM \n",
    "\n",
    "certificatemc(S0, R, T, sigma, q, numsim = 10000)"
   ]
  },
  {
   "cell_type": "markdown",
   "metadata": {},
   "source": [
    "Question B 2"
   ]
  },
  {
   "cell_type": "code",
   "execution_count": 8,
   "metadata": {},
   "outputs": [
    {
     "data": {
      "text/plain": [
       "(1893.9358310164487, 1826.3003453955628, 1961.5713166373346)"
      ]
     },
     "execution_count": 8,
     "metadata": {},
     "output_type": "execute_result"
    }
   ],
   "source": [
    "def certificatemc1(S0, R, T, sigma, q, numsim = 1000, av = False):\n",
    "    \"\"\"Return the Monte Carlo estimate of X0 along with a 95% Confidence Interval\"\"\"     \n",
    "    \n",
    "    def bmsim_vec(T, N, X0=0, mu=0, sigma=1, numsim=1000):\n",
    "        np.random.seed(0)\n",
    "        deltaT = float(T)/N\n",
    "        tvec = np.linspace(0, T, N+1)\n",
    "        z = np.random.randn(numsim, N+1)  #(N+1)->(numsim, N+1)\n",
    "        if av:\n",
    "            z = np.concatenate((z, -z))\n",
    "        dX = mu*deltaT + sigma*np.sqrt(deltaT)*z\n",
    "        dX[:, 0] = 0.  #dX[0]->dX[:, 0]\n",
    "        X = np.cumsum(dX, axis=1)  #cumsum(dX)->cumsum(dX, axis=1)\n",
    "        X += X0    \n",
    "        return tvec, X\n",
    "    \n",
    "    def asianmc_vec_modified(S0, K, T, r, sigma, q, N, numsim=1000):\n",
    "        np.random.seed(0)\n",
    "        X0 = np.log(S0)\n",
    "        nu = r-q-.5*sigma**2    \n",
    "        #simulate all paths at once:\n",
    "        _, X = bmsim_vec(T, N, X0, nu, sigma, numsim)\n",
    "        S = np.exp(X)\n",
    "        \n",
    "        # Calculate the payoff of X0\n",
    "        R_log = np.exp(R)-1 # R = e^r - 1\n",
    "        R_t = np.diff(S)/S[:, 1:] # R_t = (S_t - S_t-1)/ S_t-1\n",
    "        payoffs = S0*np.cumsum(1+np.maximum(R_t,R_log), axis = 1)\n",
    "        \n",
    "        # Confidence Interval\n",
    "        g = np.exp(-r*T)*payoffs\n",
    "        if av:\n",
    "            g = .5*(g[:numsim]+g[numsim:])\n",
    "        C = g.mean()\n",
    "        s = g.std()\n",
    "        zq = norm.ppf(0.975)\n",
    "        Cl = C - zq/np.sqrt(numsim)*s\n",
    "        Cu = C + zq/np.sqrt(numsim)*s\n",
    "        return C, Cl, Cu\n",
    "\n",
    "    AVM = asianmc_vec_modified(S0, K, T, r, sigma, q, N, numsim=1000)\n",
    "    \n",
    "    return AVM \n",
    "\n",
    "certificatemc1(S0, R, T, sigma, q, numsim = 1000, av = False)"
   ]
  },
  {
   "cell_type": "code",
   "execution_count": 9,
   "metadata": {},
   "outputs": [
    {
     "data": {
      "text/plain": [
       "(1893.9358310164487, 135.2709712417718)"
      ]
     },
     "execution_count": 9,
     "metadata": {},
     "output_type": "execute_result"
    }
   ],
   "source": [
    "S0 = 9; T = 10; R = 0.02; sigma = 0.25; q = 0.01; numsim=1000\n",
    "np.random.seed(0)\n",
    "C, Cl, Cu = certificatemc1(S0, R, T, sigma, q, numsim, av = False)\n",
    "C, Cu-Cl"
   ]
  },
  {
   "cell_type": "code",
   "execution_count": 10,
   "metadata": {},
   "outputs": [
    {
     "data": {
      "text/plain": [
       "(1893.8941780886457, 135.26969826195182)"
      ]
     },
     "execution_count": 10,
     "metadata": {},
     "output_type": "execute_result"
    }
   ],
   "source": [
    "np.random.seed(0)\n",
    "C, Cl, Cu = certificatemc1(S0, R, T, sigma, q, int(numsim/2), av = True)  \n",
    "C, Cu-Cl"
   ]
  },
  {
   "cell_type": "code",
   "execution_count": 20,
   "metadata": {},
   "outputs": [
    {
     "name": "stdout",
     "output_type": "stream",
     "text": [
      "646 ms ± 18.5 ms per loop (mean ± std. dev. of 7 runs, 1 loop each)\n"
     ]
    }
   ],
   "source": [
    "%timeit certificatemc(S0, R, T, sigma, q, numsim = 10000)"
   ]
  },
  {
   "cell_type": "code",
   "execution_count": 12,
   "metadata": {},
   "outputs": [
    {
     "name": "stdout",
     "output_type": "stream",
     "text": [
      "76.2 ms ± 1.15 ms per loop (mean ± std. dev. of 7 runs, 10 loops each)\n"
     ]
    }
   ],
   "source": [
    "%timeit certificatemc1(S0, R, T, sigma, q, numsim, av = False)"
   ]
  },
  {
   "cell_type": "code",
   "execution_count": 13,
   "metadata": {},
   "outputs": [
    {
     "name": "stdout",
     "output_type": "stream",
     "text": [
      "136 ms ± 2.15 ms per loop (mean ± std. dev. of 7 runs, 10 loops each)\n"
     ]
    }
   ],
   "source": [
    "%timeit certificatemc1(S0, R, T, sigma, q, int(numsim/2), av = True)  "
   ]
  },
  {
   "cell_type": "code",
   "execution_count": 21,
   "metadata": {},
   "outputs": [
    {
     "data": {
      "text/plain": [
       "(1872.5042675097425, 1915.2805132403737)"
      ]
     },
     "execution_count": 21,
     "metadata": {},
     "output_type": "execute_result"
    }
   ],
   "source": [
    "cmc = certificatemc(S0, R, T, sigma, q, numsim = 100000)[1:3]\n",
    "cmc"
   ]
  },
  {
   "cell_type": "code",
   "execution_count": 15,
   "metadata": {},
   "outputs": [
    {
     "data": {
      "text/plain": [
       "(1893.9358310164487, 1826.3003453955628, 1961.5713166373346)"
      ]
     },
     "execution_count": 15,
     "metadata": {},
     "output_type": "execute_result"
    }
   ],
   "source": [
    "hs = certificatemc1(S0, R, T, sigma, q, numsim = 1000, av = False)\n",
    "hs # hit series"
   ]
  },
  {
   "cell_type": "code",
   "execution_count": null,
   "metadata": {},
   "outputs": [],
   "source": []
  },
  {
   "cell_type": "code",
   "execution_count": 38,
   "metadata": {},
   "outputs": [],
   "source": [
    "# Set the option parameters\n",
    "S0 = 9; T = 10; R = 0.02; sigma = 0.25; q = 0.01;\n",
    "\n",
    "# Define the function \"certifictemc\"\n",
    "def certificatemc(S0, R, T, sigma, q, numsim = 10000):\n",
    "    \"\"\"Return the Monte Carlo estimate of X0 along with a 95% Confidence Interval\"\"\"     \n",
    "    \n",
    "    def bmsim_vec(T, N, X0=0, mu=0, sigma=1, numsim=10000):\n",
    "        np.random.seed(0)\n",
    "        deltaT = float(T)/N\n",
    "        tvec = np.linspace(0, T, N+1)\n",
    "        z = np.random.randn(numsim, N+1)  #(N+1)->(numsim, N+1)\n",
    "        dX = mu*deltaT + sigma*np.sqrt(deltaT)*z\n",
    "        dX[:, 0] = 0.  #dX[0]->dX[:, 0]\n",
    "        X = np.cumsum(dX, axis=1)  #cumsum(dX)->cumsum(dX, axis=1)\n",
    "        X += X0    \n",
    "        return tvec, X\n",
    "    \n",
    "    def asianmc_vec_modified(S0, K, T, r, sigma, q, N, numsim=10000):\n",
    "        np.random.seed(0)\n",
    "        X0 = np.log(S0)\n",
    "        nu = r-q-.5*sigma**2    \n",
    "        #simulate all paths at once:\n",
    "        _, X = bmsim_vec(T, N, X0, nu, sigma, numsim)\n",
    "        S = np.exp(X)\n",
    "        \n",
    "        # Calculate the payoff of X0\n",
    "        R_log = np.exp(R)-1 # R = e^r - 1\n",
    "        R_t = np.diff(S)/S[:, 1:] # R_t = (S_t - S_t-1)/ S_t-1\n",
    "        payoffs = S0*np.cumsum(1+np.maximum(R_t,R_log), axis = 1)\n",
    "        \n",
    "        # Confidence Interval\n",
    "        g = np.exp(-r*T)*payoffs\n",
    "        C = g.mean()\n",
    "        s = g.std()\n",
    "        zq = norm.ppf(0.975)\n",
    "        Cl = C - zq/np.sqrt(numsim)*s\n",
    "        Cu = C + zq/np.sqrt(numsim)*s\n",
    "        return g, C, Cl, Cu\n",
    "\n",
    "    g, C, Cl, Cu = asianmc_vec_modified(S0, K, T, r, sigma, q, N, numsim=10000)\n",
    "    \n",
    "    return g, C, Cl, Cu \n",
    "\n",
    "g, C, Cl, Cu = certificatemc(S0, R, T, sigma, q, numsim = 10000)\n",
    "\n",
    "\n",
    "I = np.ones(np.shape(g))\n",
    "I[np.where(g<Cl)] = 1\n",
    "I[np.where(g>Cu)] = 1\n",
    "\n",
    "\n"
   ]
  },
  {
   "cell_type": "code",
   "execution_count": 39,
   "metadata": {},
   "outputs": [
    {
     "data": {
      "text/plain": [
       "(array([[   7.5174319 ,   15.13360113,   23.06055094, ..., 3764.32263044,\n",
       "         3771.84006234, 3779.35749425],\n",
       "        [   7.64571753,   15.16314943,   22.68058133, ..., 3762.53844502,\n",
       "         3770.05587692, 3777.65029473],\n",
       "        [   7.5174319 ,   15.03486381,   22.55229571, ..., 3764.1449951 ,\n",
       "         3771.662427  , 3779.1798589 ],\n",
       "        ...,\n",
       "        [   7.5174319 ,   15.03486381,   22.55229571, ..., 3766.04905533,\n",
       "         3773.56934391, 3781.08677581],\n",
       "        [   7.72977391,   15.24720581,   22.82216883, ..., 3763.48000846,\n",
       "         3770.99744036, 3778.51487226],\n",
       "        [   7.5174319 ,   15.03486381,   22.55229571, ..., 3761.22405048,\n",
       "         3768.74148238, 3776.25891428]]),\n",
       " 1893.892390375058,\n",
       " 1872.5042675097425,\n",
       " 1915.2805132403737)"
      ]
     },
     "execution_count": 39,
     "metadata": {},
     "output_type": "execute_result"
    }
   ],
   "source": [
    "g, C, Cl, Cu"
   ]
  },
  {
   "cell_type": "code",
   "execution_count": 40,
   "metadata": {},
   "outputs": [
    {
     "data": {
      "text/plain": [
       "array([[   7.5174319 ,   15.13360113,   23.06055094, ..., 3764.32263044,\n",
       "        3771.84006234, 3779.35749425],\n",
       "       [   7.64571753,   15.16314943,   22.68058133, ..., 3762.53844502,\n",
       "        3770.05587692, 3777.65029473],\n",
       "       [   7.5174319 ,   15.03486381,   22.55229571, ..., 3764.1449951 ,\n",
       "        3771.662427  , 3779.1798589 ],\n",
       "       ...,\n",
       "       [   7.5174319 ,   15.03486381,   22.55229571, ..., 3766.04905533,\n",
       "        3773.56934391, 3781.08677581],\n",
       "       [   7.72977391,   15.24720581,   22.82216883, ..., 3763.48000846,\n",
       "        3770.99744036, 3778.51487226],\n",
       "       [   7.5174319 ,   15.03486381,   22.55229571, ..., 3761.22405048,\n",
       "        3768.74148238, 3776.25891428]])"
      ]
     },
     "execution_count": 40,
     "metadata": {},
     "output_type": "execute_result"
    }
   ],
   "source": [
    "g"
   ]
  },
  {
   "cell_type": "code",
   "execution_count": 41,
   "metadata": {},
   "outputs": [
    {
     "data": {
      "text/plain": [
       "10000"
      ]
     },
     "execution_count": 41,
     "metadata": {},
     "output_type": "execute_result"
    }
   ],
   "source": [
    "len(g)"
   ]
  },
  {
   "cell_type": "code",
   "execution_count": 43,
   "metadata": {},
   "outputs": [
    {
     "data": {
      "text/plain": [
       "array([[1., 1., 1., ..., 1., 1., 1.],\n",
       "       [1., 1., 1., ..., 1., 1., 1.],\n",
       "       [1., 1., 1., ..., 1., 1., 1.],\n",
       "       ...,\n",
       "       [1., 1., 1., ..., 1., 1., 1.],\n",
       "       [1., 1., 1., ..., 1., 1., 1.],\n",
       "       [1., 1., 1., ..., 1., 1., 1.]])"
      ]
     },
     "execution_count": 43,
     "metadata": {},
     "output_type": "execute_result"
    }
   ],
   "source": [
    "I"
   ]
  },
  {
   "cell_type": "code",
   "execution_count": 44,
   "metadata": {},
   "outputs": [
    {
     "data": {
      "text/plain": [
       "10000"
      ]
     },
     "execution_count": 44,
     "metadata": {},
     "output_type": "execute_result"
    }
   ],
   "source": [
    "len(I)"
   ]
  },
  {
   "cell_type": "code",
   "execution_count": 73,
   "metadata": {},
   "outputs": [
    {
     "data": {
      "text/plain": [
       "<statsmodels.regression.linear_model.RegressionResultsWrapper at 0x22d64ce6a08>"
      ]
     },
     "execution_count": 73,
     "metadata": {},
     "output_type": "execute_result"
    }
   ],
   "source": [
    "Y = g - 0.95\n",
    "X = sm.add_constant(I)\n",
    "test = sm.OLS(Y, X).fit()\n",
    "test"
   ]
  },
  {
   "cell_type": "code",
   "execution_count": null,
   "metadata": {},
   "outputs": [],
   "source": []
  },
  {
   "cell_type": "code",
   "execution_count": null,
   "metadata": {},
   "outputs": [],
   "source": []
  },
  {
   "cell_type": "code",
   "execution_count": null,
   "metadata": {},
   "outputs": [],
   "source": []
  },
  {
   "cell_type": "code",
   "execution_count": null,
   "metadata": {},
   "outputs": [],
   "source": []
  },
  {
   "cell_type": "code",
   "execution_count": null,
   "metadata": {},
   "outputs": [],
   "source": []
  },
  {
   "cell_type": "code",
   "execution_count": null,
   "metadata": {},
   "outputs": [],
   "source": []
  },
  {
   "cell_type": "code",
   "execution_count": null,
   "metadata": {},
   "outputs": [],
   "source": []
  },
  {
   "cell_type": "markdown",
   "metadata": {},
   "source": [
    "For the payoff and the confidence interval, the result is satisfiable. The result of numsim = 100000 (1893.89) is similar with those of numsim = 1000 (1893.94 or 1893.89) as shown above in the cells. \n",
    "\n",
    "However, the running time of each process with the different condition is much different from each other. \n",
    "\n",
    "Regression"
   ]
  },
  {
   "cell_type": "code",
   "execution_count": null,
   "metadata": {},
   "outputs": [],
   "source": []
  },
  {
   "cell_type": "code",
   "execution_count": null,
   "metadata": {},
   "outputs": [],
   "source": []
  }
 ],
 "metadata": {
  "kernelspec": {
   "display_name": "Python 3",
   "language": "python",
   "name": "python3"
  },
  "language_info": {
   "codemirror_mode": {
    "name": "ipython",
    "version": 3
   },
   "file_extension": ".py",
   "mimetype": "text/x-python",
   "name": "python",
   "nbconvert_exporter": "python",
   "pygments_lexer": "ipython3",
   "version": "3.7.4"
  }
 },
 "nbformat": 4,
 "nbformat_minor": 2
}

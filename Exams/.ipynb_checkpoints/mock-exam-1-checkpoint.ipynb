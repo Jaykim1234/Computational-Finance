{
 "cells": [
  {
   "cell_type": "markdown",
   "metadata": {},
   "source": [
    "# Mock Exam 1\n",
    "\n",
    "*This exam is representative in terms of types of questions. It is longer than the actual exam, such that you have more practice questions. This would be more suitable for a three hour exam instead of two hours.*\n",
    "\n",
    "*Visit [Canvas](https://canvas.uva.nl/courses/20506/assignments/179028) for more information on the exam.*"
   ]
  },
  {
   "cell_type": "markdown",
   "metadata": {},
   "source": [
    "## Question 1\n",
    "1. Write a docstring for the function `f(z)`, that takes the list `z` as input, defined in the cell below. In other words, what does the function do?"
   ]
  },
  {
   "cell_type": "code",
   "execution_count": 1,
   "metadata": {},
   "outputs": [],
   "source": [
    "def f(z):\n",
    "    '''\n",
    "    \n",
    "    '''\n",
    "    \n",
    "    j = 0\n",
    "    \n",
    "    while z[j] <= 0:\n",
    "        j = j + 1\n",
    "        \n",
    "    return j"
   ]
  },
  {
   "cell_type": "markdown",
   "metadata": {},
   "source": [
    "2. For each of the following expressions, state whether the two arrays can be broadcast together, and if so, what the expression will evaluate to:\n",
    "    * `np.array([1, 2]) + np.array([7])`\n",
    "    * `np.array([[1, 2], [3, 4]]) + np.array([7, 8])`\n",
    "    * `np.array([[1, 2], [3, 4]]) + np.array([7, 8, 9])`\n",
    "    * `np.array([[1, 2], [3, 4], [5, 6]]) + np.array([[7], [8], [9]])`"
   ]
  },
  {
   "cell_type": "markdown",
   "metadata": {},
   "source": [
    "## Question 2\n",
    "\n",
    "You are given a set of $N$ returns $\\{R_t\\}_{t=T-N+1}^T$.\n",
    "1. Suppose that $N=10$ and $\\{R_t\\}=\\{-0.07,  0.87,  1.13, -0.48,  0.22,  0.94, -0.62, -0.01,  2.06, -0.08\\}$. What is the historical 20% VaR?\n",
    "* Name 2 problems associated with the historical VaR and offer a solution for each of them.\n",
    "* You gather some more returns and produce the graph in the figure below. Interpret it.\n",
    "<img src=\"figq2.png\" alt=\"qqplot\" style=\"display:block; margin-left: auto; margin-right: auto; width: 90%;\">\n",
    "\n",
    "4. You decide to use a parametric model for $VaR_{t+1}^p$, in the form of a Student's $t$ distribution. You fit the distribution to the data and obtain the following estimates: $(m, h, \\nu)=(0.01, .3, 4)$, where $m$, $h$, and $\\nu$ are respectively the location and scale parameters and the degrees of freedom. Obtain the 1% Student's $t$ VaR.\n",
    "* Explain how after constructing VaR forecasts for all $N$ observations, you could backtest your model."
   ]
  },
  {
   "cell_type": "code",
   "execution_count": null,
   "metadata": {},
   "outputs": [],
   "source": []
  },
  {
   "cell_type": "markdown",
   "metadata": {},
   "source": [
    "## Question 3\n",
    "\n",
    "Consider a researcher who sorts a set of assets based on characteristic $X$, and finds the following average equal weighted returns.\n",
    "\n",
    "1. Explain the impact of choosing value weighted portfolio returns versus equal weighted portfolio returns on the average returns.\n",
    "* Based on the average returns, explain whether the researcher has an anomaly or not."
   ]
  },
  {
   "cell_type": "code",
   "execution_count": null,
   "metadata": {},
   "outputs": [],
   "source": []
  },
  {
   "cell_type": "markdown",
   "metadata": {},
   "source": [
    "## Question 4\n",
    "Consider a  two-period binomial stock price tree ($T=2$, $N=2$, $\\delta t\\equiv T/N=1$), where $S_{t}=S_{t-1}u$ or $S_t=S_{t-1}d$,\n",
    "with $S_0=4$, $u=2$ and $d=1/u=\\frac{1}{2}$. The risk-free bond satisfies $B_t=e^{rt}$, where $e^{r \\delta t}=5/4$.\n",
    "\n",
    "1. Derive the risk free probability of an up move from the condition that the stock must earn the risk free rate\n",
    "under $\\mathbb{Q}$.\n",
    "\n",
    "* Let $\\displaystyle S^\\ast_t\\equiv \\max_{0\\leq j \\leq t} S_j$. Obtain $C_0$, the no-arbitrage at time zero of a European *lookback option* whose payoff at time $T$ is $[C_T=S^*_T-S_T]$.\n",
    "\n",
    "    **Hint**: the payoff of the option is path-dependent, implying a non-recombining option tree."
   ]
  },
  {
   "cell_type": "code",
   "execution_count": null,
   "metadata": {},
   "outputs": [],
   "source": []
  },
  {
   "cell_type": "markdown",
   "metadata": {},
   "source": [
    "## Question 5\n",
    "\n",
    "1. State the definition of a continuous-time martingale, and explain what it means.\n",
    "* Let \n",
    "    $$dX_t=\\nu dt +\\sigma dW_t, \\quad \\nu=-\\frac{1}{2}\\sigma^2,$$ \n",
    "    a Brownian motion with drift. For each of the following functions, derive the SDE satisfied by $Y_t\\equiv f(t, X_t)$, and state whether $Y_t$ is a martingale.\n",
    "    1. $f(t, X_t)=\\exp(X_t)$;\n",
    "    * $f(t, X_t)=tX_t$."
   ]
  },
  {
   "cell_type": "code",
   "execution_count": null,
   "metadata": {},
   "outputs": [],
   "source": []
  },
  {
   "cell_type": "markdown",
   "metadata": {},
   "source": [
    "## Question 6\n",
    "\n",
    "A researcher wants to obtain a Monte Carlo estimate of the price of a European-style option with payoff $C_T(S_T)$. The risk-neutral dynamics of $S_t$ are specified  by the SDE\n",
    "\n",
    "$$dS_t=\\mu_tdt+\\sigma_t dW_t.$$\n",
    "\n",
    "The market is free from arbitrage, so that $C_0= \\mathbb{E}^\\mathbb{Q}[e^{-rT}C_T(S_T)]$.\n",
    "1. Explain how the researcher could simulate a draw from the risk-neutral distribution of $C_T(S_T)$.\n",
    "* Let $X\\equiv e^{-rT}C_T(S_T)$ and denote by $\\{X_i\\}_{i=1}^n$ independent draws of $X$ as in the previous question. The researcher uses $\\bar X_n\\equiv \\tfrac{1}{n}\\sum_{i=1}^nX_i$ as an estimate of $C_0$. Derive a (asymptotic) confidence interval for $C_0$."
   ]
  },
  {
   "cell_type": "code",
   "execution_count": null,
   "metadata": {},
   "outputs": [],
   "source": []
  }
 ],
 "metadata": {
  "kernelspec": {
   "display_name": "Python 3 (ipykernel)",
   "language": "python",
   "name": "python3"
  },
  "language_info": {
   "codemirror_mode": {
    "name": "ipython",
    "version": 3
   },
   "file_extension": ".py",
   "mimetype": "text/x-python",
   "name": "python",
   "nbconvert_exporter": "python",
   "pygments_lexer": "ipython3",
   "version": "3.8.8"
  }
 },
 "nbformat": 4,
 "nbformat_minor": 2
}

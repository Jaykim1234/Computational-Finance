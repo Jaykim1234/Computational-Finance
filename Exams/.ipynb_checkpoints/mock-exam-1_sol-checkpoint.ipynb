{
 "cells": [
  {
   "cell_type": "markdown",
   "metadata": {},
   "source": [
    "# Solutions to Mock Exam 1\n",
    "\n",
    "*This exam is representative in terms of types of questions. It is longer than the actual exam, such that you have more practice questions. This would be more suitable for a three hour exam instead of two hours.*\n",
    "\n",
    "*Visit [Canvas](https://canvas.uva.nl/courses/20506/assignments/179028) for more information on the exam.*"
   ]
  },
  {
   "cell_type": "markdown",
   "metadata": {},
   "source": [
    "## Question 1\n",
    "1. Write a docstring for the function `f(z)`, that takes the list `z` input, defined in the cell below. In other words, what does the function do?"
   ]
  },
  {
   "cell_type": "code",
   "execution_count": 1,
   "metadata": {},
   "outputs": [],
   "source": [
    "def f(z):\n",
    "    '''\n",
    "    Returns the index of the first positive element in the list z. \n",
    "    If all elements in z are non-positive, then it throws an error.\n",
    "    '''\n",
    "    \n",
    "    j = 0\n",
    "    \n",
    "    while z[j] <= 0:\n",
    "        j = j + 1\n",
    "        \n",
    "    return j"
   ]
  },
  {
   "cell_type": "markdown",
   "metadata": {},
   "source": [
    "2. For each of the following expressions, state whether the two arrays can be broadcast together, and if so, what the expression will evaluate to:\n",
    "    * `np.array([1, 2]) + np.array([7])`\n",
    "    * `np.array([[1, 2], [3, 4]]) + np.array([7, 8])`\n",
    "    * `np.array([[1, 2], [3, 4]]) + np.array([7, 8, 9])`\n",
    "    * `np.array([[1, 2], [3, 4], [5, 6]]) + np.array([[7], [8], [9]])`"
   ]
  },
  {
   "cell_type": "markdown",
   "metadata": {},
   "source": [
    "#### Answers\n",
    "\n",
    "1. ``` '''Returns the index of the first positive element in the list z. \n",
    "    If all elements in z are non-positive, then it throws an error.'''      ```\n",
    "\n",
    "2. Broadcasting works as follows: counting from the back, the dimensions of the arrays match if they either agree, are equal to 1, or absent. In particular:\n",
    "    * The dimensions are `(2,)` and `(1,)`. The second array gets expanded to `np.array([7, 7])`, and the result is `np.array([8, 9])`.\n",
    "    * The dimensions are `(2, 2)` and `(2,)`. The second array gets expanded to `np.array([7, 8], [7, 8])`, and the result is `np.array([[ 8, 10], [10, 12]])`.\n",
    "    * The dimensions are `(2, 2)` and `(3,)`. The second dimension does not match (2 and 3). This errors.\n",
    "    * The dimensions are `(3, 2)` and `(3, 1)`. The second array gets expanded to `np.array([[ 7,  7], [8, 8], [9, 9]])`, and the result is `np.array([[ 8,  9], [11, 12], [14, 15]])`."
   ]
  },
  {
   "cell_type": "markdown",
   "metadata": {},
   "source": [
    "## Question 2\n",
    "\n",
    "You are given a set of $N$ returns $\\{R_t\\}_{t=T-N+1}^T$.\n",
    "1. Suppose that $N=10$ and $\\{R_t\\}=\\{-0.07,  0.87,  1.13, -0.48,  0.22,  0.94, -0.62, -0.01,  2.06, -0.08\\}$. What is the historical 20% VaR?\n",
    "* Name 2 problems associated with the historical VaR and offer a solution for each of them.\n",
    "* You gather some more returns and produce the graph in the figure below. Interpret it.\n",
    "<img src=\"figq2.png\" alt=\"qqplot\" style=\"display:block; margin-left: auto; margin-right: auto; width: 90%;\">\n",
    "\n",
    "4. You decide to use a parametric model for $VaR_{t+1}^p$, in the form of a Student's $t$ distribution. You fit the distribution to the data and obtain the following estimates: $(m, h, \\nu)=(0.01, .3, 4)$, where $m$, $h$, and $\\nu$ are respectively the location and scale parameters and the degrees of freedom. Obtain the 1% Student's $t$ VaR.\n",
    "* Explain how after constructing VaR forecasts for all $N$ observations, you could backtest your model"
   ]
  },
  {
   "cell_type": "markdown",
   "metadata": {},
   "source": [
    "#### Answers\n",
    "\n",
    "1. Sort the array and pick the smallest value such that at least 20% (2 out of 10) of the values are smaller than or equal to it, i.e., $-0.48$ (because $-0.48$ and $-0.62$ are smaller than or equal to it). The VaR is minus that number, so $0.48$ (recall that VaR should be a positive number).\n",
    "\n",
    "2. \n",
    "    * Historical VaR assumes that the last $N$ returns are representative for tomorrow. Solution: use a filtered method or a rolling window method.\n",
    "    * Only 20% of the data are really used to compute the VaR (note how the historical VaR doesn't change at all if we multiply all the positive returns by, e.g., 10,000). We could use a larger $N$, but that exacerbates the first problem. Solution: use a parametric distribution, such as the Student's $t$. To solve both problems, the methods can be combined.\n",
    "        \n",
    "* This is a QQ plot; it plots the empirical/historical quantiles against those of a fitted parametric distribution, in this case the Normal. If the fit is good, then the points should lie on the 45 degree line. Here, the data are clearly more heavy-tailed than the normal distribution would imply. E.g., focussing on the point at the bottom left, for some $p$, the $p$% percentile of the normal is about $-4$, whereas the empirical one is almost $-6$.\n",
    "\n",
    "* $\n",
    "VaR_{t+1}^{p} =-F^{-1}_\\nu(p; m, h) =-m-hF^{-1}_\\nu(p; 0, 1) =-0.01-.3F^{-1}_4(p; 0, 1) =-0.01-.3(-3.747)=1.114.\n",
    "$\n",
    "\n",
    "* This can be tested by comparing the number of realized exceedances to the number of expected exceedances (which is equal to $N*p$). If the number of realized exceedances is much larger (or smaller) than the number of expected exceedances, the assumptions are invalid."
   ]
  },
  {
   "cell_type": "markdown",
   "metadata": {},
   "source": [
    "## Question 3\n",
    "\n",
    "Consider a researcher who sorts a set of assets based on characteristic $X$, and finds the following average equal weighted returns.\n",
    "\n",
    "1. Explain the impact of choosing value weighted portfolio returns versus equal weighted portfolio returns on the average returns.\n",
    "* Based on the average returns, explain whether the researcher has an anomaly or not."
   ]
  },
  {
   "cell_type": "markdown",
   "metadata": {},
   "source": [
    "#### Answers\n",
    "\n",
    "1. Using equal weighted returns implies that small cap stocks have a large impact on the returns. When using value weigthed returns, a small set of large cap firms have a large impact.\n",
    "* There is no way to conclude this based on the average returns. An anomaly are the abnormal returns that cannot be explained by the asset pricing model we consider. We should first compute the alphas and betas, and compare the alphas to be able to conclude this."
   ]
  },
  {
   "cell_type": "markdown",
   "metadata": {},
   "source": [
    "## Question 4\n",
    "Consider a  two-period binomial stock price tree ($T=2$, $N=2$, $\\delta t\\equiv T/N=1$), where $S_{t}=S_{t-1}u$ or $S_t=S_{t-1}d$,\n",
    "with $S_0=4$, $u=2$ and $d=1/u=\\frac{1}{2}$. The risk-free bond satisfies $B_t=e^{rt}$, where $e^{r \\delta t}=5/4$.\n",
    "\n",
    "1. Derive the risk free probability of an up move from the condition that the stock must earn the risk free rate\n",
    "under $\\mathbb{Q}$.\n",
    "\n",
    "* Let $\\displaystyle S^\\ast_t\\equiv \\max_{0\\leq j \\leq t} S_j$. Obtain $C_0$, the no-arbitrage at time zero of a European *lookback option* whose payoff at time $T$ is $[C_T=S^*_T-S_T]$.\n",
    "\n",
    "    **Hint**: the payoff of the option is path-dependent, implying a non-recombining option tree."
   ]
  },
  {
   "cell_type": "markdown",
   "metadata": {},
   "source": [
    "#### Answers\n",
    "\n",
    "1. The condition is\n",
    "\\begin{align*}\n",
    "\\mathbb{E}^{\\mathbb{Q}}\\left[ S_{t} |\\mathcal{F}_{t-1}\\right] &=e^{r\\delta t}S_{t-1} \\Leftrightarrow\\\\\n",
    "pS_{t-1}u+(1-p)S_{t-1}d &=e^{r \\delta t}S_{t-1} \\Leftrightarrow\\\\\n",
    "p(u-d)&=e^{r \\delta t}-d,\n",
    "\\end{align*}\n",
    "so that $p=(e^{r \\delta t}-d)/(u-d)=(\\frac{5}{4}-\\frac{2}{4})/(2-\\frac{1}{2})=\\frac{1}{2}$.\n",
    "\n",
    "2. The payoffs at maturity are $C_{uu}=0$, $C_{ud}=4$, $C_{du}=0$, and $C_{dd}=3$.  Backwards induction yields $C_u=1.6$, $C_d=1.2$, and $C_0=1.12$."
   ]
  },
  {
   "cell_type": "code",
   "execution_count": null,
   "metadata": {},
   "outputs": [],
   "source": []
  },
  {
   "cell_type": "markdown",
   "metadata": {},
   "source": [
    "## Question 5\n",
    "\n",
    "1. State the definition of a continuous-time martingale, and explain what it means.\n",
    "* Let \n",
    "    $$dX_t=\\nu dt +\\sigma dW_t, \\quad \\nu=-\\frac{1}{2}\\sigma^2,$$ \n",
    "    a Brownian motion with drift. For each of the following functions, derive the SDE satisfied by $Y_t\\equiv f(t, X_t)$, and state whether $Y_t$ is a martingale.\n",
    "    1. $f(t, X_t)=\\exp(X_t)$;\n",
    "    * $f(t, X_t)=tX_t$."
   ]
  },
  {
   "cell_type": "markdown",
   "metadata": {},
   "source": [
    "#### Answers\n",
    "\n",
    "1. $X_t$ is a martingale if\n",
    "    * $\\mathbb{E}[|X_t|]<\\infty$\n",
    "    * $\\mathbb{E}[X_t\\mid \\mathcal F_{s}]=X_{s}$, $s<t$.\n",
    "\n",
    "  This means that a martingale is a process without a drift; on average, we expect tomorrow's value to be equal to today's.\n",
    "  \n",
    "2. \n",
    "    1. $f(t, X_t)=\\exp(X_t)$, so $\\dot f(t, X_t)\\equiv \\tfrac{\\partial}{\\partial t}f(t, X_t)=0$, $f'(t, X_t)\\equiv \\tfrac{\\partial}{\\partial X_t}f(t, X_t)=\\exp(X_t)$, and $f''(t, X_t)\\equiv \\tfrac{\\partial^2}{\\partial X_t^2}f(t, X_t)=\\exp(X_t)$, so by Ito's lemma,\n",
    "\\begin{align*}\n",
    "dY_t\\equiv df(t,X_{t})&=\\dot{f}(t,X_{t})dt+f^{\\prime }(t,X_{t})dX_{t}+\\frac{1}{2}f^{\\prime \\prime }(t,X_{t})\\sigma^2dt\\\\\n",
    "&=0+\\exp(X_t)dX_{t}+\\frac{1}{2}\\exp(X_t)\\sigma^2dt\\\\\n",
    "&=\\exp(X_t)(\\nu dt +\\sigma dW_t)+\\frac{1}{2}\\exp(X_t)\\sigma^2dt\\\\\n",
    "&=\\exp(X_t)(-\\frac{1}{2}\\sigma^2 dt +\\sigma dW_t)+\\frac{1}{2}\\exp(X_t)\\sigma^2dt\\\\\n",
    "&= \\exp(X_t)\\sigma dW_t\\\\\n",
    "&= Y_t\\sigma dW_t,\n",
    "\\end{align*}\n",
    "an Ito process without a drift and hence a martingale.\n",
    "\n",
    "    2. $f(t, X_t)=tX_t$, so $\\dot f(t, X_t)=X_t$, $f'(t, X_t)=t$, $f''(t, X_t)=0$,  and\n",
    "\\begin{align*}\n",
    "dY_t\\equiv df(t,X_{t})&=\\dot{f}(t,X_{t})dt+f^{\\prime }(t,X_{t})dX_{t}+\\frac{1}{2}f^{\\prime \\prime }(t,X_{t})\\sigma^2dt\\\\\n",
    "&=X_tdt+tdX_t+0\\\\\n",
    "&=X_tdt+t(\\nu dt +\\sigma dW_t)\\\\\n",
    "&=(X_t+\\nu t)dt+\\sigma t dW_t,\\\\\n",
    "&=(X_t-\\frac{1}{2}\\sigma^2 t)dt+\\sigma t dW_t,\n",
    "\\end{align*}\n",
    "which has a non-zero drift and thus isn't a martingale."
   ]
  },
  {
   "cell_type": "markdown",
   "metadata": {},
   "source": [
    "## Question 6\n",
    "\n",
    "A researcher wants to obtain a Monte Carlo estimate of the price of a European-style option with payoff $C_T(S_T)$. The risk-neutral dynamics of $S_t$ are specified  by the SDE\n",
    "\n",
    "$$dS_t=\\mu_tdt+\\sigma_t dW_t.$$\n",
    "\n",
    "The market is free from arbitrage, so that $C_0= \\mathbb{E}^\\mathbb{Q}[e^{-rT}C_T(S_T)]$.\n",
    "1. Explain how the researcher could simulate a draw from the risk-neutral distribution of $C_T(S_T)$.\n",
    "* Let $X\\equiv e^{-rT}C_T(S_T)$ and denote by $\\{X_i\\}_{i=1}^n$ independent draws of $X$ as in the previous question. The researcher uses $\\bar X_n\\equiv \\tfrac{1}{n}\\sum_{i=1}^nX_i$ as an estimate of $C_0$. Derive a (asymptotic) confidence interval for $C_0$."
   ]
  },
  {
   "cell_type": "markdown",
   "metadata": {},
   "source": [
    "#### Answers\n",
    "\n",
    "1. The process could be discretized by the Euler approximation\n",
    "$$\n",
    "S_{i}=S_{i-1}+\\mu_t \\delta t + \\sigma_t  \\sqrt{\\delta t} Z_i,\n",
    "$$\n",
    "where $Z_i\\stackrel{i.i.d.}{\\sim} N(0,1)$. Given pseudo random numbers for $Z_i$, this can be iterated to give a path for $S_t$, including $S_T$ and hence $C_T(S_T)$. Repeating this $n$ times with independent random numbers produces $n$ paths.\n",
    "* By the C.L.T.,\n",
    "$$\n",
    "\\sqrt{n}(\\bar{X}_n-\\theta)\\stackrel d\\rightarrow N\\left(0,\\sigma^2\\right), \\quad \\sigma^2=var(X).\n",
    "$$\n",
    "Hence,\n",
    "\\begin{align*}\n",
    "\\mathbb{P}[-1.96 \\sigma\\leq \\sqrt{n}(\\bar{X}_n-\\theta)\\leq 1.96 \\sigma ]&=0.95\\Leftrightarrow\\\\\n",
    "\\mathbb{P}[\\bar{X}_n-1.96 \\frac{\\sigma}{\\sqrt{n}}\\leq \\theta\\leq \\bar{X}_n+1.96 \\frac{\\sigma}{\\sqrt{n}} ]&=0.95.\n",
    "\\end{align*}\n",
    "Hence $c_l=\\bar{X}_n-1.96 \\frac{\\sigma}{\\sqrt{n}}$ and $c_u=\\bar{X}_n+1.96 \\frac{\\sigma}{\\sqrt{n}}$ is an asymptotically valid CI. $\\sigma^2$ is unknown, but we can estimate it as\n",
    "$$\n",
    "\\hat{\\sigma}^2=\\frac{1}{n}\\sum_{i=1}^n \\left(X_i-\\bar{X}_n\\right)^2.\n",
    "$$"
   ]
  }
 ],
 "metadata": {
  "kernelspec": {
   "display_name": "Python 3 (ipykernel)",
   "language": "python",
   "name": "python3"
  },
  "language_info": {
   "codemirror_mode": {
    "name": "ipython",
    "version": 3
   },
   "file_extension": ".py",
   "mimetype": "text/x-python",
   "name": "python",
   "nbconvert_exporter": "python",
   "pygments_lexer": "ipython3",
   "version": "3.8.8"
  }
 },
 "nbformat": 4,
 "nbformat_minor": 2
}

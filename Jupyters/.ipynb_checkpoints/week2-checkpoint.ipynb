{
 "cells": [
  {
   "cell_type": "code",
   "execution_count": 1,
   "metadata": {
    "slideshow": {
     "slide_type": "skip"
    }
   },
   "outputs": [],
   "source": [
    "# !jupyter nbconvert --to slides week2.ipynb --post serve\n",
    "# http://127.0.0.1:8000/week2.slides.html?print-pdf"
   ]
  },
  {
   "cell_type": "markdown",
   "metadata": {
    "slideshow": {
     "slide_type": "slide"
    }
   },
   "source": [
    "<p style=\"text-align: center; font-size: 192%\"> Computational Finance </p>\n",
    "<img src=\"img/ABSlogo.svg\" alt=\"LOGO\" style=\"display:block; margin-left: auto; margin-right: auto; width: 90%;\">\n",
    "<p style=\"text-align: center; font-size: 150%\"> Week 2: Dealing with Data </p>\n",
    "<p style=\"text-align: center; font-size: 75%\"> <a href=\"#copyrightslide\">Copyright</a> </p>"
   ]
  },
  {
   "cell_type": "code",
   "execution_count": 2,
   "metadata": {
    "slideshow": {
     "slide_type": "skip"
    }
   },
   "outputs": [],
   "source": [
    "#silence some warnings\n",
    "import warnings\n",
    "warnings.filterwarnings('ignore')"
   ]
  },
  {
   "cell_type": "markdown",
   "metadata": {
    "slideshow": {
     "slide_type": "slide"
    }
   },
   "source": [
    "# Last week: Introduction to Python\n",
    "\n",
    "* **Python** is a popular free open-source programming language, that is beginner-friendly.\n",
    "* Each Python objects is a **data type**. Each type has specific atributes and methods. We discussed the following\n",
    "    * Numeric types: integer, float\n",
    "    * Boolean\n",
    "    * Sequence types: string, list (`[]`), tuple (`()`)\n",
    "* ` if-else` statements, `while` loops and `for` loops allow code to be non-linear by controlling under what conditions and how often lines of code are executed.\n",
    "* Python functionality is organized in **modules** from which functions can be imported.\n",
    "* User-specified **functions** can be created too. \n",
    "* Be careful with the structure when defining a function or loop: use indentation, and don't forget the colon (`:`)!"
   ]
  },
  {
   "cell_type": "markdown",
   "metadata": {
    "slideshow": {
     "slide_type": "slide"
    }
   },
   "source": [
    "# This week: Dealing with Data\n",
    "\n",
    "* Numpy\n",
    "    * Array\n",
    "    * Vectorization\n",
    "* Pandas\n",
    "    * Series\n",
    "    * DataFrames \n",
    "* Working with Time Series\n",
    "* Fetching Data\n",
    "* Regression Analysis\n",
    "\n",
    "\n",
    "* **Assignment 1 available**"
   ]
  },
  {
   "cell_type": "markdown",
   "metadata": {
    "slideshow": {
     "slide_type": "slide"
    }
   },
   "source": [
    "# Dealing with Data\n",
    "## More Datatypes\n",
    "### NumPy Arrays\n",
    "* The most fundamental data type in scientific Python is `ndarray`, provided by the NumPy package ([user guide](https://docs.scipy.org/doc/numpy/user/index.html)).\n",
    "* An array is similar to a `list`, except that\n",
    "  * it can have more than one dimension;\n",
    "  * its elements are homogeneous (they all have the same type).\n",
    "* NumPy provides a large number of functions (*ufuncs*) that operate elementwise on arrays. This allows *vectorized* code, avoiding loops (which are slow in Python)."
   ]
  },
  {
   "cell_type": "markdown",
   "metadata": {
    "slideshow": {
     "slide_type": "slide"
    }
   },
   "source": [
    "#### Constructing Arrays\n",
    "* Arrays can be constructed using the `array` function which takes sequences (e.g, lists, tuples, etc.) and converts them into arrays. The data type is inferred automatically or can be specified."
   ]
  },
  {
   "cell_type": "code",
   "execution_count": 3,
   "metadata": {},
   "outputs": [
    {
     "data": {
      "text/plain": [
       "dtype('int32')"
      ]
     },
     "execution_count": 3,
     "metadata": {},
     "output_type": "execute_result"
    }
   ],
   "source": [
    "import numpy as np\n",
    "a = np.array([1, 2, 3, 4])\n",
    "a.dtype"
   ]
  },
  {
   "cell_type": "code",
   "execution_count": 4,
   "metadata": {},
   "outputs": [
    {
     "data": {
      "text/plain": [
       "dtype('float64')"
      ]
     },
     "execution_count": 4,
     "metadata": {},
     "output_type": "execute_result"
    }
   ],
   "source": [
    "a = np.array([1, 2, 3, 4], dtype='float64')  #or a = np.array([1., 2., 3., 4.])\n",
    "a.dtype"
   ]
  },
  {
   "cell_type": "markdown",
   "metadata": {},
   "source": [
    "* NumPy uses C++ data types which differ from Python's (though `float64` is equivalent to Python's `float`)."
   ]
  },
  {
   "cell_type": "markdown",
   "metadata": {
    "slideshow": {
     "slide_type": "slide"
    }
   },
   "source": [
    "* Nested lists result in multidimensional arrays. We won't need anything beyond two-dimensional (i.e., a matrix or table). If not otherwise stated, each nested list translates into another row."
   ]
  },
  {
   "cell_type": "code",
   "execution_count": 5,
   "metadata": {},
   "outputs": [
    {
     "data": {
      "text/plain": [
       "array([[1., 2.],\n",
       "       [3., 4.]])"
      ]
     },
     "execution_count": 5,
     "metadata": {},
     "output_type": "execute_result"
    }
   ],
   "source": [
    "a = np.array([[1., 2.], [3., 4.]]); a"
   ]
  },
  {
   "cell_type": "code",
   "execution_count": 6,
   "metadata": {},
   "outputs": [
    {
     "data": {
      "text/plain": [
       "2"
      ]
     },
     "execution_count": 6,
     "metadata": {},
     "output_type": "execute_result"
    }
   ],
   "source": [
    "a.ndim  #Number of dimensions."
   ]
  },
  {
   "cell_type": "code",
   "execution_count": 7,
   "metadata": {},
   "outputs": [
    {
     "data": {
      "text/plain": [
       "(2, 2)"
      ]
     },
     "execution_count": 7,
     "metadata": {},
     "output_type": "execute_result"
    }
   ],
   "source": [
    "a.shape #Number of rows and columns."
   ]
  },
  {
   "cell_type": "markdown",
   "metadata": {
    "slideshow": {
     "slide_type": "slide"
    }
   },
   "source": [
    "* Other functions for creating arrays include:"
   ]
  },
  {
   "cell_type": "code",
   "execution_count": 8,
   "metadata": {},
   "outputs": [
    {
     "data": {
      "text/plain": [
       "array([[1., 0., 0.],\n",
       "       [0., 1., 0.],\n",
       "       [0., 0., 1.]])"
      ]
     },
     "execution_count": 8,
     "metadata": {},
     "output_type": "execute_result"
    }
   ],
   "source": [
    "np.eye(3)  #Identity matrix. float64 is the default dtype and can be omitted"
   ]
  },
  {
   "cell_type": "code",
   "execution_count": 9,
   "metadata": {},
   "outputs": [
    {
     "data": {
      "text/plain": [
       "array([[1., 1., 1.],\n",
       "       [1., 1., 1.]])"
      ]
     },
     "execution_count": 9,
     "metadata": {},
     "output_type": "execute_result"
    }
   ],
   "source": [
    "np.ones([2, 3])  #There's also np.zeros, and np.empty (which results in an uninitialized array)."
   ]
  },
  {
   "cell_type": "code",
   "execution_count": 10,
   "metadata": {},
   "outputs": [
    {
     "data": {
      "text/plain": [
       "array([0, 2, 4, 6, 8])"
      ]
     },
     "execution_count": 10,
     "metadata": {},
     "output_type": "execute_result"
    }
   ],
   "source": [
    "np.arange(0, 10, 2)  #Like range, but creates an array instead of a list (i.e., array-range)."
   ]
  },
  {
   "cell_type": "code",
   "execution_count": 11,
   "metadata": {},
   "outputs": [
    {
     "data": {
      "text/plain": [
       "array([ 0. ,  2.5,  5. ,  7.5, 10. ])"
      ]
     },
     "execution_count": 11,
     "metadata": {},
     "output_type": "execute_result"
    }
   ],
   "source": [
    "np.linspace(0, 10, 5) #5 equally spaced points between 0 and 10"
   ]
  },
  {
   "cell_type": "markdown",
   "metadata": {
    "slideshow": {
     "slide_type": "slide"
    }
   },
   "source": [
    "#### Indexing\n",
    "* Indexing and slicing operations are similar to lists:"
   ]
  },
  {
   "cell_type": "code",
   "execution_count": 12,
   "metadata": {},
   "outputs": [
    {
     "data": {
      "text/plain": [
       "1.0"
      ]
     },
     "execution_count": 12,
     "metadata": {},
     "output_type": "execute_result"
    }
   ],
   "source": [
    "a = np.array([[1., 2.], [3., 4.]])\n",
    "a[0,0] #Element [row, column]. Equivalent to a[0][0]."
   ]
  },
  {
   "cell_type": "code",
   "execution_count": 13,
   "metadata": {},
   "outputs": [
    {
     "data": {
      "text/plain": [
       "array([1., 3.])"
      ]
     },
     "execution_count": 13,
     "metadata": {},
     "output_type": "execute_result"
    }
   ],
   "source": [
    "b = a[:, 0]; b  #All rows of first column. Yields a 1-dimensional array (vector), not a matrix with one column. "
   ]
  },
  {
   "cell_type": "markdown",
   "metadata": {
    "slideshow": {
     "slide_type": "-"
    }
   },
   "source": [
    "* Slicing returns *views* into the original array (unlike slicing lists):"
   ]
  },
  {
   "cell_type": "code",
   "execution_count": 14,
   "metadata": {},
   "outputs": [
    {
     "data": {
      "text/plain": [
       "array([42.,  3.])"
      ]
     },
     "execution_count": 14,
     "metadata": {},
     "output_type": "execute_result"
    }
   ],
   "source": [
    "b[0] = 42; b"
   ]
  },
  {
   "cell_type": "code",
   "execution_count": 15,
   "metadata": {},
   "outputs": [
    {
     "name": "stdout",
     "output_type": "stream",
     "text": [
      "[[42.  2.]\n",
      " [ 3.  4.]]\n"
     ]
    }
   ],
   "source": [
    "c=a.copy(); print(c)"
   ]
  },
  {
   "cell_type": "markdown",
   "metadata": {
    "slideshow": {
     "slide_type": "slide"
    }
   },
   "source": [
    "* Apart from indexing by row and column, arrays also support *Boolean* indexing:"
   ]
  },
  {
   "cell_type": "code",
   "execution_count": 16,
   "metadata": {},
   "outputs": [
    {
     "data": {
      "text/plain": [
       "(array([0, 1, 2, 3, 4, 5, 6, 7, 8, 9]),\n",
       " array([ 5,  6,  7,  8,  9, 10, 11, 12, 13, 14]))"
      ]
     },
     "execution_count": 16,
     "metadata": {},
     "output_type": "execute_result"
    }
   ],
   "source": [
    "a = np.arange(10); \n",
    "b = np.arange(5,15); a, b"
   ]
  },
  {
   "cell_type": "code",
   "execution_count": 17,
   "metadata": {},
   "outputs": [
    {
     "data": {
      "text/plain": [
       "array([False, False, False, False, False, False,  True,  True,  True,\n",
       "        True])"
      ]
     },
     "execution_count": 17,
     "metadata": {},
     "output_type": "execute_result"
    }
   ],
   "source": [
    "foo = a > 5; foo"
   ]
  },
  {
   "cell_type": "code",
   "execution_count": 18,
   "metadata": {
    "scrolled": true
   },
   "outputs": [
    {
     "data": {
      "text/plain": [
       "array([11, 12, 13, 14])"
      ]
     },
     "execution_count": 18,
     "metadata": {},
     "output_type": "execute_result"
    }
   ],
   "source": [
    "b[foo]  #feeding a boolean index for slicing"
   ]
  },
  {
   "cell_type": "markdown",
   "metadata": {
    "slideshow": {
     "slide_type": "slide"
    }
   },
   "source": [
    "#### Concatenation and Reshaping\n",
    "* To combine two arrays in NumPy, use `concatenate` or `stack`:"
   ]
  },
  {
   "cell_type": "code",
   "execution_count": 19,
   "metadata": {},
   "outputs": [
    {
     "data": {
      "text/plain": [
       "(array([1, 2, 3]), array([4, 5, 6]))"
      ]
     },
     "execution_count": 19,
     "metadata": {},
     "output_type": "execute_result"
    }
   ],
   "source": [
    "a = np.array([1, 2, 3]); b = np.array([4, 5, 6]); a,b"
   ]
  },
  {
   "cell_type": "code",
   "execution_count": 20,
   "metadata": {},
   "outputs": [
    {
     "data": {
      "text/plain": [
       "array([1, 2, 3, 4, 5, 6])"
      ]
     },
     "execution_count": 20,
     "metadata": {},
     "output_type": "execute_result"
    }
   ],
   "source": [
    "c = np.concatenate([a, b]); c  #Concatenate along an existing axis."
   ]
  },
  {
   "cell_type": "code",
   "execution_count": 21,
   "metadata": {
    "scrolled": true
   },
   "outputs": [
    {
     "data": {
      "text/plain": [
       "array([[1, 2, 3],\n",
       "       [4, 5, 6]])"
      ]
     },
     "execution_count": 21,
     "metadata": {},
     "output_type": "execute_result"
    }
   ],
   "source": [
    "d = np.stack([a, b]); d  #Concatenate along a new axis (e.g., vectors to matrix)."
   ]
  },
  {
   "cell_type": "markdown",
   "metadata": {},
   "source": [
    "* `reshape(n, m)` changes the shape of an array into `(n,m)`, taking the elements row-wise. A dimension given as `-1` (i.e., unspecified) will be inferred automatically."
   ]
  },
  {
   "cell_type": "code",
   "execution_count": 22,
   "metadata": {},
   "outputs": [
    {
     "data": {
      "text/plain": [
       "(2, 3)"
      ]
     },
     "execution_count": 22,
     "metadata": {},
     "output_type": "execute_result"
    }
   ],
   "source": [
    "d.shape"
   ]
  },
  {
   "cell_type": "code",
   "execution_count": 23,
   "metadata": {},
   "outputs": [
    {
     "data": {
      "text/plain": [
       "array([[1, 2],\n",
       "       [3, 4],\n",
       "       [5, 6]])"
      ]
     },
     "execution_count": 23,
     "metadata": {},
     "output_type": "execute_result"
    }
   ],
   "source": [
    "d = d.reshape(3,-1); d  #3 rows, number of columns determined automatically -1 here inferred to be 2."
   ]
  },
  {
   "cell_type": "markdown",
   "metadata": {
    "slideshow": {
     "slide_type": "slide"
    }
   },
   "source": [
    "#### Arithmetic and ufuncs\n",
    "* NumPy ufuncs are functions that operate elementwise:"
   ]
  },
  {
   "cell_type": "code",
   "execution_count": 24,
   "metadata": {},
   "outputs": [
    {
     "data": {
      "text/plain": [
       "array([1.        , 1.41421356, 1.73205081, 2.        ])"
      ]
     },
     "execution_count": 24,
     "metadata": {},
     "output_type": "execute_result"
    }
   ],
   "source": [
    "a = np.arange(1, 5); np.sqrt(a)"
   ]
  },
  {
   "cell_type": "markdown",
   "metadata": {},
   "source": [
    "* Other useful *ufuncs* are `exp()`, `log()`, `abs()`, and `sqrt()`.\n",
    "* Basic arithmetic on arrays works elementwise: "
   ]
  },
  {
   "cell_type": "code",
   "execution_count": 25,
   "metadata": {},
   "outputs": [
    {
     "data": {
      "text/plain": [
       "(array([1, 2, 3, 4]),\n",
       " array([5, 6, 7, 8]),\n",
       " array([ 6,  8, 10, 12]),\n",
       " array([-4, -4, -4, -4]),\n",
       " array([0.2       , 0.33333333, 0.42857143, 0.5       ]))"
      ]
     },
     "execution_count": 25,
     "metadata": {},
     "output_type": "execute_result"
    }
   ],
   "source": [
    "a = np.arange(1, 5); b = np.arange(5, 9); a, b, a + b, a - b, a / b  #Note: a/b.astype(float) for divsion in 2.7"
   ]
  },
  {
   "cell_type": "markdown",
   "metadata": {
    "slideshow": {
     "slide_type": "slide"
    }
   },
   "source": [
    "#### Broadcasting\n",
    "\n",
    "* Operations between scalars and arrays are also supported:"
   ]
  },
  {
   "cell_type": "code",
   "execution_count": 26,
   "metadata": {},
   "outputs": [
    {
     "data": {
      "text/plain": [
       "array([3, 4, 5, 6])"
      ]
     },
     "execution_count": 26,
     "metadata": {},
     "output_type": "execute_result"
    }
   ],
   "source": [
    "np.array([1, 2, 3, 4]) + 2  # same result: np.array([1, 2, 3, 4]) + np.array([2, 2, 2, 2])"
   ]
  },
  {
   "cell_type": "markdown",
   "metadata": {},
   "source": [
    "* This is a special case of a more general concept known as *broadcasting*, which allows operations between arrays of different shapes.\n",
    "* NumPy compares the shapes of two arrays dimension-wise. It starts with the trailing dimensions, and then works its way forward. Two dimensions are compatible if\n",
    "  * they are equal, or\n",
    "  * one of them is 1 (or not present).\n",
    "* In the latter case, the singleton dimension is \"stretched\" to match the larger array."
   ]
  },
  {
   "cell_type": "markdown",
   "metadata": {
    "slideshow": {
     "slide_type": "slide"
    }
   },
   "source": [
    "* Example:"
   ]
  },
  {
   "cell_type": "code",
   "execution_count": 27,
   "metadata": {
    "slideshow": {
     "slide_type": "-"
    }
   },
   "outputs": [
    {
     "data": {
      "text/plain": [
       "array([[0, 1, 2],\n",
       "       [3, 4, 5]])"
      ]
     },
     "execution_count": 27,
     "metadata": {},
     "output_type": "execute_result"
    }
   ],
   "source": [
    "x = np.arange(6).reshape((2, 3)); x  #x has shape (2,3)."
   ]
  },
  {
   "cell_type": "code",
   "execution_count": 28,
   "metadata": {},
   "outputs": [
    {
     "data": {
      "text/plain": [
       "array([1.5, 2.5, 3.5])"
      ]
     },
     "execution_count": 28,
     "metadata": {},
     "output_type": "execute_result"
    }
   ],
   "source": [
    "m = np.mean(x, axis=0); m  #m has shape (3,) and the mean is computed across (not within) 0=rows (columnwise)"
   ]
  },
  {
   "cell_type": "code",
   "execution_count": 29,
   "metadata": {
    "slideshow": {
     "slide_type": "-"
    }
   },
   "outputs": [
    {
     "data": {
      "text/plain": [
       "array([[-1.5, -1.5, -1.5],\n",
       "       [ 1.5,  1.5,  1.5]])"
      ]
     },
     "execution_count": 29,
     "metadata": {},
     "output_type": "execute_result"
    }
   ],
   "source": [
    "x-m  #the trailing dimension matches, and m is stretched to match the 2 rows of x."
   ]
  },
  {
   "cell_type": "markdown",
   "metadata": {
    "slideshow": {
     "slide_type": "slide"
    }
   },
   "source": [
    "* The idea of broadcasting in a picture (these are all 2-dimensional arrays):\n",
    "<img src=\"img/broadcasting.png\" alt=\"Broadcasting\" style=\"display:block; margin-left: auto; margin-right: auto; width: 80%;\">"
   ]
  },
  {
   "cell_type": "markdown",
   "metadata": {
    "slideshow": {
     "slide_type": "slide"
    }
   },
   "source": [
    "* NumPy's `newaxis` feature is sometimes useful to enable broadcasting. It introduces a new dimension of length 1; e.g, it can turn a vector (1d array) into a matrix with a single row or column (2d array). Example:"
   ]
  },
  {
   "cell_type": "code",
   "execution_count": 30,
   "metadata": {
    "slideshow": {
     "slide_type": "-"
    }
   },
   "outputs": [
    {
     "data": {
      "text/plain": [
       "array([[ 4,  5,  6,  7],\n",
       "       [ 8, 10, 12, 14],\n",
       "       [12, 15, 18, 21]])"
      ]
     },
     "execution_count": 30,
     "metadata": {},
     "output_type": "execute_result"
    }
   ],
   "source": [
    "u = np.array([1, 2, 3]); #u has shape (3,).\n",
    "v = np.array([4, 5, 6, 7]);  #v has shape (4,).\n",
    "w = u[:, np.newaxis]; #w has shape (3, 1); a matrix with 3 rows and one column.\n",
    "w*v  #(3, 1) x (4,); starting from the back, 4 and 1 are compatible, and 3 and 'missing' are too -> (3, 4)."
   ]
  },
  {
   "cell_type": "markdown",
   "metadata": {},
   "source": [
    "* In this particular case, the same result could have been obtained by taking the outer product of `u` and `v` (in mathematical notation, $uv'$ or $uv^{\\top}$):"
   ]
  },
  {
   "cell_type": "code",
   "execution_count": 31,
   "metadata": {
    "scrolled": false
   },
   "outputs": [
    {
     "data": {
      "text/plain": [
       "array([[ 4,  5,  6,  7],\n",
       "       [ 8, 10, 12, 14],\n",
       "       [12, 15, 18, 21]])"
      ]
     },
     "execution_count": 31,
     "metadata": {},
     "output_type": "execute_result"
    }
   ],
   "source": [
    "np.outer(u, v)  # u*v.transpose() and/or u*v.T will not work"
   ]
  },
  {
   "cell_type": "code",
   "execution_count": 32,
   "metadata": {},
   "outputs": [
    {
     "data": {
      "text/plain": [
       "array([[ 4,  5,  6,  7],\n",
       "       [ 8, 10, 12, 14],\n",
       "       [12, 15, 18, 21]])"
      ]
     },
     "execution_count": 32,
     "metadata": {},
     "output_type": "execute_result"
    }
   ],
   "source": [
    "u[:, np.newaxis]*v.transpose()  #adding the explicit 1th dimension works | or u[:, np.newaxis]*v[:, np.newaxis].transpose()"
   ]
  },
  {
   "cell_type": "markdown",
   "metadata": {
    "slideshow": {
     "slide_type": "slide"
    }
   },
   "source": [
    "#### Array Reductions\n",
    "* *Array reductions* are operations on arrays that return scalars or lower-dimensional arrays, such as the `mean` function used above.\n",
    "* They can be used to summarize information about an array, e.g., compute the standard deviation:"
   ]
  },
  {
   "cell_type": "code",
   "execution_count": 33,
   "metadata": {},
   "outputs": [
    {
     "data": {
      "text/plain": [
       "array([0.27401563, 0.28868048, 0.27392285])"
      ]
     },
     "execution_count": 33,
     "metadata": {},
     "output_type": "execute_result"
    }
   ],
   "source": [
    "a = np.random.rand(300, 3)  #create a 300x3 matrix of standard normal variates.\n",
    "a.std(axis=0)  #or np.std(a, axis=0) - again standard deviation are calculated across rows"
   ]
  },
  {
   "cell_type": "markdown",
   "metadata": {},
   "source": [
    "* By default, reductions operate on the *flattened* array (i.e., on all the elements). For row- or columnwise operation, the `axis` argument has to be given.\n",
    "* Other useful reductions are `sum`, `median`, `min`, `max`, `argmin`, `argmax`, `any`, and `all` (see help)."
   ]
  },
  {
   "cell_type": "markdown",
   "metadata": {
    "slideshow": {
     "slide_type": "slide"
    }
   },
   "source": [
    "#### Saving Arrays to Disk <br>\n",
    "* There are several ways to save an array to disk:"
   ]
  },
  {
   "cell_type": "code",
   "execution_count": 34,
   "metadata": {},
   "outputs": [],
   "source": [
    "np.save('myfile.npy', a)  #save `a` as a binary .npy file."
   ]
  },
  {
   "cell_type": "code",
   "execution_count": 35,
   "metadata": {},
   "outputs": [
    {
     "name": "stdout",
     "output_type": "stream",
     "text": [
      "['.ipynb_checkpoints', 'archive', 'clips', 'data', 'data.zip', 'img', 'img.zip', 'myfile.npy', 'notes', 'pdf', 'README.md', 'week1.ipynb', 'week1.slides.html', 'week2.ipynb', 'week2.slides.html', 'week3.ipynb', 'week3.slides.html', 'week4-Copy1.ipynb', 'week4.ipynb', 'week4.slides.html', 'week5.ipynb', 'week5.slides.html', 'week6.ipynb', 'week6.slides.html', 'week6bonus.ipynb']\n"
     ]
    }
   ],
   "source": [
    "import os\n",
    "print(os.listdir('.'))"
   ]
  },
  {
   "cell_type": "code",
   "execution_count": 36,
   "metadata": {},
   "outputs": [],
   "source": [
    "b = np.load('myfile.npy')  #load the data into variable b.\n",
    "os.remove('myfile.npy')  #clean up."
   ]
  },
  {
   "cell_type": "code",
   "execution_count": 37,
   "metadata": {},
   "outputs": [],
   "source": [
    "np.savetxt('myfile.csv', a, delimiter=',')  #save `a` as a CSV file (comma seperated values, can be read by MS Excel)."
   ]
  },
  {
   "cell_type": "code",
   "execution_count": 38,
   "metadata": {},
   "outputs": [],
   "source": [
    "b = np.loadtxt('myfile.csv', delimiter=',')  #Load data into `b`.\n",
    "os.remove('myfile.csv')"
   ]
  },
  {
   "cell_type": "markdown",
   "metadata": {
    "slideshow": {
     "slide_type": "slide"
    }
   },
   "source": [
    "### Pandas Dataframes\n",
    "#### Introduction to Pandas\n",
    "* `pandas` (from <i>pan</i>el <i>da</i>ta) is another fundamental package in the SciPy stack ([user quide](https://pandas.pydata.org/pandas-docs/stable/getting_started/overview.html) & ['cookbook'](https://pandas.pydata.org/pandas-docs/stable/user_guide/cookbook.html) (short examples of common operations)).\n",
    "* It provides a number of datastructures (*series* and *dataframes*) designed for storing observational data, and powerful methods for manipulating (*munging*, or *wrangling*) these data.\n",
    "* It is usually imported as `pd`:"
   ]
  },
  {
   "cell_type": "code",
   "execution_count": 39,
   "metadata": {},
   "outputs": [],
   "source": [
    "import pandas as pd"
   ]
  },
  {
   "cell_type": "markdown",
   "metadata": {
    "slideshow": {
     "slide_type": "slide"
    }
   },
   "source": [
    "#### Series\n",
    "* A pandas `Series` is essentially a NumPy array with an associated index:"
   ]
  },
  {
   "cell_type": "code",
   "execution_count": 40,
   "metadata": {
    "slideshow": {
     "slide_type": "-"
    }
   },
   "outputs": [
    {
     "data": {
      "text/plain": [
       "0     5.7\n",
       "1    82.7\n",
       "2    17.0\n",
       "Name: Population, dtype: float64"
      ]
     },
     "execution_count": 40,
     "metadata": {},
     "output_type": "execute_result"
    }
   ],
   "source": [
    "pop = pd.Series([5.7, 82.7, 17.0], name='Population'); pop  #the descriptive name is optional."
   ]
  },
  {
   "cell_type": "markdown",
   "metadata": {},
   "source": [
    "* The difference is that the index can be anything, not just a list of integers:"
   ]
  },
  {
   "cell_type": "code",
   "execution_count": 41,
   "metadata": {},
   "outputs": [
    {
     "data": {
      "text/plain": [
       "DK     5.7\n",
       "DE    82.7\n",
       "NL    17.0\n",
       "Name: Population, dtype: float64"
      ]
     },
     "execution_count": 41,
     "metadata": {},
     "output_type": "execute_result"
    }
   ],
   "source": [
    "pop.index=['DK', 'DE', 'NL'];\n",
    "pop"
   ]
  },
  {
   "cell_type": "markdown",
   "metadata": {},
   "source": [
    "* The index can be used for indexing (duh...):"
   ]
  },
  {
   "cell_type": "code",
   "execution_count": 42,
   "metadata": {},
   "outputs": [
    {
     "data": {
      "text/plain": [
       "17.0"
      ]
     },
     "execution_count": 42,
     "metadata": {},
     "output_type": "execute_result"
    }
   ],
   "source": [
    "pop['NL']"
   ]
  },
  {
   "cell_type": "markdown",
   "metadata": {
    "slideshow": {
     "slide_type": "slide"
    }
   },
   "source": [
    "* NumPy's `ufunc`s preserve the index when operating on a `Series`:"
   ]
  },
  {
   "cell_type": "code",
   "execution_count": 43,
   "metadata": {
    "slideshow": {
     "slide_type": "-"
    }
   },
   "outputs": [
    {
     "data": {
      "text/plain": [
       "DE    3494.898\n",
       "NL     769.930\n",
       "Name: Nominal GDP in Billion USD, dtype: float64"
      ]
     },
     "execution_count": 43,
     "metadata": {},
     "output_type": "execute_result"
    }
   ],
   "source": [
    "gdp = pd.Series([3494.898, 769.930], name='Nominal GDP in Billion USD', index=['DE', 'NL']); gdp"
   ]
  },
  {
   "cell_type": "code",
   "execution_count": 44,
   "metadata": {},
   "outputs": [
    {
     "data": {
      "text/plain": [
       "DE    42.259952\n",
       "DK          NaN\n",
       "NL    45.290000\n",
       "dtype: float64"
      ]
     },
     "execution_count": 44,
     "metadata": {},
     "output_type": "execute_result"
    }
   ],
   "source": [
    "gdp / pop"
   ]
  },
  {
   "cell_type": "markdown",
   "metadata": {},
   "source": [
    "* One advantage of a `Series` compared to NumPy arrays is that they can handle missing data, represented as `NaN` (not a number)."
   ]
  },
  {
   "cell_type": "markdown",
   "metadata": {
    "slideshow": {
     "slide_type": "slide"
    }
   },
   "source": [
    "#### Dataframes <br>\n",
    "* A `DataFrame` is a collection of `Series` with a common index (which labels the rows)."
   ]
  },
  {
   "cell_type": "code",
   "execution_count": 45,
   "metadata": {},
   "outputs": [
    {
     "data": {
      "text/html": [
       "<div>\n",
       "<style scoped>\n",
       "    .dataframe tbody tr th:only-of-type {\n",
       "        vertical-align: middle;\n",
       "    }\n",
       "\n",
       "    .dataframe tbody tr th {\n",
       "        vertical-align: top;\n",
       "    }\n",
       "\n",
       "    .dataframe thead th {\n",
       "        text-align: right;\n",
       "    }\n",
       "</style>\n",
       "<table border=\"1\" class=\"dataframe\">\n",
       "  <thead>\n",
       "    <tr style=\"text-align: right;\">\n",
       "      <th></th>\n",
       "      <th>Nominal GDP in Billion USD</th>\n",
       "      <th>Population</th>\n",
       "    </tr>\n",
       "  </thead>\n",
       "  <tbody>\n",
       "    <tr>\n",
       "      <th>DE</th>\n",
       "      <td>3494.898</td>\n",
       "      <td>82.7</td>\n",
       "    </tr>\n",
       "    <tr>\n",
       "      <th>NL</th>\n",
       "      <td>769.930</td>\n",
       "      <td>17.0</td>\n",
       "    </tr>\n",
       "    <tr>\n",
       "      <th>DK</th>\n",
       "      <td>NaN</td>\n",
       "      <td>5.7</td>\n",
       "    </tr>\n",
       "  </tbody>\n",
       "</table>\n",
       "</div>"
      ],
      "text/plain": [
       "    Nominal GDP in Billion USD  Population\n",
       "DE                    3494.898        82.7\n",
       "NL                     769.930        17.0\n",
       "DK                         NaN         5.7"
      ]
     },
     "execution_count": 45,
     "metadata": {},
     "output_type": "execute_result"
    }
   ],
   "source": [
    "data = pd.concat([gdp, pop], axis=1); data  #concatenate two Series to a DataFrame."
   ]
  },
  {
   "cell_type": "markdown",
   "metadata": {},
   "source": [
    "* Columns are indexed by column name:"
   ]
  },
  {
   "cell_type": "code",
   "execution_count": 46,
   "metadata": {},
   "outputs": [
    {
     "data": {
      "text/plain": [
       "Index(['Nominal GDP in Billion USD', 'Population'], dtype='object')"
      ]
     },
     "execution_count": 46,
     "metadata": {},
     "output_type": "execute_result"
    }
   ],
   "source": [
    "data.columns"
   ]
  },
  {
   "cell_type": "code",
   "execution_count": 47,
   "metadata": {},
   "outputs": [
    {
     "data": {
      "text/plain": [
       "DE    82.7\n",
       "NL    17.0\n",
       "DK     5.7\n",
       "Name: Population, dtype: float64"
      ]
     },
     "execution_count": 47,
     "metadata": {},
     "output_type": "execute_result"
    }
   ],
   "source": [
    "data['Population']  #data.Population works too"
   ]
  },
  {
   "cell_type": "markdown",
   "metadata": {
    "slideshow": {
     "slide_type": "slide"
    }
   },
   "source": [
    "* Rows are indexed with the `loc` method:"
   ]
  },
  {
   "cell_type": "code",
   "execution_count": 48,
   "metadata": {},
   "outputs": [
    {
     "data": {
      "text/plain": [
       "Nominal GDP in Billion USD    769.93\n",
       "Population                     17.00\n",
       "Name: NL, dtype: float64"
      ]
     },
     "execution_count": 48,
     "metadata": {},
     "output_type": "execute_result"
    }
   ],
   "source": [
    "data.loc['NL']"
   ]
  },
  {
   "cell_type": "markdown",
   "metadata": {
    "slideshow": {
     "slide_type": "-"
    }
   },
   "source": [
    "* Unlike arrays, dataframes can have columns with different datatypes.\n",
    "* There are different ways to add columns. One is to just assign to a new column:"
   ]
  },
  {
   "cell_type": "code",
   "execution_count": 49,
   "metadata": {
    "scrolled": true,
    "slideshow": {
     "slide_type": "-"
    }
   },
   "outputs": [
    {
     "data": {
      "text/html": [
       "<div>\n",
       "<style scoped>\n",
       "    .dataframe tbody tr th:only-of-type {\n",
       "        vertical-align: middle;\n",
       "    }\n",
       "\n",
       "    .dataframe tbody tr th {\n",
       "        vertical-align: top;\n",
       "    }\n",
       "\n",
       "    .dataframe thead th {\n",
       "        text-align: right;\n",
       "    }\n",
       "</style>\n",
       "<table border=\"1\" class=\"dataframe\">\n",
       "  <thead>\n",
       "    <tr style=\"text-align: right;\">\n",
       "      <th></th>\n",
       "      <th>Nominal GDP in Billion USD</th>\n",
       "      <th>Population</th>\n",
       "      <th>Language</th>\n",
       "    </tr>\n",
       "  </thead>\n",
       "  <tbody>\n",
       "    <tr>\n",
       "      <th>DE</th>\n",
       "      <td>3494.898</td>\n",
       "      <td>82.7</td>\n",
       "      <td>German</td>\n",
       "    </tr>\n",
       "    <tr>\n",
       "      <th>NL</th>\n",
       "      <td>769.930</td>\n",
       "      <td>17.0</td>\n",
       "      <td>Danish</td>\n",
       "    </tr>\n",
       "    <tr>\n",
       "      <th>DK</th>\n",
       "      <td>NaN</td>\n",
       "      <td>5.7</td>\n",
       "      <td>Dutch</td>\n",
       "    </tr>\n",
       "  </tbody>\n",
       "</table>\n",
       "</div>"
      ],
      "text/plain": [
       "    Nominal GDP in Billion USD  Population Language\n",
       "DE                    3494.898        82.7   German\n",
       "NL                     769.930        17.0   Danish\n",
       "DK                         NaN         5.7    Dutch"
      ]
     },
     "execution_count": 49,
     "metadata": {},
     "output_type": "execute_result"
    }
   ],
   "source": [
    "data['Language'] = ['German', 'Danish', 'Dutch']; data #Add a new column from a list."
   ]
  },
  {
   "cell_type": "markdown",
   "metadata": {
    "slideshow": {
     "slide_type": "-"
    }
   },
   "source": [
    "* Another is to use the `join` method:"
   ]
  },
  {
   "cell_type": "code",
   "execution_count": 50,
   "metadata": {
    "scrolled": true,
    "slideshow": {
     "slide_type": "-"
    }
   },
   "outputs": [
    {
     "data": {
      "text/html": [
       "<div>\n",
       "<style scoped>\n",
       "    .dataframe tbody tr th:only-of-type {\n",
       "        vertical-align: middle;\n",
       "    }\n",
       "\n",
       "    .dataframe tbody tr th {\n",
       "        vertical-align: top;\n",
       "    }\n",
       "\n",
       "    .dataframe thead th {\n",
       "        text-align: right;\n",
       "    }\n",
       "</style>\n",
       "<table border=\"1\" class=\"dataframe\">\n",
       "  <thead>\n",
       "    <tr style=\"text-align: right;\">\n",
       "      <th></th>\n",
       "      <th>Nominal GDP in Billion USD</th>\n",
       "      <th>Population</th>\n",
       "      <th>Language</th>\n",
       "      <th>Currency</th>\n",
       "    </tr>\n",
       "  </thead>\n",
       "  <tbody>\n",
       "    <tr>\n",
       "      <th>DE</th>\n",
       "      <td>3494.898</td>\n",
       "      <td>82.7</td>\n",
       "      <td>German</td>\n",
       "      <td>EUR</td>\n",
       "    </tr>\n",
       "    <tr>\n",
       "      <th>NL</th>\n",
       "      <td>769.930</td>\n",
       "      <td>17.0</td>\n",
       "      <td>Danish</td>\n",
       "      <td>EUR</td>\n",
       "    </tr>\n",
       "    <tr>\n",
       "      <th>DK</th>\n",
       "      <td>NaN</td>\n",
       "      <td>5.7</td>\n",
       "      <td>Dutch</td>\n",
       "      <td>DKK</td>\n",
       "    </tr>\n",
       "  </tbody>\n",
       "</table>\n",
       "</div>"
      ],
      "text/plain": [
       "    Nominal GDP in Billion USD  Population Language Currency\n",
       "DE                    3494.898        82.7   German      EUR\n",
       "NL                     769.930        17.0   Danish      EUR\n",
       "DK                         NaN         5.7    Dutch      DKK"
      ]
     },
     "execution_count": 50,
     "metadata": {},
     "output_type": "execute_result"
    }
   ],
   "source": [
    "s = pd.Series(['EUR', 'DKK', 'EUR', 'GBP'], index=['NL', 'DK', 'DE', 'UK'], name='Currency')\n",
    "data.join(s)#Add a new column from a series or dataframe."
   ]
  },
  {
   "cell_type": "markdown",
   "metadata": {
    "slideshow": {
     "slide_type": "slide"
    }
   },
   "source": [
    "* Notes:\n",
    "  * The entry for 'UK' has disappeared. Pandas takes the *intersection* of indexes ('inner join') by default.\n",
    "  * The returned series is a temporary object. If we want to modify `data`, we need to assign to it."
   ]
  },
  {
   "cell_type": "markdown",
   "metadata": {},
   "source": [
    "* To take the union of indexes ('outer join'), pass the keyword argument `how='outer'`:"
   ]
  },
  {
   "cell_type": "code",
   "execution_count": 51,
   "metadata": {},
   "outputs": [
    {
     "data": {
      "text/html": [
       "<div>\n",
       "<style scoped>\n",
       "    .dataframe tbody tr th:only-of-type {\n",
       "        vertical-align: middle;\n",
       "    }\n",
       "\n",
       "    .dataframe tbody tr th {\n",
       "        vertical-align: top;\n",
       "    }\n",
       "\n",
       "    .dataframe thead th {\n",
       "        text-align: right;\n",
       "    }\n",
       "</style>\n",
       "<table border=\"1\" class=\"dataframe\">\n",
       "  <thead>\n",
       "    <tr style=\"text-align: right;\">\n",
       "      <th></th>\n",
       "      <th>Nominal GDP in Billion USD</th>\n",
       "      <th>Population</th>\n",
       "      <th>Language</th>\n",
       "      <th>Currency</th>\n",
       "    </tr>\n",
       "  </thead>\n",
       "  <tbody>\n",
       "    <tr>\n",
       "      <th>DE</th>\n",
       "      <td>3494.898</td>\n",
       "      <td>82.7</td>\n",
       "      <td>German</td>\n",
       "      <td>EUR</td>\n",
       "    </tr>\n",
       "    <tr>\n",
       "      <th>DK</th>\n",
       "      <td>NaN</td>\n",
       "      <td>5.7</td>\n",
       "      <td>Dutch</td>\n",
       "      <td>DKK</td>\n",
       "    </tr>\n",
       "    <tr>\n",
       "      <th>NL</th>\n",
       "      <td>769.930</td>\n",
       "      <td>17.0</td>\n",
       "      <td>Danish</td>\n",
       "      <td>EUR</td>\n",
       "    </tr>\n",
       "    <tr>\n",
       "      <th>UK</th>\n",
       "      <td>NaN</td>\n",
       "      <td>NaN</td>\n",
       "      <td>NaN</td>\n",
       "      <td>GBP</td>\n",
       "    </tr>\n",
       "  </tbody>\n",
       "</table>\n",
       "</div>"
      ],
      "text/plain": [
       "    Nominal GDP in Billion USD  Population Language Currency\n",
       "DE                    3494.898        82.7   German      EUR\n",
       "DK                         NaN         5.7    Dutch      DKK\n",
       "NL                     769.930        17.0   Danish      EUR\n",
       "UK                         NaN         NaN      NaN      GBP"
      ]
     },
     "execution_count": 51,
     "metadata": {},
     "output_type": "execute_result"
    }
   ],
   "source": [
    "data = data.join(s, how='outer'); data  #Assignment to store the modified frame."
   ]
  },
  {
   "cell_type": "markdown",
   "metadata": {},
   "source": [
    "* The `join` method is in fact a convenience method that calls `pd.merge` under the hood, which is capable of more powerful SQL style operations. "
   ]
  },
  {
   "cell_type": "markdown",
   "metadata": {
    "slideshow": {
     "slide_type": "slide"
    }
   },
   "source": [
    "* To add rows, use `loc` or `append`:"
   ]
  },
  {
   "cell_type": "code",
   "execution_count": 52,
   "metadata": {
    "slideshow": {
     "slide_type": "-"
    }
   },
   "outputs": [
    {
     "data": {
      "text/html": [
       "<div>\n",
       "<style scoped>\n",
       "    .dataframe tbody tr th:only-of-type {\n",
       "        vertical-align: middle;\n",
       "    }\n",
       "\n",
       "    .dataframe tbody tr th {\n",
       "        vertical-align: top;\n",
       "    }\n",
       "\n",
       "    .dataframe thead th {\n",
       "        text-align: right;\n",
       "    }\n",
       "</style>\n",
       "<table border=\"1\" class=\"dataframe\">\n",
       "  <thead>\n",
       "    <tr style=\"text-align: right;\">\n",
       "      <th></th>\n",
       "      <th>Nominal GDP in Billion USD</th>\n",
       "      <th>Population</th>\n",
       "      <th>Language</th>\n",
       "      <th>Currency</th>\n",
       "    </tr>\n",
       "  </thead>\n",
       "  <tbody>\n",
       "    <tr>\n",
       "      <th>DE</th>\n",
       "      <td>3494.898</td>\n",
       "      <td>82.7</td>\n",
       "      <td>German</td>\n",
       "      <td>EUR</td>\n",
       "    </tr>\n",
       "    <tr>\n",
       "      <th>DK</th>\n",
       "      <td>NaN</td>\n",
       "      <td>5.7</td>\n",
       "      <td>Dutch</td>\n",
       "      <td>DKK</td>\n",
       "    </tr>\n",
       "    <tr>\n",
       "      <th>NL</th>\n",
       "      <td>769.930</td>\n",
       "      <td>17.0</td>\n",
       "      <td>Danish</td>\n",
       "      <td>EUR</td>\n",
       "    </tr>\n",
       "    <tr>\n",
       "      <th>UK</th>\n",
       "      <td>NaN</td>\n",
       "      <td>NaN</td>\n",
       "      <td>NaN</td>\n",
       "      <td>GBP</td>\n",
       "    </tr>\n",
       "    <tr>\n",
       "      <th>AT</th>\n",
       "      <td>386.400</td>\n",
       "      <td>8.7</td>\n",
       "      <td>German</td>\n",
       "      <td>EUR</td>\n",
       "    </tr>\n",
       "    <tr>\n",
       "      <th>SE</th>\n",
       "      <td>511.000</td>\n",
       "      <td>9.9</td>\n",
       "      <td>Swedish</td>\n",
       "      <td>SEK</td>\n",
       "    </tr>\n",
       "  </tbody>\n",
       "</table>\n",
       "</div>"
      ],
      "text/plain": [
       "    Nominal GDP in Billion USD  Population Language Currency\n",
       "DE                    3494.898        82.7   German      EUR\n",
       "DK                         NaN         5.7    Dutch      DKK\n",
       "NL                     769.930        17.0   Danish      EUR\n",
       "UK                         NaN         NaN      NaN      GBP\n",
       "AT                     386.400         8.7   German      EUR\n",
       "SE                     511.000         9.9  Swedish      SEK"
      ]
     },
     "execution_count": 52,
     "metadata": {},
     "output_type": "execute_result"
    }
   ],
   "source": [
    "data.loc['AT'] = [386.4, 8.7, 'German', 'EUR']  #Add a row with index 'AT'.\n",
    "s = pd.DataFrame([[511.0, 9.9, 'Swedish', 'SEK']], index=['SE'], columns=data.columns)\n",
    "data = data.append(s)  #Add a row by appending another dataframe. May create duplicates.\n",
    "data"
   ]
  },
  {
   "cell_type": "markdown",
   "metadata": {
    "slideshow": {
     "slide_type": "slide"
    }
   },
   "source": [
    "* The `dropna` method can be used to delete rows with missing values:"
   ]
  },
  {
   "cell_type": "code",
   "execution_count": 53,
   "metadata": {},
   "outputs": [
    {
     "data": {
      "text/html": [
       "<div>\n",
       "<style scoped>\n",
       "    .dataframe tbody tr th:only-of-type {\n",
       "        vertical-align: middle;\n",
       "    }\n",
       "\n",
       "    .dataframe tbody tr th {\n",
       "        vertical-align: top;\n",
       "    }\n",
       "\n",
       "    .dataframe thead th {\n",
       "        text-align: right;\n",
       "    }\n",
       "</style>\n",
       "<table border=\"1\" class=\"dataframe\">\n",
       "  <thead>\n",
       "    <tr style=\"text-align: right;\">\n",
       "      <th></th>\n",
       "      <th>Nominal GDP in Billion USD</th>\n",
       "      <th>Population</th>\n",
       "      <th>Language</th>\n",
       "      <th>Currency</th>\n",
       "    </tr>\n",
       "  </thead>\n",
       "  <tbody>\n",
       "    <tr>\n",
       "      <th>DE</th>\n",
       "      <td>3494.898</td>\n",
       "      <td>82.7</td>\n",
       "      <td>German</td>\n",
       "      <td>EUR</td>\n",
       "    </tr>\n",
       "    <tr>\n",
       "      <th>NL</th>\n",
       "      <td>769.930</td>\n",
       "      <td>17.0</td>\n",
       "      <td>Danish</td>\n",
       "      <td>EUR</td>\n",
       "    </tr>\n",
       "    <tr>\n",
       "      <th>AT</th>\n",
       "      <td>386.400</td>\n",
       "      <td>8.7</td>\n",
       "      <td>German</td>\n",
       "      <td>EUR</td>\n",
       "    </tr>\n",
       "    <tr>\n",
       "      <th>SE</th>\n",
       "      <td>511.000</td>\n",
       "      <td>9.9</td>\n",
       "      <td>Swedish</td>\n",
       "      <td>SEK</td>\n",
       "    </tr>\n",
       "  </tbody>\n",
       "</table>\n",
       "</div>"
      ],
      "text/plain": [
       "    Nominal GDP in Billion USD  Population Language Currency\n",
       "DE                    3494.898        82.7   German      EUR\n",
       "NL                     769.930        17.0   Danish      EUR\n",
       "AT                     386.400         8.7   German      EUR\n",
       "SE                     511.000         9.9  Swedish      SEK"
      ]
     },
     "execution_count": 53,
     "metadata": {},
     "output_type": "execute_result"
    }
   ],
   "source": [
    "data = data.dropna(); data"
   ]
  },
  {
   "cell_type": "markdown",
   "metadata": {
    "slideshow": {
     "slide_type": "slide"
    }
   },
   "source": [
    "* Useful methods for obtaining summary information about a dataframe are `mean`, `std`, `info`, `describe`, `head`, and `tail`."
   ]
  },
  {
   "cell_type": "code",
   "execution_count": 54,
   "metadata": {},
   "outputs": [
    {
     "data": {
      "text/html": [
       "<div>\n",
       "<style scoped>\n",
       "    .dataframe tbody tr th:only-of-type {\n",
       "        vertical-align: middle;\n",
       "    }\n",
       "\n",
       "    .dataframe tbody tr th {\n",
       "        vertical-align: top;\n",
       "    }\n",
       "\n",
       "    .dataframe thead th {\n",
       "        text-align: right;\n",
       "    }\n",
       "</style>\n",
       "<table border=\"1\" class=\"dataframe\">\n",
       "  <thead>\n",
       "    <tr style=\"text-align: right;\">\n",
       "      <th></th>\n",
       "      <th>Nominal GDP in Billion USD</th>\n",
       "      <th>Population</th>\n",
       "    </tr>\n",
       "  </thead>\n",
       "  <tbody>\n",
       "    <tr>\n",
       "      <th>count</th>\n",
       "      <td>4.000000</td>\n",
       "      <td>4.000000</td>\n",
       "    </tr>\n",
       "    <tr>\n",
       "      <th>mean</th>\n",
       "      <td>1290.557000</td>\n",
       "      <td>29.575000</td>\n",
       "    </tr>\n",
       "    <tr>\n",
       "      <th>std</th>\n",
       "      <td>1478.217475</td>\n",
       "      <td>35.605559</td>\n",
       "    </tr>\n",
       "    <tr>\n",
       "      <th>min</th>\n",
       "      <td>386.400000</td>\n",
       "      <td>8.700000</td>\n",
       "    </tr>\n",
       "    <tr>\n",
       "      <th>25%</th>\n",
       "      <td>479.850000</td>\n",
       "      <td>9.600000</td>\n",
       "    </tr>\n",
       "    <tr>\n",
       "      <th>50%</th>\n",
       "      <td>640.465000</td>\n",
       "      <td>13.450000</td>\n",
       "    </tr>\n",
       "    <tr>\n",
       "      <th>75%</th>\n",
       "      <td>1451.172000</td>\n",
       "      <td>33.425000</td>\n",
       "    </tr>\n",
       "    <tr>\n",
       "      <th>max</th>\n",
       "      <td>3494.898000</td>\n",
       "      <td>82.700000</td>\n",
       "    </tr>\n",
       "  </tbody>\n",
       "</table>\n",
       "</div>"
      ],
      "text/plain": [
       "       Nominal GDP in Billion USD  Population\n",
       "count                    4.000000    4.000000\n",
       "mean                  1290.557000   29.575000\n",
       "std                   1478.217475   35.605559\n",
       "min                    386.400000    8.700000\n",
       "25%                    479.850000    9.600000\n",
       "50%                    640.465000   13.450000\n",
       "75%                   1451.172000   33.425000\n",
       "max                   3494.898000   82.700000"
      ]
     },
     "execution_count": 54,
     "metadata": {},
     "output_type": "execute_result"
    }
   ],
   "source": [
    "data.describe()"
   ]
  },
  {
   "cell_type": "code",
   "execution_count": 55,
   "metadata": {
    "slideshow": {
     "slide_type": "slide"
    }
   },
   "outputs": [
    {
     "data": {
      "text/html": [
       "<div>\n",
       "<style scoped>\n",
       "    .dataframe tbody tr th:only-of-type {\n",
       "        vertical-align: middle;\n",
       "    }\n",
       "\n",
       "    .dataframe tbody tr th {\n",
       "        vertical-align: top;\n",
       "    }\n",
       "\n",
       "    .dataframe thead th {\n",
       "        text-align: right;\n",
       "    }\n",
       "</style>\n",
       "<table border=\"1\" class=\"dataframe\">\n",
       "  <thead>\n",
       "    <tr style=\"text-align: right;\">\n",
       "      <th></th>\n",
       "      <th>Nominal GDP in Billion USD</th>\n",
       "      <th>Population</th>\n",
       "      <th>Language</th>\n",
       "      <th>Currency</th>\n",
       "    </tr>\n",
       "  </thead>\n",
       "  <tbody>\n",
       "    <tr>\n",
       "      <th>DE</th>\n",
       "      <td>3494.898</td>\n",
       "      <td>82.7</td>\n",
       "      <td>German</td>\n",
       "      <td>EUR</td>\n",
       "    </tr>\n",
       "    <tr>\n",
       "      <th>NL</th>\n",
       "      <td>769.930</td>\n",
       "      <td>17.0</td>\n",
       "      <td>Danish</td>\n",
       "      <td>EUR</td>\n",
       "    </tr>\n",
       "    <tr>\n",
       "      <th>AT</th>\n",
       "      <td>386.400</td>\n",
       "      <td>8.7</td>\n",
       "      <td>German</td>\n",
       "      <td>EUR</td>\n",
       "    </tr>\n",
       "    <tr>\n",
       "      <th>SE</th>\n",
       "      <td>511.000</td>\n",
       "      <td>9.9</td>\n",
       "      <td>Swedish</td>\n",
       "      <td>SEK</td>\n",
       "    </tr>\n",
       "  </tbody>\n",
       "</table>\n",
       "</div>"
      ],
      "text/plain": [
       "    Nominal GDP in Billion USD  Population Language Currency\n",
       "DE                    3494.898        82.7   German      EUR\n",
       "NL                     769.930        17.0   Danish      EUR\n",
       "AT                     386.400         8.7   German      EUR\n",
       "SE                     511.000         9.9  Swedish      SEK"
      ]
     },
     "execution_count": 55,
     "metadata": {},
     "output_type": "execute_result"
    }
   ],
   "source": [
    "data.head()  #Show the first few rows. data.tail shows the last few."
   ]
  },
  {
   "cell_type": "markdown",
   "metadata": {
    "slideshow": {
     "slide_type": "slide"
    }
   },
   "source": [
    "* To save a dataframe to disk as a csv file, use"
   ]
  },
  {
   "cell_type": "code",
   "execution_count": 56,
   "metadata": {},
   "outputs": [],
   "source": [
    "data.to_csv('myfile.csv')  #to_excel exists as well"
   ]
  },
  {
   "cell_type": "code",
   "execution_count": 57,
   "metadata": {},
   "outputs": [
    {
     "name": "stdout",
     "output_type": "stream",
     "text": [
      ",Nominal GDP in Billion USD,Population,Language,Currency\n",
      "DE,3494.898,82.7,German,EUR\n",
      "NL,769.93,17.0,Danish,EUR\n",
      "AT,386.4,8.7,German,EUR\n",
      "SE,511.0,9.9,Swedish,SEK\n",
      "\n",
      "165\n"
     ]
    }
   ],
   "source": [
    "with open('myfile.csv', 'r') as file:  #any files opened in the `with`statement will be closed automatically after execution\n",
    "    print(file.read())\n",
    "    info = os.stat('myfile.csv')\n",
    "    print(info.st_size)  #reported in bytes"
   ]
  },
  {
   "cell_type": "markdown",
   "metadata": {
    "slideshow": {
     "slide_type": "slide"
    }
   },
   "source": [
    "* To load data into a dataframe, use `pd.read_csv`:"
   ]
  },
  {
   "cell_type": "code",
   "execution_count": 58,
   "metadata": {},
   "outputs": [
    {
     "data": {
      "text/html": [
       "<div>\n",
       "<style scoped>\n",
       "    .dataframe tbody tr th:only-of-type {\n",
       "        vertical-align: middle;\n",
       "    }\n",
       "\n",
       "    .dataframe tbody tr th {\n",
       "        vertical-align: top;\n",
       "    }\n",
       "\n",
       "    .dataframe thead th {\n",
       "        text-align: right;\n",
       "    }\n",
       "</style>\n",
       "<table border=\"1\" class=\"dataframe\">\n",
       "  <thead>\n",
       "    <tr style=\"text-align: right;\">\n",
       "      <th></th>\n",
       "      <th>Nominal GDP in Billion USD</th>\n",
       "      <th>Population</th>\n",
       "      <th>Language</th>\n",
       "      <th>Currency</th>\n",
       "    </tr>\n",
       "  </thead>\n",
       "  <tbody>\n",
       "    <tr>\n",
       "      <th>DE</th>\n",
       "      <td>3494.898</td>\n",
       "      <td>82.7</td>\n",
       "      <td>German</td>\n",
       "      <td>EUR</td>\n",
       "    </tr>\n",
       "    <tr>\n",
       "      <th>NL</th>\n",
       "      <td>769.930</td>\n",
       "      <td>17.0</td>\n",
       "      <td>Danish</td>\n",
       "      <td>EUR</td>\n",
       "    </tr>\n",
       "    <tr>\n",
       "      <th>AT</th>\n",
       "      <td>386.400</td>\n",
       "      <td>8.7</td>\n",
       "      <td>German</td>\n",
       "      <td>EUR</td>\n",
       "    </tr>\n",
       "    <tr>\n",
       "      <th>SE</th>\n",
       "      <td>511.000</td>\n",
       "      <td>9.9</td>\n",
       "      <td>Swedish</td>\n",
       "      <td>SEK</td>\n",
       "    </tr>\n",
       "  </tbody>\n",
       "</table>\n",
       "</div>"
      ],
      "text/plain": [
       "    Nominal GDP in Billion USD  Population Language Currency\n",
       "DE                    3494.898        82.7   German      EUR\n",
       "NL                     769.930        17.0   Danish      EUR\n",
       "AT                     386.400         8.7   German      EUR\n",
       "SE                     511.000         9.9  Swedish      SEK"
      ]
     },
     "execution_count": 58,
     "metadata": {},
     "output_type": "execute_result"
    }
   ],
   "source": [
    "pd.read_csv('myfile.csv', index_col=0)"
   ]
  },
  {
   "cell_type": "code",
   "execution_count": 59,
   "metadata": {},
   "outputs": [],
   "source": [
    "os.remove('myfile.csv')  #clean up"
   ]
  },
  {
   "cell_type": "markdown",
   "metadata": {},
   "source": [
    "* Other, possibly more efficient, methods exist; see Chapter 5 of Hilpisch (2019). "
   ]
  },
  {
   "cell_type": "markdown",
   "metadata": {
    "slideshow": {
     "slide_type": "slide"
    }
   },
   "source": [
    "## Working with Time Series\n",
    "### Data Types"
   ]
  },
  {
   "cell_type": "markdown",
   "metadata": {},
   "source": [
    "* Different data types for representing times and dates exist in Python.\n",
    "* The most basic one is `datetime` from the eponymous package, and also accesible from Pandas:"
   ]
  },
  {
   "cell_type": "code",
   "execution_count": 60,
   "metadata": {},
   "outputs": [
    {
     "data": {
      "text/plain": [
       "datetime.datetime(2021, 10, 28, 14, 55, 46, 594384)"
      ]
     },
     "execution_count": 60,
     "metadata": {},
     "output_type": "execute_result"
    }
   ],
   "source": [
    "pd.datetime.today()"
   ]
  },
  {
   "cell_type": "markdown",
   "metadata": {},
   "source": [
    "* `datetime` objects can be created from strings using `strptime` and a format specifier:"
   ]
  },
  {
   "cell_type": "code",
   "execution_count": 61,
   "metadata": {},
   "outputs": [
    {
     "data": {
      "text/plain": [
       "datetime.datetime(2021, 10, 31, 0, 0)"
      ]
     },
     "execution_count": 61,
     "metadata": {},
     "output_type": "execute_result"
    }
   ],
   "source": [
    "pd.datetime.strptime('2021-10-31', '%Y-%m-%d')"
   ]
  },
  {
   "cell_type": "markdown",
   "metadata": {
    "slideshow": {
     "slide_type": "slide"
    }
   },
   "source": [
    "* Pandas uses `Timestamps` instead of `datetime` objects. Unlike datetime, they store frequency and time zone information. The two can mostly be used interchangeably. See Hilpisch (2019) Appendix A for details."
   ]
  },
  {
   "cell_type": "code",
   "execution_count": 62,
   "metadata": {},
   "outputs": [
    {
     "data": {
      "text/plain": [
       "Timestamp('2021-10-31 00:00:00')"
      ]
     },
     "execution_count": 62,
     "metadata": {},
     "output_type": "execute_result"
    }
   ],
   "source": [
    "pd.Timestamp('2021-10-31')"
   ]
  },
  {
   "cell_type": "markdown",
   "metadata": {},
   "source": [
    "* A time series is a `Series` with a special index, called a `DatetimeIndex`; essentially an array of `Timestamp`s.\n",
    "* It can be created using the `date_range` function; see Tables 5.2 and 5.3 in Hilpisch (2019).\n",
    "* Note that `freq='B'` is a particular choice of a so-called [*Offset Alias*](https://pandas.pydata.org/pandas-docs/stable/user_guide/timeseries.html#dateoffset-objects) and stands for business day frequency."
   ]
  },
  {
   "cell_type": "code",
   "execution_count": 63,
   "metadata": {},
   "outputs": [
    {
     "data": {
      "text/plain": [
       "2021-10-22    18.418944\n",
       "2021-10-25    18.407497\n",
       "2021-10-26    18.879239\n",
       "2021-10-27    21.630680\n",
       "2021-10-28    21.659399\n",
       "Freq: B, Name: AAPL, dtype: float64"
      ]
     },
     "execution_count": 63,
     "metadata": {},
     "output_type": "execute_result"
    }
   ],
   "source": [
    "myindex = pd.date_range(end=pd.Timestamp.today(), normalize=True, periods=100, freq='B')\n",
    "P = 20 + np.random.randn(100).cumsum()  #simulate share prices\n",
    "aapl = pd.Series(P, name=\"AAPL\", index=myindex)\n",
    "aapl.tail()"
   ]
  },
  {
   "cell_type": "markdown",
   "metadata": {
    "slideshow": {
     "slide_type": "slide"
    }
   },
   "source": [
    "* As a convenience, Pandas allows indexing timeseries with date strings:"
   ]
  },
  {
   "cell_type": "code",
   "execution_count": 64,
   "metadata": {},
   "outputs": [
    {
     "data": {
      "text/plain": [
       "26.437155896142514"
      ]
     },
     "execution_count": 64,
     "metadata": {},
     "output_type": "execute_result"
    }
   ],
   "source": [
    "aapl['2021-08-19']  #similarly, aapl.loc['2021-08-19'] is possible"
   ]
  },
  {
   "cell_type": "code",
   "execution_count": 65,
   "metadata": {},
   "outputs": [
    {
     "data": {
      "text/plain": [
       "2021-08-23    22.390427\n",
       "2021-08-24    21.845474\n",
       "2021-08-25    21.069111\n",
       "2021-08-26    22.498693\n",
       "2021-08-27    20.559248\n",
       "2021-08-30    20.168249\n",
       "Freq: B, Name: AAPL, dtype: float64"
      ]
     },
     "execution_count": 65,
     "metadata": {},
     "output_type": "execute_result"
    }
   ],
   "source": [
    "aapl['2021-08-21':'2021-08-30']"
   ]
  },
  {
   "cell_type": "markdown",
   "metadata": {
    "slideshow": {
     "slide_type": "slide"
    }
   },
   "source": [
    "### Financial Returns\n",
    "* We mostly work with returns rather than prices, because their statistical properties are more desirable (e.g., stationarity and ergodicity).\n",
    "* There exist two types of returns: *simple returns* $R_t\\equiv(P_t-P_{t-1})/P_{t-1}$, and *log returns* $r_t\\equiv \\log(P_t/P_{t-1})=\\log P_t-\\log P_{t-1}$.\n",
    "* Log returns are usually preferred, though the difference is typically small.\n",
    "* Log returns are *time-additive* (but should not be aggregated across assets).\n",
    "* To convert from prices to returns, use the `shift(k)` method, which lags by $k$ periods (or leads if $k<0$)."
   ]
  },
  {
   "cell_type": "code",
   "execution_count": 66,
   "metadata": {
    "scrolled": true
   },
   "outputs": [
    {
     "data": {
      "text/plain": [
       "2021-06-11         NaN\n",
       "2021-06-14    0.099008\n",
       "2021-06-15    0.039313\n",
       "2021-06-16   -0.021097\n",
       "2021-06-17    0.048697\n",
       "Freq: B, Name: AAPL, dtype: float64"
      ]
     },
     "execution_count": 66,
     "metadata": {},
     "output_type": "execute_result"
    }
   ],
   "source": [
    "aapl = np.log(aapl) - np.log(aapl).shift(1)\n",
    "aapl.head()"
   ]
  },
  {
   "cell_type": "markdown",
   "metadata": {
    "slideshow": {
     "slide_type": "slide"
    }
   },
   "source": [
    "* Note: for some applications (e.g., CAPM regressions), *excess returns* $r_t-r_{f,t}$ are required, where $r_{f,t}$ is the return on a \"risk-free\" investment.\n",
    "* These are conveniently constructed as follows: suppose you have a data frame containing raw returns for a bunch of assets:"
   ]
  },
  {
   "cell_type": "code",
   "execution_count": 67,
   "metadata": {},
   "outputs": [
    {
     "data": {
      "text/html": [
       "<div>\n",
       "<style scoped>\n",
       "    .dataframe tbody tr th:only-of-type {\n",
       "        vertical-align: middle;\n",
       "    }\n",
       "\n",
       "    .dataframe tbody tr th {\n",
       "        vertical-align: top;\n",
       "    }\n",
       "\n",
       "    .dataframe thead th {\n",
       "        text-align: right;\n",
       "    }\n",
       "</style>\n",
       "<table border=\"1\" class=\"dataframe\">\n",
       "  <thead>\n",
       "    <tr style=\"text-align: right;\">\n",
       "      <th></th>\n",
       "      <th>AAPL</th>\n",
       "      <th>MSFT</th>\n",
       "    </tr>\n",
       "  </thead>\n",
       "  <tbody>\n",
       "    <tr>\n",
       "      <th>2021-10-22</th>\n",
       "      <td>0.015653</td>\n",
       "      <td>-0.009168</td>\n",
       "    </tr>\n",
       "    <tr>\n",
       "      <th>2021-10-25</th>\n",
       "      <td>-0.000622</td>\n",
       "      <td>-0.025175</td>\n",
       "    </tr>\n",
       "    <tr>\n",
       "      <th>2021-10-26</th>\n",
       "      <td>0.025305</td>\n",
       "      <td>-0.011567</td>\n",
       "    </tr>\n",
       "    <tr>\n",
       "      <th>2021-10-27</th>\n",
       "      <td>0.136050</td>\n",
       "      <td>0.062138</td>\n",
       "    </tr>\n",
       "    <tr>\n",
       "      <th>2021-10-28</th>\n",
       "      <td>0.001327</td>\n",
       "      <td>-0.046720</td>\n",
       "    </tr>\n",
       "  </tbody>\n",
       "</table>\n",
       "</div>"
      ],
      "text/plain": [
       "                AAPL      MSFT\n",
       "2021-10-22  0.015653 -0.009168\n",
       "2021-10-25 -0.000622 -0.025175\n",
       "2021-10-26  0.025305 -0.011567\n",
       "2021-10-27  0.136050  0.062138\n",
       "2021-10-28  0.001327 -0.046720"
      ]
     },
     "execution_count": 67,
     "metadata": {},
     "output_type": "execute_result"
    }
   ],
   "source": [
    "P = 20 + np.random.randn(100).cumsum()  #simulate share prices\n",
    "rf = 1 + np.random.randn(100) / 100  #simulate a yield\n",
    "msft = pd.Series(P,  name=\"MSFT\", index=myindex)\n",
    "msft = np.log(msft) - np.log(msft).shift(1)\n",
    "returns = pd.concat([aapl, msft], axis=1)  #concatenate pandas objects along the column axis \n",
    "returns.tail()"
   ]
  },
  {
   "cell_type": "markdown",
   "metadata": {},
   "source": [
    "* Then the desired operation can be expressed as"
   ]
  },
  {
   "cell_type": "code",
   "execution_count": 68,
   "metadata": {},
   "outputs": [],
   "source": [
    "excess_returns = returns.sub(rf, axis='index')  #subtract series rf from all columns"
   ]
  },
  {
   "cell_type": "markdown",
   "metadata": {
    "slideshow": {
     "slide_type": "slide"
    }
   },
   "source": [
    "## Fetching Data\n",
    "* `pandas_datareader` allows one to fetch data from the web ([user guide](http://pandas-datareader.readthedocs.io/en/latest/remote_data.html)).\n",
    "* It is a separate package (not part of pandas), so we need to install it."
   ]
  },
  {
   "cell_type": "code",
   "execution_count": 69,
   "metadata": {},
   "outputs": [],
   "source": [
    "#uncomment the next line to install\n",
    "#!conda install -y pandas-datareader\n",
    "import pandas_datareader.data as web  #Not 'import pandas.io.data as web' as in the book"
   ]
  },
  {
   "cell_type": "code",
   "execution_count": 70,
   "metadata": {
    "scrolled": true
   },
   "outputs": [
    {
     "data": {
      "text/html": [
       "<div>\n",
       "<style scoped>\n",
       "    .dataframe tbody tr th:only-of-type {\n",
       "        vertical-align: middle;\n",
       "    }\n",
       "\n",
       "    .dataframe tbody tr th {\n",
       "        vertical-align: top;\n",
       "    }\n",
       "\n",
       "    .dataframe thead th {\n",
       "        text-align: right;\n",
       "    }\n",
       "</style>\n",
       "<table border=\"1\" class=\"dataframe\">\n",
       "  <thead>\n",
       "    <tr style=\"text-align: right;\">\n",
       "      <th></th>\n",
       "      <th>SP500</th>\n",
       "    </tr>\n",
       "    <tr>\n",
       "      <th>DATE</th>\n",
       "      <th></th>\n",
       "    </tr>\n",
       "  </thead>\n",
       "  <tbody>\n",
       "    <tr>\n",
       "      <th>2021-10-21</th>\n",
       "      <td>4549.78</td>\n",
       "    </tr>\n",
       "    <tr>\n",
       "      <th>2021-10-22</th>\n",
       "      <td>4544.90</td>\n",
       "    </tr>\n",
       "    <tr>\n",
       "      <th>2021-10-25</th>\n",
       "      <td>4566.48</td>\n",
       "    </tr>\n",
       "    <tr>\n",
       "      <th>2021-10-26</th>\n",
       "      <td>4574.79</td>\n",
       "    </tr>\n",
       "    <tr>\n",
       "      <th>2021-10-27</th>\n",
       "      <td>4551.68</td>\n",
       "    </tr>\n",
       "  </tbody>\n",
       "</table>\n",
       "</div>"
      ],
      "text/plain": [
       "              SP500\n",
       "DATE               \n",
       "2021-10-21  4549.78\n",
       "2021-10-22  4544.90\n",
       "2021-10-25  4566.48\n",
       "2021-10-26  4574.79\n",
       "2021-10-27  4551.68"
      ]
     },
     "execution_count": 70,
     "metadata": {},
     "output_type": "execute_result"
    }
   ],
   "source": [
    "start = pd.datetime(2011, 1, 1)\n",
    "end = pd.datetime.today()\n",
    "p = web.DataReader('SP500', 'fred', start, end)  #S&P500 from St. Louis Fed (pulls Adj. Close)\n",
    "p.tail()"
   ]
  },
  {
   "cell_type": "markdown",
   "metadata": {
    "slideshow": {
     "slide_type": "slide"
    }
   },
   "source": [
    "#### Stock market data sources\n",
    "* For US stock market data, several options are available:\n",
    "    * [FRED](https://fred.stlouisfed.org/): Stock market indexes, no individual stocks.\n",
    "    * [Yahoo](https://pydata.github.io/pandas-datareader/devel/remote_data.html#yahoo-finance-data): Yahoo Finance is an important data source, since it has wide and long coverage. Recently supported again $-$ still development phase though\n",
    "    * [WIKI Prices](https://data.nasdaq.com/databases/WIKIP/documentation) from Nasdaq Data Link (was Quandl): data up to 04/2018.\n",
    "    * [Tiingo](https://api.tiingo.com/): Personal use only.\n",
    "    * [Alpha Vantage](https://www.alphavantage.co/support/#api-key): 20 years of data.\n",
    "* Check the [user guide](http://pandas-datareader.readthedocs.io/en/latest/remote_data.html) for currently available sources.\n",
    "* May need API (*application programming interface*) key to access data.\n",
    "    * Can be requested for free."
   ]
  },
  {
   "cell_type": "markdown",
   "metadata": {
    "slideshow": {
     "slide_type": "slide"
    }
   },
   "source": [
    "* Example using an API key to read Pfizer (PFE) stock market data from WIKI Prices.\n",
    "* Note that `'quandl'` call still works even though QUANDL has become Nasdaq Data Link."
   ]
  },
  {
   "cell_type": "code",
   "execution_count": 71,
   "metadata": {},
   "outputs": [
    {
     "data": {
      "text/html": [
       "<div>\n",
       "<style scoped>\n",
       "    .dataframe tbody tr th:only-of-type {\n",
       "        vertical-align: middle;\n",
       "    }\n",
       "\n",
       "    .dataframe tbody tr th {\n",
       "        vertical-align: top;\n",
       "    }\n",
       "\n",
       "    .dataframe thead th {\n",
       "        text-align: right;\n",
       "    }\n",
       "</style>\n",
       "<table border=\"1\" class=\"dataframe\">\n",
       "  <thead>\n",
       "    <tr style=\"text-align: right;\">\n",
       "      <th></th>\n",
       "      <th>Open</th>\n",
       "      <th>High</th>\n",
       "      <th>Low</th>\n",
       "      <th>Close</th>\n",
       "      <th>Volume</th>\n",
       "      <th>ExDividend</th>\n",
       "      <th>SplitRatio</th>\n",
       "      <th>AdjOpen</th>\n",
       "      <th>AdjHigh</th>\n",
       "      <th>AdjLow</th>\n",
       "      <th>AdjClose</th>\n",
       "      <th>AdjVolume</th>\n",
       "    </tr>\n",
       "    <tr>\n",
       "      <th>Date</th>\n",
       "      <th></th>\n",
       "      <th></th>\n",
       "      <th></th>\n",
       "      <th></th>\n",
       "      <th></th>\n",
       "      <th></th>\n",
       "      <th></th>\n",
       "      <th></th>\n",
       "      <th></th>\n",
       "      <th></th>\n",
       "      <th></th>\n",
       "      <th></th>\n",
       "    </tr>\n",
       "  </thead>\n",
       "  <tbody>\n",
       "    <tr>\n",
       "      <th>2018-03-27</th>\n",
       "      <td>35.18</td>\n",
       "      <td>35.5600</td>\n",
       "      <td>34.78</td>\n",
       "      <td>35.01</td>\n",
       "      <td>25418639.0</td>\n",
       "      <td>0.0</td>\n",
       "      <td>1.0</td>\n",
       "      <td>35.18</td>\n",
       "      <td>35.5600</td>\n",
       "      <td>34.78</td>\n",
       "      <td>35.01</td>\n",
       "      <td>25418639.0</td>\n",
       "    </tr>\n",
       "    <tr>\n",
       "      <th>2018-03-26</th>\n",
       "      <td>34.93</td>\n",
       "      <td>35.1500</td>\n",
       "      <td>34.32</td>\n",
       "      <td>35.04</td>\n",
       "      <td>23464967.0</td>\n",
       "      <td>0.0</td>\n",
       "      <td>1.0</td>\n",
       "      <td>34.93</td>\n",
       "      <td>35.1500</td>\n",
       "      <td>34.32</td>\n",
       "      <td>35.04</td>\n",
       "      <td>23464967.0</td>\n",
       "    </tr>\n",
       "    <tr>\n",
       "      <th>2018-03-23</th>\n",
       "      <td>35.49</td>\n",
       "      <td>35.5000</td>\n",
       "      <td>34.44</td>\n",
       "      <td>34.49</td>\n",
       "      <td>27489780.0</td>\n",
       "      <td>0.0</td>\n",
       "      <td>1.0</td>\n",
       "      <td>35.49</td>\n",
       "      <td>35.5000</td>\n",
       "      <td>34.44</td>\n",
       "      <td>34.49</td>\n",
       "      <td>27489780.0</td>\n",
       "    </tr>\n",
       "    <tr>\n",
       "      <th>2018-03-22</th>\n",
       "      <td>36.03</td>\n",
       "      <td>36.1433</td>\n",
       "      <td>35.47</td>\n",
       "      <td>35.60</td>\n",
       "      <td>20288017.0</td>\n",
       "      <td>0.0</td>\n",
       "      <td>1.0</td>\n",
       "      <td>36.03</td>\n",
       "      <td>36.1433</td>\n",
       "      <td>35.47</td>\n",
       "      <td>35.60</td>\n",
       "      <td>20288017.0</td>\n",
       "    </tr>\n",
       "    <tr>\n",
       "      <th>2018-03-21</th>\n",
       "      <td>36.49</td>\n",
       "      <td>36.7300</td>\n",
       "      <td>36.20</td>\n",
       "      <td>36.27</td>\n",
       "      <td>16405382.0</td>\n",
       "      <td>0.0</td>\n",
       "      <td>1.0</td>\n",
       "      <td>36.49</td>\n",
       "      <td>36.7300</td>\n",
       "      <td>36.20</td>\n",
       "      <td>36.27</td>\n",
       "      <td>16405382.0</td>\n",
       "    </tr>\n",
       "  </tbody>\n",
       "</table>\n",
       "</div>"
      ],
      "text/plain": [
       "             Open     High    Low  Close      Volume  ExDividend  SplitRatio  \\\n",
       "Date                                                                           \n",
       "2018-03-27  35.18  35.5600  34.78  35.01  25418639.0         0.0         1.0   \n",
       "2018-03-26  34.93  35.1500  34.32  35.04  23464967.0         0.0         1.0   \n",
       "2018-03-23  35.49  35.5000  34.44  34.49  27489780.0         0.0         1.0   \n",
       "2018-03-22  36.03  36.1433  35.47  35.60  20288017.0         0.0         1.0   \n",
       "2018-03-21  36.49  36.7300  36.20  36.27  16405382.0         0.0         1.0   \n",
       "\n",
       "            AdjOpen  AdjHigh  AdjLow  AdjClose   AdjVolume  \n",
       "Date                                                        \n",
       "2018-03-27    35.18  35.5600   34.78     35.01  25418639.0  \n",
       "2018-03-26    34.93  35.1500   34.32     35.04  23464967.0  \n",
       "2018-03-23    35.49  35.5000   34.44     34.49  27489780.0  \n",
       "2018-03-22    36.03  36.1433   35.47     35.60  20288017.0  \n",
       "2018-03-21    36.49  36.7300   36.20     36.27  16405382.0  "
      ]
     },
     "execution_count": 71,
     "metadata": {},
     "output_type": "execute_result"
    }
   ],
   "source": [
    "QUANDL_API_KEY = \"P3v6YJ-K1DhibzGF1EgX\"  # This is my personal API key; request your own at data supplier\n",
    "p2 = web.DataReader('WIKI/PFE', 'quandl', start, end, access_key=QUANDL_API_KEY)\n",
    "p2.head()"
   ]
  },
  {
   "cell_type": "markdown",
   "metadata": {
    "slideshow": {
     "slide_type": "slide"
    }
   },
   "source": [
    "## Regression Analysis"
   ]
  },
  {
   "cell_type": "markdown",
   "metadata": {},
   "source": [
    "* Like in Hilpisch (2019), we analyze the *leverage effect*: negative stock returns decrease the value of the equity and hence increase debt-to-equity, so the cashflow to shareholders as residual claimants becomes more risky. Consequently,  asset volatility should increase.\n",
    "* We use the VIX, which measures the volatility of the S&P500 based on implied volatilities from the option market.\n",
    "* We already have data on the S&P500. We'll convert them to returns and do the same for the VIX. We'll store everything in a dataframe `df`."
   ]
  },
  {
   "cell_type": "code",
   "execution_count": 72,
   "metadata": {
    "slideshow": {
     "slide_type": "slide"
    }
   },
   "outputs": [
    {
     "data": {
      "text/html": [
       "<div>\n",
       "<style scoped>\n",
       "    .dataframe tbody tr th:only-of-type {\n",
       "        vertical-align: middle;\n",
       "    }\n",
       "\n",
       "    .dataframe tbody tr th {\n",
       "        vertical-align: top;\n",
       "    }\n",
       "\n",
       "    .dataframe thead th {\n",
       "        text-align: right;\n",
       "    }\n",
       "</style>\n",
       "<table border=\"1\" class=\"dataframe\">\n",
       "  <thead>\n",
       "    <tr style=\"text-align: right;\">\n",
       "      <th></th>\n",
       "      <th>SP500</th>\n",
       "      <th>VIX</th>\n",
       "    </tr>\n",
       "    <tr>\n",
       "      <th>DATE</th>\n",
       "      <th></th>\n",
       "      <th></th>\n",
       "    </tr>\n",
       "  </thead>\n",
       "  <tbody>\n",
       "    <tr>\n",
       "      <th>2011-10-31</th>\n",
       "      <td>-0.025049</td>\n",
       "      <td>0.199966</td>\n",
       "    </tr>\n",
       "    <tr>\n",
       "      <th>2011-11-01</th>\n",
       "      <td>-0.028340</td>\n",
       "      <td>0.148892</td>\n",
       "    </tr>\n",
       "    <tr>\n",
       "      <th>2011-11-02</th>\n",
       "      <td>0.015976</td>\n",
       "      <td>-0.060157</td>\n",
       "    </tr>\n",
       "    <tr>\n",
       "      <th>2011-11-03</th>\n",
       "      <td>0.018608</td>\n",
       "      <td>-0.070871</td>\n",
       "    </tr>\n",
       "    <tr>\n",
       "      <th>2011-11-04</th>\n",
       "      <td>-0.006300</td>\n",
       "      <td>-0.011210</td>\n",
       "    </tr>\n",
       "  </tbody>\n",
       "</table>\n",
       "</div>"
      ],
      "text/plain": [
       "               SP500       VIX\n",
       "DATE                          \n",
       "2011-10-31 -0.025049  0.199966\n",
       "2011-11-01 -0.028340  0.148892\n",
       "2011-11-02  0.015976 -0.060157\n",
       "2011-11-03  0.018608 -0.070871\n",
       "2011-11-04 -0.006300 -0.011210"
      ]
     },
     "execution_count": 72,
     "metadata": {},
     "output_type": "execute_result"
    }
   ],
   "source": [
    "df = pd.DataFrame()  # when in doubt, start with an empty DataFrame\n",
    "df['SP500'] = np.log(p['SP500']) - np.log(p['SP500']).shift(1)\n",
    "p = web.DataReader('VIXCLS', 'fred', start, end)  #VIX volatility index\n",
    "df['VIX'] = np.log(p['VIXCLS']) - np.log(p['VIXCLS']).shift(1)\n",
    "df = df.dropna(axis=0, how='any')\n",
    "df.head()"
   ]
  },
  {
   "cell_type": "markdown",
   "metadata": {
    "slideshow": {
     "slide_type": "slide"
    }
   },
   "source": [
    "* Next, we run an OLS regression of the VIX returns on those of the S&P.\n",
    "* The regression functionality is stored in the `statsmodels` package ([user guide](https://www.statsmodels.org/stable/user-guide.html)).\n",
    "* We will use a different interface (API) which allows us to specify regressions using R-style formulas ([user guide](http://www.statsmodels.org/stable/example_formulas.html)). \n",
    "* Loading this package may yield a warning. A warning is *not* an error, the code will continue. Also, this warning is probably a bug, see e.g. [here](https://github.com/statsmodels/statsmodels/issues/3814).\n",
    "* We will use heteroskedasticity and autocorrelation consistent (HAC) standard errors.\n"
   ]
  },
  {
   "cell_type": "code",
   "execution_count": 73,
   "metadata": {
    "slideshow": {
     "slide_type": "slide"
    }
   },
   "outputs": [
    {
     "name": "stdout",
     "output_type": "stream",
     "text": [
      "                  Results: Ordinary least squares\n",
      "===================================================================\n",
      "Model:              OLS              Adj. R-squared:     0.549     \n",
      "Dependent Variable: VIX              AIC:                -7330.6816\n",
      "Date:               2021-10-28 14:55 BIC:                -7319.0969\n",
      "No. Observations:   2422             Log-Likelihood:     3667.3    \n",
      "Df Model:           1                F-statistic:        86.37     \n",
      "Df Residuals:       2420             Prob (F-statistic): 3.23e-20  \n",
      "R-squared:          0.549            Scale:              0.0028359 \n",
      "---------------------------------------------------------------------\n",
      "             Coef.    Std.Err.      z      P>|z|     [0.025    0.975]\n",
      "---------------------------------------------------------------------\n",
      "Intercept    0.0016     0.0010    1.5873   0.1124   -0.0004    0.0036\n",
      "SP500       -5.5881     0.6013   -9.2933   0.0000   -6.7666   -4.4095\n",
      "-------------------------------------------------------------------\n",
      "Omnibus:              757.018      Durbin-Watson:         2.233    \n",
      "Prob(Omnibus):        0.000        Jarque-Bera (JB):      16354.977\n",
      "Skew:                 0.950        Prob(JB):              0.000    \n",
      "Kurtosis:             15.588       Condition No.:         95       \n",
      "===================================================================\n",
      "\n"
     ]
    }
   ],
   "source": [
    "import statsmodels.formula.api as smf  # Use import statsmodels.api as sm if you don't want R-style formatting\n",
    "model = smf.ols('VIX ~ + SP500', data=df)\n",
    "result = model.fit(cov_type = 'HAC', cov_kwds = {'maxlags':5})\n",
    "print(result.summary2())"
   ]
  },
  {
   "cell_type": "markdown",
   "metadata": {},
   "source": [
    "* We can run the above within one line: `result = smf.ols('VIX ~ SP500', data=df).fit(cov_type=\"HAC\", cov_kwds={'maxlags':5})` "
   ]
  },
  {
   "cell_type": "code",
   "execution_count": 74,
   "metadata": {
    "slideshow": {
     "slide_type": "slide"
    }
   },
   "outputs": [
    {
     "data": {
      "text/plain": [
       "Intercept    1.587347\n",
       "SP500       -9.293342\n",
       "dtype: float64"
      ]
     },
     "execution_count": 74,
     "metadata": {},
     "output_type": "execute_result"
    }
   ],
   "source": [
    "result.tvalues"
   ]
  },
  {
   "cell_type": "markdown",
   "metadata": {},
   "source": [
    "* Conclusion: We indeed find a significant negative effect of the index returns ($t = -9.29$), confirming the existence of the leverage effect. \n",
    "* Note: for a regression without an intercept, we would use `model = smf.ols('VIX ~ -1 + SP500', data=df)`. <br><br>\n",
    "* The `result` object has other useful methods and variables (for the entire list check [here](http://www.statsmodels.org/stable/generated/statsmodels.regression.linear_model.RegressionResults.html?highlight=regressionresults)):"
   ]
  },
  {
   "cell_type": "code",
   "execution_count": 75,
   "metadata": {},
   "outputs": [
    {
     "name": "stdout",
     "output_type": "stream",
     "text": [
      "<F test: F=array([[48.05627339]]), p=3.413627617271817e-21, df_denom=2.42e+03, df_num=2>\n"
     ]
    }
   ],
   "source": [
    "print(result.f_test('SP500=0, Intercept=0'))  #joint test that regressors are equal to zero "
   ]
  },
  {
   "cell_type": "code",
   "execution_count": 76,
   "metadata": {},
   "outputs": [
    {
     "data": {
      "text/plain": [
       "Intercept    0.001624\n",
       "SP500       -5.588073\n",
       "dtype: float64"
      ]
     },
     "execution_count": 76,
     "metadata": {},
     "output_type": "execute_result"
    }
   ],
   "source": [
    "result.params"
   ]
  },
  {
   "cell_type": "markdown",
   "metadata": {
    "slideshow": {
     "slide_type": "slide"
    }
   },
   "source": [
    "# Summary\n",
    "\n",
    "* `Numpy`'s `ndarray`s are a sequence type with mutable homogenous elements. \n",
    "    * ufuncs and broadcasting allow us to vectorize code, such that the code is more efficient.\n",
    "* The `pandas` package introduces `Series` and `DataFrames`. \n",
    "    * Useful for analyzing panel data, and in particular time series. \n",
    "    * Effective methods to manipulate the data.\n",
    "* Directly communicate with online databases to load (financial) data using `pandas_datareader`.\n",
    "* Functionality for regression analysis is stored in the `statsmodels` package."
   ]
  },
  {
   "cell_type": "markdown",
   "metadata": {
    "slideshow": {
     "slide_type": "slide"
    }
   },
   "source": [
    "<section id=\"copyrightslide\">\n",
    "\n",
    "# Copyright Statement\n",
    "* Course slides were created by Simon Broda for Python 2.7 $-$ Andreas Rapp adapted them to Python 3.6. Maintained and updated by Bart Keijsers.\n",
    "* Week 4 slides were created by Bart Keijsers. The hierarchical indexing example is from the UvA course Data Science Methods by Cees Diks and Bram Wouters.\n",
    "* All figures have been produced for this course using Python. Empirical results are based on public data available from [FRED](https://fred.stlouisfed.org/), [Quandl/WIKI](https://www.quandl.com/databases/WIKIP), [Kenneth French's website](https://mba.tuck.dartmouth.edu/pages/faculty/ken.french/data_library.html) and [Yahoo Finance](https://finance.yahoo.com/).\n",
    "* This work is licensed under a [Creative Commons Attribution-ShareAlike 4.0 International License](https://creativecommons.org/licenses/by-sa/4.0/).\n",
    "* More information on Simon Broda's [Github](https://github.com/s-broda/ComputationalFinance/blob/master/LICENSE.md)."
   ]
  }
 ],
 "metadata": {
  "celltoolbar": "Slideshow",
  "kernelspec": {
   "display_name": "Python 3",
   "language": "python",
   "name": "python3"
  },
  "language_info": {
   "codemirror_mode": {
    "name": "ipython",
    "version": 3
   },
   "file_extension": ".py",
   "mimetype": "text/x-python",
   "name": "python",
   "nbconvert_exporter": "python",
   "pygments_lexer": "ipython3",
   "version": "3.8.8"
  },
  "livereveal": {
   "start_slideshow_at": "selected"
  }
 },
 "nbformat": 4,
 "nbformat_minor": 2
}

{
 "cells": [
  {
   "cell_type": "code",
   "execution_count": 1,
   "metadata": {
    "scrolled": false,
    "slideshow": {
     "slide_type": "skip"
    }
   },
   "outputs": [],
   "source": [
    "# !jupyter nbconvert --to slides week3.ipynb --post serve\n",
    "# http://127.0.0.1:8000/week3.slides.html?print-pdf"
   ]
  },
  {
   "cell_type": "markdown",
   "metadata": {
    "slideshow": {
     "slide_type": "slide"
    }
   },
   "source": [
    "<p style=\"text-align: center; font-size: 192%\"> Computational Finance </p>\n",
    "<img src=\"img/ABSlogo.svg\" alt=\"LOGO\" style=\"display:block; margin-left: auto; margin-right: auto; width: 90%;\">\n",
    "<p style=\"text-align: center; font-size: 150%\"> Week 3: Risk Management; Plotting </p>\n",
    "<p style=\"text-align: center; font-size: 75%\"> <a href=\"#copyrightslide\">Copyright</a> </p>"
   ]
  },
  {
   "cell_type": "code",
   "execution_count": 2,
   "metadata": {
    "slideshow": {
     "slide_type": "skip"
    }
   },
   "outputs": [],
   "source": [
    "#silence some warnings\n",
    "import warnings\n",
    "warnings.filterwarnings('ignore')"
   ]
  },
  {
   "cell_type": "markdown",
   "metadata": {
    "slideshow": {
     "slide_type": "slide"
    }
   },
   "source": [
    "# Last week: Dealing with Data\n",
    "\n",
    "* `Numpy`'s `ndarray`s are a sequence type with mutable homogenous elements. \n",
    "    * ufuncs and broadcasting allow us to vectorize code, such that the code is more efficient.\n",
    "* The `pandas` package introduces `Series` and `DataFrames`. \n",
    "    * It is useful for analyzing panel data, and in particular time series. \n",
    "    * It has effective tools to manipulate the data.\n",
    "* Directly communicate with online databases to load (financial) data using `pandas-datareader`.\n",
    "* Functionality for regression analysis is stored in the `statsmodels` package."
   ]
  },
  {
   "cell_type": "markdown",
   "metadata": {
    "slideshow": {
     "slide_type": "slide"
    }
   },
   "source": [
    "# This week: Risk Management; Plotting\n",
    "\n",
    "* Plotting Basics\n",
    "* Risk Measures\n",
    "    * Value at Risk\n",
    "    * Asset Returns: Stylized Facts\n",
    "    * Nonparametric Methods\n",
    "    * Parametric Methods\n",
    "    * Backtesting\n",
    "    \n",
    "    \n",
    "* **Assignment 1 deadline**: Sunday 21 November at 23:59"
   ]
  },
  {
   "cell_type": "markdown",
   "metadata": {
    "slideshow": {
     "slide_type": "slide"
    }
   },
   "source": [
    "# Plotting Basics\n",
    "* Plotting in (scientific) Python is mostly done via the `matplotlib` library ([user guide](https://matplotlib.org/users/index.html)), which is inspired by the plotting facilities of Matlab&reg;.\n",
    "* Its main plotting facilities reside in its `pyplot` module. It is usually imported as"
   ]
  },
  {
   "cell_type": "code",
   "execution_count": 3,
   "metadata": {},
   "outputs": [],
   "source": [
    "import matplotlib.pyplot as plt\n",
    "%matplotlib inline"
   ]
  },
  {
   "cell_type": "markdown",
   "metadata": {},
   "source": [
    "* The line `%matplotlib inline` is an [ipython magic](http://ipython.readthedocs.io/en/stable/interactive/magics.html). It makes plots appear inline in the notebook.\n",
    "* The `seaborn` library ([user guide](https://seaborn.pydata.org/tutorial.html)) provides higher-level statistical visualizations:"
   ]
  },
  {
   "cell_type": "code",
   "execution_count": 4,
   "metadata": {},
   "outputs": [],
   "source": [
    "import seaborn as sns"
   ]
  },
  {
   "cell_type": "markdown",
   "metadata": {},
   "source": [
    "* Finally, `statsmodels` is useful for QQ plots (see below):"
   ]
  },
  {
   "cell_type": "code",
   "execution_count": 5,
   "metadata": {},
   "outputs": [],
   "source": [
    "import statsmodels.api as sm"
   ]
  },
  {
   "cell_type": "markdown",
   "metadata": {
    "slideshow": {
     "slide_type": "slide"
    }
   },
   "source": [
    "* I will only give a brief introduction to matplotlib here. However, the code for all graphs shown below is included in the notebook (though sometimes hidden in slide mode), and should be studied.\n",
    "* The fundamental object in matplotlib is a `figure`, inside of which reside `subplots` (or `axes`).\n",
    "* To create a new figure, add an axis, and plot to it:"
   ]
  },
  {
   "cell_type": "code",
   "execution_count": 6,
   "metadata": {},
   "outputs": [
    {
     "data": {
      "image/png": "[encoded data removed]",
      "text/plain": [
       "<Figure size 432x216 with 2 Axes>"
      ]
     },
     "metadata": {
      "needs_background": "light"
     },
     "output_type": "display_data"
    }
   ],
   "source": [
    "#With the inline backend, these need to be in the same cell.\n",
    "fig = plt.figure(figsize=(6,3))  #Create a new empty figure object. Size is optional.\n",
    "ax1 = fig.add_subplot(121)  #Layout: (1x2) axes. Add one in row 1, column 1, and make it current (what plt.* commands operate on).\n",
    "ax2 = fig.add_subplot(122)  #Add an axes in row 1, column 2, and make it current. \n",
    "ax1.plot(range(10))\n",
    "ax2.plot(range(10, 0, -1));"
   ]
  },
  {
   "cell_type": "markdown",
   "metadata": {
    "slideshow": {
     "slide_type": "slide"
    }
   },
   "source": [
    "* By default, matplotlib plots into the current axis, creating one (and a figure) if needed. Using the convenience method `subplot`, this allows us to achieve the same without explicit reference to figures and axes:"
   ]
  },
  {
   "cell_type": "code",
   "execution_count": 7,
   "metadata": {
    "slideshow": {
     "slide_type": "-"
    }
   },
   "outputs": [
    {
     "data": {
      "image/png": "[encoded data removed]",
      "text/plain": [
       "<Figure size 432x288 with 2 Axes>"
      ]
     },
     "metadata": {
      "needs_background": "light"
     },
     "output_type": "display_data"
    }
   ],
   "source": [
    "plt.subplot(121)\n",
    "plt.plot(range(10))\n",
    "plt.subplot(122)\n",
    "plt.plot(range(10, 0, -1));"
   ]
  },
  {
   "cell_type": "markdown",
   "metadata": {
    "slideshow": {
     "slide_type": "slide"
    }
   },
   "source": [
    "* To plot two vectors $x$ and $y$ against each other:"
   ]
  },
  {
   "cell_type": "code",
   "execution_count": 8,
   "metadata": {
    "slideshow": {
     "slide_type": "-"
    }
   },
   "outputs": [
    {
     "data": {
      "image/png": "[encoded data removed]",
      "text/plain": [
       "<Figure size 432x288 with 1 Axes>"
      ]
     },
     "metadata": {
      "needs_background": "light"
     },
     "output_type": "display_data"
    }
   ],
   "source": [
    "import numpy as np\n",
    "x = np.linspace(-10, 10, 100)\n",
    "y = x**2\n",
    "plt.plot(x,y,'r--')  #Dashed red line; see table on p. 114.\n",
    "plt.xlabel('$x$')  #LaTeX equations can be included by enclosing in $$.\n",
    "plt.ylabel('$y$')  #Use r'text' if you want to add symbols, e.g. use r'$\\beta$' to print the Greek letter beta\n",
    "plt.title('A Parabola')\n",
    "plt.legend(['$f(x)$'])  #Expects a list of strings.\n",
    "plt.xlim(xmin=-8, xmax=8);  #Axis limits.\n",
    "plt.savefig('filename.svg')  #Save the plot to disk."
   ]
  },
  {
   "cell_type": "markdown",
   "metadata": {
    "slideshow": {
     "slide_type": "slide"
    }
   },
   "source": [
    "# Risk Measures\n",
    "## Introduction\n",
    "* The Basel Accords mandate that financial institutions report the risk associated with their positions, so that regulators may check the adequacy of the economic capital as a buffer against market risk.\n",
    "* Reporting is in the form of a *risk measure*, which condenses the risk of a position into a single number.\n",
    "* Currently, the mandated measure is *Value at Risk* (VaR), but there are debates of replacing it with an alternative (*Expected Shortfall*). \n",
    "    * Implementation is not until 1 January 2023 though, see [Basel's market risk framework](https://www.bis.org/bcbs/publ/d457.htm) and [recent deferral](https://www.bis.org/press/p200327.htm).\n",
    "* Banks are allowed to use their own, internal models for the computation of VaR, but the adequacy of these models should be *backtested*.\n"
   ]
  },
  {
   "cell_type": "markdown",
   "metadata": {
    "slideshow": {
     "slide_type": "slide"
    }
   },
   "source": [
    "## Value at Risk\n",
    "* Consider a portfolio with value $V_{t}$ and daily (simple) return $R_{t}$.\n",
    "* Define the one-day loss on the portfolio as\n",
    "\n",
    "$$\n",
    "\\$Loss_{t+1}=-\\left[V_{t+1}-V_{t}\\right].\n",
    "$$\n",
    "\n",
    "* I will distinguish between the dollar Value at Risk (an amount) and the return Value at Risk (a percentage). When unqualified, I mean the latter.\n",
    "* The one-day $100p\\%$ dollar Value at Risk\n",
    "$\\$VaR_{t+1}^{p}$ is the loss on the portfolio that we are $100\\left(1-p\\right) \\%$ confident will not be exceeded. The Basel committee prescribes $p=0.01$."
   ]
  },
  {
   "cell_type": "markdown",
   "metadata": {
    "slideshow": {
     "slide_type": "slide"
    }
   },
   "source": [
    "* The *return Value at risk* $VaR_{t+1}^{p}$ expresses\n",
    "$\\$VaR_{t+1}^{p}$\n",
    "as a percentage of the portfolio value:\n",
    "\n",
    "$$\n",
    "VaR_{t+1}^{p}=\\frac{\\$VaR_{t+1}^{p}}{V_{t}}.\n",
    "$$\n",
    "* Hence\n",
    "$$\n",
    "\\Pr (R_{t+1}<-VaR_{t+1}^{p})=p,\n",
    "$$\n",
    "because\n",
    "$$\n",
    "R_{t+1}=-\\frac{\\$Loss_{t+1}}{V_{t}}.\n",
    "$$\n",
    "This holds approximately for log returns, too.\n",
    "\n",
    "* Thus $VaR_{t+1}^{p}$ is minus the $100p$th *percentile* (or minus the $p$th *quantile*) of the return distribution."
   ]
  },
  {
   "cell_type": "code",
   "execution_count": 9,
   "metadata": {
    "slideshow": {
     "slide_type": "skip"
    }
   },
   "outputs": [],
   "source": [
    "from matplotlib.patches import Polygon\n",
    "import scipy.stats as stats  #The book likes to import it as `scs`.\n",
    "a, b, c = -5, 5, stats.norm.ppf(0.05)\n",
    "x = np.linspace(a, b, 100)\n",
    "y = stats.norm.pdf(x)\n",
    "fig = plt.figure(figsize=(7, 5))\n",
    "ax = fig.add_subplot(111)\n",
    "plt.plot(x, y, 'b', linewidth=2)\n",
    "plt.ylim(ymin=0)\n",
    "plt.xlim(xmin=a, xmax=b)\n",
    "Ix = np.linspace(a, c)\n",
    "Iy = stats.norm.pdf(Ix)\n",
    "verts = [(a, 0)] + list(zip(Ix, Iy)) + [(c, 0)]\n",
    "poly = Polygon(verts, facecolor='0.7', edgecolor='0.5')\n",
    "ax.add_patch(poly)\n",
    "ax.annotate('$p\\%$', xy=(-2, 0.025), xytext=(-3, 0.1),\n",
    "            arrowprops=dict(width=.5),\n",
    "            )\n",
    "plt.xlabel('$R_{t+1}$')\n",
    "plt.ylabel('$f(R_{t+1})$')\n",
    "ax.set_xticks([c, 0])\n",
    "ax.set_xticklabels(['$-VaR_{t+1}^p$', '0'])\n",
    "ax.set_yticks([])\n",
    "plt.show()"
   ]
  },
  {
   "cell_type": "markdown",
   "metadata": {
    "slideshow": {
     "slide_type": "slide"
    }
   },
   "source": [
    "<img src=\"img/var.svg\" alt=\"VaR\" style=\"display:block; margin-left: auto; margin-right: auto; width: 80%;\">"
   ]
  },
  {
   "cell_type": "markdown",
   "metadata": {
    "slideshow": {
     "slide_type": "slide"
    }
   },
   "source": [
    "## Asset Returns: Stylized Facts\n",
    "* Stylized facts about asset returns include\n",
    "  * Lack of autocorrelation;\n",
    "  * Leverage effects;\n",
    "  * Heavy tails of return distribution;\n",
    "  * Volatility clustering.\n",
    "  \n",
    "* These need to be taken into account when creating VaR forecasts. \n"
   ]
  },
  {
   "cell_type": "code",
   "execution_count": 10,
   "metadata": {
    "slideshow": {
     "slide_type": "slide"
    }
   },
   "outputs": [],
   "source": [
    "import pandas as pd\n",
    "import pandas_datareader.data as web\n",
    "import scipy.stats as stats  #The book likes to import it as `scs`.\n",
    "p = web.DataReader('SP500', 'fred', start='1/1/2014', end='30/09/2021')['SP500']  #S&P500 from St. Louis Fed (pulls Adj. Close)\n",
    "p = p.dropna() # Drop missing values, FRED reports all days, including non-trading days such as holidays\n",
    "r = np.log(p) - np.log(p).shift(1)\n",
    "r.name = 'Return'\n",
    "r = r[1:]  #Remove the first observation (NaN).\n",
    "plt.figure(figsize=(12, 4))\n",
    "plt.subplot(121)\n",
    "sns.distplot(r, kde=False, fit=stats.norm)  #Histogram overlaid with a fitted normal density.\n",
    "plt.subplot(122)\n",
    "r.plot()  #Note that this is a pandas method! It looks prettier than plt.plot(r).\n",
    "# Note that r is a Series. We need to specify the axes if you want a DataFrame to be plotted in a particular subplot.\n",
    "plt.show()"
   ]
  },
  {
   "cell_type": "markdown",
   "metadata": {
    "slideshow": {
     "slide_type": "slide"
    }
   },
   "source": [
    "<img src=\"img/stylizedfacts.svg\" alt=\"Stylized Facts\" style=\"display:block; margin-left: auto; margin-right: auto; width: 80%;\">"
   ]
  },
  {
   "cell_type": "markdown",
   "metadata": {
    "slideshow": {
     "slide_type": "slide"
    }
   },
   "source": [
    "## VaR Methods\n",
    "### Non-parametric: Historical Simulation\n",
    "\n",
    "* Historical simulation assumes that the distribution of tomorrow's portfolio\n",
    "return is well approximated by the empirical distribution (histogram) of\n",
    "the past $N$ observations $\\left\\{\n",
    "R_{t}, R_{t-1},\\ldots, R_{t+1-N}\\right\\} $.\n",
    "\n",
    "* This is as if we draw, with replacement, from the last $N$ returns and use\n",
    "this to simulate the next day's return distribution.\n",
    "\n",
    "* The estimator of VaR is given by minus the $p$th *sample quantile* of the last $N$ portfolio returns, i.e., $\\widehat{VaR}_{t+1}^{p}=-R^N_{p}$, where $R^N_{p}$ is the smallest number such that at least $100p\\%$ of the observations are smaller than or equal to it.\n"
   ]
  },
  {
   "cell_type": "markdown",
   "metadata": {
    "slideshow": {
     "slide_type": "slide"
    }
   },
   "source": [
    "* In Python, we can use NumPy's `quantile` method, or the `percentile` function (or `nanpercentile` which ignores `NaN`s)."
   ]
  },
  {
   "cell_type": "code",
   "execution_count": 11,
   "metadata": {
    "slideshow": {
     "slide_type": "-"
    }
   },
   "outputs": [
    {
     "data": {
      "text/plain": [
       "0.032640043535360506"
      ]
     },
     "execution_count": 11,
     "metadata": {},
     "output_type": "execute_result"
    }
   ],
   "source": [
    "VaR_hist = -r.quantile(.01)  #Alternatively, VaR=-np.percentile(r,1).\n",
    "VaR_hist"
   ]
  },
  {
   "cell_type": "code",
   "execution_count": 12,
   "metadata": {
    "slideshow": {
     "slide_type": "-"
    }
   },
   "outputs": [],
   "source": [
    "ax = r.hist(bins=30)  #Another pandas method: histogram with 30 bins.\n",
    "ax.set_xticks([-VaR_hist])\n",
    "ax.set_xticklabels(['$-VaR_{t+1}^{0.01}$ = -%4.3f' %VaR_hist])  #4.3f means floating point with 4 digits, of which 3 decimals.\n",
    "plt.title('Historical VaR')\n",
    "plt.show()"
   ]
  },
  {
   "cell_type": "markdown",
   "metadata": {
    "slideshow": {
     "slide_type": "slide"
    }
   },
   "source": [
    "<img src=\"img/var_hist.svg\" alt=\"VaR_hist\" style=\"display:block; margin-left: auto; margin-right: auto; width: 80%;\">"
   ]
  },
  {
   "cell_type": "markdown",
   "metadata": {
    "slideshow": {
     "slide_type": "slide"
    }
   },
   "source": [
    "* Problem: Last year(s) of data are not necessarily representative for the next few days (because of, e.g., volatility clustering).\n",
    "* Exacerbated by the fact that a large $N$ is required to compute the 1% VaR with any degree of precision (only 1% of the data are really used). <br><br>\n",
    "* With SciPy's `gaussian_kde()` (*Kernel Density Estimation*) one can estimate the historical distribution of returns and use the returned callable object as a pdf in order to sample from it.\n",
    "* That is, if one deems the distribution of historical returns representative one may overcome a small $N$ limitation by fitting and subsequently sampling from the estimated *pdf*."
   ]
  },
  {
   "cell_type": "code",
   "execution_count": 13,
   "metadata": {
    "slideshow": {
     "slide_type": "skip"
    }
   },
   "outputs": [],
   "source": [
    "from scipy.stats import gaussian_kde\n",
    "kde = gaussian_kde(r)  #estimate the kernel density - with 'bw_method=' different bandwidth can be choosen\n",
    "x = np.linspace(r.min()-r.std(),r.max()+r.std(), 100)\n",
    "fig, axes = plt.subplots(1, 3, figsize=(16,4))\n",
    "axes[0].hist(r, density=True, alpha=0.5, bins=30)\n",
    "axes[1].plot(x, kde(x), label=\"KDE\", linestyle=\"--\")\n",
    "axes[1].plot(x, stats.norm.pdf(x,r.mean(),r.std()), label=\"Normal\")\n",
    "axes[1].legend()\n",
    "sns.distplot(r, bins=25, ax=axes[2])\n",
    "plt.show()"
   ]
  },
  {
   "cell_type": "markdown",
   "metadata": {
    "slideshow": {
     "slide_type": "slide"
    }
   },
   "source": [
    "<img src=\"img/var_sim.svg\" alt=\"VaR_sim\" style=\"display:block; margin-left: auto; margin-right: auto; width: 100%;\">"
   ]
  },
  {
   "cell_type": "code",
   "execution_count": 14,
   "metadata": {
    "slideshow": {
     "slide_type": "skip"
    }
   },
   "outputs": [],
   "source": [
    "rr = np.ravel(r)  # auxilliary vector\n",
    "#Histogram\n",
    "plt.figure(num=1, figsize=(11, 6))\n",
    "sns.distplot(r, bins=70, kde=False, fit=stats.norm, fit_kws={\"color\": \"tab:orange\", \"alpha\": .95, \"label\": \"Fitted Normal PDF\"})\n",
    "sns.kdeplot(rr, kernel='gau', bw='scott', color='tab:blue', label=\"Fitted Empirical PDF\", linestyle=\"--\")\n",
    "plt.legend(loc=\"best\")\n",
    "#Inset\n",
    "a = plt.axes([.175, .45, .25, .35])\n",
    "sns.distplot(r, bins=70, kde=False, fit=stats.norm, fit_kws={\"color\": \"tab:orange\", \"alpha\": .95, \"label\": \"Fitted Normal PDF\"}, axlabel=False)\n",
    "sns.kdeplot(rr, kernel='gau', bw='scott', color='tab:blue', label=\"Fitted Empirical PDF\", linestyle=\"--\")\n",
    "plt.xlim([-0.075, -0.025])\n",
    "plt.ylim([0, 1])\n",
    "plt.show()"
   ]
  },
  {
   "cell_type": "markdown",
   "metadata": {
    "slideshow": {
     "slide_type": "slide"
    }
   },
   "source": [
    "<img src=\"img/var_tail.svg\" alt=\"VaR_tail\" style=\"display:block; margin-left: auto; margin-right: auto; width: 80%;\">"
   ]
  },
  {
   "cell_type": "markdown",
   "metadata": {
    "slideshow": {
     "slide_type": "slide"
    }
   },
   "source": [
    "* Using the KDE, one can randomly sample new data from the estimated pdf using `resample()`\n",
    "* Large $N$ to compute the 1% VaR precisely is less problematic (e.g., 10,000 observations correspond to roughly 40 years of simulated daily data) \n",
    "  * However, the problem that the fitted historial distribution might not be representative remains a strong concern!"
   ]
  },
  {
   "cell_type": "code",
   "execution_count": 15,
   "metadata": {},
   "outputs": [
    {
     "data": {
      "text/plain": [
       "0.03153473493007855"
      ]
     },
     "execution_count": 15,
     "metadata": {},
     "output_type": "execute_result"
    }
   ],
   "source": [
    "kde_sim_r = kde.resample(10000)  #'resample()' takes the number of desired datapoints as argument\n",
    "VaR_hist_sim = -np.percentile(kde_sim_r,1)\n",
    "VaR_hist_sim"
   ]
  },
  {
   "cell_type": "markdown",
   "metadata": {
    "slideshow": {
     "slide_type": "slide"
    }
   },
   "source": [
    "### Parametric: Normal and $t$ Distributions\n",
    "* Another simple approach is to\n",
    "assume $R_{t+1}\\sim N(\\mu ,\\sigma ^{2})$, and to estimate $\\mu $\n",
    "and $\\sigma ^{2}$ from historical data (for daily data, $\\mu \\approx 0$). With $\\Phi (z)$ denoting the distribution function of the standard normal, the VaR is then determined from\n",
    "\n",
    "\\begin{align*}\n",
    "\\Pr \\left( R_{t+1}<-VaR_{t+1}^{p}\\right) &=\\Pr \\left( \\frac{R_{t+1}-\\mu }{\n",
    "\\sigma }<\\frac{-VaR_{t+1}^{p}-\\mu }{\\sigma }\\right) \\\\\n",
    "&=\\Pr \\left( z_{t+1}<\\frac{-VaR_{t+1}^{p}-\\mu }{\\sigma }\\right) \\\\\n",
    "&=\\Phi \\left( \\frac{-VaR_{t+1}^{p}-\\mu }{\\sigma }\\right) =p.\n",
    "\\end{align*}"
   ]
  },
  {
   "cell_type": "markdown",
   "metadata": {
    "slideshow": {
     "slide_type": "slide"
    }
   },
   "source": [
    "* Thus, with $\\Phi ^{-1}(p)$ denoting the inverse distribution function of the standard normal, \n",
    "<br><br>\n",
    "$$\n",
    "VaR_{t+1}^{p}=-\\mu -\\sigma \\Phi^{-1}(p).\n",
    "$$\n",
    "<br>\n",
    "* Python calls $\\Phi ^{-1}(p)$ the *percentage point function* (ppf):"
   ]
  },
  {
   "cell_type": "code",
   "execution_count": 16,
   "metadata": {},
   "outputs": [
    {
     "data": {
      "text/plain": [
       "(0.025139310371294816, 0.0004384459622276396, 0.010994811489261137)"
      ]
     },
     "execution_count": 16,
     "metadata": {},
     "output_type": "execute_result"
    }
   ],
   "source": [
    "mu, sig = stats.norm.fit(r)  #fitting a normal distribution to `r` returns mean and standard deviation\n",
    "VaR_norm = - mu - sig*stats.norm.ppf(0.01)\n",
    "VaR_norm, mu, sig"
   ]
  },
  {
   "cell_type": "code",
   "execution_count": 17,
   "metadata": {
    "slideshow": {
     "slide_type": "skip"
    }
   },
   "outputs": [],
   "source": [
    "ax = sns.distplot(r, kde=False, fit=stats.norm)  #histogram overlaid with a fitted normal density.\n",
    "ax.set_xticks([-VaR_norm])\n",
    "ax.set_xticklabels(['$-VaR_{t+1}^{0.01}$ = -%4.3f' %VaR_norm])\n",
    "ax.text(0.02,60,'$\\mu=%7.6f$\\n$\\sigma=%7.6f$' %(mu, sig))  #\\n means newline.\n",
    "plt.title('Normal VaR')\n",
    "plt.show()"
   ]
  },
  {
   "cell_type": "markdown",
   "metadata": {
    "slideshow": {
     "slide_type": "slide"
    }
   },
   "source": [
    "<img src=\"img/var_norm.svg\" alt=\"VaR_norm\" style=\"display:block; margin-left: auto; margin-right: auto; width: 80%;\">"
   ]
  },
  {
   "cell_type": "markdown",
   "metadata": {
    "slideshow": {
     "slide_type": "slide"
    }
   },
   "source": [
    "* Problems:\n",
    "  * The variance of the past year(s) of data is not necessarily representative for the future.\n",
    "  * Returns typically have heavier tails than the normal.\n",
    "* The solution to the second point is to use another distribution. The Student's $t$ distribution is a popular choice."
   ]
  },
  {
   "cell_type": "markdown",
   "metadata": {
    "slideshow": {
     "slide_type": "slide"
    }
   },
   "source": [
    "* The Student's $t$ distribution with $\\nu$ degrees of freedom, $t_\\nu$, is well known from linear regression\n",
    "as the distribution of $t$-statistics.\n",
    "  * In that context, $\\nu=T-k$, where $T$ is sample size and $k$ the number of regressors.\n",
    "\n",
    "* It can be generalized to allow $\\nu\\in\\mathbb{R}_+$.\n",
    "\n",
    "* Smaller values of $\\nu$ correspond to heavier tails. As $\\nu\\rightarrow \\infty $, we approach the $N(0,1)$ distribution.\n",
    "\n",
    "* It only has moments up to but not including $\\nu$:\n",
    "  * The mean is finite and equal to zero if $\\nu>1$.\n",
    "  * The variance is finite and equal to $\\nu/(\\nu-2)$ if $\\nu>2$.\n",
    "  * The excess kurtosis is finite and equal to $6/(\\nu-4)$ if $\\nu>4$.\n",
    "\n",
    "* The distributions are symmetric around $0$, so the mean and skewness are $0$ if they exist.\n"
   ]
  },
  {
   "cell_type": "code",
   "execution_count": 18,
   "metadata": {
    "slideshow": {
     "slide_type": "skip"
    }
   },
   "outputs": [],
   "source": [
    "x = np.linspace(-6, 6, 200)\n",
    "df=[1, 2, 3, 10]\n",
    "for nu in df:\n",
    "    plt.plot(x, stats.t.pdf(x, nu))\n",
    "legend = ['$\\\\nu=%1.0f$' % nu for nu in df]  #Double escaping: \\\\nu, not \\nu, because \\n is newline.\n",
    "plt.plot(x, stats.norm.pdf(x))\n",
    "legend.append('Normal')\n",
    "plt.legend(legend)\n",
    "plt.title(\"Student's $t$ Densities\")\n",
    "plt.xlabel('x')\n",
    "plt.ylabel('$f_{\\\\nu}(x)$')\n",
    "plt.show()"
   ]
  },
  {
   "cell_type": "markdown",
   "metadata": {
    "slideshow": {
     "slide_type": "slide"
    }
   },
   "source": [
    "<img src=\"img/tdists.svg\" alt=\"t distributions\" style=\"display:block; margin-left: auto; margin-right: auto; width: 80%;\">"
   ]
  },
  {
   "cell_type": "markdown",
   "metadata": {
    "slideshow": {
     "slide_type": "slide"
    }
   },
   "source": [
    "* For financial applications, we need to allow for a non-zero mean, and a variance different from $\\nu/(\\nu-2)$.\n",
    "* This is achieved by introducing a *location parameter* $m$ and a *scale parameter* $h$. We'll write $f_\\nu(x;m,h)$ for the resulting density, $F_\\nu(x;m,h)$ for the distribution function, and $F^{-1}_\\nu(p;m,h)$ for the percentage point function.\n",
    "* Note that if $x\\sim t_\\nu(m,h)$, $\\nu>2$, then $\\mathbb{E}[x]=m$ and $\\mathrm{var}[x]=h^2\\nu/(\\nu-2)$.\n",
    "* The VaR becomes\n",
    "\\begin{equation*}\n",
    "VaR_{t+1}^{p}=-F^{-1}_\\nu(p; m, h)=-m-hF^{-1}_\\nu(p; 0, 1).\n",
    "\\end{equation*}\n",
    "* In Python:"
   ]
  },
  {
   "cell_type": "code",
   "execution_count": 19,
   "metadata": {},
   "outputs": [
    {
     "data": {
      "text/plain": [
       "(0.03091297122404388,\n",
       " 0.0008822247288963491,\n",
       " 0.005488089313027696,\n",
       " 2.321293817672602)"
      ]
     },
     "execution_count": 19,
     "metadata": {},
     "output_type": "execute_result"
    }
   ],
   "source": [
    "df, m, h = stats.t.fit(r)  #fit a location-scale t distribution to r\n",
    "VaR_t = -stats.t.ppf(0.01, df, loc=m, scale=h) #or -m-h*stats.t.ppf(0.01, df, loc=0, scale=1)\n",
    "VaR_t, m, h, df"
   ]
  },
  {
   "cell_type": "code",
   "execution_count": 20,
   "metadata": {
    "slideshow": {
     "slide_type": "skip"
    }
   },
   "outputs": [],
   "source": [
    "ax = sns.distplot(r, kde=False, fit=stats.t)  #Histogram overlaid with a fitted t density.\n",
    "ax.set_xticks([-VaR_t])\n",
    "ax.set_xticklabels(['$-VaR_{t+1}^{0.01}$ = -%4.3f' %VaR_t])\n",
    "ax.text(0.02,60,'$m=%7.6f$\\n$h=%7.6f$\\n$\\\\nu=%7.6f$' %(m, h, df))\n",
    "plt.title(\"Student's $t$ VaR\")\n",
    "plt.show()"
   ]
  },
  {
   "cell_type": "markdown",
   "metadata": {
    "slideshow": {
     "slide_type": "slide"
    }
   },
   "source": [
    "<img src=\"img/var_t.svg\" alt=\"VaR_t\" style=\"display:block; margin-left: auto; margin-right: auto; width: 80%;\">"
   ]
  },
  {
   "cell_type": "markdown",
   "metadata": {
    "slideshow": {
     "slide_type": "slide"
    }
   },
   "source": [
    "* There are several ways to assess whether a distributional assumption is adequate.\n",
    "* One is to use a *goodness of fit test*. Many such tests exist.\n",
    "* Hilpisch discusses the D'Agostino-Pearson test, available as `stats.normaltest`.\n",
    "* Here we use the Jarque-Bera test. The test statistic is\n",
    "$$\n",
    "JB=N\\left(S^2/6+(K-3)^2/24\\right),\n",
    "$$\n",
    "where $N$ is the sample size, and $S$ and $K$ are respectively the sample skewness and kurtosis.\n",
    "* Intuitively, it tests that the skewness and excess kurtosis are zero.\n",
    "* It is distributed as $\\chi^2_2$ under the null of normality. The 5% critical value is "
   ]
  },
  {
   "cell_type": "code",
   "execution_count": 21,
   "metadata": {},
   "outputs": [
    {
     "data": {
      "text/plain": [
       "5.991464547107979"
      ]
     },
     "execution_count": 21,
     "metadata": {},
     "output_type": "execute_result"
    }
   ],
   "source": [
    "stats.chi2.ppf(0.95, 2)"
   ]
  },
  {
   "cell_type": "markdown",
   "metadata": {},
   "source": [
    "* In Python:"
   ]
  },
  {
   "cell_type": "code",
   "execution_count": 22,
   "metadata": {},
   "outputs": [
    {
     "data": {
      "text/plain": [
       "Jarque_beraResult(statistic=39062.219764102236, pvalue=0.0)"
      ]
     },
     "execution_count": 22,
     "metadata": {},
     "output_type": "execute_result"
    }
   ],
   "source": [
    "stats.jarque_bera(r)  #returns (JB test statistic, p-val)."
   ]
  },
  {
   "cell_type": "markdown",
   "metadata": {
    "slideshow": {
     "slide_type": "slide"
    }
   },
   "source": [
    "* Another option is to use a QQ-plot (quantile-quantile plot).\n",
    "* It plots the empirical quantiles against the quantiles of a hypothesized distribution, e.g. $\\Phi^{-1}(p)$ for the normal.\n",
    "* If the distributional assumption is correct, then the plot should trace out the 45 degree line.\n",
    "* Points below (above) the 45 degree line in the left (right) tail indicate heavy tails."
   ]
  },
  {
   "cell_type": "code",
   "execution_count": 23,
   "metadata": {
    "slideshow": {
     "slide_type": "skip"
    }
   },
   "outputs": [],
   "source": [
    "#This is the manual way to do it.\n",
    "fig = plt.figure() \n",
    "ax = fig.add_subplot(111)\n",
    "x = np.linspace(.01,.99)\n",
    "emp = r.quantile(x)\n",
    "mu, sig = stats.norm.fit(r)\n",
    "theo = stats.norm.ppf(x, mu, sig)\n",
    "ax.plot(theo, emp.values, 'o')\n",
    "ax.set_ylim(ax.get_xlim())  #Make sure the axis limits are the same.\n",
    "ax.plot([0, 1], [0, 1], 'r', transform=ax.transAxes)  #Add a 45 degree line.\n",
    "plt.xlabel('Theoretical Quantiles')\n",
    "plt.ylabel('Sample Quantiles')\n",
    "plt.title('QQ Plot vs. Normal')\n",
    "plt.show()"
   ]
  },
  {
   "cell_type": "markdown",
   "metadata": {
    "slideshow": {
     "slide_type": "slide"
    }
   },
   "source": [
    "<img src=\"img/qq_norm.svg\" alt=\"QQ Plot\" style=\"display:block; margin-left: auto; margin-right: auto; width: 80%;\">"
   ]
  },
  {
   "cell_type": "code",
   "execution_count": 24,
   "metadata": {
    "slideshow": {
     "slide_type": "skip"
    }
   },
   "outputs": [],
   "source": [
    "#this is a bit simpler.\n",
    "sm.qqplot(r, dist=stats.t, fit=True, line='45')\n",
    "plt.title(\"QQ Plot vs. Student's $t$\")\n",
    "plt.show()"
   ]
  },
  {
   "cell_type": "markdown",
   "metadata": {
    "slideshow": {
     "slide_type": "slide"
    }
   },
   "source": [
    "<img src=\"img/qq_t.svg\" alt=\"QQ Plot\" style=\"display:block; margin-left: auto; margin-right: auto; width: 80%;\">"
   ]
  },
  {
   "cell_type": "markdown",
   "metadata": {
    "slideshow": {
     "slide_type": "slide"
    }
   },
   "source": [
    "### Comparison\n",
    "\n",
    "* Most accurate method depends on the validity of the assumptions.\n",
    "* The resulting estimates for the VaR *can* differ quite a bit across the methods:"
   ]
  },
  {
   "cell_type": "code",
   "execution_count": 25,
   "metadata": {},
   "outputs": [
    {
     "name": "stdout",
     "output_type": "stream",
     "text": [
      "      Method        VaR\n",
      "  Historical      0.033\n",
      "         KDE      0.032\n",
      "      Normal      0.025\n",
      " Student's t      0.031\n"
     ]
    }
   ],
   "source": [
    "meth = ['Historical', 'KDE', 'Normal', 'Student\\'s t']\n",
    "VaRlist = [VaR_hist, VaR_hist_sim, VaR_norm, VaR_t]\n",
    "\n",
    "# Print table\n",
    "print('%12s %10s' % ('Method','VaR'))\n",
    "for i in range(len(VaRlist)):\n",
    "    print('%12s %10.3f' % (meth[i],VaRlist[i]))"
   ]
  },
  {
   "cell_type": "markdown",
   "metadata": {
    "slideshow": {
     "slide_type": "slide"
    }
   },
   "source": [
    "### Time-varying Volatility\n",
    "\n",
    "* All methods discussed so far share one drawback: they assume that the volatility is constant, at least in the estimation (and forecast) period. \n",
    "* Implicitly, the Normal and Student's $t$ method use the *historical volatility*: \n",
    "$$\n",
    "\\sigma _{t+1,HIST}^{2}=\\frac{1}{N}\\sum_{j=0}^{N-1}R_{t-j}^{2}.\n",
    "$$\n",
    "(Note: volatility usually means standard deviation, not variance. I'll be sloppy here).\n",
    "* Here we assumed a zero mean, which is realistic for daily returns.\n",
    "* Some adaptability is gained by choosing a smaller $N$ such as 250 (one trading year), but there is a tradeoff because doing so decreases the sample size.\n",
    "* A general solution requires a *volatility model*, which will be discussed in *Advanced Risk Management*."
   ]
  },
  {
   "cell_type": "markdown",
   "metadata": {
    "slideshow": {
     "slide_type": "slide"
    }
   },
   "source": [
    "* A Pandas `Series` object has a `rolling` method that can be used to construct historial volatilities for an entire series, using, at each day, the past $N$ observations.\n",
    "* The method returns a special window object that in turn has a method `var` (for variance)."
   ]
  },
  {
   "cell_type": "code",
   "execution_count": 26,
   "metadata": {},
   "outputs": [
    {
     "data": {
      "image/png": "[encoded data removed]",
      "text/plain": [
       "<Figure size 432x288 with 1 Axes>"
      ]
     },
     "metadata": {
      "needs_background": "light"
     },
     "output_type": "display_data"
    }
   ],
   "source": [
    "sig2_hist = r.rolling(window=250).var()\n",
    "sig2_hist.plot();"
   ]
  },
  {
   "cell_type": "markdown",
   "metadata": {
    "slideshow": {
     "slide_type": "slide"
    }
   },
   "source": [
    "## Backtesting\n",
    "* The Basel accords require that banks' internal VaR models be *backtested*.\n",
    "\n",
    "* They recommend constructing the 1% VaR over the last 250 trading days and counting the number of *VaR exceptions* (or violations, exceedances, hits)\n",
    "  * VaR exceptions are times that losses exceeded the day's VaR figure: $-R_{t}>VaR_{t}^{p}$; or $R_{t}<-VaR_{t}^{p}$).\n",
    "  \n",
    "* A method is said to lie in the:\n",
    "\n",
    "  * <font color='green'>Green</font> zone, in case of 0-4 exceptions;\n",
    "  * <font color='yellow'>Yellow</font> zone, in case of 5-9 exceptions;\n",
    "  * <font color='red'>Red</font> zone, in case of 10 or more exceptions.\n",
    "* Being in one of the latter two incurs an extra capital charge."
   ]
  },
  {
   "cell_type": "markdown",
   "metadata": {
    "slideshow": {
     "slide_type": "slide"
    }
   },
   "source": [
    "\n",
    "* More generally, the number of exceedances should be equal to what is theoretically expected.\n",
    "$$\\sum_{t=0}^T (R_t < -VaR_t^p) \\approx p \\times T$$\n",
    "\n",
    "* Tests are available to check statistical validity of the VaR. Beyond the scope of this course."
   ]
  },
  {
   "cell_type": "markdown",
   "metadata": {
    "slideshow": {
     "slide_type": "slide"
    }
   },
   "source": [
    "# Summary\n",
    "\n",
    "* Python's **plotting** functionality is stored in the `matplotlib` library.\n",
    "* **Value at Risk** is a single number that measures the risk of holding an asset or portfolio of assets.\n",
    "* **Asset returns** display lack of autocorrelation, leverage effects, heavy tailed distribution, and volatility clustering.\n",
    "* Both **nonparametric and parametric methods** can be used to compute the Value at Risk.\n",
    "    * Nonparametric: historical simulation, KDE\n",
    "    * Parametric: normal, $t$ distribution\n",
    "* The methods differ by the assumptions on the return distribution; this should be tested.\n",
    "* The VaR estimates should be validated by comparing the number of violations to its expected value: they should be **backtested**.\n",
    "\n",
    "\n",
    "* More details in the [*Advanced Risk Management*](https://studiegids.uva.nl/xmlpages/page/2021-2022-en/search-course/course/92634) course. "
   ]
  },
  {
   "cell_type": "markdown",
   "metadata": {
    "slideshow": {
     "slide_type": "slide"
    }
   },
   "source": [
    "<section id=\"copyrightslide\">\n",
    "\n",
    "# Copyright Statement\n",
    "* Course slides were created by Simon Broda for Python 2.7 $-$ Andreas Rapp adapted them to Python 3.6. Maintained and updated by Bart Keijsers.\n",
    "* Week 4 slides were created by Bart Keijsers. The hierarchical indexing example is from the UvA course Data Science Methods by Cees Diks and Bram Wouters.\n",
    "* All figures have been produced for this course using Python. Empirical results are based on public data available from [FRED](https://fred.stlouisfed.org/), [Quandl/WIKI](https://www.quandl.com/databases/WIKIP), [Kenneth French's website](https://mba.tuck.dartmouth.edu/pages/faculty/ken.french/data_library.html) and [Yahoo Finance](https://finance.yahoo.com/).\n",
    "* This work is licensed under a [Creative Commons Attribution-ShareAlike 4.0 International License](https://creativecommons.org/licenses/by-sa/4.0/).\n",
    "* More information on Simon Broda's [Github](https://github.com/s-broda/ComputationalFinance/blob/master/LICENSE.md)."
   ]
  }
 ],
 "metadata": {
  "celltoolbar": "Slideshow",
  "kernelspec": {
   "display_name": "Python 3",
   "language": "python",
   "name": "python3"
  },
  "language_info": {
   "codemirror_mode": {
    "name": "ipython",
    "version": 3
   },
   "file_extension": ".py",
   "mimetype": "text/x-python",
   "name": "python",
   "nbconvert_exporter": "python",
   "pygments_lexer": "ipython3",
   "version": "3.8.8"
  },
  "livereveal": {
   "start_slideshow_at": "selected"
  }
 },
 "nbformat": 4,
 "nbformat_minor": 2
}

{
 "cells": [
  {
   "cell_type": "markdown",
   "metadata": {},
   "source": [
    "# Exercises of Week 1\n",
    "*These exercises will not be graded. Their purpose is to get you started with Python programming. Solutions will be made available, but it is strongly advised that you try on your own first. The only way to get better is through practice. For additonal exercises, see [Canvas](https://canvas.uva.nl/courses/25150/pages/resources-for-learning-python).*\n",
    "\n"
   ]
  },
  {
   "cell_type": "markdown",
   "metadata": {},
   "source": [
    "## Introduction"
   ]
  },
  {
   "cell_type": "markdown",
   "metadata": {},
   "source": [
    "Before the exercises, let me start with providing some very basic examples with strings and lists"
   ]
  },
  {
   "cell_type": "code",
   "execution_count": 9,
   "metadata": {},
   "outputs": [
    {
     "data": {
      "text/plain": [
       "str"
      ]
     },
     "execution_count": 9,
     "metadata": {},
     "output_type": "execute_result"
    }
   ],
   "source": [
    "myname = \"Bart\"\n",
    "type(myname)"
   ]
  },
  {
   "cell_type": "markdown",
   "metadata": {},
   "source": [
    "We could index stings to access individual character:"
   ]
  },
  {
   "cell_type": "code",
   "execution_count": 3,
   "metadata": {},
   "outputs": [
    {
     "name": "stdout",
     "output_type": "stream",
     "text": [
      "The first letter of my name is B and there are 4 letters in total.\n"
     ]
    }
   ],
   "source": [
    "print(\"The first letter of my name is\", myname[0], \"and there are\", len(myname), \"letters in total.\")"
   ]
  },
  {
   "cell_type": "markdown",
   "metadata": {},
   "source": [
    "**But strings are immutable:**"
   ]
  },
  {
   "cell_type": "code",
   "execution_count": 4,
   "metadata": {},
   "outputs": [
    {
     "ename": "TypeError",
     "evalue": "'str' object does not support item assignment",
     "output_type": "error",
     "traceback": [
      "\u001b[1;31m---------------------------------------------------------------------------\u001b[0m",
      "\u001b[1;31mTypeError\u001b[0m                                 Traceback (most recent call last)",
      "\u001b[1;32m<ipython-input-4-584a925d6b33>\u001b[0m in \u001b[0;36m<module>\u001b[1;34m\u001b[0m\n\u001b[1;32m----> 1\u001b[1;33m \u001b[0mmyname\u001b[0m\u001b[1;33m[\u001b[0m\u001b[1;36m0\u001b[0m\u001b[1;33m]\u001b[0m \u001b[1;33m=\u001b[0m \u001b[1;34m'b'\u001b[0m\u001b[1;33m\u001b[0m\u001b[1;33m\u001b[0m\u001b[0m\n\u001b[0m",
      "\u001b[1;31mTypeError\u001b[0m: 'str' object does not support item assignment"
     ]
    }
   ],
   "source": [
    "myname[0] = 'b'"
   ]
  },
  {
   "cell_type": "markdown",
   "metadata": {},
   "source": [
    "Note that there are different printing options to display the same output:"
   ]
  },
  {
   "cell_type": "code",
   "execution_count": 10,
   "metadata": {},
   "outputs": [
    {
     "name": "stdout",
     "output_type": "stream",
     "text": [
      "The first letter of my name is B and there are 4 letters in total.\n",
      "The first letter of my name is B and there are 4 letters in total.\n",
      "The first letter of my name is B and there are 4 letters in total.\n",
      "The first letter of my name is B and there are 4 letters in total.\n"
     ]
    }
   ],
   "source": [
    "print(\"The first letter of my name is\", myname[0], \"and there are\", len(myname), \"letters in total.\")\n",
    "print(f\"The first letter of my name is {myname[0]} and there are {len(myname)} letters in total.\")\n",
    "print(\"The first letter of my name is \" + myname[0] + \" and there are \" + str(len(myname)) + \" letters in total.\")\n",
    "print(\"The first letter of my name is %s and there are %i letters in total.\" %(myname[0], len(myname))) # Good"
   ]
  },
  {
   "cell_type": "markdown",
   "metadata": {},
   "source": [
    "Some examples with lists"
   ]
  },
  {
   "cell_type": "code",
   "execution_count": null,
   "metadata": {},
   "outputs": [],
   "source": [
    "mylist = [\"one\", \"two\", \"three\"]\n",
    "mylist"
   ]
  },
  {
   "cell_type": "code",
   "execution_count": null,
   "metadata": {},
   "outputs": [],
   "source": [
    "print(\"mylist[1] =\", mylist[1])\n",
    "print(\"mylist[2] =\", mylist[2])\n",
    "print(\"mylist[0] =\", mylist[0])\n",
    "print(\"mylist[-1] =\", mylist[-1])\n",
    "print(\"type(mylist[0]) =\", type(mylist[0]))"
   ]
  },
  {
   "cell_type": "code",
   "execution_count": null,
   "metadata": {},
   "outputs": [],
   "source": [
    "print(\"mylist[0:2] =\", mylist[0:2])\n",
    "print(\"mylist[:2] =\", mylist[:2])\n",
    "print(\"mylist[1:2] =\", mylist[1:2])\n",
    "print(\"type(mylist[1:2]) =\", type(mylist[1:2]))\n"
   ]
  },
  {
   "cell_type": "markdown",
   "metadata": {},
   "source": [
    "Unlike strings, lists are mutable and there are many different methods available for lists as well:"
   ]
  },
  {
   "cell_type": "code",
   "execution_count": 1,
   "metadata": {},
   "outputs": [
    {
     "ename": "NameError",
     "evalue": "name 'mylist' is not defined",
     "output_type": "error",
     "traceback": [
      "\u001b[1;31m---------------------------------------------------------------------------\u001b[0m",
      "\u001b[1;31mNameError\u001b[0m                                 Traceback (most recent call last)",
      "\u001b[1;32m<ipython-input-1-0ec1660ebe8f>\u001b[0m in \u001b[0;36m<module>\u001b[1;34m\u001b[0m\n\u001b[1;32m----> 1\u001b[1;33m \u001b[0mmylist\u001b[0m\u001b[1;33m[\u001b[0m\u001b[1;36m1\u001b[0m\u001b[1;33m]\u001b[0m \u001b[1;33m=\u001b[0m \u001b[1;36m2\u001b[0m\u001b[1;33m\u001b[0m\u001b[1;33m\u001b[0m\u001b[0m\n\u001b[0m\u001b[0;32m      2\u001b[0m \u001b[0mmylist\u001b[0m\u001b[1;33m.\u001b[0m\u001b[0mappend\u001b[0m\u001b[1;33m(\u001b[0m\u001b[1;34m'four'\u001b[0m\u001b[1;33m)\u001b[0m\u001b[1;33m\u001b[0m\u001b[1;33m\u001b[0m\u001b[0m\n\u001b[0;32m      3\u001b[0m \u001b[0mmylist\u001b[0m\u001b[1;33m.\u001b[0m\u001b[0minsert\u001b[0m\u001b[1;33m(\u001b[0m\u001b[1;36m0\u001b[0m\u001b[1;33m,\u001b[0m \u001b[1;34m'half'\u001b[0m\u001b[1;33m)\u001b[0m\u001b[1;33m\u001b[0m\u001b[1;33m\u001b[0m\u001b[0m\n\u001b[0;32m      4\u001b[0m \u001b[0mmylist\u001b[0m\u001b[1;33m\u001b[0m\u001b[1;33m\u001b[0m\u001b[0m\n",
      "\u001b[1;31mNameError\u001b[0m: name 'mylist' is not defined"
     ]
    }
   ],
   "source": [
    "mylist[1] = 2\n",
    "mylist.append('four')\n",
    "mylist.insert(0, 'half')\n",
    "mylist"
   ]
  },
  {
   "cell_type": "code",
   "execution_count": null,
   "metadata": {},
   "outputs": [],
   "source": [
    "'three' in mylist"
   ]
  },
  {
   "cell_type": "markdown",
   "metadata": {},
   "source": [
    "Functions descriptions could be specified using a one-line docstring: "
   ]
  },
  {
   "cell_type": "code",
   "execution_count": null,
   "metadata": {},
   "outputs": [],
   "source": [
    "def SeeRange(n):\n",
    "    \"\"\"Returns a sequence of numbers in range(n)\"\"\"\n",
    "    v = []\n",
    "    for i in range(n):\n",
    "        v.append(i)\n",
    "    \n",
    "    return v"
   ]
  },
  {
   "cell_type": "code",
   "execution_count": null,
   "metadata": {},
   "outputs": [],
   "source": [
    "SeeRange(5)"
   ]
  },
  {
   "cell_type": "markdown",
   "metadata": {},
   "source": [
    "With more complex functions it is advisable to write more elaborate multi-line docstring with summary, description of arguments, returns and exeptions. A docstring should give enough information to be able to run the function without reading the function's code. There are different conventions out there, but a beginner friendly one is Google docstring ([Google Python Style Guide](https://google.github.io/styleguide/pyguide.html#383-functions-and-methods) & [more examples](https://sphinxcontrib-napoleon.readthedocs.io/en/latest/example_google.html)), that we extend here by including the type of arguments in description. For instance, a multi-line docstring for the funtion above might look as follows:"
   ]
  },
  {
   "cell_type": "code",
   "execution_count": null,
   "metadata": {},
   "outputs": [],
   "source": [
    "def SeeRange(n):\n",
    "    \"\"\"Returns a sequence of numbers in range function\n",
    "    \n",
    "    Args:\n",
    "        n (int): the end of a range\n",
    "        \n",
    "    Returns:\n",
    "        v (list): numbers in range(n)\n",
    "    \"\"\"\n",
    "    v = []\n",
    "    for i in range(n):\n",
    "        v.append(i)\n",
    "    \n",
    "    return v"
   ]
  },
  {
   "cell_type": "markdown",
   "metadata": {},
   "source": [
    "## Exercises"
   ]
  },
  {
   "cell_type": "markdown",
   "metadata": {},
   "source": [
    "Below are some exercises for you to practice. \n",
    "Make sure that any function you write has a docstring, and comments where appropriate.\n",
    "Feel free to ask me any questions you have about the exercises and coding in general."
   ]
  },
  {
   "cell_type": "markdown",
   "metadata": {},
   "source": [
    "**Exercise 1.** Make a function `greeter` that accepts a string `name` and prints out 'Good morning, .....!', using string interpolation to replace ..... with the value of `name`:"
   ]
  },
  {
   "cell_type": "code",
   "execution_count": null,
   "metadata": {},
   "outputs": [],
   "source": []
  },
  {
   "cell_type": "code",
   "execution_count": null,
   "metadata": {
    "scrolled": true
   },
   "outputs": [],
   "source": [
    "greeter(\"Simon\")"
   ]
  },
  {
   "cell_type": "markdown",
   "metadata": {},
   "source": [
    "**Exercise 2.** Make a function `greeter2` which *returns* the greeting, rather than printing it:"
   ]
  },
  {
   "cell_type": "code",
   "execution_count": null,
   "metadata": {},
   "outputs": [],
   "source": []
  },
  {
   "cell_type": "code",
   "execution_count": null,
   "metadata": {},
   "outputs": [],
   "source": [
    "a = greeter2(\"Simon\") #Nothing is printed."
   ]
  },
  {
   "cell_type": "code",
   "execution_count": null,
   "metadata": {},
   "outputs": [],
   "source": [
    "print(a)"
   ]
  },
  {
   "cell_type": "markdown",
   "metadata": {},
   "source": [
    "**Exercise 3.** Make a function `iseven` that accepts an integer and returns `True` for even numbers and `False` otherwise:"
   ]
  },
  {
   "cell_type": "code",
   "execution_count": null,
   "metadata": {},
   "outputs": [],
   "source": []
  },
  {
   "cell_type": "code",
   "execution_count": null,
   "metadata": {},
   "outputs": [],
   "source": [
    "iseven(6)"
   ]
  },
  {
   "cell_type": "markdown",
   "metadata": {},
   "source": [
    "**Exercise 4.** Without using the built-in function `sum`, write a function `mysum(mylist)` that returns the sum of the elements in a list:"
   ]
  },
  {
   "cell_type": "code",
   "execution_count": null,
   "metadata": {},
   "outputs": [],
   "source": []
  },
  {
   "cell_type": "code",
   "execution_count": null,
   "metadata": {
    "scrolled": true
   },
   "outputs": [],
   "source": [
    "mysum([1, 2, 3, 4, 5])"
   ]
  },
  {
   "cell_type": "markdown",
   "metadata": {},
   "source": [
    "**Exercise 5** Make a function `sumeven(mylist)` that returns the sum of the even numbers in a list of integers. You can use your function `iseven` from above:"
   ]
  },
  {
   "cell_type": "code",
   "execution_count": null,
   "metadata": {},
   "outputs": [],
   "source": []
  },
  {
   "cell_type": "code",
   "execution_count": null,
   "metadata": {},
   "outputs": [],
   "source": [
    "sumeven([1, 2, 3, 4, 5])"
   ]
  },
  {
   "cell_type": "markdown",
   "metadata": {},
   "source": [
    "**Exercise 6.** Write a function `mymax(mylist)` that returns the largest number from a list of integers, without using the built-in function `max`:"
   ]
  },
  {
   "cell_type": "code",
   "execution_count": null,
   "metadata": {},
   "outputs": [],
   "source": []
  },
  {
   "cell_type": "code",
   "execution_count": null,
   "metadata": {},
   "outputs": [],
   "source": [
    "mymax([5, 3, 4])"
   ]
  },
  {
   "cell_type": "markdown",
   "metadata": {},
   "source": [
    "**Exercise 7.** Make a function that accepts an integer `n` and returns a list containing the first n terms of the [Fibonacci sequence](https://en.wikipedia.org/wiki/Fibonacci_number) (starting at zero). I.e., if the user enters `4`, it should return `[0, 1, 1, 2]`; if `n`=0, then an empty list should be returned:"
   ]
  },
  {
   "cell_type": "code",
   "execution_count": 8,
   "metadata": {},
   "outputs": [],
   "source": [
    "# def fib(num):\n",
    "#     start_num = 0\n",
    "#     check_point = 1\n",
    "#     tnd_num = 1\n",
    "#     while True:\n",
    "#         check_point += 1\n",
    "#         if check_point == num: break \n",
    "#         new_num += start_num + tnd_num\n",
    "\n",
    "# def fib(num):\n",
    "#     if num == 0:\n",
    "#         return 0\n",
    "#     elif num == 1:\n",
    "#         return 1\n",
    "\n",
    "#     return fib(num+1) + fib(num)\n",
    "\n",
    "# def fib(num):\n",
    "#     if num == 0:\n",
    "#         return [0]\n",
    "#     elif num == 1:\n",
    "#         return [0, 1]\n",
    "\n",
    "#     start_lst = [0, 1]\n",
    "#     idx = 0\n",
    "#     while idx < num :\n",
    "#         idx += 1\n",
    "#         start_lst.append(sum(start_lst))\n",
    "        \n",
    "def fib(num):\n",
    "    \n",
    "    if num == 0:\n",
    "        return [0]\n",
    "    elif num ==1:\n",
    "        return [1]\n",
    "    \n",
    "    a,b = 0,1\n",
    "    lst = [0,1]\n",
    "    while num > 2:\n",
    "        num -= 1\n",
    "        c = a + b\n",
    "        lst.append(c)\n",
    "        a,b = b,c\n",
    "    return lst\n",
    "\n",
    "        "
   ]
  },
  {
   "cell_type": "code",
   "execution_count": 11,
   "metadata": {},
   "outputs": [
    {
     "data": {
      "text/plain": [
       "[0, 1, 1, 2, 3, 5]"
      ]
     },
     "execution_count": 11,
     "metadata": {},
     "output_type": "execute_result"
    }
   ],
   "source": [
    "fib(6)"
   ]
  },
  {
   "cell_type": "code",
   "execution_count": 14,
   "metadata": {},
   "outputs": [
    {
     "data": {
      "text/plain": [
       "5"
      ]
     },
     "execution_count": 14,
     "metadata": {},
     "output_type": "execute_result"
    }
   ],
   "source": [
    "2^7"
   ]
  },
  {
   "cell_type": "markdown",
   "metadata": {},
   "source": [
    "**Exercise 8.** Without using the built-in function `sum`, make a function `meanvar(x)` that returns the sample mean $\\bar x\\equiv n^{-1}\\sum_{i=1}^n x_i$ and variance  $s^2\\equiv-\\bar x^2 +n^{-1}\\sum_{i=1}^n x_i^2$ of the elements in `x`, using a single `for` loop:"
   ]
  },
  {
   "cell_type": "code",
   "execution_count": 4,
   "metadata": {},
   "outputs": [],
   "source": [
    "def meanvar(lst):\n",
    "    su, x_2 = 0, 0\n",
    "    for i in lst:\n",
    "        su += i\n",
    "        x_2 += i**2\n",
    "    return su/len(lst),-(su/len(lst))**2 + x_2/len(lst)  "
   ]
  },
  {
   "cell_type": "code",
   "execution_count": 5,
   "metadata": {},
   "outputs": [
    {
     "data": {
      "text/plain": [
       "(3.0, 2.0)"
      ]
     },
     "execution_count": 5,
     "metadata": {},
     "output_type": "execute_result"
    }
   ],
   "source": [
    "meanvar([1, 2, 3, 4, 5])"
   ]
  },
  {
   "cell_type": "markdown",
   "metadata": {},
   "source": [
    "**Exercise 9.** Make a function `ncdf(x)` that computes the distribution function of the standard normal distribution, which is defined as $$\\Phi(x)\\equiv \\frac{1}{\\sqrt{2\\pi}}\\int_{-\\infty}^x e^{-y^2/2}\\mathrm{d}y.$$ You can exploit the fact that \n",
    "$$\\Phi(x)=\\frac{1+\\mathrm{erf}\\big(x\\big/\\surd 2\\big)}{2},$$ where $\\mathrm{erf}$ is the error function which, like the square root (`sqrt`), is available in the `math` module:"
   ]
  },
  {
   "cell_type": "code",
   "execution_count": 6,
   "metadata": {},
   "outputs": [],
   "source": [
    "import math\n",
    "\n",
    "def ncdf(x):\n",
    "    return (1+ math.sqrt(x/(0.5)**(1/2)))\n",
    "    # return (1/((2*math.pi)**(0.5)))*math.exp(-x**2/2)"
   ]
  },
  {
   "cell_type": "code",
   "execution_count": 7,
   "metadata": {},
   "outputs": [
    {
     "ename": "ValueError",
     "evalue": "math domain error",
     "output_type": "error",
     "traceback": [
      "\u001b[1;31m---------------------------------------------------------------------------\u001b[0m",
      "\u001b[1;31mValueError\u001b[0m                                Traceback (most recent call last)",
      "\u001b[1;32m<ipython-input-7-f478becad780>\u001b[0m in \u001b[0;36m<module>\u001b[1;34m\u001b[0m\n\u001b[1;32m----> 1\u001b[1;33m \u001b[0mncdf\u001b[0m\u001b[1;33m(\u001b[0m\u001b[1;33m-\u001b[0m\u001b[1;36m1.64\u001b[0m\u001b[1;33m)\u001b[0m\u001b[1;33m\u001b[0m\u001b[1;33m\u001b[0m\u001b[0m\n\u001b[0m",
      "\u001b[1;32m<ipython-input-6-6bd009c3fe57>\u001b[0m in \u001b[0;36mncdf\u001b[1;34m(x)\u001b[0m\n\u001b[0;32m      2\u001b[0m \u001b[1;33m\u001b[0m\u001b[0m\n\u001b[0;32m      3\u001b[0m \u001b[1;32mdef\u001b[0m \u001b[0mncdf\u001b[0m\u001b[1;33m(\u001b[0m\u001b[0mx\u001b[0m\u001b[1;33m)\u001b[0m\u001b[1;33m:\u001b[0m\u001b[1;33m\u001b[0m\u001b[1;33m\u001b[0m\u001b[0m\n\u001b[1;32m----> 4\u001b[1;33m     \u001b[1;32mreturn\u001b[0m \u001b[1;33m(\u001b[0m\u001b[1;36m1\u001b[0m\u001b[1;33m+\u001b[0m \u001b[0mmath\u001b[0m\u001b[1;33m.\u001b[0m\u001b[0msqrt\u001b[0m\u001b[1;33m(\u001b[0m\u001b[0mx\u001b[0m\u001b[1;33m/\u001b[0m\u001b[1;33m(\u001b[0m\u001b[1;36m0.5\u001b[0m\u001b[1;33m)\u001b[0m\u001b[1;33m**\u001b[0m\u001b[1;33m(\u001b[0m\u001b[1;36m1\u001b[0m\u001b[1;33m/\u001b[0m\u001b[1;36m2\u001b[0m\u001b[1;33m)\u001b[0m\u001b[1;33m)\u001b[0m\u001b[1;33m)\u001b[0m\u001b[1;33m\u001b[0m\u001b[1;33m\u001b[0m\u001b[0m\n\u001b[0m\u001b[0;32m      5\u001b[0m     \u001b[1;31m# return (1/((2*math.pi)**(0.5)))*math.exp(-x**2/2)\u001b[0m\u001b[1;33m\u001b[0m\u001b[1;33m\u001b[0m\u001b[1;33m\u001b[0m\u001b[0m\n",
      "\u001b[1;31mValueError\u001b[0m: math domain error"
     ]
    }
   ],
   "source": [
    "ncdf(-1.64)"
   ]
  },
  {
   "cell_type": "code",
   "execution_count": null,
   "metadata": {},
   "outputs": [],
   "source": []
  },
  {
   "cell_type": "code",
   "execution_count": null,
   "metadata": {},
   "outputs": [],
   "source": []
  }
 ],
 "metadata": {
  "interpreter": {
   "hash": "b3ba2566441a7c06988d0923437866b63cedc61552a5af99d1f4fb67d367b25f"
  },
  "kernelspec": {
   "display_name": "Python 3.8.8 64-bit ('base': conda)",
   "name": "python3"
  },
  "language_info": {
   "codemirror_mode": {
    "name": "ipython",
    "version": 3
   },
   "file_extension": ".py",
   "mimetype": "text/x-python",
   "name": "python",
   "nbconvert_exporter": "python",
   "pygments_lexer": "ipython3",
   "version": "3.8.8"
  }
 },
 "nbformat": 4,
 "nbformat_minor": 2
}

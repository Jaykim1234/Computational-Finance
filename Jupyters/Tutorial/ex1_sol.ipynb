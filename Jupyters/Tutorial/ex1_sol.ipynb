{
 "cells": [
  {
   "cell_type": "markdown",
   "metadata": {},
   "source": [
    "# Exercises of Week 1\n",
    "*These exercises will not be graded. Their purpose is to get you started with Python programming. Solutions will be made available, but it is strongly advised that you try on your own first. The only way to get better is through practice. For additonal exercises, see [Canvas](https://canvas.uva.nl/courses/25150/pages/resources-for-learning-python).*\n",
    "\n"
   ]
  },
  {
   "cell_type": "markdown",
   "metadata": {},
   "source": [
    "Make sure that any function you write has a docstring, and comments where appropriate.\n",
    "Feel free to ask me any questions you have about the exercises and coding in general."
   ]
  },
  {
   "cell_type": "markdown",
   "metadata": {},
   "source": [
    "**Exercise 1.** Make a function `greeter` that accepts a string `name` and prints out 'Good morning, .....!', using string interpolation to replace ..... with the value of `name`:"
   ]
  },
  {
   "cell_type": "code",
   "execution_count": null,
   "metadata": {},
   "outputs": [],
   "source": [
    "def greeter(name):\n",
    "    \"\"\"Prints the string \"Good morning <name>!\".\"\"\"\n",
    "    greeting = \"Good morning, \" + name + \"!\"\n",
    "    print(greeting)"
   ]
  },
  {
   "cell_type": "code",
   "execution_count": null,
   "metadata": {
    "scrolled": true
   },
   "outputs": [],
   "source": [
    "greeter(\"Evgenii\")"
   ]
  },
  {
   "cell_type": "markdown",
   "metadata": {},
   "source": [
    "Note that the function does not return anything, it just prints out the output"
   ]
  },
  {
   "cell_type": "code",
   "execution_count": 4,
   "metadata": {},
   "outputs": [
    {
     "name": "stdout",
     "output_type": "stream",
     "text": [
      "Good morning, Evgenii!\n"
     ]
    },
    {
     "data": {
      "text/plain": [
       "NoneType"
      ]
     },
     "execution_count": 4,
     "metadata": {},
     "output_type": "execute_result"
    }
   ],
   "source": [
    "b = greeter(\"Evgenii\")\n",
    "type(b)"
   ]
  },
  {
   "cell_type": "markdown",
   "metadata": {},
   "source": [
    "Alternatives to define `greeting`:\n",
    "* `greeting = \"Good morning, \"+ name+ \"!\"`\n",
    "* `greeting = f'Good morning, {name}!'`\n",
    "* `greeting = 'Good morning, %s!'%(name)`\n",
    "* ```\n",
    "  greeting = 'Good morning, name!\n",
    "  greeting = greeting.replace('name',name)\n",
    "  ```\n",
    "  \n",
    "  This replaces the string `'name'` by the variable `name`, which holds the string of the name you want to print; note that you need to bind `greeting.replace(x,y)` to `greeting`, otherwise it is not replaced in your output."
   ]
  },
  {
   "cell_type": "markdown",
   "metadata": {},
   "source": [
    "The variable `greeting` does not need to be defined. Instead, we can print it immediately, see the following example"
   ]
  },
  {
   "cell_type": "code",
   "execution_count": 38,
   "metadata": {},
   "outputs": [],
   "source": [
    "def greeter(name):\n",
    "    \"\"\"Prints the string \"Good morning <name>!\".\"\"\"\n",
    "    print(\"Good morning, \" + name + \"!\")"
   ]
  },
  {
   "cell_type": "code",
   "execution_count": 39,
   "metadata": {},
   "outputs": [
    {
     "name": "stdout",
     "output_type": "stream",
     "text": [
      "Good morning, Evgenii!\n"
     ]
    }
   ],
   "source": [
    "greeter(\"Evgenii\")"
   ]
  },
  {
   "cell_type": "markdown",
   "metadata": {},
   "source": [
    "**Exercise 2.** Make a function `greeter2` which *returns* the greeting, rather than printing it:"
   ]
  },
  {
   "cell_type": "code",
   "execution_count": 5,
   "metadata": {},
   "outputs": [],
   "source": [
    "def greeter2(name):\n",
    "    \"\"\"Returns (does not print) the string \"Good morning <name>!\".\"\"\"\n",
    "    \n",
    "    greeting = \"Good morning, \"+ name + \"!\"  #Greeting string\n",
    "    return greeting  #Return greeting string"
   ]
  },
  {
   "cell_type": "code",
   "execution_count": 6,
   "metadata": {},
   "outputs": [],
   "source": [
    "a = greeter2(\"Simon\")"
   ]
  },
  {
   "cell_type": "code",
   "execution_count": 7,
   "metadata": {},
   "outputs": [
    {
     "data": {
      "text/plain": [
       "str"
      ]
     },
     "execution_count": 7,
     "metadata": {},
     "output_type": "execute_result"
    }
   ],
   "source": [
    "type(a)"
   ]
  },
  {
   "cell_type": "markdown",
   "metadata": {},
   "source": [
    "**Exercise 3.** Make a function `iseven` that accepts an integer and returns `True` for even numbers and `False` otherwise:"
   ]
  },
  {
   "cell_type": "code",
   "execution_count": 10,
   "metadata": {},
   "outputs": [],
   "source": [
    "def iseven(nr):\n",
    "    \"\"\" Checks if nr is even or not\"\"\"\n",
    "    if nr % 2==0: #Modulo: zero if nr is even\n",
    "        even = True\n",
    "    else:  # NOT even otherwise\n",
    "        even = False\n",
    "        \n",
    "    return even "
   ]
  },
  {
   "cell_type": "code",
   "execution_count": 14,
   "metadata": {},
   "outputs": [],
   "source": [
    "#Shorter example in Hilpisch (2014):\n",
    "def iseven(nr):\n",
    "    \"\"\"Checks if `nr` is even or not; returns a boolean.\"\"\"\n",
    "    return nr % 2 == 0  #Modulo: zero if nr is even"
   ]
  },
  {
   "cell_type": "code",
   "execution_count": 11,
   "metadata": {},
   "outputs": [
    {
     "data": {
      "text/plain": [
       "True"
      ]
     },
     "execution_count": 11,
     "metadata": {},
     "output_type": "execute_result"
    }
   ],
   "source": [
    "iseven(6.0)"
   ]
  },
  {
   "cell_type": "markdown",
   "metadata": {},
   "source": [
    "Alternatives to check whether an integer is even (these are `True` if `nr` is an even number):\n",
    "* `nr % 2 == 0`\n",
    "* `nr // 2 == nr / 2`\n",
    "* `nr / 2 == math.floor(nr / 2)`"
   ]
  },
  {
   "cell_type": "markdown",
   "metadata": {},
   "source": [
    "**Exercise 4.** Without using the built-in function `sum`, write a function `mysum(mylist)` that returns the sum of the elements in a list:"
   ]
  },
  {
   "cell_type": "code",
   "execution_count": 12,
   "metadata": {},
   "outputs": [],
   "source": [
    "# Alternative 1\n",
    "def mysum(mylist):\n",
    "    \"\"\" Returns the sum of elements of mylist\"\"\"\n",
    "    \n",
    "    n = len(mylist) #Number of elements in mylist\n",
    "    s = 0 #Initialize s\n",
    "    for i in range(n): #Loop over index for all elements in mylist: 0 to n-1\n",
    "        s += mylist[i] #Add element i to partial sum s\n",
    "        \n",
    "    return s"
   ]
  },
  {
   "cell_type": "code",
   "execution_count": 13,
   "metadata": {},
   "outputs": [],
   "source": [
    "# Alternative 2\n",
    "def mysum2(mylist):\n",
    "    \"\"\" Returns the sum of elements of mylist\"\"\"\n",
    "    \n",
    "    s = 0 #Initialize s\n",
    "    for val in mylist: #Loop over elements in mylist\n",
    "        s += val #Add element i to partial sum s\n",
    "        \n",
    "    return s"
   ]
  },
  {
   "cell_type": "code",
   "execution_count": 23,
   "metadata": {},
   "outputs": [],
   "source": [
    "# Alternative 3\n",
    "def mysum3(mylist):\n",
    "    \"\"\" Returns the sum of elements of mylist\"\"\"\n",
    "    \n",
    "    s = 0 #Initialize s\n",
    "    for i,val in enumerate(mylist): #Enumerate elements in mylist\n",
    "        s += val #Add element i to partial sum s\n",
    "        \n",
    "    return s"
   ]
  },
  {
   "cell_type": "code",
   "execution_count": 14,
   "metadata": {},
   "outputs": [
    {
     "data": {
      "text/plain": [
       "15"
      ]
     },
     "execution_count": 14,
     "metadata": {},
     "output_type": "execute_result"
    }
   ],
   "source": [
    "mysum([1, 2, 3, 4, 5])"
   ]
  },
  {
   "cell_type": "markdown",
   "metadata": {},
   "source": [
    "**Exercise 5** Make a function `sumeven(mylist)` that returns the sum of the even numbers in a list of integers. You can use your function `iseven` from above:"
   ]
  },
  {
   "cell_type": "code",
   "execution_count": 15,
   "metadata": {},
   "outputs": [],
   "source": [
    "# Alternative 1\n",
    "def sumeven(mylist):\n",
    "    \"\"\" Returns the sum of even numbers in mylist\"\"\"\n",
    "    s = 0\n",
    "    for i in range(len(mylist)):\n",
    "        if iseven(mylist[i]):  #Check if element i is even\n",
    "            s += mylist[i]  #Add element i to partial sum s\n",
    "        \n",
    "    return s"
   ]
  },
  {
   "cell_type": "code",
   "execution_count": 16,
   "metadata": {},
   "outputs": [],
   "source": [
    "# Alternative 2\n",
    "def sumeven2(mylist):\n",
    "    \"\"\" Returns the sum of even numbers in mylist\"\"\"\n",
    "    s = 0\n",
    "    for nr in mylist:\n",
    "        if iseven(nr):  #Check if this element is even\n",
    "            s += nr  #Add element to partial sum s\n",
    "        \n",
    "    return s"
   ]
  },
  {
   "cell_type": "code",
   "execution_count": 17,
   "metadata": {},
   "outputs": [],
   "source": [
    "# Alternative 3\n",
    "def sumeven3(mylist):\n",
    "    \"\"\" Returns the sum of even numbers in mylist\"\"\"\n",
    "    s = 0\n",
    "    for nr in mylist:\n",
    "        s += nr*iseven(nr)  #Add element to partial sum s\n",
    "        \n",
    "    return s"
   ]
  },
  {
   "cell_type": "code",
   "execution_count": 19,
   "metadata": {},
   "outputs": [
    {
     "data": {
      "text/plain": [
       "6"
      ]
     },
     "execution_count": 19,
     "metadata": {},
     "output_type": "execute_result"
    }
   ],
   "source": [
    "sumeven3([1, 2, 3, 4, 5])"
   ]
  },
  {
   "cell_type": "markdown",
   "metadata": {},
   "source": [
    "**Exercise 6.** Write a function `mymax(mylist)` that returns the largest number from a list of integers, without using the built-in function `max`:"
   ]
  },
  {
   "cell_type": "code",
   "execution_count": 20,
   "metadata": {},
   "outputs": [],
   "source": [
    "# Alternative 1\n",
    "def mymax(mylist):\n",
    "    \"\"\"Finds the maximum of the elements in `mylist'.\"\"\"\n",
    "    \n",
    "    sorted_list = sorted(mylist) #Sort from smallest to largest\n",
    "    return sorted_list[-1] #Return last (i.e. largest) value"
   ]
  },
  {
   "cell_type": "code",
   "execution_count": 21,
   "metadata": {},
   "outputs": [],
   "source": [
    "# Alternative 2\n",
    "def mymax(mylist):\n",
    "    \"\"\"Finds the maximum of the elements in `mylist'.\"\"\"\n",
    "    n = len(mylist)\n",
    "    m = float('-inf') #Initialize the maximum m\n",
    "    for i in range(n): #Loop over index for all elements in mylist: 0 to n-1\n",
    "        if mylist[i] > m: #Check if the i-th element is larger than the current largest value m\n",
    "            m = mylist[i] #The i-th element is currently the highest value\n",
    "    return m"
   ]
  },
  {
   "cell_type": "code",
   "execution_count": 22,
   "metadata": {},
   "outputs": [
    {
     "data": {
      "text/plain": [
       "5"
      ]
     },
     "execution_count": 22,
     "metadata": {},
     "output_type": "execute_result"
    }
   ],
   "source": [
    "mymax([5, 3, 4])"
   ]
  },
  {
   "cell_type": "markdown",
   "metadata": {},
   "source": [
    "**Exercise 7.** Make a function that accepts an integer `n` and returns a list containing the first n terms of the [Fibonacci sequence](https://en.wikipedia.org/wiki/Fibonacci_number) (starting at zero). I.e., if the user enters `4`, it should return `[0, 1, 1, 2]`; if `n`=0, then an empty list should be returned:"
   ]
  },
  {
   "cell_type": "code",
   "execution_count": 23,
   "metadata": {},
   "outputs": [],
   "source": [
    "def fib(n):\n",
    "    \"\"\"Returns the first n elements of the Fibonacci sequence.\"\"\"\n",
    "    if n == 0:\n",
    "        seq = []  #Return an empty list if n == 0\n",
    "    elif n == 1:\n",
    "        seq = [0] #The first elements of the Fibonacci sequence\n",
    "    else:\n",
    "        seq = [0, 1] #First two elements of Fibonacci sequence\n",
    "        for i in range(2,n): #Loop over values 2 to n-1\n",
    "            seq.append(seq[i-2] + seq[i-1]) #Add an extra element of the Fibonacci sequence\n",
    "            \n",
    "    return seq"
   ]
  },
  {
   "cell_type": "code",
   "execution_count": 26,
   "metadata": {},
   "outputs": [
    {
     "data": {
      "text/plain": [
       "[0, 1, 1, 2]"
      ]
     },
     "execution_count": 26,
     "metadata": {},
     "output_type": "execute_result"
    }
   ],
   "source": [
    "fib(4)"
   ]
  },
  {
   "cell_type": "markdown",
   "metadata": {},
   "source": [
    "Does your function return the correct list for `feb(4)`? Good! Is you function robust to ambiguous inputs? Try, for instance, `feb(-4)`. In the code above, it does not throw an error, but it also gives incorrect answer."
   ]
  },
  {
   "cell_type": "code",
   "execution_count": 29,
   "metadata": {},
   "outputs": [],
   "source": [
    "# Slightly more robust alternative\n",
    "def fib(n):\n",
    "    \"\"\"Returns the first n elements of the Fibonacci sequence.\"\"\"\n",
    "    seq = [] # Initialize sequence\n",
    "    if n > 0: # Proceed only with positive values\n",
    "        if n == 1:\n",
    "            seq = [0] #The first elements of the Fibonacci sequence\n",
    "        else:\n",
    "            seq = [0,1]\n",
    "            for i in range(2,n):\n",
    "                seq.append(seq[i-2] + seq[i-1])\n",
    "    return seq"
   ]
  },
  {
   "cell_type": "code",
   "execution_count": 30,
   "metadata": {},
   "outputs": [
    {
     "data": {
      "text/plain": [
       "[0, 1, 1, 2, 3, 5, 8, 13, 21, 34]"
      ]
     },
     "execution_count": 30,
     "metadata": {},
     "output_type": "execute_result"
    }
   ],
   "source": [
    "fib(10)"
   ]
  },
  {
   "cell_type": "markdown",
   "metadata": {},
   "source": [
    "**Exercise 8.** Without using the built-in function `sum`, make a function `meanvar(x)` that returns the sample mean $\\bar x\\equiv n^{-1}\\sum_{i=1}^n x_i$ and variance  $s^2\\equiv-\\bar x^2 +n^{-1}\\sum_{i=1}^n x_i^2$ of the elements in `x`, using a single `for` loop:"
   ]
  },
  {
   "cell_type": "code",
   "execution_count": 31,
   "metadata": {},
   "outputs": [],
   "source": [
    "def meanvar(x):\n",
    "    \"\"\"Calculates and returns the mean and variance of x.\"\"\"\n",
    "    n = len(x)\n",
    "    m = 0  #Initialize mean m\n",
    "    s2 = 0 #Initialize variance s2\n",
    "    for i in range(n):\n",
    "        m += x[i] #Sum elements\n",
    "        s2 += x[i]**2 #Sum of squares\n",
    "        \n",
    "    m = m/n  #Get a sample mean\n",
    "    s2 = s2/n - m**2 #Deduct squared mean from average of sum of squares\n",
    "    \n",
    "    return m, s2"
   ]
  },
  {
   "cell_type": "code",
   "execution_count": 32,
   "metadata": {},
   "outputs": [
    {
     "data": {
      "text/plain": [
       "(3.0, 2.0)"
      ]
     },
     "execution_count": 32,
     "metadata": {},
     "output_type": "execute_result"
    }
   ],
   "source": [
    "meanvar([1, 2, 3, 4, 5])"
   ]
  },
  {
   "cell_type": "markdown",
   "metadata": {},
   "source": [
    "**Exercise 9.** Make a function `ncdf(x)` that computes the distribution function of the standard normal distribution, which is defined as $$\\Phi(x)\\equiv \\frac{1}{\\sqrt{2\\pi}}\\int_{-\\infty}^x e^{-y^2/2}\\mathrm{d}y.$$ You can exploit the fact that \n",
    "$$\\Phi(x)=\\frac{1+\\mathrm{erf}\\big(x\\big/\\surd 2\\big)}{2},$$ where $\\mathrm{erf}$ is the error function which, like the square root (`sqrt`), is available in the `math` module:"
   ]
  },
  {
   "cell_type": "code",
   "execution_count": 33,
   "metadata": {},
   "outputs": [],
   "source": [
    "import math  #Import math module\n",
    "\n",
    "def ncdf(x):\n",
    "    \"\"\"Computes the probability P(X<=x) for x, where X follows a standard normal distribution.\"\"\"\n",
    "    y = (1 + math.erf(x/math.sqrt(2)))/2  #Phi(x)\n",
    "    return y  #Return P(X<=x)"
   ]
  },
  {
   "cell_type": "code",
   "execution_count": 34,
   "metadata": {
    "scrolled": true
   },
   "outputs": [
    {
     "data": {
      "text/plain": [
       "0.050502583474103746"
      ]
     },
     "execution_count": 34,
     "metadata": {},
     "output_type": "execute_result"
    }
   ],
   "source": [
    "ncdf(-1.64)"
   ]
  },
  {
   "cell_type": "code",
   "execution_count": null,
   "metadata": {},
   "outputs": [],
   "source": []
  }
 ],
 "metadata": {
  "kernelspec": {
   "display_name": "Python 3 (ipykernel)",
   "language": "python",
   "name": "python3"
  },
  "language_info": {
   "codemirror_mode": {
    "name": "ipython",
    "version": 3
   },
   "file_extension": ".py",
   "mimetype": "text/x-python",
   "name": "python",
   "nbconvert_exporter": "python",
   "pygments_lexer": "ipython3",
   "version": "3.8.8"
  }
 },
 "nbformat": 4,
 "nbformat_minor": 2
}

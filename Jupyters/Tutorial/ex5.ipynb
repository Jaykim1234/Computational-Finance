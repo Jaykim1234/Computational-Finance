{
 "cells": [
  {
   "cell_type": "markdown",
   "metadata": {},
   "source": [
    "# Exercises of Week 5\n",
    "*These exercises will not be graded. Solutions will be made available, but it is strongly advised that you try on your own first.*\n",
    "\n",
    "*Make sure that any function you write has a docstring, and comments where appropriate.*\n",
    "\n",
    "## Question 1\n",
    "The task is to implement a function `calltree_explicit(S0, K, T, r, sigma, N)` that computes the price of a European option based on the binomial distribution."
   ]
  },
  {
   "cell_type": "markdown",
   "metadata": {},
   "source": [
    "**1.1.** Import the relevant libraries:"
   ]
  },
  {
   "cell_type": "code",
   "execution_count": null,
   "metadata": {},
   "outputs": [],
   "source": []
  },
  {
   "cell_type": "markdown",
   "metadata": {},
   "source": [
    "**1.2.** Set the option parameters:"
   ]
  },
  {
   "cell_type": "code",
   "execution_count": null,
   "metadata": {},
   "outputs": [],
   "source": [
    "S0=11.; K=10.; T=3/12.; r=.02; sigma=.3; N=500;"
   ]
  },
  {
   "cell_type": "markdown",
   "metadata": {},
   "source": [
    "**1.3.** Define the function `calltree_explicit(S0, K, T, r, sigma, N)`. \n",
    "\n",
    "*Hints*:\n",
    "* The survivor function of the binomial distribution is available as `binom.sf` from `scipy.stats`.\n",
    "* Numpy has a `ceil` function that returns the smallest integer greater than a real number."
   ]
  },
  {
   "cell_type": "code",
   "execution_count": null,
   "metadata": {},
   "outputs": [],
   "source": []
  },
  {
   "cell_type": "markdown",
   "metadata": {},
   "source": [
    "**1.4.** Copy the function `calltree_numpy` from the slides for comparison:"
   ]
  },
  {
   "cell_type": "code",
   "execution_count": null,
   "metadata": {},
   "outputs": [],
   "source": []
  },
  {
   "cell_type": "markdown",
   "metadata": {},
   "source": [
    "**1.5.** Verify that both implementations give the same result:"
   ]
  },
  {
   "cell_type": "code",
   "execution_count": null,
   "metadata": {},
   "outputs": [],
   "source": []
  },
  {
   "cell_type": "markdown",
   "metadata": {},
   "source": [
    "**1.6.** Time both functions to see which is faster:"
   ]
  },
  {
   "cell_type": "code",
   "execution_count": null,
   "metadata": {},
   "outputs": [],
   "source": []
  },
  {
   "cell_type": "code",
   "execution_count": null,
   "metadata": {},
   "outputs": [],
   "source": []
  },
  {
   "cell_type": "markdown",
   "metadata": {},
   "source": [
    "## Question 2\n",
    "\n",
    "**2.1.** Write a function `puttree_american_numpy(S0, K, T, r, sigma, N)` that computes the price of an American put, by modifying `calltree_numpy(S0, K, T, r, sigma, N)`:"
   ]
  },
  {
   "cell_type": "code",
   "execution_count": null,
   "metadata": {},
   "outputs": [],
   "source": []
  },
  {
   "cell_type": "code",
   "execution_count": null,
   "metadata": {},
   "outputs": [],
   "source": [
    "puttree_american_numpy(S0, K, T, r, sigma, N)"
   ]
  },
  {
   "cell_type": "markdown",
   "metadata": {},
   "source": [
    "**2.2.** Make a function `impvol_puttree(S0, K, T, r, P_obs, N)` that computes the tree-implied volatility for an American put.\n",
    "\n",
    "*Hint*: The Theranchi bounds don't apply here. Use $L=0.1$ and $U=10$."
   ]
  },
  {
   "cell_type": "code",
   "execution_count": null,
   "metadata": {},
   "outputs": [],
   "source": []
  },
  {
   "cell_type": "code",
   "execution_count": null,
   "metadata": {},
   "outputs": [],
   "source": [
    "P_obs=0.3\n",
    "impvol_puttree(S0, K, T, r, P_obs, N)"
   ]
  }
 ],
 "metadata": {
  "kernelspec": {
   "display_name": "Python 3",
   "language": "python",
   "name": "python3"
  },
  "language_info": {
   "codemirror_mode": {
    "name": "ipython",
    "version": 3
   },
   "file_extension": ".py",
   "mimetype": "text/x-python",
   "name": "python",
   "nbconvert_exporter": "python",
   "pygments_lexer": "ipython3",
   "version": "3.6.5"
  }
 },
 "nbformat": 4,
 "nbformat_minor": 2
}

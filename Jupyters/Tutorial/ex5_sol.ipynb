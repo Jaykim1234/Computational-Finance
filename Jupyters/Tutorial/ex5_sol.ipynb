{
 "cells": [
  {
   "cell_type": "markdown",
   "metadata": {},
   "source": [
    "# Solutions to Exercises of Week 5\n",
    "*These exercises will not be graded. Solutions will be made available, but it is strongly advised that you try on your own first.*\n",
    "\n",
    "*Make sure that any function you write has a docstring, and comments where appropriate.*\n",
    "\n",
    "## Question 1\n",
    "The task is to implement a function `calltree_explicit(S0, K, T, r, sigma, N)` that computes the price of a European option based on the binomial distribution."
   ]
  },
  {
   "cell_type": "markdown",
   "metadata": {},
   "source": [
    "**1.1.** Import the relevant libraries:"
   ]
  },
  {
   "cell_type": "code",
   "execution_count": 1,
   "metadata": {},
   "outputs": [],
   "source": [
    "import numpy as np\n",
    "from scipy.stats import binom\n",
    "from scipy.optimize import brentq"
   ]
  },
  {
   "cell_type": "markdown",
   "metadata": {},
   "source": [
    "**1.2.** Set the option parameters:"
   ]
  },
  {
   "cell_type": "code",
   "execution_count": 2,
   "metadata": {},
   "outputs": [],
   "source": [
    "S0=11.; K=10.; T=3/12.; r=.02; sigma=.3; N=500;"
   ]
  },
  {
   "cell_type": "markdown",
   "metadata": {},
   "source": [
    "**1.3.** Define the function `calltree_explicit(S0, K, T, r, sigma, N)`. \n",
    "\n",
    "*Hints*:\n",
    "* The survivor function of the binomial distribution is available as `binom.sf` from `scipy.stats`.\n",
    "* Numpy has a `ceil` function that returns the smallest integer greater than a real number."
   ]
  },
  {
   "cell_type": "code",
   "execution_count": 3,
   "metadata": {},
   "outputs": [],
   "source": [
    "def calltree_explicit(S0, K, T, r, sigma, N):\n",
    "    \"\"\"European call price based on an N-step binomial tree.\"\"\"\n",
    "    deltaT = T/float(N)\n",
    "    u = np.exp(sigma * np.sqrt(deltaT))\n",
    "    d = 1/u\n",
    "    p = (np.exp(r*deltaT) - d)/(u-d)   \n",
    "    pstar = np.exp(-r*deltaT)*p*u\n",
    "    a = np.ceil(N/2+np.log(K/S0)/(2*np.log(u)))\n",
    "    return S0*binom.sf(a-1, N, pstar)-binom.sf(a-1, N, p)*np.exp(-r*T)*K"
   ]
  },
  {
   "cell_type": "markdown",
   "metadata": {},
   "source": [
    "**1.4.** Copy the function `calltree_numpy` from the slides for comparison:"
   ]
  },
  {
   "cell_type": "code",
   "execution_count": 4,
   "metadata": {},
   "outputs": [],
   "source": [
    "def calltree_numpy(S0, K, T, r, sigma, N):\n",
    "    \"\"\"European call price based on an N-step binomial tree.\"\"\"\n",
    "    deltaT = T/float(N)\n",
    "    u = np.exp(sigma * np.sqrt(deltaT))\n",
    "    d = 1/u\n",
    "    p = (np.exp(r*deltaT) - d)/(u-d)\n",
    "    piu = np.exp(-r*deltaT)*p\n",
    "    pid = np.exp(-r*deltaT)*(1-p)\n",
    "    C = np.zeros((N+1, N+1))\n",
    "    S = S0 * u**np.arange(N+1) * d**(2*np.arange(N+1)[:, np.newaxis])\n",
    "    S = np.triu(S)  #Keep only the upper triangular part.\n",
    "    C[:, N] = np.maximum(0, S[:, N]-K) #Note: np.maximum in place of max.\n",
    "    for j in range(N-1, -1, -1):\n",
    "        C[:j+1, j] = piu * C[:j+1, j+1] + pid * C[1:j+2, j+1]\n",
    "    return  C[0, 0]"
   ]
  },
  {
   "cell_type": "markdown",
   "metadata": {},
   "source": [
    "**1.5.** Verify that both implementations give the same result:"
   ]
  },
  {
   "cell_type": "code",
   "execution_count": 5,
   "metadata": {},
   "outputs": [
    {
     "data": {
      "text/plain": [
       "True"
      ]
     },
     "execution_count": 5,
     "metadata": {},
     "output_type": "execute_result"
    }
   ],
   "source": [
    "np.allclose(calltree_numpy(S0, K, T, r, sigma, N), calltree_explicit(S0, K, T, r, sigma, N))"
   ]
  },
  {
   "cell_type": "markdown",
   "metadata": {},
   "source": [
    "**1.6.** Time both functions to see which is faster:"
   ]
  },
  {
   "cell_type": "code",
   "execution_count": 6,
   "metadata": {},
   "outputs": [
    {
     "name": "stdout",
     "output_type": "stream",
     "text": [
      "12.2 ms ± 777 µs per loop (mean ± std. dev. of 7 runs, 100 loops each)\n"
     ]
    }
   ],
   "source": [
    "%timeit calltree_numpy(S0, K, T, r, sigma, N)"
   ]
  },
  {
   "cell_type": "code",
   "execution_count": 7,
   "metadata": {},
   "outputs": [
    {
     "name": "stdout",
     "output_type": "stream",
     "text": [
      "388 µs ± 64 µs per loop (mean ± std. dev. of 7 runs, 1000 loops each)\n"
     ]
    }
   ],
   "source": [
    "%timeit calltree_explicit(S0, K, T, r, sigma, N)"
   ]
  },
  {
   "cell_type": "markdown",
   "metadata": {},
   "source": [
    "## Question 2\n",
    "\n",
    "**2.1.** Write a function `puttree_american_numpy(S0, K, T, r, sigma, N)` that computes the price of an American put, by modifying `calltree_numpy(S0, K, T, r, sigma, N)`:"
   ]
  },
  {
   "cell_type": "code",
   "execution_count": 8,
   "metadata": {},
   "outputs": [],
   "source": [
    "def puttree_american_numpy(S0, K, T, r, sigma, N):\n",
    "    \"\"\"American put price based on an N-step binomial tree.\"\"\"\n",
    "    deltaT = T/float(N)\n",
    "    u = np.exp(sigma * np.sqrt(deltaT))\n",
    "    d = 1/u\n",
    "    p = (np.exp(r*deltaT) - d)/(u-d)\n",
    "    piu = np.exp(-r*deltaT)*p\n",
    "    pid = np.exp(-r*deltaT)*(1-p)\n",
    "    \n",
    "    P = np.zeros((N+1,N+1))\n",
    "    \n",
    "    S = S0 * u**np.arange(N+1) * d**(2*np.arange(N+1)[:, np.newaxis])\n",
    "    S = np.triu(S)\n",
    "    \n",
    "    P[:, N]=np.maximum(0, K-S[:, N])\n",
    "    \n",
    "    for j in range(N-1, -1, -1):\n",
    "        P[:j+1, j] = piu * P[:j+1, j+1] + pid * P[1:j+2, j+1]\n",
    "        P[:j+1, j] = np.maximum(P[:j+1, j], K-S[:j+1, j] )\n",
    "    \n",
    "    return  P[0, 0]"
   ]
  },
  {
   "cell_type": "code",
   "execution_count": 9,
   "metadata": {},
   "outputs": [
    {
     "data": {
      "text/plain": [
       "0.2369178713067898"
      ]
     },
     "execution_count": 9,
     "metadata": {},
     "output_type": "execute_result"
    }
   ],
   "source": [
    "puttree_american_numpy(S0, K, T, r, sigma, N)"
   ]
  },
  {
   "cell_type": "markdown",
   "metadata": {},
   "source": [
    "**2.2.** Make a function `impvol_puttree(S0, K, T, r, C_obs, N)` that computes the tree-implied volatility for an American put option.\n",
    "\n",
    "*Hint*: The Theranchi bounds don't apply here. Use $L=0.1$ and $U=10$."
   ]
  },
  {
   "cell_type": "code",
   "execution_count": 10,
   "metadata": {},
   "outputs": [],
   "source": [
    "def impvol_puttree(S0, K, T, r, P_obs, N):\n",
    "    \"\"\"Tree-implied volatility for American puts.\"\"\"\n",
    "    L = 0.1\n",
    "    U = 10\n",
    "    return brentq(lambda s: puttree_american_numpy(S0, K, T, r, s, N)-P_obs, L, U)"
   ]
  },
  {
   "cell_type": "code",
   "execution_count": 11,
   "metadata": {},
   "outputs": [
    {
     "data": {
      "text/plain": [
       "0.3367514414348106"
      ]
     },
     "execution_count": 11,
     "metadata": {},
     "output_type": "execute_result"
    }
   ],
   "source": [
    "P_obs=0.3\n",
    "impvol_puttree(S0, K, T, r, P_obs, N)"
   ]
  }
 ],
 "metadata": {
  "kernelspec": {
   "display_name": "Python 3",
   "language": "python",
   "name": "python3"
  },
  "language_info": {
   "codemirror_mode": {
    "name": "ipython",
    "version": 3
   },
   "file_extension": ".py",
   "mimetype": "text/x-python",
   "name": "python",
   "nbconvert_exporter": "python",
   "pygments_lexer": "ipython3",
   "version": "3.6.5"
  }
 },
 "nbformat": 4,
 "nbformat_minor": 2
}

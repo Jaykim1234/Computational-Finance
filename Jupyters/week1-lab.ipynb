{
 "cells": [
  {
   "cell_type": "markdown",
   "metadata": {
    "slideshow": {
     "slide_type": "slide"
    }
   },
   "source": [
    "# Outline\n",
    "\n",
    "* Strings\n",
    "* Indexing and slicing\n",
    "* Errors and help function\n",
    "* Variables\n",
    "* Functions and loops\n"
   ]
  },
  {
   "cell_type": "code",
   "execution_count": null,
   "metadata": {
    "slideshow": {
     "slide_type": "slide"
    }
   },
   "outputs": [],
   "source": [
    "x = 13.0\n",
    "type(x)"
   ]
  },
  {
   "cell_type": "code",
   "execution_count": null,
   "metadata": {
    "slideshow": {
     "slide_type": "fragment"
    }
   },
   "outputs": [],
   "source": [
    "myname = \"Evgenii\"\n",
    "type(myname)"
   ]
  },
  {
   "cell_type": "markdown",
   "metadata": {
    "slideshow": {
     "slide_type": "slide"
    }
   },
   "source": [
    "We could index stings to access individual character:"
   ]
  },
  {
   "cell_type": "code",
   "execution_count": null,
   "metadata": {
    "slideshow": {
     "slide_type": "-"
    }
   },
   "outputs": [],
   "source": [
    "print(\"The first letter of my name is\", myname[0], \"and there are\", len(myname), \"letters in total.\")"
   ]
  },
  {
   "cell_type": "markdown",
   "metadata": {
    "slideshow": {
     "slide_type": "fragment"
    }
   },
   "source": [
    "But strings are immutable:"
   ]
  },
  {
   "cell_type": "code",
   "execution_count": null,
   "metadata": {
    "slideshow": {
     "slide_type": "-"
    }
   },
   "outputs": [],
   "source": [
    "myname[0] = 'b'"
   ]
  },
  {
   "cell_type": "markdown",
   "metadata": {
    "slideshow": {
     "slide_type": "slide"
    }
   },
   "source": [
    "Note that there are different printing options to display the same output:"
   ]
  },
  {
   "cell_type": "code",
   "execution_count": null,
   "metadata": {
    "scrolled": true,
    "slideshow": {
     "slide_type": "-"
    }
   },
   "outputs": [],
   "source": [
    "print(\"The first letter of my name is\", myname[0], \"and there are\", len(myname), \"letters in total.\")\n",
    "print(f\"The first letter of my name is {myname[0]} and there are {len(myname)} letters in total.\")\n",
    "print(\"The first letter of my name is \" + myname[0] + \" and there are \" + str(len(myname)) + \" letters in total.\")\n",
    "print(\"The first letter of my name is %s and there are %i letters in total.\" %(myname[0], len(myname)))"
   ]
  },
  {
   "cell_type": "markdown",
   "metadata": {
    "slideshow": {
     "slide_type": "slide"
    }
   },
   "source": [
    "# Indexing and slicing\n",
    "\n",
    "* Zero-based indexing\n",
    "* Remember the input start:stop:step\n",
    "* Excluding the stop\n",
    "* Works same way for range"
   ]
  },
  {
   "cell_type": "code",
   "execution_count": null,
   "metadata": {
    "slideshow": {
     "slide_type": "slide"
    }
   },
   "outputs": [],
   "source": [
    "mylist = [\"one\", \"two\", \"three\"]\n",
    "mylist"
   ]
  },
  {
   "cell_type": "code",
   "execution_count": null,
   "metadata": {
    "slideshow": {
     "slide_type": "fragment"
    }
   },
   "outputs": [],
   "source": [
    "print(\"mylist[1] =\", mylist[1])\n",
    "print(\"mylist[2] =\", mylist[2])\n",
    "print(\"mylist[0] =\", mylist[0])\n",
    "print(\"mylist[-1] =\", mylist[-1])\n",
    "print(\"type(mylist[0]) =\", type(mylist[0]))"
   ]
  },
  {
   "cell_type": "code",
   "execution_count": null,
   "metadata": {
    "slideshow": {
     "slide_type": "fragment"
    }
   },
   "outputs": [],
   "source": [
    "print(\"mylist[0:2] =\", mylist[0:2])\n",
    "print(\"mylist[:2] =\", mylist[:2])\n",
    "print(\"mylist[1:2] =\", mylist[1:2])\n",
    "print(\"type(mylist[1:2]) =\", type(mylist[1:2]))"
   ]
  },
  {
   "cell_type": "markdown",
   "metadata": {
    "slideshow": {
     "slide_type": "slide"
    }
   },
   "source": [
    "### Keep in mind\n",
    "\n",
    "* Practice and just try\n",
    "* Zero-based indexing\n",
    "* Final is excluded"
   ]
  },
  {
   "cell_type": "markdown",
   "metadata": {
    "slideshow": {
     "slide_type": "slide"
    }
   },
   "source": [
    "Unlike strings, lists are mutable and there are many different methods available for lists as well:"
   ]
  },
  {
   "cell_type": "code",
   "execution_count": null,
   "metadata": {},
   "outputs": [],
   "source": [
    "mylist[1] = 2\n",
    "mylist.append('four')\n",
    "mylist.insert(0, 'half')\n",
    "mylist"
   ]
  },
  {
   "cell_type": "code",
   "execution_count": null,
   "metadata": {},
   "outputs": [],
   "source": [
    "'three' in mylist"
   ]
  },
  {
   "cell_type": "markdown",
   "metadata": {
    "slideshow": {
     "slide_type": "slide"
    }
   },
   "source": [
    "## Errors and help function\n",
    "\n",
    "* Python returns error statements when an error occurs\n",
    "* Helps finding the mistake\n",
    "* The following throws an error"
   ]
  },
  {
   "cell_type": "code",
   "execution_count": null,
   "metadata": {},
   "outputs": [],
   "source": [
    "x = [3, 4, 7"
   ]
  },
  {
   "cell_type": "code",
   "execution_count": null,
   "metadata": {},
   "outputs": [],
   "source": [
    "x.pop()\n",
    "help(x.pop)"
   ]
  },
  {
   "cell_type": "markdown",
   "metadata": {
    "slideshow": {
     "slide_type": "slide"
    }
   },
   "source": [
    "# Variables\n",
    "\n",
    "* Use sensible names: e.g. `ret` or `r` if they are returns, not `xyz_tmp`\n",
    "* Do not use reserved words (keywords): e.g. return, def, for, False, lambda\n",
    "* A variable name cannot start with a number\n",
    "* Variable names are case_sensitive: `Ret` and `ret` are different variables\n",
    "* Avoid variable names that are already used as build-in functions or methods: e.g. sum, int"
   ]
  },
  {
   "cell_type": "code",
   "execution_count": null,
   "metadata": {
    "slideshow": {
     "slide_type": "fragment"
    }
   },
   "outputs": [],
   "source": [
    "help(\"keywords\")"
   ]
  },
  {
   "cell_type": "code",
   "execution_count": null,
   "metadata": {
    "slideshow": {
     "slide_type": "slide"
    }
   },
   "outputs": [],
   "source": [
    "return = 3"
   ]
  },
  {
   "cell_type": "code",
   "execution_count": null,
   "metadata": {},
   "outputs": [],
   "source": [
    "#sum = 3\n",
    "type(sum)"
   ]
  },
  {
   "cell_type": "code",
   "execution_count": null,
   "metadata": {},
   "outputs": [],
   "source": [
    "sum\n",
    "#sum([1,2])"
   ]
  },
  {
   "cell_type": "markdown",
   "metadata": {
    "slideshow": {
     "slide_type": "slide"
    }
   },
   "source": [
    "# Functions\n",
    "\n",
    "* Why do we need them?"
   ]
  },
  {
   "cell_type": "markdown",
   "metadata": {},
   "source": [
    "Functions allow:\n",
    "* to reuse pieces of code multiple times\n",
    "* to break up a long code into smaller steps"
   ]
  },
  {
   "cell_type": "markdown",
   "metadata": {
    "slideshow": {
     "slide_type": "slide"
    }
   },
   "source": [
    "* Note structure:\n",
    "    * Start with def / for / while / if\n",
    "    * Colon\n",
    "    * Tabs / indentation\n",
    "    \n",
    "* Functions: \n",
    "    * First define, then call\n",
    "    * Namespace"
   ]
  },
  {
   "cell_type": "code",
   "execution_count": null,
   "metadata": {},
   "outputs": [],
   "source": [
    "def function_name(input_parameters):\n",
    "    \n",
    "    # main body of the function\n",
    "    \n",
    "    return function_output\n",
    "    "
   ]
  },
  {
   "cell_type": "markdown",
   "metadata": {
    "slideshow": {
     "slide_type": "slide"
    }
   },
   "source": [
    "* What does the following function compute?\n",
    "\n",
    "* Hint: `x`, `y`, and `z` must be between 1 and 10."
   ]
  },
  {
   "cell_type": "code",
   "execution_count": null,
   "metadata": {},
   "outputs": [],
   "source": [
    "def f(x,y,z):\n",
    "    \"\"\"Add docstring\"\"\"\n",
    "    \n",
    "    g = 0.20*x + 0.15*y + 0.65*z\n",
    "\n",
    "    if z >= 5.0:\n",
    "        g = round(g*2)/2  # Round to nearest half point\n",
    "    else:\n",
    "        g = min(g,5.0)  # Cannot be higher than 5.0\n",
    "    \n",
    "    return g"
   ]
  },
  {
   "cell_type": "code",
   "execution_count": null,
   "metadata": {
    "slideshow": {
     "slide_type": "-"
    }
   },
   "outputs": [],
   "source": [
    "f(9,8,9)"
   ]
  },
  {
   "cell_type": "markdown",
   "metadata": {
    "slideshow": {
     "slide_type": "slide"
    }
   },
   "source": [
    "* Alternative implementation"
   ]
  },
  {
   "cell_type": "code",
   "execution_count": null,
   "metadata": {},
   "outputs": [],
   "source": [
    "def f(x,y,z):\n",
    "    \"\"\"Computes the course grade.\"\"\"\n",
    "    \n",
    "    g = 0.20*x + 0.15*y + 0.65*z\n",
    "\n",
    "    g = round(g*2)/2  # Round to nearest half point\n",
    "        \n",
    "    if z < 5.0:\n",
    "        g = min(g,5.0)  # Cannot be higher than 5.0\n",
    "    \n",
    "    return g"
   ]
  },
  {
   "cell_type": "markdown",
   "metadata": {
    "slideshow": {
     "slide_type": "slide"
    }
   },
   "source": [
    "Functions descriptions could be specified using a one-line docstring: "
   ]
  },
  {
   "cell_type": "code",
   "execution_count": null,
   "metadata": {},
   "outputs": [],
   "source": [
    "def SeeRange(n):\n",
    "    \"\"\"Returns a sequence of numbers in range(n)\"\"\"\n",
    "    v = []\n",
    "    for i in range(n):\n",
    "        v.append(i)\n",
    "    \n",
    "    return v"
   ]
  },
  {
   "cell_type": "code",
   "execution_count": null,
   "metadata": {},
   "outputs": [],
   "source": [
    "SeeRange(5)"
   ]
  },
  {
   "cell_type": "markdown",
   "metadata": {
    "slideshow": {
     "slide_type": "slide"
    }
   },
   "source": [
    "With more complex functions it is advisable to write more elaborate multi-line docstring with summary, description of arguments, returns and exeptions. A docstring should give enough information to be able to run the function without reading the function's code. There are different conventions out there, but a beginner friendly one is Google docstring ([Google Python Style Guide](https://google.github.io/styleguide/pyguide.html#383-functions-and-methods) & [more examples](https://sphinxcontrib-napoleon.readthedocs.io/en/latest/example_google.html)), that we extend here by including the type of arguments in description. For instance, a multi-line docstring for the funtion above might look as follows:"
   ]
  },
  {
   "cell_type": "code",
   "execution_count": null,
   "metadata": {},
   "outputs": [],
   "source": [
    "def SeeRange(n):\n",
    "    \"\"\"Returns a sequence of numbers in range function\n",
    "    \n",
    "    Args:\n",
    "        n (int): the end of a range\n",
    "        \n",
    "    Returns:\n",
    "        v (list): numbers in range(n)\n",
    "    \"\"\"\n",
    "    v = []\n",
    "    for i in range(n):\n",
    "        v.append(i)\n",
    "    \n",
    "    return v"
   ]
  },
  {
   "cell_type": "code",
   "execution_count": null,
   "metadata": {},
   "outputs": [],
   "source": []
  }
 ],
 "metadata": {
  "celltoolbar": "Slideshow",
  "kernelspec": {
   "display_name": "Python 3",
   "language": "python",
   "name": "python3"
  },
  "language_info": {
   "codemirror_mode": {
    "name": "ipython",
    "version": 3
   },
   "file_extension": ".py",
   "mimetype": "text/x-python",
   "name": "python",
   "nbconvert_exporter": "python",
   "pygments_lexer": "ipython3",
   "version": "3.7.4"
  }
 },
 "nbformat": 4,
 "nbformat_minor": 2
}

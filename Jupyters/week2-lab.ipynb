{
 "cells": [
  {
   "cell_type": "markdown",
   "metadata": {
    "slideshow": {
     "slide_type": "slide"
    }
   },
   "source": [
    "<p style=\"text-align: center; font-size: 192%\"> Computational Finance </p>\n",
    "<img src=\"img/ABSlogo.svg\" alt=\"LOGO\" style=\"display:block; margin-left: auto; margin-right: auto; width: 90%;\">\n",
    "<p style=\"text-align: center; font-size: 150%\"> Week 2: Dealing with Data </p>\n",
    "<p style=\"text-align: center; font-size: 75%\"> <a href=\"#copyrightslide\">Copyright</a> </p>"
   ]
  },
  {
   "cell_type": "markdown",
   "metadata": {
    "slideshow": {
     "slide_type": "slide"
    }
   },
   "source": [
    "# Outline\n",
    "\n",
    "* Broadcasting\n",
    "* Matrix multiplication\n",
    "* Debugging\n",
    "    * Methods\n",
    "    * In Jupyter"
   ]
  },
  {
   "cell_type": "markdown",
   "metadata": {
    "slideshow": {
     "slide_type": "slide"
    }
   },
   "source": [
    "## Broadcasting\n",
    "\n",
    "* Broadcasting is a useful functionality of numpy, but can be tricky to understand.\n",
    "* \"The term broadcasting describes how numpy treats arrays with different shapes during arithmetic operations\".\n",
    "* \"Subject to certain constraints, the smaller array is “broadcast” across the larger array so that they have compatible shapes\"\n",
    "* See [NumPy documentation](https://numpy.org/doc/stable/user/basics.broadcasting.html) for more details\n"
   ]
  },
  {
   "cell_type": "markdown",
   "metadata": {
    "slideshow": {
     "slide_type": "slide"
    }
   },
   "source": [
    "* NumPy compares the shapes of two arrays dimension-wise. \n",
    "* It starts with the trailing (i.e. rightmost) dimensions, and then works its way left. \n",
    "* Two dimensions are compatible if\n",
    "  * they are equal, or\n",
    "  * one of them is 1 (or not present).\n",
    "* *Tip*: write down the dimensions and draw the arrays."
   ]
  },
  {
   "cell_type": "code",
   "execution_count": null,
   "metadata": {
    "slideshow": {
     "slide_type": "-"
    }
   },
   "outputs": [],
   "source": [
    "import numpy as np"
   ]
  },
  {
   "cell_type": "markdown",
   "metadata": {
    "slideshow": {
     "slide_type": "slide"
    }
   },
   "source": [
    "* The idea of broadcasting in a picture:\n",
    "<img src=\"img/broadcasting.png\" alt=\"Broadcasting\" style=\"display:block; margin-left: auto; margin-right: auto; width: 80%;\">"
   ]
  },
  {
   "cell_type": "markdown",
   "metadata": {
    "slideshow": {
     "slide_type": "slide"
    }
   },
   "source": [
    "What is the shape?"
   ]
  },
  {
   "cell_type": "code",
   "execution_count": null,
   "metadata": {
    "slideshow": {
     "slide_type": "-"
    }
   },
   "outputs": [],
   "source": [
    "a = np.arange(8).reshape(2,4)  # (2,4)\n",
    "b = np.arange(4)               # (4,)\n",
    "a"
   ]
  },
  {
   "cell_type": "code",
   "execution_count": null,
   "metadata": {},
   "outputs": [],
   "source": [
    "b"
   ]
  },
  {
   "cell_type": "code",
   "execution_count": null,
   "metadata": {},
   "outputs": [],
   "source": [
    "a + b"
   ]
  },
  {
   "cell_type": "markdown",
   "metadata": {
    "slideshow": {
     "slide_type": "slide"
    }
   },
   "source": [
    "What is the shape?"
   ]
  },
  {
   "cell_type": "code",
   "execution_count": null,
   "metadata": {
    "slideshow": {
     "slide_type": "-"
    }
   },
   "outputs": [],
   "source": [
    "a = np.arange(8).reshape(4,2)  # (4,2)\n",
    "b = np.arange(4).reshape(1,4)  # (1,4)\n",
    "a,b;"
   ]
  },
  {
   "cell_type": "code",
   "execution_count": null,
   "metadata": {},
   "outputs": [],
   "source": [
    "a + b"
   ]
  },
  {
   "cell_type": "markdown",
   "metadata": {
    "slideshow": {
     "slide_type": "slide"
    }
   },
   "source": [
    "What is the shape?"
   ]
  },
  {
   "cell_type": "code",
   "execution_count": null,
   "metadata": {
    "slideshow": {
     "slide_type": "-"
    }
   },
   "outputs": [],
   "source": [
    "a = np.arange(8).reshape(4,2)  # (4,2)\n",
    "b = np.arange(4).reshape(4,1)  # (4,1)\n",
    "a, b;"
   ]
  },
  {
   "cell_type": "code",
   "execution_count": null,
   "metadata": {},
   "outputs": [],
   "source": [
    "a + b"
   ]
  },
  {
   "cell_type": "markdown",
   "metadata": {
    "slideshow": {
     "slide_type": "slide"
    }
   },
   "source": [
    "What cell does NOT throw an error?"
   ]
  },
  {
   "cell_type": "code",
   "execution_count": null,
   "metadata": {
    "slideshow": {
     "slide_type": "-"
    }
   },
   "outputs": [],
   "source": [
    "a = np.arange(8).reshape(4,2)   # (4,2)\n",
    "b = np.arange(4)                # (4,)"
   ]
  },
  {
   "cell_type": "code",
   "execution_count": null,
   "metadata": {},
   "outputs": [],
   "source": [
    "a"
   ]
  },
  {
   "cell_type": "code",
   "execution_count": null,
   "metadata": {},
   "outputs": [],
   "source": [
    "b"
   ]
  },
  {
   "cell_type": "code",
   "execution_count": null,
   "metadata": {
    "slideshow": {
     "slide_type": "slide"
    }
   },
   "outputs": [],
   "source": [
    "a + b"
   ]
  },
  {
   "cell_type": "code",
   "execution_count": null,
   "metadata": {
    "slideshow": {
     "slide_type": "-"
    }
   },
   "outputs": [],
   "source": [
    "a + b[:, np.newaxis]"
   ]
  },
  {
   "cell_type": "code",
   "execution_count": null,
   "metadata": {
    "slideshow": {
     "slide_type": "-"
    }
   },
   "outputs": [],
   "source": [
    "a + b[np.newaxis, :]"
   ]
  },
  {
   "cell_type": "markdown",
   "metadata": {
    "slideshow": {
     "slide_type": "slide"
    }
   },
   "source": [
    "Dimensions of `b`"
   ]
  },
  {
   "cell_type": "code",
   "execution_count": null,
   "metadata": {
    "slideshow": {
     "slide_type": "-"
    }
   },
   "outputs": [],
   "source": [
    "b   # (4,)"
   ]
  },
  {
   "cell_type": "code",
   "execution_count": null,
   "metadata": {},
   "outputs": [],
   "source": [
    "b[:, np.newaxis]  # (4,1)   "
   ]
  },
  {
   "cell_type": "code",
   "execution_count": null,
   "metadata": {},
   "outputs": [],
   "source": [
    "b[np.newaxis, :]  # (1,4)"
   ]
  },
  {
   "cell_type": "code",
   "execution_count": null,
   "metadata": {
    "slideshow": {
     "slide_type": "slide"
    }
   },
   "outputs": [],
   "source": [
    "np.newaxis == None"
   ]
  },
  {
   "cell_type": "code",
   "execution_count": null,
   "metadata": {},
   "outputs": [],
   "source": [
    "b[None, :]  # (1,4)"
   ]
  },
  {
   "cell_type": "markdown",
   "metadata": {
    "slideshow": {
     "slide_type": "slide"
    }
   },
   "source": [
    "## Matrix multiplication\n",
    "\n",
    "* Note than NumPy has reserved `*` for element-by-element multiplication.\n",
    "* We cannot use `*` for [matrix multiplication](https://en.wikipedia.org/wiki/Matrix_multiplication#Definition) \n",
    "* Instead, one can use the NumPy-function `dot` or `@` in Python 3.x:\n"
   ]
  },
  {
   "cell_type": "code",
   "execution_count": null,
   "metadata": {
    "slideshow": {
     "slide_type": "slide"
    }
   },
   "outputs": [],
   "source": [
    "A = np.arange(6).reshape(2,3) #(2,3)\n",
    "b = np.arange(3)              #(3,)\n",
    "A, b"
   ]
  },
  {
   "cell_type": "code",
   "execution_count": null,
   "metadata": {},
   "outputs": [],
   "source": [
    "A*b"
   ]
  },
  {
   "cell_type": "code",
   "execution_count": null,
   "metadata": {},
   "outputs": [],
   "source": [
    "A@b"
   ]
  },
  {
   "cell_type": "code",
   "execution_count": null,
   "metadata": {},
   "outputs": [],
   "source": [
    "A@b[:,np.newaxis]"
   ]
  },
  {
   "cell_type": "markdown",
   "metadata": {
    "slideshow": {
     "slide_type": "slide"
    }
   },
   "source": [
    "The module `numpy.linalg` has a standard set of matrix decompositions and functions calculating things like inverse (`inv`), trace (`trace`), determinant (`det`) and eigenvalues and eigenvectors (`eig`):"
   ]
  },
  {
   "cell_type": "code",
   "execution_count": null,
   "metadata": {},
   "outputs": [],
   "source": [
    "A = np.arange(4).reshape(2,2) #(2,2)\n",
    "A\n"
   ]
  },
  {
   "cell_type": "code",
   "execution_count": null,
   "metadata": {},
   "outputs": [],
   "source": [
    "np.linalg.inv(A)"
   ]
  },
  {
   "cell_type": "markdown",
   "metadata": {
    "slideshow": {
     "slide_type": "slide"
    }
   },
   "source": [
    "Finally, in order to transpose a matix/vector we could use:"
   ]
  },
  {
   "cell_type": "code",
   "execution_count": null,
   "metadata": {},
   "outputs": [],
   "source": [
    "A.T"
   ]
  },
  {
   "cell_type": "markdown",
   "metadata": {
    "slideshow": {
     "slide_type": "slide"
    }
   },
   "source": [
    "## Debugging\n",
    "\n",
    "* 'Definition': find and fix mistakes (a.k.a. bugs) in code\n",
    "* Bad news\n",
    "    * Inevitable and frustrating\n",
    "    * Hard to predict how long it takes to solve\n",
    "* Good news\n",
    "    * Tools and methods available\n",
    "    * Gain experience and learn from them"
   ]
  },
  {
   "cell_type": "markdown",
   "metadata": {
    "slideshow": {
     "slide_type": "slide"
    }
   },
   "source": [
    "### Debugging methods\n",
    "\n",
    "*Credit: mostly based on [Christoph Deil's talk at PyConDE](https://github.com/cdeil/pyconde2019-debugging).*\n",
    "\n"
   ]
  },
  {
   "cell_type": "markdown",
   "metadata": {
    "slideshow": {
     "slide_type": "slide"
    }
   },
   "source": [
    "#### Read the code\n",
    "* Can you spot (obvious) mistakes/typos?\n",
    "* Need to know syntax and structure, e.g. how to define a function.\n",
    "* Check documentation of Jupyter / Python / package\n",
    "* Use `help()` or `Shift`+`Tab`"
   ]
  },
  {
   "cell_type": "markdown",
   "metadata": {
    "slideshow": {
     "slide_type": "slide"
    }
   },
   "source": [
    "#### Read traceback\n",
    "* Errors are your friend. Mistakes without error are harder to spot and may be overlooked.\n",
    "* Error message holds useful information\n",
    "    * *what* type of error.\n",
    "    * *where*  was it raised, at what line of code.\n",
    "* Bug is usually in your code, not in the Python packages such as numpy or pandas."
   ]
  },
  {
   "cell_type": "code",
   "execution_count": null,
   "metadata": {
    "slideshow": {
     "slide_type": "slide"
    }
   },
   "outputs": [],
   "source": [
    "a = np.arange(8).reshape(4,2)   # (4,2)\n",
    "b = np.arange(4)                # (4,)\n",
    "a+b"
   ]
  },
  {
   "cell_type": "markdown",
   "metadata": {
    "slideshow": {
     "slide_type": "slide"
    }
   },
   "source": [
    "#### Print intermediate variables\n",
    "* Seems easy, but ...\n",
    "* Clutters code and output\n",
    "* Need to choose what to print and where\n",
    "\n"
   ]
  },
  {
   "cell_type": "markdown",
   "metadata": {
    "slideshow": {
     "slide_type": "slide"
    }
   },
   "source": [
    "#### Debugger\n",
    "* Execute code line by line\n",
    "* Breakpoints\n",
    "* Visual debugger \n",
    "    * Available in IDEs such as [PyCharm](https://www.jetbrains.com/pycharm/) and [Visual Studio Code](https://code.visualstudio.com/)\n",
    "* Command line debugger"
   ]
  },
  {
   "cell_type": "markdown",
   "metadata": {
    "slideshow": {
     "slide_type": "slide"
    }
   },
   "source": [
    "#### Rubber duck debugging\n",
    "* Explain your problem to a *rubber duck*.\n",
    "* Often then you realize what the problem is.\n",
    "* Doesn't have to be a duck per se:"
   ]
  },
  {
   "cell_type": "code",
   "execution_count": null,
   "metadata": {
    "slideshow": {
     "slide_type": "skip"
    }
   },
   "outputs": [],
   "source": [
    "from IPython.display import HTML\n",
    "# Youtube: GoogleDevelopers - #HowICode Rubber Duck Debugging\n",
    "HTML('<iframe width=\"900\" height=\"506.25\" src=\"https://www.youtube.com/embed/fdaqudiSo5c\" frameborder=\"0\" allow=\"accelerometer; autoplay; clipboard-write; encrypted-media; gyroscope; picture-in-picture\" allowfullscreen></iframe>')"
   ]
  },
  {
   "cell_type": "markdown",
   "metadata": {
    "slideshow": {
     "slide_type": "slide"
    }
   },
   "source": [
    "### Debugging in Jupyter\n",
    "* Visual debugger under development, see [GitHub](https://github.com/jupyterlab/debugger).\n",
    "* Command line debugger: `pdb`, python debugger ([docs](https://docs.python.org/3/library/pdb.html), [debugger commands](https://docs.python.org/3/library/pdb.html#debugger-commands)).\n",
    "\n",
    "* Post mortem analysis using `%debug` ([docs](https://ipython.readthedocs.io/en/stable/interactive/magics.html#magic-debug)).\n",
    "    * Step into function *after* the error occurred."
   ]
  },
  {
   "cell_type": "code",
   "execution_count": null,
   "metadata": {
    "slideshow": {
     "slide_type": "slide"
    }
   },
   "outputs": [],
   "source": [
    "a = np.arange(11)\n",
    "b = np.arange(5,15)\n",
    "foo = a > 5\n",
    "b[foo]  #feeding a boolean index for slicing"
   ]
  },
  {
   "cell_type": "code",
   "execution_count": null,
   "metadata": {
    "slideshow": {
     "slide_type": "slide"
    }
   },
   "outputs": [],
   "source": [
    "%debug"
   ]
  },
  {
   "cell_type": "markdown",
   "metadata": {
    "slideshow": {
     "slide_type": "slide"
    }
   },
   "source": [
    "* Breakpoints stop/pause the code so you can inspect the state\n",
    "    * Set breakpoints using `set_trace()`\n",
    "    * Alternative: `breakpoint()` from Python 3.7"
   ]
  },
  {
   "cell_type": "code",
   "execution_count": null,
   "metadata": {
    "scrolled": true,
    "slideshow": {
     "slide_type": "slide"
    }
   },
   "outputs": [],
   "source": [
    "from IPython.core.debugger import set_trace   # import set_trace()\n",
    "a = np.arange(11)\n",
    "b = np.arange(5,15)\n",
    "set_trace()  # breakpoint\n",
    "foo2 = a > 5\n",
    "b[foo2]  #feeding a boolean index for slicing"
   ]
  },
  {
   "cell_type": "code",
   "execution_count": null,
   "metadata": {
    "slideshow": {
     "slide_type": "slide"
    }
   },
   "outputs": [],
   "source": [
    "mysum = 0\n",
    "for i in range(5):\n",
    "    set_trace()\n",
    "    mysum += i"
   ]
  },
  {
   "cell_type": "markdown",
   "metadata": {
    "slideshow": {
     "slide_type": "slide"
    }
   },
   "source": [
    "### So... what should we do?\n",
    "\n",
    "* First design, then write code\n",
    "* Write simple clean code\n",
    "* Add comments and docstrings\n",
    "* Test your code at intermediate steps (functions, loops)"
   ]
  },
  {
   "cell_type": "markdown",
   "metadata": {
    "slideshow": {
     "slide_type": "slide"
    }
   },
   "source": [
    "#### When you run into a bug\n",
    "* Read code and error message\n",
    "* Check for common mistakes\n",
    "    * Typos (may be hard to spot!)\n",
    "    * Syntax errors\n",
    "    * Wrong shape\n",
    "    * Wrong type\n",
    "    * Overwriting variables\n",
    "    * Not assigning output\n",
    "    * Loop variable\n",
    "    * ...\n"
   ]
  },
  {
   "cell_type": "markdown",
   "metadata": {
    "slideshow": {
     "slide_type": "slide"
    }
   },
   "source": [
    "* Inspect variables at intermediate steps (functions, loops)\n",
    "* Pen and paper\n",
    "* Clean slate\n",
    "\n",
    "\n",
    "* More tips: [Debugging for beginners](https://docs.microsoft.com/en-us/visualstudio/debugger/debugging-absolute-beginners?view=vs-2019) by Microsoft, aimed at VS Code users, but contains general tips on steps when debugging."
   ]
  },
  {
   "cell_type": "code",
   "execution_count": null,
   "metadata": {},
   "outputs": [],
   "source": []
  }
 ],
 "metadata": {
  "celltoolbar": "Slideshow",
  "kernelspec": {
   "display_name": "Python 3",
   "language": "python",
   "name": "python3"
  },
  "language_info": {
   "codemirror_mode": {
    "name": "ipython",
    "version": 3
   },
   "file_extension": ".py",
   "mimetype": "text/x-python",
   "name": "python",
   "nbconvert_exporter": "python",
   "pygments_lexer": "ipython3",
   "version": "3.7.4"
  }
 },
 "nbformat": 4,
 "nbformat_minor": 2
}

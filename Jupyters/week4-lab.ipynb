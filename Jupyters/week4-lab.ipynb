{
 "cells": [
  {
   "cell_type": "markdown",
   "metadata": {
    "slideshow": {
     "slide_type": "slide"
    }
   },
   "source": [
    "<p style=\"text-align: center; font-size: 192%\"> Computational Finance </p>\n",
    "<img src=\"../img/ABSlogo.svg\" alt=\"LOGO\" style=\"display:block; margin-left: auto; margin-right: auto; width: 90%;\">\n",
    "<p style=\"text-align: center; font-size: 150%\"> Week 4: Asset Pricing </p>\n",
    "<p style=\"text-align: center; font-size: 75%\"> <a href=\"#copyrightslide\">Copyright</a> </p>"
   ]
  },
  {
   "cell_type": "code",
   "execution_count": null,
   "metadata": {
    "slideshow": {
     "slide_type": "skip"
    }
   },
   "outputs": [],
   "source": [
    "#silence some warnings\n",
    "import warnings\n",
    "warnings.filterwarnings('ignore')"
   ]
  },
  {
   "cell_type": "markdown",
   "metadata": {
    "slideshow": {
     "slide_type": "slide"
    }
   },
   "source": [
    "# Outline\n",
    "\n",
    "* More pandas: Hierarchical Indexing\n",
    "* Merging databases"
   ]
  },
  {
   "cell_type": "markdown",
   "metadata": {
    "slideshow": {
     "slide_type": "slide"
    }
   },
   "source": [
    "# More pandas: Hierarchical Indexing\n",
    "\n",
    "* The MultiIndex object ([user guide](https://pandas.pydata.org/pandas-docs/stable/user_guide/advanced.html)) is part of `pandas`.\n",
    "\n",
    "* It is an index with multiple levels (row index or column headers).\n",
    "\n",
    "* This allows you to display higher dimensional data into a lower dimension.\n",
    "\n",
    "* Flexible: tools for reshaping and aggregation."
   ]
  },
  {
   "cell_type": "markdown",
   "metadata": {},
   "source": [
    "*The example is from Data Science Methods  course by Cees Diks and Bram Wouters.*"
   ]
  },
  {
   "cell_type": "markdown",
   "metadata": {
    "slideshow": {
     "slide_type": "slide"
    }
   },
   "source": [
    "## Creating a MultiIndex\n",
    "\n",
    "* When creating a DataFrame, you can create a MultiIndex by using nested lists (for the `index` or `columns`)."
   ]
  },
  {
   "cell_type": "markdown",
   "metadata": {
    "slideshow": {
     "slide_type": "slide"
    }
   },
   "source": [
    "**Example:** A dataFrame with row and column indices of MultiIndex type.\n",
    "\n",
    "Number of ECTS obtained per year, semester by different students and programs."
   ]
  },
  {
   "cell_type": "code",
   "execution_count": null,
   "metadata": {},
   "outputs": [],
   "source": [
    "import numpy as np\n",
    "import pandas as pd\n",
    "\n",
    "frame = pd.DataFrame(\n",
    "    np.array([24, 24, 6, 24, 24, 6, 30, 24, 6, 18, 12, 6, 24, 18, 6, 24, 18, 12]).reshape(6,3),\n",
    "    index=[['17-18', '17-18', '18-19', '18-19', '19-20', '19-20'], ['I','II','I', 'II', 'I', 'II']],\n",
    "    columns=[['Robert', 'Esther', 'Esther'],['Finance', 'Finance', 'Ectrics']])\n",
    "\n",
    "frame.index.names = ['year', 'semester']\n",
    "frame.columns.names = ['name', 'program']\n",
    "\n",
    "frame"
   ]
  },
  {
   "cell_type": "code",
   "execution_count": null,
   "metadata": {
    "slideshow": {
     "slide_type": "slide"
    }
   },
   "outputs": [],
   "source": [
    "frame.index"
   ]
  },
  {
   "cell_type": "code",
   "execution_count": null,
   "metadata": {},
   "outputs": [],
   "source": [
    "type(frame.index)"
   ]
  },
  {
   "cell_type": "markdown",
   "metadata": {
    "slideshow": {
     "slide_type": "slide"
    }
   },
   "source": [
    "* The module `MultiIndex` offers methods `from_arrays()` and `from_tuples()` to create a MultiIndex:"
   ]
  },
  {
   "cell_type": "code",
   "execution_count": null,
   "metadata": {},
   "outputs": [],
   "source": [
    "pd.MultiIndex.from_arrays([['17-18', '17-18', '18-19', '18-19', '19-20', '19-20'], \n",
    "                           ['I','II','I', 'II', 'I', 'II']], names = ['year','semester'])"
   ]
  },
  {
   "cell_type": "markdown",
   "metadata": {},
   "source": [
    "* It can be more convenient to use `from_product()` when all combinations of the elements in each level are included:"
   ]
  },
  {
   "cell_type": "code",
   "execution_count": null,
   "metadata": {},
   "outputs": [],
   "source": [
    "pd.MultiIndex.from_product([['17-18', '18-19', '19-20'], ['I','II']], names = ['year','semester'])"
   ]
  },
  {
   "cell_type": "markdown",
   "metadata": {
    "slideshow": {
     "slide_type": "slide"
    }
   },
   "source": [
    "### Indexing and slicing\n",
    "* Selection works similar to a DataFrame without MultiIndex. \n",
    "* Select the number of ECTS that Esther obtained in the Finance program."
   ]
  },
  {
   "cell_type": "code",
   "execution_count": null,
   "metadata": {
    "scrolled": true
   },
   "outputs": [],
   "source": [
    "frame['Esther', 'Finance'] # or frame['Esther']['Finance']"
   ]
  },
  {
   "cell_type": "markdown",
   "metadata": {},
   "source": [
    "* The method `xs()` can be used to slice rows or columns (default is rows). It takes a level argument, for easy selection at any level."
   ]
  },
  {
   "cell_type": "code",
   "execution_count": null,
   "metadata": {},
   "outputs": [],
   "source": [
    "frame.xs(('18-19', 'I'), level=(0,1)) # xs takes level argument (and optional axis argument)"
   ]
  },
  {
   "cell_type": "markdown",
   "metadata": {
    "slideshow": {
     "slide_type": "slide"
    }
   },
   "source": [
    "### Swap levels\n",
    "\n",
    "Swapping the levels of the row MultiIndex."
   ]
  },
  {
   "cell_type": "code",
   "execution_count": null,
   "metadata": {},
   "outputs": [],
   "source": [
    "frame"
   ]
  },
  {
   "cell_type": "code",
   "execution_count": null,
   "metadata": {},
   "outputs": [],
   "source": [
    "frame.swaplevel(axis=1)  # more general: reorder_levels([1, 0], axis=1) where you can give a permutation of the levels"
   ]
  },
  {
   "cell_type": "markdown",
   "metadata": {
    "slideshow": {
     "slide_type": "-"
    }
   },
   "source": [
    "* May want to sort after this, using `sort_index(level, axis)` where you can specify the level at which you want to sort."
   ]
  },
  {
   "cell_type": "markdown",
   "metadata": {
    "slideshow": {
     "slide_type": "slide"
    }
   },
   "source": [
    "### Reshaping\n",
    "\n",
    "Using `stack` and `unstack` ([user guide](https://pandas.pydata.org/pandas-docs/stable/user_guide/reshaping.html#reshaping-by-stacking-and-unstacking)) to turn the row index 'year' into a column index and the column index 'program' into a row index."
   ]
  },
  {
   "cell_type": "code",
   "execution_count": null,
   "metadata": {
    "scrolled": true
   },
   "outputs": [],
   "source": [
    "frame"
   ]
  },
  {
   "cell_type": "code",
   "execution_count": null,
   "metadata": {
    "slideshow": {
     "slide_type": "-"
    }
   },
   "outputs": [],
   "source": [
    "frame.unstack(level='year').stack(level='program')  # Adds NaN if field is empty"
   ]
  },
  {
   "cell_type": "markdown",
   "metadata": {
    "slideshow": {
     "slide_type": "slide"
    }
   },
   "source": [
    "### Aggregation\n",
    "\n",
    "* Aggregation at particular level using `ufuncs` (sum, mean, etc.) is easy.\n",
    "\n",
    "* Calculating the maximum of `frame` for each pair of 'year' and 'name'."
   ]
  },
  {
   "cell_type": "code",
   "execution_count": null,
   "metadata": {},
   "outputs": [],
   "source": [
    "frame.max(level='year').max(level='name', axis=1)"
   ]
  },
  {
   "cell_type": "markdown",
   "metadata": {},
   "source": [
    "* Alternative in a DataFrame *without* MultiIndex is to use [`groupby()`](https://pandas.pydata.org/pandas-docs/stable/reference/api/pandas.DataFrame.groupby.html), but more verbose."
   ]
  },
  {
   "cell_type": "markdown",
   "metadata": {
    "slideshow": {
     "slide_type": "slide"
    }
   },
   "source": [
    "## Merging databases\n",
    "\n",
    "*This section uses parts of Tomislav Ladika's Python bootcamp from the UvA course Data Analytics (MIF).*\n",
    "\n",
    "\n",
    "\n",
    "* Information not always stored in a single database $\\rightarrow$ need to merge data sets.\n",
    "\n",
    "* Suppose that we want to combine data from CRSP and Compustat.\n",
    "    * Here we use a sample (previously downloaded).\n",
    "* Download and inspect the data sets before merging.\n",
    "\n",
    "* Are there common variables (columns) that we can use to merge?"
   ]
  },
  {
   "cell_type": "markdown",
   "metadata": {
    "slideshow": {
     "slide_type": "slide"
    }
   },
   "source": [
    "* Let's read the Compustat data..."
   ]
  },
  {
   "cell_type": "code",
   "execution_count": null,
   "metadata": {},
   "outputs": [],
   "source": [
    "import pandas as pd\n",
    "## Open all data frames\n",
    "compustat_data = pd.read_csv(\"../data/sample_data_compustat.txt\", sep=\"\\t\")   # Can read any text file; takes comma as default separator.\n",
    "\n",
    "## Create a new 'date' column in Compustat, which is the 'datadate' column in YYYYMM format\n",
    "compustat_data['datadate'] = compustat_data['datadate'].astype(str)  # Ensure that it is a string\n",
    "compustat_data['date'] = compustat_data['datadate'].str[0:6]  \n",
    "compustat_data['date'] = compustat_data['date'].astype(int) \n",
    "\n",
    "compustat_data.head(10)"
   ]
  },
  {
   "cell_type": "markdown",
   "metadata": {
    "slideshow": {
     "slide_type": "slide"
    }
   },
   "source": [
    "* ... and the CRSP data."
   ]
  },
  {
   "cell_type": "code",
   "execution_count": null,
   "metadata": {},
   "outputs": [],
   "source": [
    "crsp_data = pd.read_csv(\"../data/sample_data_crsp.txt\", sep=\"\\t\")\n",
    "\n",
    "## Similarly, modify the 'date' column in CRSP\n",
    "crsp_data['date'] = crsp_data['date'].astype(str)\n",
    "crsp_data['date'] = crsp_data['date'].str[0:6]  \n",
    "crsp_data['date'] = crsp_data['date'].astype(int)\n",
    "\n",
    "crsp_data.head(10)"
   ]
  },
  {
   "cell_type": "markdown",
   "metadata": {
    "slideshow": {
     "slide_type": "slide"
    }
   },
   "source": [
    "### Difference between data sources\n",
    "\n",
    "* Merging is only possible if the DataFrames have *exactly* the same values. \n",
    "* Compare:\n",
    "    * `'AMERICAN INTERNATIONAL GROUP'` of `'company_name'` in Compustat\n",
    "    * `'AMERICAN INTERNATIONAL GROUP INC'` of `'company_name'` in CRSP\n",
    "* Compare:        \n",
    "    * `'datadate'` value of `'20001231'` in Compustat\n",
    "    * `'date'` value of `'20001229'` in CRSP\n",
    "    * We need monthly data, but CRSP uses the last trading day of each month, while Compustat uses the last calendar day."
   ]
  },
  {
   "cell_type": "markdown",
   "metadata": {
    "slideshow": {
     "slide_type": "slide"
    }
   },
   "source": [
    "### How to proceed?\n",
    "1. Find some common information that is in both data frames to be merged. \n",
    "    - For example, both Compustat and CRSP contain company names (and though not shown, both also have stock tickers and CUSIP numbers)\n",
    "2. Match the common values in data frame 1 to those of data frame 2\n",
    "    - For example, match 'AMERICAN INTERNATIONAL GROUP' in Compustat to 'AMERICAN INTERNATIONAL GROUP INC' in CRSP\n",
    "    - Unfortunately, this often must be done by hand. Smart computer algorithms or regular expressions can help.\n",
    "3. Create a file that lists each of the matching values across data frames\n",
    "4. A key challenge: Company names, tickers, etc. can change over time! Each data vendor has its own policy for updating these identifiers.\n",
    "    - Compustat only lists the most recent company name for all dates, while CRSP lists the company name as of each date\n",
    "    - Google changed name to Alphabet Inc. in a 2015 reorganization, but in Compustat financials going back to 2004 are listed under 'ALPHABET INC'    "
   ]
  },
  {
   "cell_type": "markdown",
   "metadata": {
    "slideshow": {
     "slide_type": "slide"
    }
   },
   "source": [
    "* To highlight the merge procedure, first open a matching file (previously created)."
   ]
  },
  {
   "cell_type": "code",
   "execution_count": null,
   "metadata": {},
   "outputs": [],
   "source": [
    "compustat_crsp_linkfile = pd.read_csv(\"../data/sample_compustat_crsp_linkfile.txt\", sep=\"\\t\")\n",
    "compustat_crsp_linkfile.head(10)"
   ]
  },
  {
   "cell_type": "markdown",
   "metadata": {
    "slideshow": {
     "slide_type": "slide"
    }
   },
   "source": [
    "* We will implement the merge in Pandas using a two-step process. \n",
    "* First, merge the Compustat data frame with the link file data frame, to add the 'permco' identifier to Compustat."
   ]
  },
  {
   "cell_type": "code",
   "execution_count": null,
   "metadata": {},
   "outputs": [],
   "source": [
    "## Merge the data frames by 'gvkey' and 'date'\n",
    "merged_data = pd.merge(compustat_data, compustat_crsp_linkfile, on=['gvkey', 'date'], how='inner')   \n",
    "\n",
    "merged_data.head()"
   ]
  },
  {
   "cell_type": "markdown",
   "metadata": {
    "slideshow": {
     "slide_type": "slide"
    }
   },
   "source": [
    "* Then merge the modified Compustat data frame (which includes the 'permco' identifier) to the CRSP data frame.\n",
    "* Note that duplicate column names that are not merged on (e.g. 'company_name'), are renamed by pandas."
   ]
  },
  {
   "cell_type": "code",
   "execution_count": null,
   "metadata": {},
   "outputs": [],
   "source": [
    "## Merge with CRSP by 'permco' and 'date'\n",
    "merged_data = pd.merge(merged_data, crsp_data, on=['permco', 'date'], how='inner')\n",
    "merged_data.head()"
   ]
  },
  {
   "cell_type": "markdown",
   "metadata": {
    "slideshow": {
     "slide_type": "slide"
    }
   },
   "source": [
    "### Important decisions when merging\n",
    "\n",
    "* Which observations to keep?\n",
    "    * Data merging = data cleaning.\n",
    "    * Coverage and frequency may differ: \n",
    "        * Compustat contains all firms that file financial statements in the United States.\n",
    "        * CRSP contains stock prices of all firms that trade on U.S. stock exchanges.\n",
    "    * Depends on ultimate goal of analysis.\n",
    "* What variables to merge on?\n",
    "    * Study what variables uniquely define observations!\n",
    "        * E.g. company name AND date, not just company.\n",
    "    * Use those in the merge command.\n",
    "    * Otherwise, duplicate values."
   ]
  },
  {
   "cell_type": "markdown",
   "metadata": {
    "slideshow": {
     "slide_type": "slide"
    }
   },
   "source": [
    "## Summary\n",
    "\n",
    "* **MultiIndex** is an index with multiple levels. It allows to store multidimensional data in two- or one- dimensional object.\n",
    "* **Merging data** is necessary when not all data is in the same database.\n",
    "* Match identifiers from both databases using a link file."
   ]
  },
  {
   "cell_type": "markdown",
   "metadata": {
    "slideshow": {
     "slide_type": "slide"
    }
   },
   "source": [
    "<section id=\"copyrightslide\">\n",
    "\n",
    "# Copyright Statement\n",
    "* Course slides were created by Simon Broda for Python 2.7 $-$ Andreas Rapp adapted them to Python 3.6. \n",
    "* Week 4 slides were created by Bart Keijsers. The hierarchical indexing example is from the UvA course Data Science Methods by Cees Diks and Bram Wouters. The merging databases are from Tomislav Ladika's Python bootcamp for the UvA course Data Analytics (MIF).\n",
    "* This work is licensed under a [Creative Commons Attribution-ShareAlike 4.0 International License](https://creativecommons.org/licenses/by-sa/4.0/).\n",
    "* All figures have been produced for this course using Python. Empirical results are based on public data available from [FRED](https://fred.stlouisfed.org/), [Quandl/WIKI](https://www.quandl.com/databases/WIKIP), and [Yahoo Finance](https://finance.yahoo.com/).\n",
    "* More information on Simon Broda's [Github](https://github.com/s-broda/ComputationalFinance/blob/master/LICENSE.md)."
   ]
  }
 ],
 "metadata": {
  "celltoolbar": "Slideshow",
  "kernelspec": {
   "display_name": "Python 3 (ipykernel)",
   "language": "python",
   "name": "python3"
  },
  "language_info": {
   "codemirror_mode": {
    "name": "ipython",
    "version": 3
   },
   "file_extension": ".py",
   "mimetype": "text/x-python",
   "name": "python",
   "nbconvert_exporter": "python",
   "pygments_lexer": "ipython3",
   "version": "3.8.8"
  },
  "livereveal": {
   "start_slideshow_at": "selected"
  }
 },
 "nbformat": 4,
 "nbformat_minor": 2
}

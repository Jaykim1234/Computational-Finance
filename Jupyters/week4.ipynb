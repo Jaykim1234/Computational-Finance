{
 "cells": [
  {
   "cell_type": "code",
   "execution_count": 1,
   "metadata": {
    "scrolled": true,
    "slideshow": {
     "slide_type": "skip"
    }
   },
   "outputs": [],
   "source": [
    "#!jupyter nbconvert --to slides week4.ipynb --post serve\n",
    "# http://127.0.0.1:8000/week4.slides.html?print-pdf"
   ]
  },
  {
   "cell_type": "markdown",
   "metadata": {
    "slideshow": {
     "slide_type": "slide"
    }
   },
   "source": [
    "<p style=\"text-align: center; font-size: 192%\"> Computational Finance </p>\n",
    "<img src=\"img/ABSlogo.svg\" alt=\"LOGO\" style=\"display:block; margin-left: auto; margin-right: auto; width: 90%;\">\n",
    "<p style=\"text-align: center; font-size: 150%\"> Week 4: Asset Pricing </p>\n",
    "<p style=\"text-align: center; font-size: 75%\"> <a href=\"#copyrightslide\">Copyright</a> </p>"
   ]
  },
  {
   "cell_type": "code",
   "execution_count": 2,
   "metadata": {
    "slideshow": {
     "slide_type": "skip"
    }
   },
   "outputs": [],
   "source": [
    "#silence some warnings\n",
    "import warnings\n",
    "warnings.filterwarnings('ignore')"
   ]
  },
  {
   "cell_type": "markdown",
   "metadata": {
    "slideshow": {
     "slide_type": "slide"
    }
   },
   "source": [
    "# Last week: Risk Measures; Plotting\n",
    "\n",
    "* Python's plotting functionality is stored in the **`matplotlib`** package.\n",
    "* **Value at Risk** is a single number that measures the risk of holding an asset or portfolio of assets.\n",
    "* **Asset returns** display lack of autocorrelation, leverage effects, heavy tailed distribution, and volatility clustering.\n",
    "* Both **nonparametric and parametric methods** can be used to compute the Value at Risk.\n",
    "    * Nonparametric: historical simulation, KDE\n",
    "    * Parametric: normal, $t$ distribution\n",
    "* The methods differ by the assumptions on the return distribution; this should be tested.\n",
    "* The VaR estimates should be validated by comparing the number of violations to its expected value: they should be **backtested**."
   ]
  },
  {
   "cell_type": "markdown",
   "metadata": {
    "slideshow": {
     "slide_type": "slide"
    }
   },
   "source": [
    "# This week: Asset Pricing\n",
    "\n",
    "* Anomalies\n",
    "* Constructing Characteristic Sorted Portfolios"
   ]
  },
  {
   "cell_type": "markdown",
   "metadata": {
    "slideshow": {
     "slide_type": "slide"
    }
   },
   "source": [
    "# Asset Pricing\n",
    "\n",
    "* Asset pricing is about explaining differences in prices across assets (and time).\n",
    "* Price is the sum of expected discounted payoffs. These payoffs are uncertain, or risky.\n",
    "* Two dimensions\n",
    "    * Time series: can we use today's information to predict future asset prices?\n",
    "    * Cross-sectional: what are characteristics that explain the differences in expected return between assets?\n",
    "\n",
    "* This lecture: cross-sectional asset pricing."
   ]
  },
  {
   "cell_type": "markdown",
   "metadata": {
    "slideshow": {
     "slide_type": "slide"
    }
   },
   "source": [
    "## Capital Asset Pricing Model (CAPM)\n",
    "\n",
    "* The CAPM assumes that the market risk is the only risk factor.\n",
    "\n",
    "    $$\n",
    "    E[R_{it}-R_{f,t}] = \\beta_i (R_{mt}-R_{f,t}),\n",
    "    $$\n",
    "\n",
    "    where $R_{mt}$ is the market return and $R_{f,t}$ is the risk free rate.\n",
    "\n",
    "* Differences in average returns explained by differences in betas $\\beta_i$."
   ]
  },
  {
   "cell_type": "markdown",
   "metadata": {
    "slideshow": {
     "slide_type": "slide"
    }
   },
   "source": [
    "### But...\n",
    "\n",
    "<img src=\"img/cochrane1999fig4.png\" alt=\"cochrane1999-fig4\" style=\"display:block; margin-left: auto; margin-right: auto; width: 90%;\">\n",
    "<p style=\"text-align: center; font-size: 90%\"> Source: <a href=\"https://www.chicagofed.org/publications/economic-perspectives/1999/3qepart3\">Cochrane (1999), New Facts in Finance </a></p>"
   ]
  },
  {
   "cell_type": "markdown",
   "metadata": {
    "slideshow": {
     "slide_type": "slide"
    }
   },
   "source": [
    "### Multifactor model\n",
    "\n",
    "* We can add more risk factors to try to explain B/M and size.\n",
    "\n",
    "$$\n",
    "R_{it}-R_{f,t} = \\alpha_i + \\beta_i' f_{t} + \\varepsilon_{it} = \\alpha_i + \\sum_{k=1}^K \\beta_{ik} f_{kt} + \\varepsilon_{it}\n",
    "$$\n",
    "\n",
    "* The model assumes no pricing errors ($\\alpha_i=0$), such that\n",
    "\n",
    "$$\n",
    "E[R_{it}-R_{f,t}] = \\beta_i'  f_{t}\n",
    "$$\n",
    "\n",
    "* In particular, we add\n",
    "    * Size or SMB: small-minus-big market capitalization\n",
    "    * Value or HML: high-minus-low book-to-market value\n",
    "\n"
   ]
  },
  {
   "cell_type": "markdown",
   "metadata": {
    "slideshow": {
     "slide_type": "slide"
    }
   },
   "source": [
    "### Improved fit\n",
    "<img src=\"img/cochrane1999fig5.png\" alt=\"cochrane1999-fig5\" style=\"display:block; margin-left: auto; margin-right: auto; width: 90%;\">\n",
    "<p style=\"text-align: center; font-size: 90%\"> Source: <a href=\"https://www.chicagofed.org/publications/economic-perspectives/1999/3qepart3\">Cochrane (1999), New Facts in Finance </a></p>"
   ]
  },
  {
   "cell_type": "markdown",
   "metadata": {
    "slideshow": {
     "slide_type": "slide"
    }
   },
   "source": [
    "### Other anomalies\n",
    "* Momentum: \n",
    "    * Buy winners, short losers\n",
    "    * Based on last year's returns \n",
    "    * $\\Rightarrow$ *postive* average return.\n",
    "    * Profitable in practice?\n",
    "    \n",
    "* Reversal: \n",
    "    * Buy winner, short losers\n",
    "    * Based on returns 1 to 5 years ago \n",
    "    * $\\Rightarrow$ *negative* average return.\n",
    "    * Relation with growth stocks (low book-to-market)?\n",
    "    \n",
    "* Note: this is at the longer horizon, for *monthly* returns. See week 3 for stylized facts of *daily* asset returns."
   ]
  },
  {
   "cell_type": "markdown",
   "metadata": {
    "slideshow": {
     "slide_type": "slide"
    }
   },
   "source": [
    "### Finding anomalies\n",
    "\n",
    "* Sorting portfolios\n",
    "    * Allows for nonlinear relationships.\n",
    "    * Data snooping bias; spurious risk premiums?\n",
    "    * Bias towards factor structure.\n",
    "    \n",
    "* Regression-based\n",
    "    * Directly get marginal effects.\n",
    "    * Need to assume functional form.\n",
    "    * Potentially large effect of outliers."
   ]
  },
  {
   "cell_type": "markdown",
   "metadata": {
    "slideshow": {
     "slide_type": "slide"
    }
   },
   "source": [
    "## Constructing Characteristic Sorted Portfolios\n",
    "\n",
    "1. Find a characteristic that you believe distinguishes between asset returns.\n",
    "2. Sort stocks based on this characteristic and split into groups based on this sorting.\n",
    "3. Compute betas for the portfolio.\n",
    "4. Compare the spread in alpha."
   ]
  },
  {
   "cell_type": "markdown",
   "metadata": {
    "slideshow": {
     "slide_type": "slide"
    }
   },
   "source": [
    "### 1. Find a characteristic\n",
    "\n",
    "* Most are computed from accounting numbers or asset returns.\n",
    "    * May need to merge data sets.\n",
    "    \n",
    "    \n",
    "* Popular:\n",
    "    * Size: market capitalization\n",
    "    * Value: book-to-market ratio\n",
    "    * Momentum: returns over last periods (usually period from $t-12$ to $t-2$)"
   ]
  },
  {
   "cell_type": "markdown",
   "metadata": {
    "slideshow": {
     "slide_type": "slide"
    }
   },
   "source": [
    "#### Data\n",
    "\n",
    "* Wealth of (US) financial data can be accesssed via [Wharton Research Data Services (WRDS)](https://wrds-www.wharton.upenn.edu/). It includes commonly used databases:\n",
    "    * Stock data from *The Center for Research in Security Prices (CRSP)*.\n",
    "    * Firm-level accounting data from *Compustat*.\n",
    "    * Fixed income securities (corporate bonds) data from *TRACE*.\n",
    "\n",
    "* Many sorted portfolios and factors at [Kenneth French's website](https://mba.tuck.dartmouth.edu/pages/faculty/ken.french/data_library.html).\n",
    "* Chen and Zimmerman's (2021) [Open Source Asset Pricing](https://www.openassetpricing.com/) is a comprehensive set of factors that have been proposed in the literature."
   ]
  },
  {
   "cell_type": "markdown",
   "metadata": {
    "slideshow": {
     "slide_type": "slide"
    }
   },
   "source": [
    "**Example: international indexes sorted on B/M** \n",
    "\n",
    "* We consider a set of 20 international market indexes.\n",
    "* The data consists of the value-weighted monthly simple dollar-returns, in percentages.\n",
    "* Source: Kenneth French's website. Converted to `csv` beforehand."
   ]
  },
  {
   "cell_type": "code",
   "execution_count": 3,
   "metadata": {
    "scrolled": true
   },
   "outputs": [
    {
     "data": {
      "text/html": [
       "<div>\n",
       "<style scoped>\n",
       "    .dataframe tbody tr th:only-of-type {\n",
       "        vertical-align: middle;\n",
       "    }\n",
       "\n",
       "    .dataframe tbody tr th {\n",
       "        vertical-align: top;\n",
       "    }\n",
       "\n",
       "    .dataframe thead th {\n",
       "        text-align: right;\n",
       "    }\n",
       "</style>\n",
       "<table border=\"1\" class=\"dataframe\">\n",
       "  <thead>\n",
       "    <tr style=\"text-align: right;\">\n",
       "      <th></th>\n",
       "      <th>Austria</th>\n",
       "      <th>Austrlia</th>\n",
       "      <th>Belgium</th>\n",
       "      <th>Canada</th>\n",
       "      <th>Denmark</th>\n",
       "      <th>Finland</th>\n",
       "      <th>France</th>\n",
       "      <th>Germany</th>\n",
       "      <th>HongKong</th>\n",
       "      <th>Ireland</th>\n",
       "      <th>Italy</th>\n",
       "      <th>Japan</th>\n",
       "      <th>Nethrlnd</th>\n",
       "      <th>NewZland</th>\n",
       "      <th>Norway</th>\n",
       "      <th>Singapor</th>\n",
       "      <th>Spain</th>\n",
       "      <th>Sweden</th>\n",
       "      <th>Swtzrlnd</th>\n",
       "      <th>UK</th>\n",
       "    </tr>\n",
       "  </thead>\n",
       "  <tbody>\n",
       "    <tr>\n",
       "      <th>1991-01</th>\n",
       "      <td>-2.23</td>\n",
       "      <td>5.00</td>\n",
       "      <td>1.98</td>\n",
       "      <td>0.21</td>\n",
       "      <td>3.47</td>\n",
       "      <td>-1.98</td>\n",
       "      <td>4.75</td>\n",
       "      <td>1.93</td>\n",
       "      <td>7.58</td>\n",
       "      <td>-0.37</td>\n",
       "      <td>-2.33</td>\n",
       "      <td>2.98</td>\n",
       "      <td>1.06</td>\n",
       "      <td>7.13</td>\n",
       "      <td>-7.07</td>\n",
       "      <td>4.24</td>\n",
       "      <td>7.12</td>\n",
       "      <td>14.76</td>\n",
       "      <td>5.15</td>\n",
       "      <td>3.36</td>\n",
       "    </tr>\n",
       "    <tr>\n",
       "      <th>1991-02</th>\n",
       "      <td>13.14</td>\n",
       "      <td>6.97</td>\n",
       "      <td>10.85</td>\n",
       "      <td>6.92</td>\n",
       "      <td>8.84</td>\n",
       "      <td>9.43</td>\n",
       "      <td>8.41</td>\n",
       "      <td>5.78</td>\n",
       "      <td>9.99</td>\n",
       "      <td>17.52</td>\n",
       "      <td>13.27</td>\n",
       "      <td>11.68</td>\n",
       "      <td>5.88</td>\n",
       "      <td>8.50</td>\n",
       "      <td>10.34</td>\n",
       "      <td>13.27</td>\n",
       "      <td>10.75</td>\n",
       "      <td>9.70</td>\n",
       "      <td>5.00</td>\n",
       "      <td>8.15</td>\n",
       "    </tr>\n",
       "    <tr>\n",
       "      <th>1991-03</th>\n",
       "      <td>-9.11</td>\n",
       "      <td>1.56</td>\n",
       "      <td>-6.23</td>\n",
       "      <td>0.17</td>\n",
       "      <td>-9.22</td>\n",
       "      <td>6.23</td>\n",
       "      <td>-6.40</td>\n",
       "      <td>-12.07</td>\n",
       "      <td>5.25</td>\n",
       "      <td>-3.70</td>\n",
       "      <td>-7.80</td>\n",
       "      <td>-5.23</td>\n",
       "      <td>-3.21</td>\n",
       "      <td>-5.44</td>\n",
       "      <td>-6.06</td>\n",
       "      <td>1.06</td>\n",
       "      <td>-2.82</td>\n",
       "      <td>-4.34</td>\n",
       "      <td>-4.06</td>\n",
       "      <td>-4.97</td>\n",
       "    </tr>\n",
       "    <tr>\n",
       "      <th>1991-04</th>\n",
       "      <td>2.80</td>\n",
       "      <td>8.03</td>\n",
       "      <td>-1.41</td>\n",
       "      <td>0.67</td>\n",
       "      <td>-1.28</td>\n",
       "      <td>-3.54</td>\n",
       "      <td>-1.75</td>\n",
       "      <td>4.50</td>\n",
       "      <td>-3.43</td>\n",
       "      <td>-5.97</td>\n",
       "      <td>-1.35</td>\n",
       "      <td>2.58</td>\n",
       "      <td>2.83</td>\n",
       "      <td>9.46</td>\n",
       "      <td>-3.55</td>\n",
       "      <td>1.87</td>\n",
       "      <td>-2.50</td>\n",
       "      <td>-4.47</td>\n",
       "      <td>1.24</td>\n",
       "      <td>0.46</td>\n",
       "    </tr>\n",
       "    <tr>\n",
       "      <th>1991-05</th>\n",
       "      <td>-2.98</td>\n",
       "      <td>-4.09</td>\n",
       "      <td>-3.07</td>\n",
       "      <td>3.68</td>\n",
       "      <td>1.38</td>\n",
       "      <td>-4.57</td>\n",
       "      <td>0.51</td>\n",
       "      <td>2.96</td>\n",
       "      <td>4.06</td>\n",
       "      <td>0.26</td>\n",
       "      <td>4.21</td>\n",
       "      <td>-1.34</td>\n",
       "      <td>-1.10</td>\n",
       "      <td>3.01</td>\n",
       "      <td>6.72</td>\n",
       "      <td>0.56</td>\n",
       "      <td>1.88</td>\n",
       "      <td>5.16</td>\n",
       "      <td>1.49</td>\n",
       "      <td>-1.32</td>\n",
       "    </tr>\n",
       "  </tbody>\n",
       "</table>\n",
       "</div>"
      ],
      "text/plain": [
       "         Austria  Austrlia  Belgium  Canada  Denmark  Finland  France  \\\n",
       "1991-01    -2.23      5.00     1.98    0.21     3.47    -1.98    4.75   \n",
       "1991-02    13.14      6.97    10.85    6.92     8.84     9.43    8.41   \n",
       "1991-03    -9.11      1.56    -6.23    0.17    -9.22     6.23   -6.40   \n",
       "1991-04     2.80      8.03    -1.41    0.67    -1.28    -3.54   -1.75   \n",
       "1991-05    -2.98     -4.09    -3.07    3.68     1.38    -4.57    0.51   \n",
       "\n",
       "         Germany  HongKong  Ireland  Italy  Japan  Nethrlnd  NewZland  Norway  \\\n",
       "1991-01     1.93      7.58    -0.37  -2.33   2.98      1.06      7.13   -7.07   \n",
       "1991-02     5.78      9.99    17.52  13.27  11.68      5.88      8.50   10.34   \n",
       "1991-03   -12.07      5.25    -3.70  -7.80  -5.23     -3.21     -5.44   -6.06   \n",
       "1991-04     4.50     -3.43    -5.97  -1.35   2.58      2.83      9.46   -3.55   \n",
       "1991-05     2.96      4.06     0.26   4.21  -1.34     -1.10      3.01    6.72   \n",
       "\n",
       "         Singapor  Spain  Sweden  Swtzrlnd    UK  \n",
       "1991-01      4.24   7.12   14.76      5.15  3.36  \n",
       "1991-02     13.27  10.75    9.70      5.00  8.15  \n",
       "1991-03      1.06  -2.82   -4.34     -4.06 -4.97  \n",
       "1991-04      1.87  -2.50   -4.47      1.24  0.46  \n",
       "1991-05      0.56   1.88    5.16      1.49 -1.32  "
      ]
     },
     "execution_count": 3,
     "metadata": {},
     "output_type": "execute_result"
    }
   ],
   "source": [
    "import pandas as pd\n",
    "R = pd.read_csv('data/F-F_International_Countries_Mkt.csv',index_col=0)\n",
    "R.index = pd.to_datetime(R.index, format='%Y-%m').to_period('M')\n",
    "R = R.dropna()  # Remove months with missing values (Ireland starts last, in 1991)\n",
    "R.head()"
   ]
  },
  {
   "cell_type": "code",
   "execution_count": 4,
   "metadata": {
    "slideshow": {
     "slide_type": "slide"
    }
   },
   "outputs": [
    {
     "data": {
      "text/html": [
       "<div>\n",
       "<style scoped>\n",
       "    .dataframe tbody tr th:only-of-type {\n",
       "        vertical-align: middle;\n",
       "    }\n",
       "\n",
       "    .dataframe tbody tr th {\n",
       "        vertical-align: top;\n",
       "    }\n",
       "\n",
       "    .dataframe thead th {\n",
       "        text-align: right;\n",
       "    }\n",
       "</style>\n",
       "<table border=\"1\" class=\"dataframe\">\n",
       "  <thead>\n",
       "    <tr style=\"text-align: right;\">\n",
       "      <th></th>\n",
       "      <th>Austria</th>\n",
       "      <th>Austrlia</th>\n",
       "      <th>Belgium</th>\n",
       "      <th>Canada</th>\n",
       "      <th>Denmark</th>\n",
       "      <th>Finland</th>\n",
       "      <th>France</th>\n",
       "      <th>Germany</th>\n",
       "      <th>HongKong</th>\n",
       "      <th>Ireland</th>\n",
       "      <th>Italy</th>\n",
       "      <th>Japan</th>\n",
       "      <th>Nethrlnd</th>\n",
       "      <th>NewZland</th>\n",
       "      <th>Norway</th>\n",
       "      <th>Singapor</th>\n",
       "      <th>Spain</th>\n",
       "      <th>Sweden</th>\n",
       "      <th>Swtzrlnd</th>\n",
       "      <th>UK</th>\n",
       "    </tr>\n",
       "  </thead>\n",
       "  <tbody>\n",
       "    <tr>\n",
       "      <th>count</th>\n",
       "      <td>348.000000</td>\n",
       "      <td>348.000000</td>\n",
       "      <td>348.000000</td>\n",
       "      <td>348.000000</td>\n",
       "      <td>348.000000</td>\n",
       "      <td>348.000000</td>\n",
       "      <td>348.000000</td>\n",
       "      <td>348.000000</td>\n",
       "      <td>348.000000</td>\n",
       "      <td>348.000000</td>\n",
       "      <td>348.000000</td>\n",
       "      <td>348.000000</td>\n",
       "      <td>348.000000</td>\n",
       "      <td>348.000000</td>\n",
       "      <td>348.000000</td>\n",
       "      <td>348.000000</td>\n",
       "      <td>348.000000</td>\n",
       "      <td>348.000000</td>\n",
       "      <td>348.000000</td>\n",
       "      <td>348.000000</td>\n",
       "    </tr>\n",
       "    <tr>\n",
       "      <th>mean</th>\n",
       "      <td>0.653190</td>\n",
       "      <td>0.945517</td>\n",
       "      <td>0.810345</td>\n",
       "      <td>0.834397</td>\n",
       "      <td>0.988161</td>\n",
       "      <td>1.200460</td>\n",
       "      <td>0.865259</td>\n",
       "      <td>0.783218</td>\n",
       "      <td>1.089224</td>\n",
       "      <td>0.740374</td>\n",
       "      <td>0.665632</td>\n",
       "      <td>0.383563</td>\n",
       "      <td>0.964598</td>\n",
       "      <td>0.944540</td>\n",
       "      <td>0.891983</td>\n",
       "      <td>0.832557</td>\n",
       "      <td>0.797874</td>\n",
       "      <td>1.098362</td>\n",
       "      <td>0.972989</td>\n",
       "      <td>0.696437</td>\n",
       "    </tr>\n",
       "    <tr>\n",
       "      <th>std</th>\n",
       "      <td>6.137903</td>\n",
       "      <td>5.715196</td>\n",
       "      <td>5.130086</td>\n",
       "      <td>5.274918</td>\n",
       "      <td>5.366559</td>\n",
       "      <td>8.107482</td>\n",
       "      <td>5.494453</td>\n",
       "      <td>5.785085</td>\n",
       "      <td>6.923172</td>\n",
       "      <td>6.662191</td>\n",
       "      <td>6.805346</td>\n",
       "      <td>5.324094</td>\n",
       "      <td>5.357310</td>\n",
       "      <td>5.861817</td>\n",
       "      <td>6.945321</td>\n",
       "      <td>6.629343</td>\n",
       "      <td>6.305345</td>\n",
       "      <td>6.769426</td>\n",
       "      <td>4.448870</td>\n",
       "      <td>4.567104</td>\n",
       "    </tr>\n",
       "    <tr>\n",
       "      <th>min</th>\n",
       "      <td>-34.250000</td>\n",
       "      <td>-27.690000</td>\n",
       "      <td>-29.530000</td>\n",
       "      <td>-26.930000</td>\n",
       "      <td>-25.690000</td>\n",
       "      <td>-28.990000</td>\n",
       "      <td>-22.230000</td>\n",
       "      <td>-23.300000</td>\n",
       "      <td>-28.600000</td>\n",
       "      <td>-23.870000</td>\n",
       "      <td>-22.880000</td>\n",
       "      <td>-15.880000</td>\n",
       "      <td>-26.370000</td>\n",
       "      <td>-18.980000</td>\n",
       "      <td>-30.950000</td>\n",
       "      <td>-28.310000</td>\n",
       "      <td>-22.780000</td>\n",
       "      <td>-27.660000</td>\n",
       "      <td>-14.720000</td>\n",
       "      <td>-20.460000</td>\n",
       "    </tr>\n",
       "    <tr>\n",
       "      <th>25%</th>\n",
       "      <td>-3.140000</td>\n",
       "      <td>-2.422500</td>\n",
       "      <td>-2.062500</td>\n",
       "      <td>-2.015000</td>\n",
       "      <td>-2.045000</td>\n",
       "      <td>-3.372500</td>\n",
       "      <td>-2.540000</td>\n",
       "      <td>-2.202500</td>\n",
       "      <td>-2.780000</td>\n",
       "      <td>-2.907500</td>\n",
       "      <td>-3.512500</td>\n",
       "      <td>-2.927500</td>\n",
       "      <td>-1.757500</td>\n",
       "      <td>-2.455000</td>\n",
       "      <td>-3.360000</td>\n",
       "      <td>-2.005000</td>\n",
       "      <td>-3.095000</td>\n",
       "      <td>-2.857500</td>\n",
       "      <td>-1.437500</td>\n",
       "      <td>-2.072500</td>\n",
       "    </tr>\n",
       "    <tr>\n",
       "      <th>50%</th>\n",
       "      <td>0.930000</td>\n",
       "      <td>1.205000</td>\n",
       "      <td>1.120000</td>\n",
       "      <td>1.140000</td>\n",
       "      <td>1.365000</td>\n",
       "      <td>0.855000</td>\n",
       "      <td>1.110000</td>\n",
       "      <td>1.115000</td>\n",
       "      <td>1.090000</td>\n",
       "      <td>1.135000</td>\n",
       "      <td>0.710000</td>\n",
       "      <td>0.595000</td>\n",
       "      <td>1.335000</td>\n",
       "      <td>1.210000</td>\n",
       "      <td>1.085000</td>\n",
       "      <td>0.900000</td>\n",
       "      <td>0.980000</td>\n",
       "      <td>1.150000</td>\n",
       "      <td>1.300000</td>\n",
       "      <td>0.895000</td>\n",
       "    </tr>\n",
       "    <tr>\n",
       "      <th>75%</th>\n",
       "      <td>4.660000</td>\n",
       "      <td>4.282500</td>\n",
       "      <td>3.895000</td>\n",
       "      <td>3.952500</td>\n",
       "      <td>4.362500</td>\n",
       "      <td>5.740000</td>\n",
       "      <td>4.242500</td>\n",
       "      <td>4.510000</td>\n",
       "      <td>4.347500</td>\n",
       "      <td>4.430000</td>\n",
       "      <td>4.665000</td>\n",
       "      <td>3.640000</td>\n",
       "      <td>4.332500</td>\n",
       "      <td>4.657500</td>\n",
       "      <td>5.425000</td>\n",
       "      <td>3.997500</td>\n",
       "      <td>4.807500</td>\n",
       "      <td>5.040000</td>\n",
       "      <td>3.775000</td>\n",
       "      <td>3.522500</td>\n",
       "    </tr>\n",
       "    <tr>\n",
       "      <th>max</th>\n",
       "      <td>18.960000</td>\n",
       "      <td>17.090000</td>\n",
       "      <td>16.680000</td>\n",
       "      <td>21.710000</td>\n",
       "      <td>18.100000</td>\n",
       "      <td>30.830000</td>\n",
       "      <td>15.040000</td>\n",
       "      <td>21.990000</td>\n",
       "      <td>32.180000</td>\n",
       "      <td>35.050000</td>\n",
       "      <td>21.220000</td>\n",
       "      <td>17.930000</td>\n",
       "      <td>14.020000</td>\n",
       "      <td>15.170000</td>\n",
       "      <td>19.470000</td>\n",
       "      <td>29.610000</td>\n",
       "      <td>21.140000</td>\n",
       "      <td>25.220000</td>\n",
       "      <td>13.210000</td>\n",
       "      <td>14.320000</td>\n",
       "    </tr>\n",
       "  </tbody>\n",
       "</table>\n",
       "</div>"
      ],
      "text/plain": [
       "          Austria    Austrlia     Belgium      Canada     Denmark     Finland  \\\n",
       "count  348.000000  348.000000  348.000000  348.000000  348.000000  348.000000   \n",
       "mean     0.653190    0.945517    0.810345    0.834397    0.988161    1.200460   \n",
       "std      6.137903    5.715196    5.130086    5.274918    5.366559    8.107482   \n",
       "min    -34.250000  -27.690000  -29.530000  -26.930000  -25.690000  -28.990000   \n",
       "25%     -3.140000   -2.422500   -2.062500   -2.015000   -2.045000   -3.372500   \n",
       "50%      0.930000    1.205000    1.120000    1.140000    1.365000    0.855000   \n",
       "75%      4.660000    4.282500    3.895000    3.952500    4.362500    5.740000   \n",
       "max     18.960000   17.090000   16.680000   21.710000   18.100000   30.830000   \n",
       "\n",
       "           France     Germany    HongKong     Ireland       Italy       Japan  \\\n",
       "count  348.000000  348.000000  348.000000  348.000000  348.000000  348.000000   \n",
       "mean     0.865259    0.783218    1.089224    0.740374    0.665632    0.383563   \n",
       "std      5.494453    5.785085    6.923172    6.662191    6.805346    5.324094   \n",
       "min    -22.230000  -23.300000  -28.600000  -23.870000  -22.880000  -15.880000   \n",
       "25%     -2.540000   -2.202500   -2.780000   -2.907500   -3.512500   -2.927500   \n",
       "50%      1.110000    1.115000    1.090000    1.135000    0.710000    0.595000   \n",
       "75%      4.242500    4.510000    4.347500    4.430000    4.665000    3.640000   \n",
       "max     15.040000   21.990000   32.180000   35.050000   21.220000   17.930000   \n",
       "\n",
       "         Nethrlnd    NewZland      Norway    Singapor       Spain      Sweden  \\\n",
       "count  348.000000  348.000000  348.000000  348.000000  348.000000  348.000000   \n",
       "mean     0.964598    0.944540    0.891983    0.832557    0.797874    1.098362   \n",
       "std      5.357310    5.861817    6.945321    6.629343    6.305345    6.769426   \n",
       "min    -26.370000  -18.980000  -30.950000  -28.310000  -22.780000  -27.660000   \n",
       "25%     -1.757500   -2.455000   -3.360000   -2.005000   -3.095000   -2.857500   \n",
       "50%      1.335000    1.210000    1.085000    0.900000    0.980000    1.150000   \n",
       "75%      4.332500    4.657500    5.425000    3.997500    4.807500    5.040000   \n",
       "max     14.020000   15.170000   19.470000   29.610000   21.140000   25.220000   \n",
       "\n",
       "         Swtzrlnd          UK  \n",
       "count  348.000000  348.000000  \n",
       "mean     0.972989    0.696437  \n",
       "std      4.448870    4.567104  \n",
       "min    -14.720000  -20.460000  \n",
       "25%     -1.437500   -2.072500  \n",
       "50%      1.300000    0.895000  \n",
       "75%      3.775000    3.522500  \n",
       "max     13.210000   14.320000  "
      ]
     },
     "execution_count": 4,
     "metadata": {},
     "output_type": "execute_result"
    }
   ],
   "source": [
    "R.describe()"
   ]
  },
  {
   "cell_type": "markdown",
   "metadata": {
    "slideshow": {
     "slide_type": "slide"
    }
   },
   "source": [
    "* Here, we consider the book-to-market ratio as characteristic. \n",
    "* The data is available in the same data set, downloaded and converted to `csv` beforehand."
   ]
  },
  {
   "cell_type": "code",
   "execution_count": 5,
   "metadata": {
    "scrolled": true
   },
   "outputs": [
    {
     "data": {
      "text/html": [
       "<div>\n",
       "<style scoped>\n",
       "    .dataframe tbody tr th:only-of-type {\n",
       "        vertical-align: middle;\n",
       "    }\n",
       "\n",
       "    .dataframe tbody tr th {\n",
       "        vertical-align: top;\n",
       "    }\n",
       "\n",
       "    .dataframe thead th {\n",
       "        text-align: right;\n",
       "    }\n",
       "</style>\n",
       "<table border=\"1\" class=\"dataframe\">\n",
       "  <thead>\n",
       "    <tr style=\"text-align: right;\">\n",
       "      <th></th>\n",
       "      <th>Austria</th>\n",
       "      <th>Austrlia</th>\n",
       "      <th>Belgium</th>\n",
       "      <th>Canada</th>\n",
       "      <th>Denmark</th>\n",
       "      <th>Finland</th>\n",
       "      <th>France</th>\n",
       "      <th>Germany</th>\n",
       "      <th>HongKong</th>\n",
       "      <th>Ireland</th>\n",
       "      <th>Italy</th>\n",
       "      <th>Japan</th>\n",
       "      <th>Nethrlnd</th>\n",
       "      <th>NewZland</th>\n",
       "      <th>Norway</th>\n",
       "      <th>Singapor</th>\n",
       "      <th>Spain</th>\n",
       "      <th>Sweden</th>\n",
       "      <th>Swtzrlnd</th>\n",
       "      <th>UK</th>\n",
       "    </tr>\n",
       "  </thead>\n",
       "  <tbody>\n",
       "    <tr>\n",
       "      <th>1991</th>\n",
       "      <td>39.07</td>\n",
       "      <td>88.40</td>\n",
       "      <td>86.56</td>\n",
       "      <td>75.31</td>\n",
       "      <td>53.08</td>\n",
       "      <td>155.51</td>\n",
       "      <td>73.80</td>\n",
       "      <td>54.90</td>\n",
       "      <td>87.82</td>\n",
       "      <td>71.65</td>\n",
       "      <td>86.20</td>\n",
       "      <td>37.91</td>\n",
       "      <td>80.55</td>\n",
       "      <td>132.51</td>\n",
       "      <td>42.92</td>\n",
       "      <td>61.97</td>\n",
       "      <td>99.87</td>\n",
       "      <td>63.90</td>\n",
       "      <td>82.09</td>\n",
       "      <td>66.95</td>\n",
       "    </tr>\n",
       "    <tr>\n",
       "      <th>1992</th>\n",
       "      <td>56.16</td>\n",
       "      <td>66.03</td>\n",
       "      <td>83.85</td>\n",
       "      <td>72.24</td>\n",
       "      <td>58.84</td>\n",
       "      <td>192.13</td>\n",
       "      <td>69.54</td>\n",
       "      <td>54.46</td>\n",
       "      <td>65.77</td>\n",
       "      <td>66.18</td>\n",
       "      <td>91.09</td>\n",
       "      <td>39.78</td>\n",
       "      <td>71.39</td>\n",
       "      <td>90.42</td>\n",
       "      <td>55.63</td>\n",
       "      <td>58.36</td>\n",
       "      <td>89.40</td>\n",
       "      <td>60.89</td>\n",
       "      <td>73.71</td>\n",
       "      <td>56.15</td>\n",
       "    </tr>\n",
       "    <tr>\n",
       "      <th>1993</th>\n",
       "      <td>64.18</td>\n",
       "      <td>72.15</td>\n",
       "      <td>88.89</td>\n",
       "      <td>75.78</td>\n",
       "      <td>75.35</td>\n",
       "      <td>166.86</td>\n",
       "      <td>71.24</td>\n",
       "      <td>60.50</td>\n",
       "      <td>58.36</td>\n",
       "      <td>71.04</td>\n",
       "      <td>113.52</td>\n",
       "      <td>54.57</td>\n",
       "      <td>70.82</td>\n",
       "      <td>86.64</td>\n",
       "      <td>56.42</td>\n",
       "      <td>60.10</td>\n",
       "      <td>97.59</td>\n",
       "      <td>59.84</td>\n",
       "      <td>65.06</td>\n",
       "      <td>47.31</td>\n",
       "    </tr>\n",
       "    <tr>\n",
       "      <th>1994</th>\n",
       "      <td>48.24</td>\n",
       "      <td>55.12</td>\n",
       "      <td>68.33</td>\n",
       "      <td>58.32</td>\n",
       "      <td>43.61</td>\n",
       "      <td>82.65</td>\n",
       "      <td>57.24</td>\n",
       "      <td>43.49</td>\n",
       "      <td>33.10</td>\n",
       "      <td>44.34</td>\n",
       "      <td>75.02</td>\n",
       "      <td>48.45</td>\n",
       "      <td>49.62</td>\n",
       "      <td>53.73</td>\n",
       "      <td>48.79</td>\n",
       "      <td>39.19</td>\n",
       "      <td>65.29</td>\n",
       "      <td>45.06</td>\n",
       "      <td>45.27</td>\n",
       "      <td>40.47</td>\n",
       "    </tr>\n",
       "    <tr>\n",
       "      <th>1995</th>\n",
       "      <td>52.19</td>\n",
       "      <td>60.04</td>\n",
       "      <td>74.94</td>\n",
       "      <td>57.99</td>\n",
       "      <td>45.35</td>\n",
       "      <td>62.32</td>\n",
       "      <td>73.51</td>\n",
       "      <td>48.61</td>\n",
       "      <td>68.39</td>\n",
       "      <td>50.24</td>\n",
       "      <td>78.78</td>\n",
       "      <td>44.82</td>\n",
       "      <td>55.72</td>\n",
       "      <td>61.07</td>\n",
       "      <td>52.40</td>\n",
       "      <td>38.26</td>\n",
       "      <td>75.13</td>\n",
       "      <td>45.14</td>\n",
       "      <td>53.26</td>\n",
       "      <td>47.12</td>\n",
       "    </tr>\n",
       "  </tbody>\n",
       "</table>\n",
       "</div>"
      ],
      "text/plain": [
       "      Austria  Austrlia  Belgium  Canada  Denmark  Finland  France  Germany  \\\n",
       "1991    39.07     88.40    86.56   75.31    53.08   155.51   73.80    54.90   \n",
       "1992    56.16     66.03    83.85   72.24    58.84   192.13   69.54    54.46   \n",
       "1993    64.18     72.15    88.89   75.78    75.35   166.86   71.24    60.50   \n",
       "1994    48.24     55.12    68.33   58.32    43.61    82.65   57.24    43.49   \n",
       "1995    52.19     60.04    74.94   57.99    45.35    62.32   73.51    48.61   \n",
       "\n",
       "      HongKong  Ireland   Italy  Japan  Nethrlnd  NewZland  Norway  Singapor  \\\n",
       "1991     87.82    71.65   86.20  37.91     80.55    132.51   42.92     61.97   \n",
       "1992     65.77    66.18   91.09  39.78     71.39     90.42   55.63     58.36   \n",
       "1993     58.36    71.04  113.52  54.57     70.82     86.64   56.42     60.10   \n",
       "1994     33.10    44.34   75.02  48.45     49.62     53.73   48.79     39.19   \n",
       "1995     68.39    50.24   78.78  44.82     55.72     61.07   52.40     38.26   \n",
       "\n",
       "      Spain  Sweden  Swtzrlnd     UK  \n",
       "1991  99.87   63.90     82.09  66.95  \n",
       "1992  89.40   60.89     73.71  56.15  \n",
       "1993  97.59   59.84     65.06  47.31  \n",
       "1994  65.29   45.06     45.27  40.47  \n",
       "1995  75.13   45.14     53.26  47.12  "
      ]
     },
     "execution_count": 5,
     "metadata": {},
     "output_type": "execute_result"
    }
   ],
   "source": [
    "bm = pd.read_csv('data/F-F_International_Countries_BM.csv',index_col=0)  # B/M times 100\n",
    "bm.index = pd.to_datetime(bm.index, format='%Y').to_period('Y')\n",
    "bm = bm.dropna()  # Remove months with missing values (Ireland starts last, in 1991)\n",
    "bm.head()"
   ]
  },
  {
   "cell_type": "markdown",
   "metadata": {
    "slideshow": {
     "slide_type": "slide"
    }
   },
   "source": [
    "* Momentum"
   ]
  },
  {
   "cell_type": "code",
   "execution_count": 6,
   "metadata": {},
   "outputs": [
    {
     "data": {
      "text/html": [
       "<div>\n",
       "<style scoped>\n",
       "    .dataframe tbody tr th:only-of-type {\n",
       "        vertical-align: middle;\n",
       "    }\n",
       "\n",
       "    .dataframe tbody tr th {\n",
       "        vertical-align: top;\n",
       "    }\n",
       "\n",
       "    .dataframe thead th {\n",
       "        text-align: right;\n",
       "    }\n",
       "</style>\n",
       "<table border=\"1\" class=\"dataframe\">\n",
       "  <thead>\n",
       "    <tr style=\"text-align: right;\">\n",
       "      <th></th>\n",
       "      <th>Austria</th>\n",
       "      <th>Austrlia</th>\n",
       "      <th>Belgium</th>\n",
       "      <th>Canada</th>\n",
       "      <th>Denmark</th>\n",
       "      <th>Finland</th>\n",
       "      <th>France</th>\n",
       "      <th>Germany</th>\n",
       "      <th>HongKong</th>\n",
       "      <th>Ireland</th>\n",
       "      <th>Italy</th>\n",
       "      <th>Japan</th>\n",
       "      <th>Nethrlnd</th>\n",
       "      <th>NewZland</th>\n",
       "      <th>Norway</th>\n",
       "      <th>Singapor</th>\n",
       "      <th>Spain</th>\n",
       "      <th>Sweden</th>\n",
       "      <th>Swtzrlnd</th>\n",
       "      <th>UK</th>\n",
       "    </tr>\n",
       "  </thead>\n",
       "  <tbody>\n",
       "    <tr>\n",
       "      <th>1992-01</th>\n",
       "      <td>-18.749615</td>\n",
       "      <td>27.432909</td>\n",
       "      <td>2.764718</td>\n",
       "      <td>10.433153</td>\n",
       "      <td>10.642893</td>\n",
       "      <td>-21.334706</td>\n",
       "      <td>8.961608</td>\n",
       "      <td>-0.095670</td>\n",
       "      <td>35.757566</td>\n",
       "      <td>8.916580</td>\n",
       "      <td>-5.167291</td>\n",
       "      <td>4.814907</td>\n",
       "      <td>9.569682</td>\n",
       "      <td>17.340446</td>\n",
       "      <td>-25.418391</td>\n",
       "      <td>17.389326</td>\n",
       "      <td>9.265745</td>\n",
       "      <td>11.598598</td>\n",
       "      <td>4.924325</td>\n",
       "      <td>9.110743</td>\n",
       "    </tr>\n",
       "    <tr>\n",
       "      <th>1992-02</th>\n",
       "      <td>-17.934698</td>\n",
       "      <td>22.663832</td>\n",
       "      <td>10.416868</td>\n",
       "      <td>10.313333</td>\n",
       "      <td>12.699496</td>\n",
       "      <td>-21.110514</td>\n",
       "      <td>12.451316</td>\n",
       "      <td>4.805301</td>\n",
       "      <td>32.007126</td>\n",
       "      <td>18.508714</td>\n",
       "      <td>1.897723</td>\n",
       "      <td>4.921667</td>\n",
       "      <td>15.626323</td>\n",
       "      <td>5.743998</td>\n",
       "      <td>-6.369962</td>\n",
       "      <td>19.148512</td>\n",
       "      <td>9.944912</td>\n",
       "      <td>2.481501</td>\n",
       "      <td>7.357626</td>\n",
       "      <td>14.074495</td>\n",
       "    </tr>\n",
       "    <tr>\n",
       "      <th>1992-03</th>\n",
       "      <td>-27.314690</td>\n",
       "      <td>12.622023</td>\n",
       "      <td>1.061609</td>\n",
       "      <td>4.666788</td>\n",
       "      <td>2.585192</td>\n",
       "      <td>-21.229382</td>\n",
       "      <td>4.954626</td>\n",
       "      <td>-0.265334</td>\n",
       "      <td>29.512405</td>\n",
       "      <td>2.134615</td>\n",
       "      <td>-8.308297</td>\n",
       "      <td>-12.004583</td>\n",
       "      <td>9.371241</td>\n",
       "      <td>-5.243660</td>\n",
       "      <td>-14.543550</td>\n",
       "      <td>9.770110</td>\n",
       "      <td>-0.405709</td>\n",
       "      <td>-6.436994</td>\n",
       "      <td>2.718322</td>\n",
       "      <td>5.365791</td>\n",
       "    </tr>\n",
       "    <tr>\n",
       "      <th>1992-04</th>\n",
       "      <td>-12.077388</td>\n",
       "      <td>11.223953</td>\n",
       "      <td>7.683949</td>\n",
       "      <td>3.592858</td>\n",
       "      <td>6.177097</td>\n",
       "      <td>-28.045998</td>\n",
       "      <td>15.740365</td>\n",
       "      <td>15.115611</td>\n",
       "      <td>31.636945</td>\n",
       "      <td>2.176143</td>\n",
       "      <td>-1.952785</td>\n",
       "      <td>-14.537175</td>\n",
       "      <td>13.281788</td>\n",
       "      <td>4.079481</td>\n",
       "      <td>-18.850436</td>\n",
       "      <td>7.457810</td>\n",
       "      <td>5.943257</td>\n",
       "      <td>-5.241988</td>\n",
       "      <td>7.242321</td>\n",
       "      <td>8.972486</td>\n",
       "    </tr>\n",
       "    <tr>\n",
       "      <th>1992-05</th>\n",
       "      <td>-19.768434</td>\n",
       "      <td>4.167841</td>\n",
       "      <td>6.899871</td>\n",
       "      <td>-2.341172</td>\n",
       "      <td>1.032839</td>\n",
       "      <td>-33.839928</td>\n",
       "      <td>17.215437</td>\n",
       "      <td>9.121307</td>\n",
       "      <td>35.973558</td>\n",
       "      <td>5.254920</td>\n",
       "      <td>-7.357254</td>\n",
       "      <td>-28.771550</td>\n",
       "      <td>9.566834</td>\n",
       "      <td>-10.510690</td>\n",
       "      <td>-8.273957</td>\n",
       "      <td>1.772568</td>\n",
       "      <td>4.507356</td>\n",
       "      <td>4.931216</td>\n",
       "      <td>4.539183</td>\n",
       "      <td>3.036238</td>\n",
       "    </tr>\n",
       "  </tbody>\n",
       "</table>\n",
       "</div>"
      ],
      "text/plain": [
       "           Austria   Austrlia    Belgium     Canada    Denmark    Finland  \\\n",
       "1992-01 -18.749615  27.432909   2.764718  10.433153  10.642893 -21.334706   \n",
       "1992-02 -17.934698  22.663832  10.416868  10.313333  12.699496 -21.110514   \n",
       "1992-03 -27.314690  12.622023   1.061609   4.666788   2.585192 -21.229382   \n",
       "1992-04 -12.077388  11.223953   7.683949   3.592858   6.177097 -28.045998   \n",
       "1992-05 -19.768434   4.167841   6.899871  -2.341172   1.032839 -33.839928   \n",
       "\n",
       "            France    Germany   HongKong    Ireland     Italy      Japan  \\\n",
       "1992-01   8.961608  -0.095670  35.757566   8.916580 -5.167291   4.814907   \n",
       "1992-02  12.451316   4.805301  32.007126  18.508714  1.897723   4.921667   \n",
       "1992-03   4.954626  -0.265334  29.512405   2.134615 -8.308297 -12.004583   \n",
       "1992-04  15.740365  15.115611  31.636945   2.176143 -1.952785 -14.537175   \n",
       "1992-05  17.215437   9.121307  35.973558   5.254920 -7.357254 -28.771550   \n",
       "\n",
       "          Nethrlnd   NewZland     Norway   Singapor     Spain     Sweden  \\\n",
       "1992-01   9.569682  17.340446 -25.418391  17.389326  9.265745  11.598598   \n",
       "1992-02  15.626323   5.743998  -6.369962  19.148512  9.944912   2.481501   \n",
       "1992-03   9.371241  -5.243660 -14.543550   9.770110 -0.405709  -6.436994   \n",
       "1992-04  13.281788   4.079481 -18.850436   7.457810  5.943257  -5.241988   \n",
       "1992-05   9.566834 -10.510690  -8.273957   1.772568  4.507356   4.931216   \n",
       "\n",
       "         Swtzrlnd         UK  \n",
       "1992-01  4.924325   9.110743  \n",
       "1992-02  7.357626  14.074495  \n",
       "1992-03  2.718322   5.365791  \n",
       "1992-04  7.242321   8.972486  \n",
       "1992-05  4.539183   3.036238  "
      ]
     },
     "execution_count": 6,
     "metadata": {},
     "output_type": "execute_result"
    }
   ],
   "source": [
    "import numpy as np\n",
    "r = np.log(1 + R / 100) * 100  # Convert to log returns such that we can sum over horizon\n",
    "mom = r.shift(2).rolling(11).sum()  # Computes the sum over the period t-12 to t-2\n",
    "mom = mom[12:]  # First year used for estimation of mom\n",
    "mom.head()"
   ]
  },
  {
   "cell_type": "markdown",
   "metadata": {
    "slideshow": {
     "slide_type": "slide"
    }
   },
   "source": [
    "### 2. Sort and group stocks\n",
    "\n",
    "* Why groups or portfolios?\n",
    "    * Accurate estimation of beta: less measurement error.\n",
    "    * Same characteristics over time: *stationarity*.\n",
    "        * Firms change over time! Example: Philips (lights $\\rightarrow$ consumer electronics $\\rightarrow$ healthcare technology)\n",
    "\n",
    "\n",
    "* Why sorting?\n",
    "    * Group stocks based on similar characteristics.\n",
    "    * Need spread in average returns; not achieved by random groups."
   ]
  },
  {
   "cell_type": "markdown",
   "metadata": {
    "slideshow": {
     "slide_type": "slide"
    }
   },
   "source": [
    "#### Procedure\n",
    "\n",
    "* Assume that we want to split the data into $P$ sorted portfolios, then\n",
    "    * Sort all stocks based on value of characteristic.\n",
    "    * Determine $P-1$ *breakpoints*.\n",
    "    * Divide stocks into $P$ groups based on the breakpoints.\n",
    "* Resorted annually, at the end of June $\\Rightarrow$ Returns from July in year $t$ until June in year $t+1$.\n",
    "    * Momentum portfolios resorted each month."
   ]
  },
  {
   "cell_type": "markdown",
   "metadata": {
    "slideshow": {
     "slide_type": "slide"
    }
   },
   "source": [
    "**Example (continued): international indexes sorted on B/M** \n",
    "\n",
    "* We have $N=20$ assets, let's go with $P=5$ groups.\n",
    "* Equally weighted returns from July 1991 to December 2019."
   ]
  },
  {
   "cell_type": "markdown",
   "metadata": {
    "slideshow": {
     "slide_type": "slide"
    }
   },
   "source": [
    "    \n",
    "*Procedure in words:*\n",
    "\n",
    "* For year $t = 1991,\\ldots,2019$,\n",
    "    * Slice to get view of characteristic of year $t$.\n",
    "    * Determine $P-1$ breakpoints.\n",
    "    * For portfolio $p = 1,\\ldots,P$:\n",
    "        * Slice to get view of subsample: firms with returns from July, year $t$ to June, year $t+1$ AND characteristic between breakpoints $p-1$ and $p$.\n",
    "        * Compute return based on the subsample."
   ]
  },
  {
   "cell_type": "markdown",
   "metadata": {
    "slideshow": {
     "slide_type": "slide"
    }
   },
   "source": [
    "*In code:*"
   ]
  },
  {
   "cell_type": "code",
   "execution_count": 17,
   "metadata": {},
   "outputs": [
    {
     "data": {
      "text/html": [
       "<div>\n",
       "<style scoped>\n",
       "    .dataframe tbody tr th:only-of-type {\n",
       "        vertical-align: middle;\n",
       "    }\n",
       "\n",
       "    .dataframe tbody tr th {\n",
       "        vertical-align: top;\n",
       "    }\n",
       "\n",
       "    .dataframe thead th {\n",
       "        text-align: right;\n",
       "    }\n",
       "</style>\n",
       "<table border=\"1\" class=\"dataframe\">\n",
       "  <thead>\n",
       "    <tr style=\"text-align: right;\">\n",
       "      <th></th>\n",
       "      <th>p1</th>\n",
       "      <th>p2</th>\n",
       "      <th>p3</th>\n",
       "      <th>p4</th>\n",
       "      <th>p5</th>\n",
       "    </tr>\n",
       "  </thead>\n",
       "  <tbody>\n",
       "    <tr>\n",
       "      <th>1991-07</th>\n",
       "      <td>4.1025</td>\n",
       "      <td>4.9550</td>\n",
       "      <td>5.280</td>\n",
       "      <td>5.0000</td>\n",
       "      <td>4.3750</td>\n",
       "    </tr>\n",
       "    <tr>\n",
       "      <th>1991-08</th>\n",
       "      <td>-1.0225</td>\n",
       "      <td>-0.2925</td>\n",
       "      <td>1.605</td>\n",
       "      <td>-1.0275</td>\n",
       "      <td>-2.4450</td>\n",
       "    </tr>\n",
       "    <tr>\n",
       "      <th>1991-09</th>\n",
       "      <td>2.8375</td>\n",
       "      <td>0.6975</td>\n",
       "      <td>2.870</td>\n",
       "      <td>0.6475</td>\n",
       "      <td>0.1475</td>\n",
       "    </tr>\n",
       "    <tr>\n",
       "      <th>1991-10</th>\n",
       "      <td>-4.3775</td>\n",
       "      <td>-1.0275</td>\n",
       "      <td>0.750</td>\n",
       "      <td>-0.3775</td>\n",
       "      <td>2.7050</td>\n",
       "    </tr>\n",
       "    <tr>\n",
       "      <th>1991-11</th>\n",
       "      <td>-3.7125</td>\n",
       "      <td>-0.7250</td>\n",
       "      <td>-1.670</td>\n",
       "      <td>1.9625</td>\n",
       "      <td>-3.7625</td>\n",
       "    </tr>\n",
       "  </tbody>\n",
       "</table>\n",
       "</div>"
      ],
      "text/plain": [
       "             p1      p2     p3      p4      p5\n",
       "1991-07  4.1025  4.9550  5.280  5.0000  4.3750\n",
       "1991-08 -1.0225 -0.2925  1.605 -1.0275 -2.4450\n",
       "1991-09  2.8375  0.6975  2.870  0.6475  0.1475\n",
       "1991-10 -4.3775 -1.0275  0.750 -0.3775  2.7050\n",
       "1991-11 -3.7125 -0.7250 -1.670  1.9625 -3.7625"
      ]
     },
     "execution_count": 17,
     "metadata": {},
     "output_type": "execute_result"
    }
   ],
   "source": [
    "P = 5\n",
    "q = np.linspace(0,1,P+1)  # Find quantiles on [0,1] interval\n",
    "R_portf = pd.DataFrame(columns=['p'+ str(i) for i in range(1,P+1)], index=R.index, dtype=float) \n",
    "\n",
    "for t in bm.index:  # Loop over all years\n",
    "    # Define for convencience\n",
    "    bm_t = bm.loc[t]    # Slice to get view of year t observations\n",
    "    jul_t = '%i-07'%t.year       # July in year t\n",
    "    jun_t1 = '%i-06'%(t.year+1)  # June in year t+1\n",
    "    \n",
    "    # Find B/M quantiles and convert to array (remove index)\n",
    "    brkpts = bm_t.quantile(q).values  \n",
    "    brkpts[0] = -np.Inf   # First lower bound, s.t. all assets in a portfolio\n",
    "    \n",
    "    # For each portfolio, compute the monthly return\n",
    "    for p in range(1,P+1):\n",
    "        # Select subset of indexes with returns from July, year t to June, year t+1 AND characteristic between breakpoints p-1 and p.\n",
    "        R_subset = R.loc[jul_t:jun_t1, (bm_t > brkpts[p-1]) & (bm_t <= brkpts[p])]\n",
    "        \n",
    "        R_portf.loc[jul_t:jun_t1, 'p'+str(p)] = R_subset.mean(axis=1)  # Equally weighted average return; need [rows, cols]\n",
    "        \n",
    "R_portf = R_portf['1991-07':]        # Remove 1991-01:1991-06\n",
    "R_portf.head()"
   ]
  },
  {
   "cell_type": "markdown",
   "metadata": {
    "slideshow": {
     "slide_type": "slide"
    }
   },
   "source": [
    "Create a long-short portfolio: buy portfolio 5 and sell portfolio 1."
   ]
  },
  {
   "cell_type": "code",
   "execution_count": 21,
   "metadata": {},
   "outputs": [
    {
     "data": {
      "text/html": [
       "<div>\n",
       "<style scoped>\n",
       "    .dataframe tbody tr th:only-of-type {\n",
       "        vertical-align: middle;\n",
       "    }\n",
       "\n",
       "    .dataframe tbody tr th {\n",
       "        vertical-align: top;\n",
       "    }\n",
       "\n",
       "    .dataframe thead th {\n",
       "        text-align: right;\n",
       "    }\n",
       "</style>\n",
       "<table border=\"1\" class=\"dataframe\">\n",
       "  <thead>\n",
       "    <tr style=\"text-align: right;\">\n",
       "      <th></th>\n",
       "      <th>p1</th>\n",
       "      <th>p2</th>\n",
       "      <th>p3</th>\n",
       "      <th>p4</th>\n",
       "      <th>p5</th>\n",
       "      <th>L-S</th>\n",
       "    </tr>\n",
       "  </thead>\n",
       "  <tbody>\n",
       "    <tr>\n",
       "      <th>1991-07</th>\n",
       "      <td>3.6125</td>\n",
       "      <td>4.4650</td>\n",
       "      <td>4.790</td>\n",
       "      <td>4.5100</td>\n",
       "      <td>3.8850</td>\n",
       "      <td>0.2725</td>\n",
       "    </tr>\n",
       "    <tr>\n",
       "      <th>1991-08</th>\n",
       "      <td>-1.4825</td>\n",
       "      <td>-0.7525</td>\n",
       "      <td>1.145</td>\n",
       "      <td>-1.4875</td>\n",
       "      <td>-2.9050</td>\n",
       "      <td>-1.4225</td>\n",
       "    </tr>\n",
       "    <tr>\n",
       "      <th>1991-09</th>\n",
       "      <td>2.3775</td>\n",
       "      <td>0.2375</td>\n",
       "      <td>2.410</td>\n",
       "      <td>0.1875</td>\n",
       "      <td>-0.3125</td>\n",
       "      <td>-2.6900</td>\n",
       "    </tr>\n",
       "    <tr>\n",
       "      <th>1991-10</th>\n",
       "      <td>-4.7975</td>\n",
       "      <td>-1.4475</td>\n",
       "      <td>0.330</td>\n",
       "      <td>-0.7975</td>\n",
       "      <td>2.2850</td>\n",
       "      <td>7.0825</td>\n",
       "    </tr>\n",
       "    <tr>\n",
       "      <th>1991-11</th>\n",
       "      <td>-4.1025</td>\n",
       "      <td>-1.1150</td>\n",
       "      <td>-2.060</td>\n",
       "      <td>1.5725</td>\n",
       "      <td>-4.1525</td>\n",
       "      <td>-0.0500</td>\n",
       "    </tr>\n",
       "  </tbody>\n",
       "</table>\n",
       "</div>"
      ],
      "text/plain": [
       "             p1      p2     p3      p4      p5     L-S\n",
       "1991-07  3.6125  4.4650  4.790  4.5100  3.8850  0.2725\n",
       "1991-08 -1.4825 -0.7525  1.145 -1.4875 -2.9050 -1.4225\n",
       "1991-09  2.3775  0.2375  2.410  0.1875 -0.3125 -2.6900\n",
       "1991-10 -4.7975 -1.4475  0.330 -0.7975  2.2850  7.0825\n",
       "1991-11 -4.1025 -1.1150 -2.060  1.5725 -4.1525 -0.0500"
      ]
     },
     "execution_count": 21,
     "metadata": {},
     "output_type": "execute_result"
    }
   ],
   "source": [
    "R_portf['L-S'] = R_portf.iloc[:,-1] - R_portf.iloc[:,0]\n",
    "R_portf.head()"
   ]
  },
  {
   "cell_type": "markdown",
   "metadata": {
    "slideshow": {
     "slide_type": "slide"
    }
   },
   "source": [
    "Differences in average returns?"
   ]
  },
  {
   "cell_type": "code",
   "execution_count": 22,
   "metadata": {},
   "outputs": [
    {
     "data": {
      "text/plain": [
       "p1     0.480513\n",
       "p2     0.647731\n",
       "p3     0.627778\n",
       "p4     0.601330\n",
       "p5     0.924503\n",
       "L-S    0.443990\n",
       "dtype: float64"
      ]
     },
     "execution_count": 22,
     "metadata": {},
     "output_type": "execute_result"
    }
   ],
   "source": [
    "R_portf.mean()"
   ]
  },
  {
   "cell_type": "code",
   "execution_count": 23,
   "metadata": {
    "scrolled": true
   },
   "outputs": [
    {
     "data": {
      "text/plain": [
       "p1     5.026951\n",
       "p2     5.359185\n",
       "p3     5.098036\n",
       "p4     5.017471\n",
       "p5     5.172521\n",
       "L-S    3.372038\n",
       "dtype: float64"
      ]
     },
     "execution_count": 23,
     "metadata": {},
     "output_type": "execute_result"
    }
   ],
   "source": [
    "R_portf.std()"
   ]
  },
  {
   "cell_type": "markdown",
   "metadata": {
    "slideshow": {
     "slide_type": "slide"
    }
   },
   "source": [
    "#### Multiple sorts\n",
    "\n",
    "* Can do sorting and grouping based on multiple characteristics; typically up to three sorts.\n",
    "\n",
    "* Procedure:\n",
    "    * Sort *all* stocks based on first characteristic and split into $P_1$ groups based on this sort.\n",
    "\n",
    "    * *Within each group*: sort the stocks based on the second characteristic and split the stocks into $P_2$ groups.\n",
    "\n",
    "    * This yields $P=P_1 \\times P_2$ groups.\n",
    "    \n",
    "* This is called dependent or conditional sorting."
   ]
  },
  {
   "cell_type": "markdown",
   "metadata": {
    "slideshow": {
     "slide_type": "slide"
    }
   },
   "source": [
    "* Alternative is independent sorting:\n",
    "\n",
    "    * Sort *all* stocks based on first and second characteristic (independently) and determine breakpoints for each characteristic.\n",
    "    \n",
    "    * Split into $P=P_1 \\times P_2$ groups based on intersection of breakpoints.\n",
    "    \n",
    "    \n",
    "* Independent versus dependent sorting\n",
    "    * Independent: breakpoints common across each group.\n",
    "    * Dependent: number of firms equal across sorts.\n",
    "    * Dependent: start with most influential factor, since all following sorts are conditional on the first sort."
   ]
  },
  {
   "cell_type": "markdown",
   "metadata": {
    "slideshow": {
     "slide_type": "slide"
    }
   },
   "source": [
    "#### Choices to be made\n",
    "* How many sorts?\n",
    "* How many portfolios?\n",
    "* Equal number of firms for each split? \n",
    "    * E.g. Fama and French consider 30-40-30 split for value.\n",
    "* Value-weighted or equal-weighted returns?"
   ]
  },
  {
   "cell_type": "markdown",
   "metadata": {
    "slideshow": {
     "slide_type": "slide"
    }
   },
   "source": [
    "### 3. Compute the betas\n",
    "\n",
    "* Calculate the alphas $\\{\\alpha_p\\}_{p=1,\\ldots,P}$ and betas $\\{\\beta_p\\}_{p=1,\\ldots,P}$ by performing $P$ time series regressions:\n",
    "\n",
    "    $$\n",
    "    R_{pt}-R_{f,t} = \\alpha_p + \\beta_p' f_t + \\varepsilon_{pt},\n",
    "    $$\n",
    "    \n",
    "    with $\\varepsilon_{pt} \\sim N(0,\\sigma_p^2)$ for $t = 1,\\ldots,T$, $p = 1,\\ldots,P$, where $f_t$ are your risk factors. \n",
    "\n",
    "* The factor model implies $E[R_{pt}-R_{f,t}] = \\beta_p' f_t$.\n",
    "* The estimated alphas $\\hat{\\alpha}_p$ are interpreted as the *pricing errors* or *abnormal returns*."
   ]
  },
  {
   "cell_type": "markdown",
   "metadata": {
    "slideshow": {
     "slide_type": "slide"
    }
   },
   "source": [
    "**Example (continued): international indexes sorted on B/M** \n",
    "\n",
    "* Consider the CAPM as our asset pricing model. Read the international (excl. US) factors from Kenneth French's website."
   ]
  },
  {
   "cell_type": "code",
   "execution_count": 24,
   "metadata": {},
   "outputs": [
    {
     "data": {
      "text/html": [
       "<div>\n",
       "<style scoped>\n",
       "    .dataframe tbody tr th:only-of-type {\n",
       "        vertical-align: middle;\n",
       "    }\n",
       "\n",
       "    .dataframe tbody tr th {\n",
       "        vertical-align: top;\n",
       "    }\n",
       "\n",
       "    .dataframe thead th {\n",
       "        text-align: right;\n",
       "    }\n",
       "</style>\n",
       "<table border=\"1\" class=\"dataframe\">\n",
       "  <thead>\n",
       "    <tr style=\"text-align: right;\">\n",
       "      <th></th>\n",
       "      <th>Mkt-RF</th>\n",
       "      <th>SMB</th>\n",
       "      <th>HML</th>\n",
       "      <th>RF</th>\n",
       "    </tr>\n",
       "    <tr>\n",
       "      <th>Date</th>\n",
       "      <th></th>\n",
       "      <th></th>\n",
       "      <th></th>\n",
       "      <th></th>\n",
       "    </tr>\n",
       "  </thead>\n",
       "  <tbody>\n",
       "    <tr>\n",
       "      <th>1991-07</th>\n",
       "      <td>3.03</td>\n",
       "      <td>-2.29</td>\n",
       "      <td>0.80</td>\n",
       "      <td>0.49</td>\n",
       "    </tr>\n",
       "    <tr>\n",
       "      <th>1991-08</th>\n",
       "      <td>-3.33</td>\n",
       "      <td>0.02</td>\n",
       "      <td>0.04</td>\n",
       "      <td>0.46</td>\n",
       "    </tr>\n",
       "    <tr>\n",
       "      <th>1991-09</th>\n",
       "      <td>5.54</td>\n",
       "      <td>-0.34</td>\n",
       "      <td>-0.30</td>\n",
       "      <td>0.46</td>\n",
       "    </tr>\n",
       "    <tr>\n",
       "      <th>1991-10</th>\n",
       "      <td>1.41</td>\n",
       "      <td>-0.93</td>\n",
       "      <td>-2.29</td>\n",
       "      <td>0.42</td>\n",
       "    </tr>\n",
       "    <tr>\n",
       "      <th>1991-11</th>\n",
       "      <td>-5.57</td>\n",
       "      <td>1.62</td>\n",
       "      <td>-0.66</td>\n",
       "      <td>0.39</td>\n",
       "    </tr>\n",
       "  </tbody>\n",
       "</table>\n",
       "</div>"
      ],
      "text/plain": [
       "         Mkt-RF   SMB   HML    RF\n",
       "Date                             \n",
       "1991-07    3.03 -2.29  0.80  0.49\n",
       "1991-08   -3.33  0.02  0.04  0.46\n",
       "1991-09    5.54 -0.34 -0.30  0.46\n",
       "1991-10    1.41 -0.93 -2.29  0.42\n",
       "1991-11   -5.57  1.62 -0.66  0.39"
      ]
     },
     "execution_count": 24,
     "metadata": {},
     "output_type": "execute_result"
    }
   ],
   "source": [
    "import pandas_datareader.data as web\n",
    "factors = web.DataReader('Developed_ex_US_3_Factors','famafrench',\n",
    "                         start=R_portf.index[0].strftime('%Y-%m'), end=R_portf.index[-1].strftime('%Y-%m'))[0]  # Monthly factors\n",
    "factors.head()"
   ]
  },
  {
   "cell_type": "markdown",
   "metadata": {
    "slideshow": {
     "slide_type": "slide"
    }
   },
   "source": [
    "* CAPM time series regression"
   ]
  },
  {
   "cell_type": "code",
   "execution_count": 28,
   "metadata": {
    "slideshow": {
     "slide_type": "-"
    }
   },
   "outputs": [],
   "source": [
    "import statsmodels.api as sm\n",
    "R_portf = R_portf.subtract(factors.RF, axis=0)  # Subtract risk-free rate\n",
    "X = sm.add_constant(factors['Mkt-RF'])  # Select market and add a constant\n",
    "# Initialize lists\n",
    "alpha = [] \n",
    "se_a = []\n",
    "t_a = []\n",
    "p_a = []\n",
    "capmret = []\n",
    "E = pd.DataFrame(index = R_portf.index, columns=R_portf.columns, dtype=float)\n",
    "\n",
    "for p in range(P+1):   # P+1 because we also have the L-S portfolio\n",
    "    capm = sm.OLS(endog=R_portf.iloc[:,p].values, exog=X.values)\n",
    "    result = capm.fit()\n",
    "    \n",
    "    # Append results of interest\n",
    "    alpha.append(result.params[0])\n",
    "    se_a.append(result.bse[0])\n",
    "    t_a.append(result.tvalues[0])\n",
    "    p_a.append(result.pvalues[0])\n",
    "    capmret.append(result.fittedvalues.mean() - result.params[0])\n",
    "    E.iloc[:,p] = result.resid  # Add residuals"
   ]
  },
  {
   "cell_type": "markdown",
   "metadata": {
    "slideshow": {
     "slide_type": "slide"
    }
   },
   "source": [
    "### 4. Compare spread in alpha\n",
    "\n",
    "* Compare alpha (the intercepts) across portfolios.\n",
    "* Sign of anomaly?"
   ]
  },
  {
   "cell_type": "code",
   "execution_count": 29,
   "metadata": {},
   "outputs": [
    {
     "data": {
      "text/html": [
       "<div>\n",
       "<style scoped>\n",
       "    .dataframe tbody tr th:only-of-type {\n",
       "        vertical-align: middle;\n",
       "    }\n",
       "\n",
       "    .dataframe tbody tr th {\n",
       "        vertical-align: top;\n",
       "    }\n",
       "\n",
       "    .dataframe thead th {\n",
       "        text-align: right;\n",
       "    }\n",
       "</style>\n",
       "<table border=\"1\" class=\"dataframe\">\n",
       "  <thead>\n",
       "    <tr style=\"text-align: right;\">\n",
       "      <th></th>\n",
       "      <th>alpha</th>\n",
       "      <th>SE</th>\n",
       "      <th>t</th>\n",
       "      <th>p</th>\n",
       "    </tr>\n",
       "  </thead>\n",
       "  <tbody>\n",
       "    <tr>\n",
       "      <th>p1</th>\n",
       "      <td>-0.340089</td>\n",
       "      <td>0.116581</td>\n",
       "      <td>-2.917187</td>\n",
       "      <td>0.003767</td>\n",
       "    </tr>\n",
       "    <tr>\n",
       "      <th>p2</th>\n",
       "      <td>-0.189862</td>\n",
       "      <td>0.135702</td>\n",
       "      <td>-1.399107</td>\n",
       "      <td>0.162693</td>\n",
       "    </tr>\n",
       "    <tr>\n",
       "      <th>p3</th>\n",
       "      <td>-0.195359</td>\n",
       "      <td>0.121767</td>\n",
       "      <td>-1.604361</td>\n",
       "      <td>0.109563</td>\n",
       "    </tr>\n",
       "    <tr>\n",
       "      <th>p4</th>\n",
       "      <td>-0.219061</td>\n",
       "      <td>0.115848</td>\n",
       "      <td>-1.890937</td>\n",
       "      <td>0.059483</td>\n",
       "    </tr>\n",
       "    <tr>\n",
       "      <th>p5</th>\n",
       "      <td>0.120466</td>\n",
       "      <td>0.149152</td>\n",
       "      <td>0.807672</td>\n",
       "      <td>0.419844</td>\n",
       "    </tr>\n",
       "    <tr>\n",
       "      <th>L-S</th>\n",
       "      <td>0.048602</td>\n",
       "      <td>0.182375</td>\n",
       "      <td>0.266494</td>\n",
       "      <td>0.790020</td>\n",
       "    </tr>\n",
       "  </tbody>\n",
       "</table>\n",
       "</div>"
      ],
      "text/plain": [
       "        alpha        SE         t         p\n",
       "p1  -0.340089  0.116581 -2.917187  0.003767\n",
       "p2  -0.189862  0.135702 -1.399107  0.162693\n",
       "p3  -0.195359  0.121767 -1.604361  0.109563\n",
       "p4  -0.219061  0.115848 -1.890937  0.059483\n",
       "p5   0.120466  0.149152  0.807672  0.419844\n",
       "L-S  0.048602  0.182375  0.266494  0.790020"
      ]
     },
     "execution_count": 29,
     "metadata": {},
     "output_type": "execute_result"
    }
   ],
   "source": [
    "R_abnorm = pd.DataFrame(index=R_portf.columns)\n",
    "R_abnorm['alpha'] = alpha\n",
    "R_abnorm['SE'] = se_a\n",
    "R_abnorm['t'] = t_a \n",
    "R_abnorm['p'] = p_a \n",
    "R_abnorm"
   ]
  },
  {
   "cell_type": "markdown",
   "metadata": {
    "slideshow": {
     "slide_type": "slide"
    }
   },
   "source": [
    "* Plot realized (excess) return against CAPM expected return."
   ]
  },
  {
   "cell_type": "code",
   "execution_count": 43,
   "metadata": {
    "scrolled": false,
    "slideshow": {
     "slide_type": "-"
    }
   },
   "outputs": [
    {
     "data": {
      "image/png": "[encoded data removed]",
      "text/plain": [
       "<Figure size 576x432 with 1 Axes>"
      ]
     },
     "metadata": {
      "needs_background": "light"
     },
     "output_type": "display_data"
    }
   ],
   "source": [
    "import matplotlib.pyplot as plt\n",
    "plt.figure(figsize=(8,6))\n",
    "plt.plot(capmret[:P], R_portf.iloc[:,:P].mean(), Marker='o')\n",
    "for i, p in enumerate(R_portf.columns[:P]):   # enumerate(x) returns iterable with each element a tuple: (index, x[index])\n",
    "    xi = capmret[i]\n",
    "    yi = R_portf[p].mean()\n",
    "    plt.annotate(p, (xi, yi), xytext=(xi, yi+0.01))   # Label the portfolios\n",
    "plt.xlabel('$E[R_{pt}-R_{f,t}]$')\n",
    "plt.ylabel('$R_{pt}-R_{f,t}$')\n",
    "plt.title('Realized Average Return Versus Expected Return (CAPM)');"
   ]
  },
  {
   "cell_type": "markdown",
   "metadata": {
    "slideshow": {
     "slide_type": "slide"
    }
   },
   "source": [
    "### Testing\n",
    "\n",
    "* Test significance of individual alphas using a $t$ test.\n",
    "* Test whether all alphas are jointly zero, using the Gibbons-Ross-Shanken (GRS) test, a type of $F$-test.\n",
    "* Rejection: asset pricing model is incorrect.\n",
    "* Stronger than individual test (takes correlation between errors across assets/portfolios into account)."
   ]
  },
  {
   "cell_type": "markdown",
   "metadata": {
    "slideshow": {
     "slide_type": "slide"
    }
   },
   "source": [
    "* Suppose we have a multifactor model with $k$ factors, and test the factor model on $T$ observations and $N$ assets (or portfolios),\n",
    "\n",
    "$$R_{it} = \\alpha_i + \\beta_i' f_t + \\varepsilon_{it},$$\n",
    "\n",
    "* for $i=1,\\ldots,N$ and $t=1,\\ldots,T$. \n",
    "* Then we can test whether all $\\alpha_i=0$ jointly, using the following test statistic (Gibbons, Ross and Shanken, 1989):\n",
    "\n",
    "$$GRS = \\frac{T-N-k}{N} \\left(1+\\widehat{E[f_t]}' \\hat{\\Omega}^{-1} \\widehat{E[f_t]}\\right)^{-1} \\hat{\\alpha}' \\hat{\\Sigma}^{-1} \\hat{\\alpha},$$\n",
    "\n",
    "* where $\\widehat{E[f_t]}$ and $\\hat{\\Omega}$ are the sample mean vector and covariance matrix of the factors $f_t$, and  $\\hat{\\Omega} = \\frac{1}{T} \\sum_{t=1}^T \\hat{\\varepsilon}_t' \\hat{\\varepsilon}_t$, with $\\hat{\\varepsilon}_t = (\\hat{\\varepsilon}_{1t},\\ldots,\\hat{\\varepsilon}_{Nt})$.\n",
    "\n",
    "* We reject the null ($\\alpha_i = 0$, for all $i$) if GRS is larger than the critical value from the $F_{N,T-N-k}$ distribution."
   ]
  },
  {
   "cell_type": "code",
   "execution_count": 41,
   "metadata": {
    "slideshow": {
     "slide_type": "slide"
    }
   },
   "outputs": [],
   "source": [
    "import scipy.stats as stats\n",
    "def GRStest(alpha, f, E):\n",
    "    \"\"\"\n",
    "    Compute the GRS test statistic and corresponding p-value.\n",
    "    \n",
    "    GRS ~ F_n,t-n-k\n",
    "    \"\"\"\n",
    "    \n",
    "    alpha = np.array(alpha)  # convert to array if input is list\n",
    "    alpha = alpha[:, np.newaxis]\n",
    "    \n",
    "    # Get dimensions\n",
    "    t, n = E.shape   # T = no. of time periods; N = no. of assets/portfolios\n",
    "    try:   # In try/except statement if f is one-dimensional\n",
    "        k = f.shape[1]    # k = no. of factors.\n",
    "    except:\n",
    "        k = 1\n",
    "    \n",
    "    # Factor sample moments (and inverse)\n",
    "    Ef = f.mean()\n",
    "    if k > 1:\n",
    "        Omega = f.cov()\n",
    "        Omegainv = np.linalg.inv(Omega)  # Compute inverse to \n",
    "    else:  # cov() only for 2-dimensional objects\n",
    "        Omega = f.var()\n",
    "\n",
    "    # Error covariance (and inverse)\n",
    "    Sigma = E.cov()\n",
    "    Sigmainv = np.linalg.inv(Sigma)\n",
    "    \n",
    "    # Test statistic and p-value\n",
    "    if k > 1:\n",
    "        GRS = ((t-n-k)/n) * (1 + Ef.T @ Omegainv @ Ef)**(-1) * (alpha.T @ Sigmainv @ alpha)\n",
    "    else:\n",
    "        GRS = ((t-n-k)/n) / (1 + Ef**2 / Omega) * (alpha.T @ Sigmainv @ alpha)\n",
    "    p = 1-stats.f.cdf(GRS, n, t-n-k)   # 1-stats.f.cdf(x, dfn, dfd)\n",
    "    \n",
    "    return GRS, p    "
   ]
  },
  {
   "cell_type": "markdown",
   "metadata": {
    "slideshow": {
     "slide_type": "slide"
    }
   },
   "source": [
    "Compute the GRS test statistic for our example."
   ]
  },
  {
   "cell_type": "code",
   "execution_count": 42,
   "metadata": {
    "slideshow": {
     "slide_type": "-"
    }
   },
   "outputs": [
    {
     "name": "stdout",
     "output_type": "stream",
     "text": [
      "[[79.55893723]] [[1.11022302e-16]]\n"
     ]
    }
   ],
   "source": [
    "f = factors['Mkt-RF']\n",
    "GRS, p = GRStest(alpha, f, E)\n",
    "print(GRS, p)"
   ]
  },
  {
   "cell_type": "markdown",
   "metadata": {},
   "source": [
    "* Conclusion: we reject the null that $\\alpha = 0$ jointly for all portfolios.\n",
    "* CAPM is unable to price the B/M portfolios correctly.\n",
    "* Not surprising, given results in US stocks."
   ]
  },
  {
   "cell_type": "markdown",
   "metadata": {
    "slideshow": {
     "slide_type": "slide"
    }
   },
   "source": [
    "### Next step?\n",
    "\n",
    "Say you have found an anomaly. Now what?\n",
    "\n",
    "* Can you turn it into a factor? E.g. by taking the L-S portfolio?\n",
    "\n",
    "* Can you turn in into a profitable investment, or too much trading costs or lack of liquidity?\n",
    "\n",
    "* What is the economic interpretation? Does it proxy for something?"
   ]
  },
  {
   "cell_type": "markdown",
   "metadata": {
    "slideshow": {
     "slide_type": "slide"
    }
   },
   "source": [
    "### Factor zoo\n",
    "\n",
    "* Large set of suggested anomalies (and factors).\n",
    "* Are they real or spurious, result of data snooping?\n",
    "* When testing for anomalies, we should take into account other's efforts.\n",
    "* This is the so-called *multiple testing* issue."
   ]
  },
  {
   "cell_type": "markdown",
   "metadata": {
    "slideshow": {
     "slide_type": "slide"
    }
   },
   "source": [
    "<img src=\"img/HLZ-tratios.png\" alt=\"HLZ\" style=\"display:block; margin-left: auto; margin-right: auto; width: 90%;\">\n",
    "<p style=\"text-align: center; font-size: 90%\"> Source: <a href=\"https://academic.oup.com/rfs/article/29/1/5/1843824\">Harvey, Liu and Zhou (2016)</a></p>"
   ]
  },
  {
   "cell_type": "markdown",
   "metadata": {
    "slideshow": {
     "slide_type": "slide"
    }
   },
   "source": [
    "# Summary\n",
    "\n",
    "* (Cross-sectional) asset pricing models aim to explain the differences in average prices (and hence returns) across assets.\n",
    "* **Anomalies** are abnormal returns not explained by an asset pricing model.\n",
    "* Creating **characteristic sorted portfolios**:\n",
    "    1. Find a characteristic\n",
    "    2. Sort and group stocks\n",
    "    3. Compute alphas and betas\n",
    "    4. Compare alphas\n",
    "\n",
    "\n",
    "* More details in the [*Advanced Investments*](https://studiegids.uva.nl/xmlpages/page/2021-2022-en/search-course/course/92574) and [*Quantitative Finance and Algorithmic Trading*](https://studiegids.uva.nl/xmlpages/page/2021-2022-en/search-course/course/92726) courses."
   ]
  },
  {
   "cell_type": "markdown",
   "metadata": {
    "slideshow": {
     "slide_type": "slide"
    }
   },
   "source": [
    "<section id=\"copyrightslide\">\n",
    "\n",
    "# Copyright Statement\n",
    "* Course slides were created by Simon Broda for Python 2.7 $-$ Andreas Rapp adapted them to Python 3.6. Maintained and updated by Bart Keijsers.\n",
    "* Week 4 slides were created by Bart Keijsers. The hierarchical indexing example is from the UvA course Data Science Methods by Cees Diks and Bram Wouters.\n",
    "* All figures have been produced for this course using Python. Empirical results are based on public data available from [FRED](https://fred.stlouisfed.org/), [Quandl/WIKI](https://www.quandl.com/databases/WIKIP), [Kenneth French's website](https://mba.tuck.dartmouth.edu/pages/faculty/ken.french/data_library.html) and [Yahoo Finance](https://finance.yahoo.com/).\n",
    "* This work is licensed under a [Creative Commons Attribution-ShareAlike 4.0 International License](https://creativecommons.org/licenses/by-sa/4.0/).\n",
    "* More information on Simon Broda's [Github](https://github.com/s-broda/ComputationalFinance/blob/master/LICENSE.md)."
   ]
  }
 ],
 "metadata": {
  "celltoolbar": "Slideshow",
  "kernelspec": {
   "display_name": "Python 3 (ipykernel)",
   "language": "python",
   "name": "python3"
  },
  "language_info": {
   "codemirror_mode": {
    "name": "ipython",
    "version": 3
   },
   "file_extension": ".py",
   "mimetype": "text/x-python",
   "name": "python",
   "nbconvert_exporter": "python",
   "pygments_lexer": "ipython3",
   "version": "3.8.8"
  },
  "livereveal": {
   "start_slideshow_at": "selected"
  }
 },
 "nbformat": 4,
 "nbformat_minor": 2
}

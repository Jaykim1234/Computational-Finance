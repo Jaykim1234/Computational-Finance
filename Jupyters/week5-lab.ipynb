{
 "cells": [
  {
   "cell_type": "markdown",
   "metadata": {
    "slideshow": {
     "slide_type": "slide"
    }
   },
   "source": [
    "<p style=\"text-align: center; font-size: 192%\"> Computational Finance </p>\n",
    "<img src=\"../img/ABSlogo.svg\" alt=\"LOGO\" style=\"display:block; margin-left: auto; margin-right: auto; width: 90%;\">\n",
    "<p style=\"text-align: center; font-size: 192%\"> Week 5: Binomial Trees </p>\n",
    "<p style=\"text-align: center; font-size: 75%\"> <a href=\"#copyrightslide\">Copyright</a> </p>"
   ]
  },
  {
   "cell_type": "code",
   "execution_count": 19,
   "metadata": {
    "slideshow": {
     "slide_type": "skip"
    }
   },
   "outputs": [],
   "source": [
    "import numpy as np\n",
    "import pandas as pd\n",
    "import matplotlib.pyplot as plt\n",
    "from scipy.optimize import minimize\n",
    "\n",
    "import warnings\n",
    "warnings.filterwarnings('ignore')"
   ]
  },
  {
   "cell_type": "code",
   "execution_count": 20,
   "metadata": {
    "slideshow": {
     "slide_type": "skip"
    }
   },
   "outputs": [],
   "source": [
    "from scipy.stats import norm\n",
    "def blackscholes(S0, K, T, r, sigma):\n",
    "    \"\"\"\n",
    "    Price of a European call in the Black-Scholes model.\n",
    "    \"\"\"\n",
    "    d1 = (np.log(S0)-np.log(K)+(r+sigma**2/2)*T)/(sigma*np.sqrt(T))\n",
    "    d2 = d1-sigma*np.sqrt(T)\n",
    "    return S0*norm.cdf(d1)-np.exp(-r*T)*K*norm.cdf(d2)"
   ]
  },
  {
   "cell_type": "markdown",
   "metadata": {
    "slideshow": {
     "slide_type": "slide"
    }
   },
   "source": [
    "# Outline\n",
    "\n",
    "* General feedback assignment 1\n",
    "\n",
    "* Answers exercise week 4\n",
    "\n",
    "* Risk-Neutral Density"
   ]
  },
  {
   "cell_type": "markdown",
   "metadata": {
    "slideshow": {
     "slide_type": "slide"
    }
   },
   "source": [
    "A European **call option** is a contract that gives the right to the buyer (owner of an option) to buy an agreed quantity of the underlying from the seller at a certain agreed time for a certain strike price.\n",
    "\n",
    "A payoff **at** the expiration time $T$ is $$\\mbox{Payoff}_{call} = C_T(S_T) = \\max(S_T-K, 0) $$\n",
    "\n",
    "\n",
    "\n",
    "The risk-neutral pricing formula gives as the today's price of this contract:\n",
    "\n",
    "\\begin{align*}\n",
    "C_0=e^{-r T}\\mathbb{E}^\\mathbb{Q}[C_T] &= e^{-r T}\\mathbb{E}^\\mathbb{Q}[max(S_T-K, 0)]\\\\\n",
    " &=e^{-r T} \\int_0^\\infty max(S_T-K, 0) q(S_T) dS_T\\\\\n",
    " &=e^{-r T} \\int_K^\\infty (S_T-K) q(S_T) dS_T\n",
    "\\end{align*}\n",
    "\n",
    "where $q(S_T)$ is the *risk-neutral density (RND)* of a future stock price $S_T$."
   ]
  },
  {
   "cell_type": "markdown",
   "metadata": {
    "slideshow": {
     "slide_type": "slide"
    }
   },
   "source": [
    "Differentiating the price of the call option with respect to $K$ we get \n",
    "\n",
    "\\begin{align*}\n",
    "\tC'_K(K) := \\frac{\\partial C(K)}{\\partial K} \n",
    "\t&= -e^{-rT} (S_T - K)q(S_T)|_{S_T=K} + e^{-rT} \\int_K^\\infty - q(S_T) d S_T\\\\\n",
    "\t&= -e^{-rT} \\int_K^\\infty  q(S_T) d S_T\\\\\n",
    "\t& = -e^{-rT} (1 - Q_S(K))= -e^{-rT} \\overline{Q}_S(K) \n",
    "\\end{align*}\n",
    "\n",
    "where $Q_S(K)$ is the $\\mathbb{Q}$-cdf and $\\overline{Q}_S(K)$ is corresponding survival function. "
   ]
  },
  {
   "cell_type": "markdown",
   "metadata": {
    "slideshow": {
     "slide_type": "slide"
    }
   },
   "source": [
    "Differentiating with respect to $K$ a second time gives \n",
    "\\begin{align*}\n",
    "\tC''_K(K) := \\frac{\\partial^2 C(K)}{\\partial^2 K} = e^{-rT} q(S_T)|_{S_T=K} = e^{-rT} q(K)\n",
    "\\end{align*}\n",
    "\n",
    "\n",
    "Therefore, the RND is given by the second derivative of the call option: \n",
    "\\begin{align}\n",
    "\tq(x) = e^{rT} \\frac{\\partial^2 C(K)}{\\partial^2 K} \\Bigg\\rvert_{K=x} = e^{rT}  C''_K(x).\n",
    "\\end{align}\n",
    "\n",
    "This result known from Breeden and Litzenberger (1978). Similar results can be obtained for the put options."
   ]
  },
  {
   "cell_type": "markdown",
   "metadata": {
    "slideshow": {
     "slide_type": "slide"
    }
   },
   "source": [
    "* Risk-neutral density (RND) is the building block for derivative pricing. \n",
    "* RND can be used to price any other derivatives\n",
    "* RND reflects investor's perception about the market movements"
   ]
  },
  {
   "cell_type": "markdown",
   "metadata": {},
   "source": [
    "We can extract the RND from the option prices:\n",
    "\n",
    "$$q(x) = e^{rT}  C''_K(x)$$\n",
    "\n",
    "\n",
    "\n",
    "* the second derivative is not known for every $x$\n",
    "* we can use discrete approximation using available strike prices\n",
    "* the discrete approximation largely depends on quality of data\n",
    "* there are several constraints that we can guarantee to be satisfied"
   ]
  },
  {
   "cell_type": "markdown",
   "metadata": {
    "slideshow": {
     "slide_type": "slide"
    }
   },
   "source": [
    "The approximate density given a finite set of options is\n",
    "\n",
    "$$q(K_n)  = e^{rT} \\frac{C_{n+1} - 2C_{n} + C_{n-1}}{(\\Delta K)^2}$$\n",
    "for any $1 < n< N$\n",
    "\n",
    "* This approximation is not smooth and not robust to observation errors\n",
    "* Evaluated only at a finite set of points\n",
    "* The RND tails outside the range of observed strikes needs to be somehow extrapolated\n"
   ]
  },
  {
   "cell_type": "markdown",
   "metadata": {
    "slideshow": {
     "slide_type": "slide"
    }
   },
   "source": [
    "Parametric modeling estimation of the RND:\n",
    "* impose a parametric assumption on the return process, or on the density without specifying price dynamics\n",
    "* can possibly misprice even market-observed options\n",
    "* for instance, binomial tree produces a binomial distribution as the RND.\n",
    "\n",
    "Nonparametric modeling estimation of the RND:\n",
    "* smooth and fill in the option price curve as a function of strike prices\n",
    "* interpolate between the market-observed prices\n",
    "* matches market pricing, but does not work well when option prices are too noisy or too sparse"
   ]
  },
  {
   "cell_type": "markdown",
   "metadata": {
    "slideshow": {
     "slide_type": "slide"
    }
   },
   "source": [
    "# Example\n",
    "\n",
    "* We consider options on S&P 500 in two days: 15.10.2019 and 24.03.2020\n",
    "* Time-to-maturity is 7 days in both cases\n",
    "* Data are already cleaned and pre-processed\n",
    "* BSIVs are already calculated"
   ]
  },
  {
   "cell_type": "code",
   "execution_count": 21,
   "metadata": {
    "scrolled": true,
    "slideshow": {
     "slide_type": "slide"
    }
   },
   "outputs": [],
   "source": [
    "df1 = pd.read_csv(\"../data/spx-2019-10-15-7d.csv\")\n",
    "df2 = pd.read_csv(\"../data/spx-2020-03-24-7d.csv\")"
   ]
  },
  {
   "cell_type": "code",
   "execution_count": 22,
   "metadata": {},
   "outputs": [
    {
     "data": {
      "text/html": [
       "<div>\n",
       "<style scoped>\n",
       "    .dataframe tbody tr th:only-of-type {\n",
       "        vertical-align: middle;\n",
       "    }\n",
       "\n",
       "    .dataframe tbody tr th {\n",
       "        vertical-align: top;\n",
       "    }\n",
       "\n",
       "    .dataframe thead th {\n",
       "        text-align: right;\n",
       "    }\n",
       "</style>\n",
       "<table border=\"1\" class=\"dataframe\">\n",
       "  <thead>\n",
       "    <tr style=\"text-align: right;\">\n",
       "      <th></th>\n",
       "      <th>quote_date</th>\n",
       "      <th>root</th>\n",
       "      <th>expiration</th>\n",
       "      <th>strike</th>\n",
       "      <th>option_type</th>\n",
       "      <th>trade_volume</th>\n",
       "      <th>tenor</th>\n",
       "      <th>tenor_days</th>\n",
       "      <th>mid_quote_1545</th>\n",
       "      <th>Rf</th>\n",
       "      <th>forward</th>\n",
       "      <th>k</th>\n",
       "      <th>bsiv</th>\n",
       "    </tr>\n",
       "  </thead>\n",
       "  <tbody>\n",
       "    <tr>\n",
       "      <th>0</th>\n",
       "      <td>15/10/2019</td>\n",
       "      <td>SPXW</td>\n",
       "      <td>21/10/2019</td>\n",
       "      <td>2560</td>\n",
       "      <td>P</td>\n",
       "      <td>500</td>\n",
       "      <td>0.019207</td>\n",
       "      <td>7</td>\n",
       "      <td>0.075</td>\n",
       "      <td>1.8532</td>\n",
       "      <td>2997.699181</td>\n",
       "      <td>0.853988</td>\n",
       "      <td>0.389733</td>\n",
       "    </tr>\n",
       "    <tr>\n",
       "      <th>1</th>\n",
       "      <td>15/10/2019</td>\n",
       "      <td>SPXW</td>\n",
       "      <td>21/10/2019</td>\n",
       "      <td>2600</td>\n",
       "      <td>P</td>\n",
       "      <td>0</td>\n",
       "      <td>0.019207</td>\n",
       "      <td>7</td>\n",
       "      <td>0.075</td>\n",
       "      <td>1.8532</td>\n",
       "      <td>2997.699181</td>\n",
       "      <td>0.867332</td>\n",
       "      <td>0.354504</td>\n",
       "    </tr>\n",
       "    <tr>\n",
       "      <th>2</th>\n",
       "      <td>15/10/2019</td>\n",
       "      <td>SPXW</td>\n",
       "      <td>21/10/2019</td>\n",
       "      <td>2640</td>\n",
       "      <td>P</td>\n",
       "      <td>0</td>\n",
       "      <td>0.019207</td>\n",
       "      <td>7</td>\n",
       "      <td>0.075</td>\n",
       "      <td>1.8532</td>\n",
       "      <td>2997.699181</td>\n",
       "      <td>0.880675</td>\n",
       "      <td>0.319568</td>\n",
       "    </tr>\n",
       "    <tr>\n",
       "      <th>3</th>\n",
       "      <td>15/10/2019</td>\n",
       "      <td>SPXW</td>\n",
       "      <td>21/10/2019</td>\n",
       "      <td>2675</td>\n",
       "      <td>P</td>\n",
       "      <td>24</td>\n",
       "      <td>0.019207</td>\n",
       "      <td>7</td>\n",
       "      <td>0.100</td>\n",
       "      <td>1.8532</td>\n",
       "      <td>2997.699181</td>\n",
       "      <td>0.892351</td>\n",
       "      <td>0.297302</td>\n",
       "    </tr>\n",
       "    <tr>\n",
       "      <th>4</th>\n",
       "      <td>15/10/2019</td>\n",
       "      <td>SPXW</td>\n",
       "      <td>21/10/2019</td>\n",
       "      <td>2680</td>\n",
       "      <td>P</td>\n",
       "      <td>0</td>\n",
       "      <td>0.019207</td>\n",
       "      <td>7</td>\n",
       "      <td>0.100</td>\n",
       "      <td>1.8532</td>\n",
       "      <td>2997.699181</td>\n",
       "      <td>0.894019</td>\n",
       "      <td>0.292875</td>\n",
       "    </tr>\n",
       "    <tr>\n",
       "      <th>...</th>\n",
       "      <td>...</td>\n",
       "      <td>...</td>\n",
       "      <td>...</td>\n",
       "      <td>...</td>\n",
       "      <td>...</td>\n",
       "      <td>...</td>\n",
       "      <td>...</td>\n",
       "      <td>...</td>\n",
       "      <td>...</td>\n",
       "      <td>...</td>\n",
       "      <td>...</td>\n",
       "      <td>...</td>\n",
       "      <td>...</td>\n",
       "    </tr>\n",
       "    <tr>\n",
       "      <th>87</th>\n",
       "      <td>15/10/2019</td>\n",
       "      <td>SPXW</td>\n",
       "      <td>21/10/2019</td>\n",
       "      <td>3095</td>\n",
       "      <td>C</td>\n",
       "      <td>0</td>\n",
       "      <td>0.019207</td>\n",
       "      <td>7</td>\n",
       "      <td>0.150</td>\n",
       "      <td>1.8532</td>\n",
       "      <td>2997.699181</td>\n",
       "      <td>1.032458</td>\n",
       "      <td>0.099803</td>\n",
       "    </tr>\n",
       "    <tr>\n",
       "      <th>88</th>\n",
       "      <td>15/10/2019</td>\n",
       "      <td>SPXW</td>\n",
       "      <td>21/10/2019</td>\n",
       "      <td>3100</td>\n",
       "      <td>C</td>\n",
       "      <td>2</td>\n",
       "      <td>0.019207</td>\n",
       "      <td>7</td>\n",
       "      <td>0.125</td>\n",
       "      <td>1.8532</td>\n",
       "      <td>2997.699181</td>\n",
       "      <td>1.034126</td>\n",
       "      <td>0.101826</td>\n",
       "    </tr>\n",
       "    <tr>\n",
       "      <th>89</th>\n",
       "      <td>15/10/2019</td>\n",
       "      <td>SPXW</td>\n",
       "      <td>21/10/2019</td>\n",
       "      <td>3105</td>\n",
       "      <td>C</td>\n",
       "      <td>16</td>\n",
       "      <td>0.019207</td>\n",
       "      <td>7</td>\n",
       "      <td>0.125</td>\n",
       "      <td>1.8532</td>\n",
       "      <td>2997.699181</td>\n",
       "      <td>1.035794</td>\n",
       "      <td>0.106093</td>\n",
       "    </tr>\n",
       "    <tr>\n",
       "      <th>90</th>\n",
       "      <td>15/10/2019</td>\n",
       "      <td>SPXW</td>\n",
       "      <td>21/10/2019</td>\n",
       "      <td>3110</td>\n",
       "      <td>C</td>\n",
       "      <td>53</td>\n",
       "      <td>0.019207</td>\n",
       "      <td>7</td>\n",
       "      <td>0.125</td>\n",
       "      <td>1.8532</td>\n",
       "      <td>2997.699181</td>\n",
       "      <td>1.037462</td>\n",
       "      <td>0.110335</td>\n",
       "    </tr>\n",
       "    <tr>\n",
       "      <th>91</th>\n",
       "      <td>15/10/2019</td>\n",
       "      <td>SPXW</td>\n",
       "      <td>21/10/2019</td>\n",
       "      <td>3115</td>\n",
       "      <td>C</td>\n",
       "      <td>64</td>\n",
       "      <td>0.019207</td>\n",
       "      <td>7</td>\n",
       "      <td>0.100</td>\n",
       "      <td>1.8532</td>\n",
       "      <td>2997.699181</td>\n",
       "      <td>1.039130</td>\n",
       "      <td>0.111578</td>\n",
       "    </tr>\n",
       "  </tbody>\n",
       "</table>\n",
       "<p>92 rows × 13 columns</p>\n",
       "</div>"
      ],
      "text/plain": [
       "    quote_date  root  expiration  strike option_type  trade_volume     tenor  \\\n",
       "0   15/10/2019  SPXW  21/10/2019    2560           P           500  0.019207   \n",
       "1   15/10/2019  SPXW  21/10/2019    2600           P             0  0.019207   \n",
       "2   15/10/2019  SPXW  21/10/2019    2640           P             0  0.019207   \n",
       "3   15/10/2019  SPXW  21/10/2019    2675           P            24  0.019207   \n",
       "4   15/10/2019  SPXW  21/10/2019    2680           P             0  0.019207   \n",
       "..         ...   ...         ...     ...         ...           ...       ...   \n",
       "87  15/10/2019  SPXW  21/10/2019    3095           C             0  0.019207   \n",
       "88  15/10/2019  SPXW  21/10/2019    3100           C             2  0.019207   \n",
       "89  15/10/2019  SPXW  21/10/2019    3105           C            16  0.019207   \n",
       "90  15/10/2019  SPXW  21/10/2019    3110           C            53  0.019207   \n",
       "91  15/10/2019  SPXW  21/10/2019    3115           C            64  0.019207   \n",
       "\n",
       "    tenor_days  mid_quote_1545      Rf      forward         k      bsiv  \n",
       "0            7           0.075  1.8532  2997.699181  0.853988  0.389733  \n",
       "1            7           0.075  1.8532  2997.699181  0.867332  0.354504  \n",
       "2            7           0.075  1.8532  2997.699181  0.880675  0.319568  \n",
       "3            7           0.100  1.8532  2997.699181  0.892351  0.297302  \n",
       "4            7           0.100  1.8532  2997.699181  0.894019  0.292875  \n",
       "..         ...             ...     ...          ...       ...       ...  \n",
       "87           7           0.150  1.8532  2997.699181  1.032458  0.099803  \n",
       "88           7           0.125  1.8532  2997.699181  1.034126  0.101826  \n",
       "89           7           0.125  1.8532  2997.699181  1.035794  0.106093  \n",
       "90           7           0.125  1.8532  2997.699181  1.037462  0.110335  \n",
       "91           7           0.100  1.8532  2997.699181  1.039130  0.111578  \n",
       "\n",
       "[92 rows x 13 columns]"
      ]
     },
     "execution_count": 22,
     "metadata": {},
     "output_type": "execute_result"
    }
   ],
   "source": [
    "df1"
   ]
  },
  {
   "cell_type": "markdown",
   "metadata": {
    "slideshow": {
     "slide_type": "slide"
    }
   },
   "source": [
    "* Data have only out-of-the-money options, that is, put options if $K < S$ and call options of $K > S$.\n",
    "* Calculate Call equivalents for Puts using Put-Call parity"
   ]
  },
  {
   "cell_type": "code",
   "execution_count": 23,
   "metadata": {},
   "outputs": [
    {
     "data": {
      "text/html": [
       "<div>\n",
       "<style scoped>\n",
       "    .dataframe tbody tr th:only-of-type {\n",
       "        vertical-align: middle;\n",
       "    }\n",
       "\n",
       "    .dataframe tbody tr th {\n",
       "        vertical-align: top;\n",
       "    }\n",
       "\n",
       "    .dataframe thead th {\n",
       "        text-align: right;\n",
       "    }\n",
       "</style>\n",
       "<table border=\"1\" class=\"dataframe\">\n",
       "  <thead>\n",
       "    <tr style=\"text-align: right;\">\n",
       "      <th></th>\n",
       "      <th>quote_date</th>\n",
       "      <th>root</th>\n",
       "      <th>expiration</th>\n",
       "      <th>strike</th>\n",
       "      <th>option_type</th>\n",
       "      <th>trade_volume</th>\n",
       "      <th>tenor</th>\n",
       "      <th>tenor_days</th>\n",
       "      <th>mid_quote_1545</th>\n",
       "      <th>Rf</th>\n",
       "      <th>forward</th>\n",
       "      <th>k</th>\n",
       "      <th>bsiv</th>\n",
       "      <th>call</th>\n",
       "    </tr>\n",
       "  </thead>\n",
       "  <tbody>\n",
       "    <tr>\n",
       "      <th>0</th>\n",
       "      <td>15/10/2019</td>\n",
       "      <td>SPXW</td>\n",
       "      <td>21/10/2019</td>\n",
       "      <td>2560</td>\n",
       "      <td>P</td>\n",
       "      <td>500</td>\n",
       "      <td>0.019207</td>\n",
       "      <td>7</td>\n",
       "      <td>0.075</td>\n",
       "      <td>1.8532</td>\n",
       "      <td>2997.699181</td>\n",
       "      <td>0.853988</td>\n",
       "      <td>0.389733</td>\n",
       "      <td>437.618415</td>\n",
       "    </tr>\n",
       "    <tr>\n",
       "      <th>1</th>\n",
       "      <td>15/10/2019</td>\n",
       "      <td>SPXW</td>\n",
       "      <td>21/10/2019</td>\n",
       "      <td>2600</td>\n",
       "      <td>P</td>\n",
       "      <td>0</td>\n",
       "      <td>0.019207</td>\n",
       "      <td>7</td>\n",
       "      <td>0.075</td>\n",
       "      <td>1.8532</td>\n",
       "      <td>2997.699181</td>\n",
       "      <td>0.867332</td>\n",
       "      <td>0.354504</td>\n",
       "      <td>397.632650</td>\n",
       "    </tr>\n",
       "    <tr>\n",
       "      <th>2</th>\n",
       "      <td>15/10/2019</td>\n",
       "      <td>SPXW</td>\n",
       "      <td>21/10/2019</td>\n",
       "      <td>2640</td>\n",
       "      <td>P</td>\n",
       "      <td>0</td>\n",
       "      <td>0.019207</td>\n",
       "      <td>7</td>\n",
       "      <td>0.075</td>\n",
       "      <td>1.8532</td>\n",
       "      <td>2997.699181</td>\n",
       "      <td>0.880675</td>\n",
       "      <td>0.319568</td>\n",
       "      <td>357.646885</td>\n",
       "    </tr>\n",
       "    <tr>\n",
       "      <th>3</th>\n",
       "      <td>15/10/2019</td>\n",
       "      <td>SPXW</td>\n",
       "      <td>21/10/2019</td>\n",
       "      <td>2675</td>\n",
       "      <td>P</td>\n",
       "      <td>24</td>\n",
       "      <td>0.019207</td>\n",
       "      <td>7</td>\n",
       "      <td>0.100</td>\n",
       "      <td>1.8532</td>\n",
       "      <td>2997.699181</td>\n",
       "      <td>0.892351</td>\n",
       "      <td>0.297302</td>\n",
       "      <td>322.684341</td>\n",
       "    </tr>\n",
       "    <tr>\n",
       "      <th>4</th>\n",
       "      <td>15/10/2019</td>\n",
       "      <td>SPXW</td>\n",
       "      <td>21/10/2019</td>\n",
       "      <td>2680</td>\n",
       "      <td>P</td>\n",
       "      <td>0</td>\n",
       "      <td>0.019207</td>\n",
       "      <td>7</td>\n",
       "      <td>0.100</td>\n",
       "      <td>1.8532</td>\n",
       "      <td>2997.699181</td>\n",
       "      <td>0.894019</td>\n",
       "      <td>0.292875</td>\n",
       "      <td>317.686120</td>\n",
       "    </tr>\n",
       "    <tr>\n",
       "      <th>...</th>\n",
       "      <td>...</td>\n",
       "      <td>...</td>\n",
       "      <td>...</td>\n",
       "      <td>...</td>\n",
       "      <td>...</td>\n",
       "      <td>...</td>\n",
       "      <td>...</td>\n",
       "      <td>...</td>\n",
       "      <td>...</td>\n",
       "      <td>...</td>\n",
       "      <td>...</td>\n",
       "      <td>...</td>\n",
       "      <td>...</td>\n",
       "      <td>...</td>\n",
       "    </tr>\n",
       "    <tr>\n",
       "      <th>87</th>\n",
       "      <td>15/10/2019</td>\n",
       "      <td>SPXW</td>\n",
       "      <td>21/10/2019</td>\n",
       "      <td>3095</td>\n",
       "      <td>C</td>\n",
       "      <td>0</td>\n",
       "      <td>0.019207</td>\n",
       "      <td>7</td>\n",
       "      <td>0.150</td>\n",
       "      <td>1.8532</td>\n",
       "      <td>2997.699181</td>\n",
       "      <td>1.032458</td>\n",
       "      <td>0.099803</td>\n",
       "      <td>0.150000</td>\n",
       "    </tr>\n",
       "    <tr>\n",
       "      <th>88</th>\n",
       "      <td>15/10/2019</td>\n",
       "      <td>SPXW</td>\n",
       "      <td>21/10/2019</td>\n",
       "      <td>3100</td>\n",
       "      <td>C</td>\n",
       "      <td>2</td>\n",
       "      <td>0.019207</td>\n",
       "      <td>7</td>\n",
       "      <td>0.125</td>\n",
       "      <td>1.8532</td>\n",
       "      <td>2997.699181</td>\n",
       "      <td>1.034126</td>\n",
       "      <td>0.101826</td>\n",
       "      <td>0.125000</td>\n",
       "    </tr>\n",
       "    <tr>\n",
       "      <th>89</th>\n",
       "      <td>15/10/2019</td>\n",
       "      <td>SPXW</td>\n",
       "      <td>21/10/2019</td>\n",
       "      <td>3105</td>\n",
       "      <td>C</td>\n",
       "      <td>16</td>\n",
       "      <td>0.019207</td>\n",
       "      <td>7</td>\n",
       "      <td>0.125</td>\n",
       "      <td>1.8532</td>\n",
       "      <td>2997.699181</td>\n",
       "      <td>1.035794</td>\n",
       "      <td>0.106093</td>\n",
       "      <td>0.125000</td>\n",
       "    </tr>\n",
       "    <tr>\n",
       "      <th>90</th>\n",
       "      <td>15/10/2019</td>\n",
       "      <td>SPXW</td>\n",
       "      <td>21/10/2019</td>\n",
       "      <td>3110</td>\n",
       "      <td>C</td>\n",
       "      <td>53</td>\n",
       "      <td>0.019207</td>\n",
       "      <td>7</td>\n",
       "      <td>0.125</td>\n",
       "      <td>1.8532</td>\n",
       "      <td>2997.699181</td>\n",
       "      <td>1.037462</td>\n",
       "      <td>0.110335</td>\n",
       "      <td>0.125000</td>\n",
       "    </tr>\n",
       "    <tr>\n",
       "      <th>91</th>\n",
       "      <td>15/10/2019</td>\n",
       "      <td>SPXW</td>\n",
       "      <td>21/10/2019</td>\n",
       "      <td>3115</td>\n",
       "      <td>C</td>\n",
       "      <td>64</td>\n",
       "      <td>0.019207</td>\n",
       "      <td>7</td>\n",
       "      <td>0.100</td>\n",
       "      <td>1.8532</td>\n",
       "      <td>2997.699181</td>\n",
       "      <td>1.039130</td>\n",
       "      <td>0.111578</td>\n",
       "      <td>0.100000</td>\n",
       "    </tr>\n",
       "  </tbody>\n",
       "</table>\n",
       "<p>92 rows × 14 columns</p>\n",
       "</div>"
      ],
      "text/plain": [
       "    quote_date  root  expiration  strike option_type  trade_volume     tenor  \\\n",
       "0   15/10/2019  SPXW  21/10/2019    2560           P           500  0.019207   \n",
       "1   15/10/2019  SPXW  21/10/2019    2600           P             0  0.019207   \n",
       "2   15/10/2019  SPXW  21/10/2019    2640           P             0  0.019207   \n",
       "3   15/10/2019  SPXW  21/10/2019    2675           P            24  0.019207   \n",
       "4   15/10/2019  SPXW  21/10/2019    2680           P             0  0.019207   \n",
       "..         ...   ...         ...     ...         ...           ...       ...   \n",
       "87  15/10/2019  SPXW  21/10/2019    3095           C             0  0.019207   \n",
       "88  15/10/2019  SPXW  21/10/2019    3100           C             2  0.019207   \n",
       "89  15/10/2019  SPXW  21/10/2019    3105           C            16  0.019207   \n",
       "90  15/10/2019  SPXW  21/10/2019    3110           C            53  0.019207   \n",
       "91  15/10/2019  SPXW  21/10/2019    3115           C            64  0.019207   \n",
       "\n",
       "    tenor_days  mid_quote_1545      Rf      forward         k      bsiv  \\\n",
       "0            7           0.075  1.8532  2997.699181  0.853988  0.389733   \n",
       "1            7           0.075  1.8532  2997.699181  0.867332  0.354504   \n",
       "2            7           0.075  1.8532  2997.699181  0.880675  0.319568   \n",
       "3            7           0.100  1.8532  2997.699181  0.892351  0.297302   \n",
       "4            7           0.100  1.8532  2997.699181  0.894019  0.292875   \n",
       "..         ...             ...     ...          ...       ...       ...   \n",
       "87           7           0.150  1.8532  2997.699181  1.032458  0.099803   \n",
       "88           7           0.125  1.8532  2997.699181  1.034126  0.101826   \n",
       "89           7           0.125  1.8532  2997.699181  1.035794  0.106093   \n",
       "90           7           0.125  1.8532  2997.699181  1.037462  0.110335   \n",
       "91           7           0.100  1.8532  2997.699181  1.039130  0.111578   \n",
       "\n",
       "          call  \n",
       "0   437.618415  \n",
       "1   397.632650  \n",
       "2   357.646885  \n",
       "3   322.684341  \n",
       "4   317.686120  \n",
       "..         ...  \n",
       "87    0.150000  \n",
       "88    0.125000  \n",
       "89    0.125000  \n",
       "90    0.125000  \n",
       "91    0.100000  \n",
       "\n",
       "[92 rows x 14 columns]"
      ]
     },
     "execution_count": 23,
     "metadata": {},
     "output_type": "execute_result"
    }
   ],
   "source": [
    "df1[\"call\"] = (df1.option_type==\"P\")*(df1.mid_quote_1545 + np.exp(-df1.Rf/100*df1.tenor)*(df1.forward - df1.strike)) + (df1.option_type==\"C\")*df1.mid_quote_1545\n",
    "df2[\"call\"] = (df2.option_type==\"P\")*(df2.mid_quote_1545 + np.exp(-df2.Rf/100*df2.tenor)*(df2.forward - df2.strike)) + (df2.option_type==\"C\")*df2.mid_quote_1545\n",
    "df1"
   ]
  },
  {
   "cell_type": "code",
   "execution_count": 24,
   "metadata": {
    "slideshow": {
     "slide_type": "slide"
    }
   },
   "outputs": [
    {
     "data": {
      "image/png": "[encoded data removed]",
      "text/plain": [
       "<Figure size 432x288 with 1 Axes>"
      ]
     },
     "metadata": {
      "needs_background": "light"
     },
     "output_type": "display_data"
    }
   ],
   "source": [
    "plt.scatter(df1.k, df1.bsiv);\n",
    "plt.scatter(df2.k, df2.bsiv);\n",
    "plt.ylim((0,1.1))\n",
    "plt.legend([\"15 October 2019\", \"24 March 2020\"]);\n",
    "plt.ylabel(\"BSIV\"); plt.xlabel(\"k=K/S\")\n",
    "plt.title(\"BSIV for 2 dates with tau=7 days\");"
   ]
  },
  {
   "cell_type": "markdown",
   "metadata": {
    "slideshow": {
     "slide_type": "slide"
    }
   },
   "source": [
    "Define a function to calculate the RND given call prices"
   ]
  },
  {
   "cell_type": "code",
   "execution_count": 25,
   "metadata": {},
   "outputs": [],
   "source": [
    "def rnd(C, K):\n",
    "    \" RND approximation\"\n",
    "    n = len(K)\n",
    "    q = np.zeros(n-1)\n",
    "    for i in range(1,n-1):\n",
    "        q[i] = (C[i-1] + C[i+1] - 2*C[i])/((K[i] - K[i-1])**2)\n",
    "        \n",
    "    return q"
   ]
  },
  {
   "cell_type": "code",
   "execution_count": 26,
   "metadata": {},
   "outputs": [
    {
     "data": {
      "image/png": "[encoded data removed]",
      "text/plain": [
       "<Figure size 432x288 with 1 Axes>"
      ]
     },
     "metadata": {
      "needs_background": "light"
     },
     "output_type": "display_data"
    }
   ],
   "source": [
    "q1_discrete = rnd(df1.call.values, df1.strike.values)\n",
    "plt.scatter(df1.strike[1:], q1_discrete);\n",
    "plt.title(\"Discrete approximation for the RND\");"
   ]
  },
  {
   "cell_type": "markdown",
   "metadata": {
    "slideshow": {
     "slide_type": "slide"
    }
   },
   "source": [
    "# SVI fit\n",
    "\n",
    "* To approximate and smooth out data, we will fit a parametric form on the BSIV.\n",
    "* We will use an industry-standard SVI (stochastic volatility inspired) model\n",
    "* Simple parametric form, few parameters, easy to fit and it guarantees arbitrage-free conditions  \n",
    "\n",
    "SVI parametrization of implied total variance $w(x,\\tau) = \\sigma_{BS}^2(x)\\tau$ as a function of log-moneyness $x = \\log k = \\log(K/S)$:\n",
    "\n",
    "$$ w(x,\\tau;\\theta) = a + b\\left(\\rho(x-m) + \\sqrt{(x-m)^2 + \\sigma^2} \\right) $$\n",
    "\n",
    "with a parameter set $\\theta = \\{a,b,\\rho,m,\\sigma\\}$ such that:$a \\in \\mathbb{R}, b \\geq 0, |\\rho| < 1, m \\in \\mathbb{R}, \\sigma > 0$ and $a + b\\sigma \\sqrt{1-\\rho^2} \\geq 0$"
   ]
  },
  {
   "cell_type": "markdown",
   "metadata": {
    "slideshow": {
     "slide_type": "slide"
    }
   },
   "source": [
    "To fit SVI to our data, we will solve the non-linear least square problem:\n",
    "\n",
    "$$ \\hat{\\theta} = argmax \\sum_{n=1}^N \\left( \\sigma_{BS}^2(x_n)\\tau - w(x_n,\\tau; \\theta)\\right)^2 $$\n",
    "\n",
    "where $\\sigma_{BS}^2(x_n)$ is the market-observed BSIV data"
   ]
  },
  {
   "cell_type": "code",
   "execution_count": 27,
   "metadata": {
    "slideshow": {
     "slide_type": "slide"
    }
   },
   "outputs": [],
   "source": [
    "def svi(param, logk):\n",
    "    \"\"\"\n",
    "    Row parametrization of SVI\n",
    "    :param param: vector of parameters [a, b, rho, m, s]\n",
    "    :param logk: log(K/F)\n",
    "    :return: ivar: implied variance\n",
    "    \"\"\"\n",
    "    a, b, rho, m, s = param\n",
    "    ivar = a + b * (rho * (logk - m) + np.sqrt((logk - m)**2 + s ** 2))\n",
    "\n",
    "    return ivar\n",
    "\n",
    "def svi_calibration(param, BSIV, logk, tau):\n",
    "    \"\"\" Row SVI calibration based on the market-observed bsiv data \"\"\"\n",
    "\n",
    "    fn = np.sum(((BSIV ** 2)*tau - svi(param, logk)) ** 2)\n",
    "\n",
    "    return fn\n"
   ]
  },
  {
   "cell_type": "code",
   "execution_count": 28,
   "metadata": {
    "slideshow": {
     "slide_type": "slide"
    }
   },
   "outputs": [
    {
     "data": {
      "text/plain": [
       "     fun: 7.660570758633335e-08\n",
       "     jac: array([ 2.49798028e-05,  8.46488246e-06, -1.33083040e-06,  1.55728509e-06,\n",
       "        5.72087881e-07])\n",
       " message: 'Optimization terminated successfully'\n",
       "    nfev: 39\n",
       "     nit: 6\n",
       "    njev: 6\n",
       "  status: 0\n",
       " success: True\n",
       "       x: array([-0.02444438,  0.09258812,  0.44771566,  0.16435463,  0.29710923])"
      ]
     },
     "execution_count": 28,
     "metadata": {},
     "output_type": "execute_result"
    }
   ],
   "source": [
    "bnds = ((None, None), (0, None), (-1,1), (None,None), (0,None))\n",
    "cons = ({'type': 'ineq', 'fun': lambda x:  x[0] + x[1]*x[4]*np.sqrt(1-x[2]**2)})\n",
    "\n",
    "res1_svi = minimize(svi_calibration, np.array([-0.024, 0.09, 0.45, 0.16, 0.3]),  args=(df1.bsiv, np.log(df1.k), df1.tenor[0]), \n",
    "                   method='SLSQP', bounds = bnds, constraints=cons, \n",
    "                   tol=1e-8, options={'maxiter': 50000})\n",
    "\n",
    "res1_svi"
   ]
  },
  {
   "cell_type": "code",
   "execution_count": 29,
   "metadata": {},
   "outputs": [
    {
     "data": {
      "image/png": "[encoded data removed]",
      "text/plain": [
       "<Figure size 432x288 with 1 Axes>"
      ]
     },
     "metadata": {
      "needs_background": "light"
     },
     "output_type": "display_data"
    }
   ],
   "source": [
    "k1_range = np.arange(df1.k.min()-0.02, df1.k.max()+0.02, 0.002)\n",
    "\n",
    "plt.plot(df1.k, df1.bsiv**2*df1.tenor[0], 'o', k1_range, svi(res1_svi.x, np.log(k1_range)), '-');\n",
    "plt.legend([\"market\", \"SVI fit\"]);"
   ]
  },
  {
   "cell_type": "code",
   "execution_count": 30,
   "metadata": {
    "slideshow": {
     "slide_type": "slide"
    }
   },
   "outputs": [
    {
     "data": {
      "text/plain": [
       "     fun: 4.274661538582675e-06\n",
       "     jac: array([-4.95941364e-05, -6.28270075e-05,  5.79664959e-06, -3.33817046e-05,\n",
       "       -9.75707900e-06])\n",
       " message: 'Optimization terminated successfully'\n",
       "    nfev: 41\n",
       "     nit: 6\n",
       "    njev: 6\n",
       "  status: 0\n",
       " success: True\n",
       "       x: array([ 0.00659581,  0.0190757 , -0.32090926,  0.10981712,  0.03106327])"
      ]
     },
     "execution_count": 30,
     "metadata": {},
     "output_type": "execute_result"
    }
   ],
   "source": [
    "res2_svi = minimize(svi_calibration, np.array([0.006, 0.018, -0.32, 0.1, 0.03]),  args=(df2.bsiv, np.log(df2.k), df2.tenor[0]), \n",
    "                   method='SLSQP', bounds = bnds, constraints=cons, \n",
    "                   tol=1e-8, options={'maxiter': 50000})\n",
    "\n",
    "res2_svi"
   ]
  },
  {
   "cell_type": "code",
   "execution_count": 31,
   "metadata": {
    "slideshow": {
     "slide_type": "slide"
    }
   },
   "outputs": [
    {
     "data": {
      "image/png": "[encoded data removed]",
      "text/plain": [
       "<Figure size 432x288 with 1 Axes>"
      ]
     },
     "metadata": {
      "needs_background": "light"
     },
     "output_type": "display_data"
    }
   ],
   "source": [
    "k2_range = np.arange(df2.k.min()-0.02, df2.k.max()+0.02, 0.002)\n",
    "\n",
    "plt.plot(df2.k, df2.bsiv**2*df2.tenor[0], 'o', k2_range, svi(res2_svi.x, np.log(k2_range)), '-');\n",
    "plt.legend([\"market\", \"SVI fit\"]);"
   ]
  },
  {
   "cell_type": "code",
   "execution_count": 32,
   "metadata": {
    "slideshow": {
     "slide_type": "slide"
    }
   },
   "outputs": [],
   "source": [
    "IV1_svi = np.sqrt(svi(res1_svi.x, np.log(k1_range))/df1.tenor[0])  # tenor = time-to-maturity\n",
    "IV2_svi = np.sqrt(svi(res2_svi.x, np.log(k2_range))/df2.tenor[0])\n",
    "\n",
    "call1_svi = blackscholes(np.exp(-df1.Rf.values[0]/100*df1.tenor.values[0])*df1.forward.values[0], df1.forward.values[0]*k1_range, df1.tenor.values[0], df1.Rf.values[0]/100, IV1_svi)\n",
    "call2_svi = blackscholes(np.exp(-df2.Rf.values[0]/100*df2.tenor.values[0])*df2.forward.values[0], df2.forward.values[0]*k2_range, df2.tenor.values[0], df2.Rf.values[0]/100, IV2_svi)"
   ]
  },
  {
   "cell_type": "code",
   "execution_count": 33,
   "metadata": {},
   "outputs": [],
   "source": [
    "q1 = rnd(call1_svi, df1.forward.values[0]*k1_range)\n",
    "q2 = rnd(call2_svi, df2.forward.values[0]*k2_range)"
   ]
  },
  {
   "cell_type": "code",
   "execution_count": 34,
   "metadata": {
    "slideshow": {
     "slide_type": "slide"
    }
   },
   "outputs": [
    {
     "data": {
      "image/png": "[encoded data removed]",
      "text/plain": [
       "<Figure size 432x288 with 1 Axes>"
      ]
     },
     "metadata": {
      "needs_background": "light"
     },
     "output_type": "display_data"
    }
   ],
   "source": [
    "plt.plot(df1.strike[1:]/df1.forward[0], q1_discrete, 'o', k1_range[1:], q1, '-');\n",
    "plt.legend([\"RND-discrete\", \"RND-svi\"]);"
   ]
  },
  {
   "cell_type": "markdown",
   "metadata": {
    "slideshow": {
     "slide_type": "slide"
    }
   },
   "source": [
    "Now compare two RNDs:"
   ]
  },
  {
   "cell_type": "code",
   "execution_count": 35,
   "metadata": {},
   "outputs": [
    {
     "data": {
      "image/png": "[encoded data removed]",
      "text/plain": [
       "<Figure size 432x288 with 1 Axes>"
      ]
     },
     "metadata": {
      "needs_background": "light"
     },
     "output_type": "display_data"
    }
   ],
   "source": [
    "plt.plot(np.log(k1_range[1:]), q1);\n",
    "plt.plot(np.log(k2_range[1:]), q2);\n",
    "plt.legend([\"15 October 2019\", \"24 March 2020\"]);\n",
    "plt.xlabel(\"log k\")\n",
    "plt.title(\"RND extracted for two days using SVI fit\");"
   ]
  },
  {
   "cell_type": "markdown",
   "metadata": {
    "slideshow": {
     "slide_type": "slide"
    }
   },
   "source": [
    "<img src=\"../img/RND_ecb.png\" alt=\"LOGO\" style=\"display:block; margin-left: auto; margin-right: auto; width: 50%;\">\n"
   ]
  },
  {
   "cell_type": "markdown",
   "metadata": {},
   "source": [
    "* 21 February, just before the virus outbreak reached Europe in full force \n",
    "* A week later (28 February)\n",
    "* 20 March, after significant policy stimulus had been announced in the euro area andthe United States\n",
    "* Source: [ECB Economic Bulletin, Issue 4/2020.](https://www.ecb.europa.eu/pub/economic-bulletin/focus/2020/html/ecb.ebbox202004_02~26672a3808.en.html)"
   ]
  }
 ],
 "metadata": {
  "celltoolbar": "Slideshow",
  "kernelspec": {
   "display_name": "Python 3 (ipykernel)",
   "language": "python",
   "name": "python3"
  },
  "language_info": {
   "codemirror_mode": {
    "name": "ipython",
    "version": 3
   },
   "file_extension": ".py",
   "mimetype": "text/x-python",
   "name": "python",
   "nbconvert_exporter": "python",
   "pygments_lexer": "ipython3",
   "version": "3.8.8"
  },
  "livereveal": {
   "start_slideshow_at": "selected"
  }
 },
 "nbformat": 4,
 "nbformat_minor": 2
}

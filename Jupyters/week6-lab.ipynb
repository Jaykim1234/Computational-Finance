{
 "cells": [
  {
   "cell_type": "markdown",
   "metadata": {
    "slideshow": {
     "slide_type": "slide"
    }
   },
   "source": [
    "<p style=\"text-align: center; font-size: 192%\"> Computational Finance </p>\n",
    "<img src=\"../img/ABSlogo.svg\" alt=\"LOGO\" style=\"display:block; margin-left: auto; margin-right: auto; width: 90%;\">\n",
    "<p style=\"text-align: center; font-size: 150%\"> Week 6: Monte Carlo Methods </p>\n",
    "<p style=\"text-align: center; font-size: 75%\"> <a href=\"#copyrightslide\">Copyright</a> </p>"
   ]
  },
  {
   "cell_type": "code",
   "execution_count": 1,
   "metadata": {
    "slideshow": {
     "slide_type": "skip"
    }
   },
   "outputs": [],
   "source": [
    "#silence some warnings\n",
    "import warnings\n",
    "warnings.filterwarnings('ignore')"
   ]
  },
  {
   "cell_type": "markdown",
   "metadata": {
    "slideshow": {
     "slide_type": "slide"
    }
   },
   "source": [
    "# Outline\n",
    "\n",
    "* Solutions to exercises week 5\n",
    "* Exam Information\n",
    "    * Exam material\n",
    "    * Example question\n",
    "* Advanced Monte Carlo Methods"
   ]
  },
  {
   "cell_type": "markdown",
   "metadata": {
    "slideshow": {
     "slide_type": "slide"
    }
   },
   "source": [
    "## Exam Information\n",
    "\n",
    "*The following is also available on [Canvas](https://canvas.uva.nl/courses/25150/assignments/248824)*\n",
    "\n",
    "* Time and date: **Thursday 20 December, 09:00-11:00**\n",
    "* Location: **IWO 4.04A (Rood/Red)**\n",
    "    * It is assumed that the exam will be on campus. If anything changes, this will be communicated via Canvas.\n",
    "    * This is a written exam. While IWO allows for computer exams, you will *not* have access to a computer during the exam.\n",
    "* The exam will be 2h, closed book, open questions, hand-written.\n",
    "* Critical value tables will be available.\n",
    "* Allowed:\n",
    "    * Calculator\n",
    "    * Cheat sheet: one page A4, double sided, hand-written"
   ]
  },
  {
   "cell_type": "markdown",
   "metadata": {
    "slideshow": {
     "slide_type": "slide"
    }
   },
   "source": [
    "### Exam Material\n",
    "\n",
    "* The relevant exam material is defined by the **lecture slides**. \n",
    "\n",
    "* The **reading list** in the slides for Week 1 is intended as background material to help you study, but won't be tested *per se*.\n",
    "\n",
    "* **Tutorial notes** are background material as well -- unless they discuss material from the lecture slides.\n",
    "\n",
    "* **Derivations** are intended as background knowledge. You should understand the intuition and the implication but you will not be asked to replicate derivations. However, you may be asked to apply methods such as Ito's lemma."
   ]
  },
  {
   "cell_type": "markdown",
   "metadata": {
    "slideshow": {
     "slide_type": "slide"
    }
   },
   "source": [
    "* The focus of the exam is on the financial (and statistical) theory from Weeks 3-6. You will not be required to write large functions. You may, however, be required to *read* **code** and explain what it does, with the following *exceptions*:\n",
    "\n",
    "  * Week 1, *Advanced Material on Functions*.\n",
    "  * Week 2, anything related to `pandas`, `panda_datareader`, and `statsmodels`; in other words, only the material on `numpy` is relevant.\n",
    "  * All of Week 3 and 4. Note that only the programming part is excluded, not the financial theory. This means that while I don't expect you to be able to, e.g., reproduce the code for the regression of a factor model, I *do* expect you to be able to write down the regression equation, and interpret the regression output.\n",
    "  \n",
    "  The code discussed in Weeks 5-6, the exercises, and the second assigment are just applications of the material in Week 1 (plus `numpy`), so all these are fair game.\n",
    "  \n"
   ]
  },
  {
   "cell_type": "markdown",
   "metadata": {
    "slideshow": {
     "slide_type": "slide"
    }
   },
   "source": [
    "### Example question\n",
    "\n",
    "*Question 5 from mock exam 1*\n",
    "\n",
    "1. State the definition of a continuous-time martingale, and explain what it means.\n",
    "2. Let \n",
    "    $$dX_t=\\nu dt +\\sigma dW_t, \\quad \\nu=-\\frac{1}{2}\\sigma^2,$$ \n",
    "    a Brownian motion with drift. For each of the following functions, derive the SDE satisfied by $Y_t\\equiv f(t, X_t)$, and state whether $Y_t$ is a martingale.\n",
    "    1. $f(t, X_t)=\\exp(X_t)$;\n",
    "    2. $f(t, X_t)=tX_t$."
   ]
  },
  {
   "cell_type": "markdown",
   "metadata": {
    "slideshow": {
     "slide_type": "skip"
    }
   },
   "source": [
    "#### Answers\n",
    "\n",
    "1. $X_t$ is a martingale if\n",
    "    * $\\mathbb{E}[|X_t|]<\\infty$\n",
    "    * $\\mathbb{E}[X_t\\mid \\mathcal F_{s}]=X_{s}$, $s<t$.\n",
    "\n",
    "  This means that a martingale is a process without a drift; on average, we expect tomorrow's value to be equal to today's.\n",
    "  \n",
    "2. \n",
    "    1. $f(t, X_t)=\\exp(X_t)$, so $\\dot f(t, X_t)\\equiv \\tfrac{\\partial}{\\partial t}f(t, X_t)=0$, $f'(t, X_t)\\equiv \\tfrac{\\partial}{\\partial X_t}f(t, X_t)=\\exp(X_t)$, and $f''(t, X_t)\\equiv \\tfrac{\\partial^2}{\\partial X_t^2}f(t, X_t)=\\exp(X_t)$, so by Ito's lemma,\n",
    "\\begin{align*}\n",
    "dY_t\\equiv df(t,X_{t})&=\\dot{f}(t,X_{t})dt+f^{\\prime }(t,X_{t})dX_{t}+\\frac{1}{2}f^{\\prime \\prime }(t,X_{t})\\sigma^2dt\\\\\n",
    "&=0+\\exp(X_t)dX_{t}+\\frac{1}{2}\\exp(X_t)\\sigma^2dt\\\\\n",
    "&=\\exp(X_t)(\\nu dt +\\sigma dW_t)+\\frac{1}{2}\\exp(X_t)\\sigma^2dt\\\\\n",
    "&=\\exp(X_t)(-\\frac{1}{2}\\sigma^2 dt +\\sigma dW_t)+\\frac{1}{2}\\exp(X_t)\\sigma^2dt\\\\\n",
    "&= \\exp(X_t)\\sigma dW_t\\\\\n",
    "&= Y_t\\sigma dW_t,\n",
    "\\end{align*}\n",
    "an Ito process without a drift and hence a martingale.\n",
    "\n",
    "    2. $f(t, X_t)=tX_t$, so $\\dot f(t, X_t)=X_t$, $f'(t, X_t)=t$, $f''(t, X_t)=0$,  and\n",
    "\\begin{align*}\n",
    "dY_t\\equiv df(t,X_{t})&=\\dot{f}(t,X_{t})dt+f^{\\prime }(t,X_{t})dX_{t}+\\frac{1}{2}f^{\\prime \\prime }(t,X_{t})\\sigma^2dt\\\\\n",
    "&=X_tdt+tdX_t+0\\\\\n",
    "&=X_tdt+t(\\nu dt +\\sigma dW_t)\\\\\n",
    "&=(X_t+\\nu t)dt+\\sigma t dW_t,\\\\\n",
    "&=(X_t-\\frac{1}{2}\\sigma^2 t)dt+\\sigma t dW_t,\n",
    "\\end{align*}\n",
    "which has a non-zero drift and thus isn't a martingale."
   ]
  },
  {
   "cell_type": "markdown",
   "metadata": {
    "slideshow": {
     "slide_type": "slide"
    }
   },
   "source": [
    "## Advanced Monte Carlo Methods\n",
    "\n",
    "*Preview of bonus week 6 slides on Canvas*\n",
    "    \n",
    "### Variance Reduction Techniques\n",
    "* In standard Monte Carlo, the length of the confidence interval for $\\theta\\equiv\\mathbb{E}[X]$ is proportional to $\\hat{\\sigma}/\\sqrt{n}$, where $\\sigma$ is the standard deviation of $X$.\n",
    "* Thus to increase the accuracy by a factor of 10 (i.e., gain 1 digit), we need 100 times as many samples.\n",
    "* Variance reduction techniques aim to improve the accuracy of the estimate, without increasing $n$.\n",
    "* Techniques to do so include: *antithetic sampling*, and *control variates*"
   ]
  },
  {
   "cell_type": "code",
   "execution_count": 10,
   "metadata": {
    "slideshow": {
     "slide_type": "skip"
    }
   },
   "outputs": [],
   "source": [
    "from scipy.stats import norm\n",
    "def asianmc_vec(S0, K, T, r, sigma, q, N, numsim=10000):\n",
    "    \"\"\"Monte Carlo price of an arithmetic average Asian call.\"\"\"\n",
    "    X0 = np.log(S0)\n",
    "    nu = r-q-.5*sigma**2    \n",
    "    #simulate all paths at once:\n",
    "    _, X = bmsim_vec(T, N, X0, nu, sigma, numsim)\n",
    "    S = np.exp(X)\n",
    "    payoffs = np.maximum(S[:, 1:].mean(axis=1)-K, 0.)  #S[1:]->S[:, 1:], max->maximum, mean()->mean(axis=1)\n",
    "    g = np.exp(-r*T)*payoffs\n",
    "    C = g.mean(); s = g.std()\n",
    "    zq = norm.ppf(0.975)\n",
    "    Cl = C - zq/np.sqrt(numsim)*s\n",
    "    Cu = C + zq/np.sqrt(numsim)*s\n",
    "    return C, Cl, Cu"
   ]
  },
  {
   "cell_type": "markdown",
   "metadata": {
    "slideshow": {
     "slide_type": "slide"
    }
   },
   "source": [
    "### Greeks in Monte Carlo\n",
    "\n",
    "* So far we were mostly concerned with *pricing* options. An equally important problem in practice is *hedging*:\n",
    "suppose that a financial institution has issued a call option (i.e., it is short the option). In order to eliminate the risk, it might create the hedge\n",
    "$$\n",
    "\\Pi _{t}\\equiv-C_{t}+\\phi _{t}S_{t},\n",
    "$$\n",
    "where $\\phi_{t}$ is a number of stocks. The *delta-hedged* portfolio has\n",
    "$$\n",
    "\\phi _{t}=\\Delta_t\\equiv \\frac{\\partial C_{t}}{\\partial S_{t}}.\n",
    "$$\n",
    "* This position is *delta-neutral*: it is immune to (infinitesimally) small movements of the underlying.\n",
    "* The portfolio has to be rebalanced every time the underlying moves (because $\\Delta_t$ depends on time), incurring trading costs.\n",
    "* $\\Delta_t$ is an example of a so-called option *Greek*. Other examples are $\\Gamma_t$ (second derivative w.r.t. the underlying), $\\theta_t$ (the derivative with respect to time), $\\rho_t$ (w.r.t. $r$), and $\\mathcal{V}_t$ (\"Vega\", w.r.t. $\\sigma$)."
   ]
  },
  {
   "cell_type": "markdown",
   "metadata": {
    "slideshow": {
     "slide_type": "slide"
    }
   },
   "source": [
    "* If the option cannot be priced analytically, then we may need to resort to Monte Carlo.\n",
    "* Recalling our risk neutral pricing formula, we see that\n",
    "$$\n",
    "\\Delta_0=\\frac{\\partial}{\\partial S_0} \\mathbb{E}^{\\mathbb{Q}}\\left[e^{-rT}C_T(S_0)\\right].\n",
    "$$\n",
    "* In view of the definition of the derivative,\n",
    "$$\n",
    "\\Delta_0\\equiv \\lim_{\\Delta S_0\\rightarrow 0} \\frac{\\mathbb{E}^{\\mathbb{Q}}\\left[e^{-rT}C_T(S_0+\\Delta S_0)\\right]-\\mathbb{E}^{\\mathbb{Q}}\\left[e^{-rT}C_T(S_0)\\right]}{\\Delta S_0},\n",
    "$$\n",
    "it is natural to approximate $\\Delta_0$ with a finite difference quotient for some small $\\delta S_0$:"
   ]
  },
  {
   "cell_type": "code",
   "execution_count": 12,
   "metadata": {
    "scrolled": true
   },
   "outputs": [
    {
     "data": {
      "text/plain": [
       "7.886858496600313"
      ]
     },
     "execution_count": 12,
     "metadata": {},
     "output_type": "execute_result"
    }
   ],
   "source": [
    "S0 = 11; K = 10; T = 3/12.; r = 0.02; sigma = .3; q = 0.01; N = 10; numsim=10000\n",
    "dS = .01   # change from 0.01 to 0.001 to see differences\n",
    "np.random.seed(0)\n",
    "Cd, _, _ = asianmc_vec(S0+dS, K, T, r, sigma, q, N, numsim)\n",
    "C,  _, _ = asianmc_vec(S0,    K, T, r, sigma, q, N, numsim)\n",
    "Delta = (Cd-C)/dS; Delta   # True answer is approx. 0.858"
   ]
  },
  {
   "cell_type": "markdown",
   "metadata": {
    "slideshow": {
     "slide_type": "slide"
    }
   },
   "source": [
    "* Ouch. What's happening is that as $\\Delta S_0\\rightarrow 0$, the sampling variation in $C_T$ increasingly dominates the variation from a small perturbation of $S_0$. This increases the variance of the estimator (which is nevertheless unbiased as $\\Delta S_0\\rightarrow 0$).\n",
    "* The trick is to use the same random numbers in both simulation runs:"
   ]
  },
  {
   "cell_type": "code",
   "execution_count": 13,
   "metadata": {},
   "outputs": [
    {
     "data": {
      "text/plain": [
       "0.8622451045858792"
      ]
     },
     "execution_count": 13,
     "metadata": {},
     "output_type": "execute_result"
    }
   ],
   "source": [
    "dS = .001; np.random.seed(0)\n",
    "Cd, _, _ = asianmc_vec(S0+dS, K, T, r, sigma, q, N, numsim)\n",
    "np.random.seed(0)\n",
    "C,  _, _ = asianmc_vec(S0,    K, T, r, sigma, q, N, numsim)\n",
    "Delta = (Cd-C)/dS; Delta"
   ]
  },
  {
   "cell_type": "markdown",
   "metadata": {},
   "source": [
    "* This is called the *method of common random numbers*.\n",
    "* It implies changing the order of the limit and the expectation.\n",
    "* This can be made more explicit using a *pathwise estimate*, where you directly sample the derivative.\n",
    "* The pathwise estimate allows construction of a confidence interval for $\\Delta_0$."
   ]
  },
  {
   "cell_type": "markdown",
   "metadata": {
    "slideshow": {
     "slide_type": "slide"
    }
   },
   "source": [
    "<section id=\"copyrightslide\">\n",
    "\n",
    "# Copyright Statement\n",
    "* Course slides were created by Simon Broda for Python 2.7 $-$ Andreas Rapp adapted them to Python 3.6. Maintained and updated by Bart Keijsers.\n",
    "* This work is licensed under a [Creative Commons Attribution-ShareAlike 4.0 International License](https://creativecommons.org/licenses/by-sa/4.0/).\n",
    "* All figures have been produced for this course using Python. Empirical results are based on public data available from [FRED](https://fred.stlouisfed.org/), [Quandl/WIKI](https://www.quandl.com/databases/WIKIP), Kenneth French's website, and [Yahoo Finance](https://finance.yahoo.com/).\n",
    "* More information on Simon Broda's [Github](https://github.com/s-broda/ComputationalFinance/blob/master/LICENSE.md)."
   ]
  }
 ],
 "metadata": {
  "celltoolbar": "Slideshow",
  "kernelspec": {
   "display_name": "Python 3 (ipykernel)",
   "language": "python",
   "name": "python3"
  },
  "language_info": {
   "codemirror_mode": {
    "name": "ipython",
    "version": 3
   },
   "file_extension": ".py",
   "mimetype": "text/x-python",
   "name": "python",
   "nbconvert_exporter": "python",
   "pygments_lexer": "ipython3",
   "version": "3.8.8"
  },
  "livereveal": {
   "start_slideshow_at": "selected"
  }
 },
 "nbformat": 4,
 "nbformat_minor": 2
}

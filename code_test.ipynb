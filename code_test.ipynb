{
 "cells": [
  {
   "cell_type": "markdown",
   "id": "0b499fa6",
   "metadata": {},
   "source": [
    "# 1\n"
   ]
  },
  {
   "cell_type": "code",
   "execution_count": 3,
   "id": "269e4158",
   "metadata": {},
   "outputs": [
    {
     "data": {
      "text/plain": [
       "array([ 0,  1,  2,  3,  4,  5,  6,  7,  8,  9, 10])"
      ]
     },
     "execution_count": 3,
     "metadata": {},
     "output_type": "execute_result"
    }
   ],
   "source": [
    "import numpy as np\n",
    "\n",
    "np.arange(10+1)"
   ]
  },
  {
   "cell_type": "code",
   "execution_count": 4,
   "id": "8f619d90",
   "metadata": {},
   "outputs": [
    {
     "data": {
      "text/plain": [
       "array([   1,    2,    4,    8,   16,   32,   64,  128,  256,  512, 1024],\n",
       "      dtype=int32)"
      ]
     },
     "execution_count": 4,
     "metadata": {},
     "output_type": "execute_result"
    }
   ],
   "source": [
    "2**np.arange(10+1)"
   ]
  },
  {
   "cell_type": "markdown",
   "id": "c5468419",
   "metadata": {},
   "source": [
    "# 2"
   ]
  },
  {
   "cell_type": "code",
   "execution_count": 27,
   "id": "9fac4b66",
   "metadata": {},
   "outputs": [
    {
     "data": {
      "text/plain": [
       "array([ 0,  1,  2,  3,  4,  5,  6,  7,  8,  9, 10])"
      ]
     },
     "execution_count": 27,
     "metadata": {},
     "output_type": "execute_result"
    }
   ],
   "source": [
    "np.arange(10+1)"
   ]
  },
  {
   "cell_type": "code",
   "execution_count": 28,
   "id": "2f4ddd60",
   "metadata": {},
   "outputs": [
    {
     "data": {
      "text/plain": [
       "array([   1,    2,    4,    8,   16,   32,   64,  128,  256,  512, 1024],\n",
       "      dtype=int32)"
      ]
     },
     "execution_count": 28,
     "metadata": {},
     "output_type": "execute_result"
    }
   ],
   "source": [
    "2**np.arange(10+1)"
   ]
  },
  {
   "cell_type": "code",
   "execution_count": 7,
   "id": "f0a9489e",
   "metadata": {},
   "outputs": [
    {
     "data": {
      "text/plain": [
       "array([[ 0],\n",
       "       [ 1],\n",
       "       [ 2],\n",
       "       [ 3],\n",
       "       [ 4],\n",
       "       [ 5],\n",
       "       [ 6],\n",
       "       [ 7],\n",
       "       [ 8],\n",
       "       [ 9],\n",
       "       [10]])"
      ]
     },
     "execution_count": 7,
     "metadata": {},
     "output_type": "execute_result"
    }
   ],
   "source": [
    "np.arange(10+1)[:, np.newaxis]"
   ]
  },
  {
   "cell_type": "code",
   "execution_count": 11,
   "id": "39a41e92",
   "metadata": {},
   "outputs": [
    {
     "data": {
      "text/plain": [
       "array([  0,   1,   4,   9,  16,  25,  36,  49,  64,  81, 100])"
      ]
     },
     "execution_count": 11,
     "metadata": {},
     "output_type": "execute_result"
    }
   ],
   "source": [
    "np.arange(10+1)* np.arange(10+1)"
   ]
  },
  {
   "cell_type": "code",
   "execution_count": 26,
   "id": "358ac9d1",
   "metadata": {},
   "outputs": [
    {
     "data": {
      "text/plain": [
       "array([  0,   2,   8,  18,  32,  50,  72,  98, 128, 162, 200])"
      ]
     },
     "execution_count": 26,
     "metadata": {},
     "output_type": "execute_result"
    }
   ],
   "source": [
    "np.arange(10+1)* (2* np.arange(10+1))"
   ]
  },
  {
   "cell_type": "code",
   "execution_count": null,
   "id": "40af2407",
   "metadata": {},
   "outputs": [],
   "source": []
  },
  {
   "cell_type": "code",
   "execution_count": 12,
   "id": "1bd3f2ed",
   "metadata": {},
   "outputs": [
    {
     "data": {
      "text/plain": [
       "array([[  0,   0,   0,   0,   0,   0,   0,   0,   0,   0,   0],\n",
       "       [  0,   2,   4,   6,   8,  10,  12,  14,  16,  18,  20],\n",
       "       [  0,   4,   8,  12,  16,  20,  24,  28,  32,  36,  40],\n",
       "       [  0,   6,  12,  18,  24,  30,  36,  42,  48,  54,  60],\n",
       "       [  0,   8,  16,  24,  32,  40,  48,  56,  64,  72,  80],\n",
       "       [  0,  10,  20,  30,  40,  50,  60,  70,  80,  90, 100],\n",
       "       [  0,  12,  24,  36,  48,  60,  72,  84,  96, 108, 120],\n",
       "       [  0,  14,  28,  42,  56,  70,  84,  98, 112, 126, 140],\n",
       "       [  0,  16,  32,  48,  64,  80,  96, 112, 128, 144, 160],\n",
       "       [  0,  18,  36,  54,  72,  90, 108, 126, 144, 162, 180],\n",
       "       [  0,  20,  40,  60,  80, 100, 120, 140, 160, 180, 200]])"
      ]
     },
     "execution_count": 12,
     "metadata": {},
     "output_type": "execute_result"
    }
   ],
   "source": [
    "np.arange(10+1)* (2* np.arange(10+1)[:, np.newaxis])"
   ]
  },
  {
   "cell_type": "code",
   "execution_count": 24,
   "id": "4bf6d990",
   "metadata": {},
   "outputs": [
    {
     "data": {
      "text/plain": [
       "array([[  0,   0,   0,   0,   0,   0,   0,   0,   0,   0,   0],\n",
       "       [  0,   1,   2,   3,   4,   5,   6,   7,   8,   9,  10],\n",
       "       [  0,   0,   4,   6,   8,  10,  12,  14,  16,  18,  20],\n",
       "       [  0,   0,   0,   9,  12,  15,  18,  21,  24,  27,  30],\n",
       "       [  0,   0,   0,   0,  16,  20,  24,  28,  32,  36,  40],\n",
       "       [  0,   0,   0,   0,   0,  25,  30,  35,  40,  45,  50],\n",
       "       [  0,   0,   0,   0,   0,   0,  36,  42,  48,  54,  60],\n",
       "       [  0,   0,   0,   0,   0,   0,   0,  49,  56,  63,  70],\n",
       "       [  0,   0,   0,   0,   0,   0,   0,   0,  64,  72,  80],\n",
       "       [  0,   0,   0,   0,   0,   0,   0,   0,   0,  81,  90],\n",
       "       [  0,   0,   0,   0,   0,   0,   0,   0,   0,   0, 100]])"
      ]
     },
     "execution_count": 24,
     "metadata": {},
     "output_type": "execute_result"
    }
   ],
   "source": [
    "S = np.arange(10+1)* np.arange(10+1)[:, np.newaxis]\n",
    "S = np.triu(S)\n",
    "S"
   ]
  },
  {
   "cell_type": "code",
   "execution_count": 33,
   "id": "3c6c7eed",
   "metadata": {},
   "outputs": [
    {
     "data": {
      "text/plain": [
       "array([  0,  10,  20,  30,  40,  50,  60,  70,  80,  90, 100])"
      ]
     },
     "execution_count": 33,
     "metadata": {},
     "output_type": "execute_result"
    }
   ],
   "source": [
    "S[:10+1,10]"
   ]
  },
  {
   "cell_type": "code",
   "execution_count": 14,
   "id": "8a2675d9",
   "metadata": {},
   "outputs": [
    {
     "data": {
      "text/plain": [
       "array([9, 8, 7, 6, 5, 4, 3, 2, 1, 0])"
      ]
     },
     "execution_count": 14,
     "metadata": {},
     "output_type": "execute_result"
    }
   ],
   "source": [
    "np.arange(9, -1, -1)"
   ]
  },
  {
   "cell_type": "code",
   "execution_count": 18,
   "id": "e3a9688e",
   "metadata": {},
   "outputs": [
    {
     "data": {
      "text/plain": [
       "array([-1,  0,  1,  2,  3,  4,  5,  6,  7,  8])"
      ]
     },
     "execution_count": 18,
     "metadata": {},
     "output_type": "execute_result"
    }
   ],
   "source": [
    "np.arange(-1, 9, 1)"
   ]
  },
  {
   "cell_type": "code",
   "execution_count": 19,
   "id": "a4f6baab",
   "metadata": {},
   "outputs": [
    {
     "data": {
      "text/plain": [
       "array([-1,  1,  3,  5,  7])"
      ]
     },
     "execution_count": 19,
     "metadata": {},
     "output_type": "execute_result"
    }
   ],
   "source": [
    "np.arange(-1, 9, 2)"
   ]
  },
  {
   "cell_type": "code",
   "execution_count": 34,
   "id": "bd5eecae",
   "metadata": {},
   "outputs": [
    {
     "data": {
      "text/plain": [
       "array([[1.        , 1.1       , 1.21      , 1.331     , 1.4641    ,\n",
       "        1.61051   ],\n",
       "       [0.        , 0.891     , 0.9801    , 1.07811   , 1.185921  ,\n",
       "        1.3045131 ],\n",
       "       [0.        , 0.        , 0.793881  , 0.8732691 , 0.96059601,\n",
       "        1.05665561],\n",
       "       [0.        , 0.        , 0.        , 0.70734797, 0.77808277,\n",
       "        0.85589104],\n",
       "       [0.        , 0.        , 0.        , 0.        , 0.63024704,\n",
       "        0.69327175],\n",
       "       [0.        , 0.        , 0.        , 0.        , 0.        ,\n",
       "        0.56155011]])"
      ]
     },
     "execution_count": 34,
     "metadata": {},
     "output_type": "execute_result"
    }
   ],
   "source": [
    "S = 1.1**np.arange(5+1) * 0.9**(2*np.arange(5+1)[:, np.newaxis]);\n",
    "S = np.triu(S)\n",
    "S"
   ]
  },
  {
   "cell_type": "code",
   "execution_count": 35,
   "id": "51c9db08",
   "metadata": {},
   "outputs": [
    {
     "data": {
      "text/plain": [
       "array([0., 0., 0., 0., 0.])"
      ]
     },
     "execution_count": 35,
     "metadata": {},
     "output_type": "execute_result"
    }
   ],
   "source": [
    "C = np.zeros((5+1, 5+1)) \n",
    "# += np.arange(5+1)[:, np.newaxis]\n",
    "# C[:,-1]\n",
    "C[:,5] = np.arange(5+1)\n",
    "C[:4+1, 4]"
   ]
  },
  {
   "cell_type": "code",
   "execution_count": 36,
   "id": "31956a00",
   "metadata": {},
   "outputs": [
    {
     "data": {
      "text/plain": [
       "array([1., 2., 3., 4., 5.])"
      ]
     },
     "execution_count": 36,
     "metadata": {},
     "output_type": "execute_result"
    }
   ],
   "source": [
    "C[1:4+2, 4+1]"
   ]
  },
  {
   "cell_type": "code",
   "execution_count": 37,
   "id": "8afb3505",
   "metadata": {},
   "outputs": [
    {
     "data": {
      "text/plain": [
       "array([0., 1., 2., 3., 4.])"
      ]
     },
     "execution_count": 37,
     "metadata": {},
     "output_type": "execute_result"
    }
   ],
   "source": [
    "C[:4+1, 4+1]"
   ]
  },
  {
   "cell_type": "code",
   "execution_count": 38,
   "id": "c22804d4",
   "metadata": {},
   "outputs": [
    {
     "name": "stdout",
     "output_type": "stream",
     "text": [
      "4\n",
      "3\n",
      "2\n",
      "1\n",
      "0\n"
     ]
    }
   ],
   "source": [
    "for j in range(5-1, -1, -1):\n",
    "    print(j)"
   ]
  },
  {
   "cell_type": "code",
   "execution_count": 39,
   "id": "15f8b012",
   "metadata": {},
   "outputs": [
    {
     "name": "stdout",
     "output_type": "stream",
     "text": [
      "4\n",
      "3\n",
      "2\n",
      "1\n"
     ]
    }
   ],
   "source": [
    "for j in range(5-1, 0, -1):\n",
    "    print(j)"
   ]
  },
  {
   "cell_type": "code",
   "execution_count": null,
   "id": "6afb8d48",
   "metadata": {},
   "outputs": [],
   "source": []
  }
 ],
 "metadata": {
  "kernelspec": {
   "display_name": "Python 3 (ipykernel)",
   "language": "python",
   "name": "python3"
  },
  "language_info": {
   "codemirror_mode": {
    "name": "ipython",
    "version": 3
   },
   "file_extension": ".py",
   "mimetype": "text/x-python",
   "name": "python",
   "nbconvert_exporter": "python",
   "pygments_lexer": "ipython3",
   "version": "3.8.8"
  }
 },
 "nbformat": 4,
 "nbformat_minor": 5
}

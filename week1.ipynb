{
 "cells": [
  {
   "cell_type": "code",
   "execution_count": 1,
   "metadata": {
    "slideshow": {
     "slide_type": "skip"
    }
   },
   "outputs": [],
   "source": [
    "# !jupyter nbconvert --to slides week1.ipynb --post serve\n",
    "# http://127.0.0.1:8000/week1.slides.html?print-pdf"
   ]
  },
  {
   "cell_type": "markdown",
   "metadata": {
    "slideshow": {
     "slide_type": "slide"
    }
   },
   "source": [
    "<p style=\"text-align: center; font-size: 192%\"> Computational Finance </p>\n",
    "<img src=\"img/ABSlogo.svg\" alt=\"LOGO\" style=\"display:block; margin-left: auto; margin-right: auto; width: 90%;\">\n",
    "<p style=\"text-align: center; font-size: 75%\"> <a href=\"#copyrightslide\">Copyright</a> </p>"
   ]
  },
  {
   "cell_type": "markdown",
   "metadata": {
    "slideshow": {
     "slide_type": "slide"
    }
   },
   "source": [
    "# Preliminaries\n",
    "\n",
    "## About me\n",
    "\n",
    "* My name is Bart Keijsers. Email: [b.j.l.keijsers@uva.nl](mailto:b.j.l.keijsers@uva.nl)\n",
    "* Research interests: financial econometrics, forecasting, credit risk.\n",
    "* Contact: ask questions via [discussion board](https://canvas.uva.nl/courses/20506/discussion_topics), unless it involves a personal situation/information (e.g. regarding grades)."
   ]
  },
  {
   "cell_type": "markdown",
   "metadata": {
    "slideshow": {
     "slide_type": "slide"
    }
   },
   "source": [
    "## Course setup\n",
    "* Format of this course: knowledge clips, 12 lectures of 1h each (2 per week), plus computer labs.\n",
    "* Final grade based on \n",
    "    * a group assignment (groups of two; 20%), \n",
    "    * an individual assignment (15%), and \n",
    "    * a final digital exam (closed book; two hours; 65%).\n",
    "* Deadlines\n",
    "    * Assignment 1: *Sunday November 21st at 23:59.*\n",
    "    * Assignment 2: *Sunday December 12th at 23:59.*\n",
    "* Additional exercises will be made available but not graded (self-study).\n",
    "* Additional practice material for Python, see [Canvas](https://canvas.uva.nl/courses/25150/pages/resources-for-learning-python) and [DataCamp](https://www.datacamp.com/)."
   ]
  },
  {
   "cell_type": "markdown",
   "metadata": {
    "slideshow": {
     "slide_type": "slide"
    }
   },
   "source": [
    "## Material\n",
    "* The lecture slides are available on [Canvas](https://canvas.uva.nl/courses/25150/pages/slides).\n",
    "* Books:\n",
    "  * Yves Hilpisch. Python for Finance: Mastering Data-Driven Finance. O'Reilly Media, 2nd Edition, 2019. ISBN 978-1-492-02433-0 (685 pages; c. EUR 51). Code is available on [Github](https://github.com/yhilpisch/py4fi2nd).\n",
    "  * John C. Hull. Options, Futures and Other Derivatives. 8th Edition (or later), Prentice Hall, 2012. ISBN 978-0273759072 (847 pages, c. EUR 58).\n",
    "* Article:\n",
    "  * [Cochrane, 1999, \"New facts in finance,\" Economic Perspectives, vol. 23(Q III), pages 36-58.](http://www.chicagofed.org/digital_assets/publications/economic_perspectives/1999/ep3Q99_3.pdf)\n",
    "* Further reading:\n",
    "  * [Python documentation](https://docs.python.org/2/index.html)\n",
    "  * Yves Hilpisch.  Derivatives Analytics with Python. Wiley, 2015. ISBN 978-1-119-03799-6 (374 pages, c. EUR 72). Code is available on [Github](https://github.com/yhilpisch/dawp).  \n",
    "  * Python for Data Analysis. 2nd Edition, O'Reilly, 2017. ISBN  978-1-4919-5766-0 (544 pages, c. EUR 34). Code is available on [Github](https://github.com/wesm/pydata-book).\n"
   ]
  },
  {
   "cell_type": "markdown",
   "metadata": {
    "slideshow": {
     "slide_type": "slide"
    }
   },
   "source": [
    "## Course Outline and Reading List\n",
    "\n",
    "|Week | Topic                        | Hilpisch (2019, 2nd ed.)                      |Hull (9th, 10th or 11th ed.) | Articles |\n",
    "|:---:|:-----------------------------|:-------------------------------------------|:------------------------------------|:---|\n",
    "|  1  | Introduction to Python       | Chs. 3                      |                                     | \n",
    "|  2  | Dealing with Data            | Chs. 4, 5, 8, App. A             |                                     | \n",
    "|  3  | Risk Measures; Plotting      | Chs. 7, 12 (pp. 383-387), 13 (pp. 397-415) | Chs. 22.1, 22.2\n",
    "|  4  | Asset Pricing      | ||[Cochrane (1999) \"New Facts in Finance\"](http://www.chicagofed.org/digital_assets/publications/economic_perspectives/1999/ep3Q99_3.pdf)\n",
    "|  5  | Option Pricing - Binomial Trees               | Ch. 10 (pp. 294-298)                                  | Chs. 13, 15, 20, 21.1-21.5     | \n",
    "|  6  | Option Pricing - Monte Carlo Methods          | Ch. 12 (pp. 345-371, 375-380)                       | Chs. 14, 17.3, 21.6, 26.8-26.13| \n",
    "\n",
    "* Hull (2012, 8th edition) can also be used, consult [Canvas](https://canvas.uva.nl/courses/25150/pages/reading-material) for relevant chapters."
   ]
  },
  {
   "cell_type": "markdown",
   "metadata": {
    "slideshow": {
     "slide_type": "slide"
    }
   },
   "source": [
    "## Weekly Outline\n",
    "\n",
    "* Introduction to Python\n",
    "* Python Basics\n",
    "    * Data Types\n",
    "* Control Flow\n",
    "* Modules\n",
    "* Functions\n"
   ]
  },
  {
   "cell_type": "markdown",
   "metadata": {
    "collapsed": true,
    "slideshow": {
     "slide_type": "slide"
    }
   },
   "source": [
    "# Introduction to Python\n",
    "## Why Python?\n",
    "* General purpose programming language, unlike, e.g., Matlab&reg;.\n",
    "* High-level language with a simple syntax, interactive (*REPL*: read-eval-print loop). Hence ideal for rapid development.\n",
    "* Vast array of libraries available, including for scientific computing and finance.\n",
    "* Native Python is usually slower than compiled languages like C++. Alleviated by highly optimized libraries, e.g. NumPy for calculations with arrays.\n",
    "* Free and open source software. Cross-platform.\n",
    "* Python skills are a marketable asset: most popular language for data science."
   ]
  },
  {
   "cell_type": "markdown",
   "metadata": {
    "slideshow": {
     "slide_type": "slide"
    }
   },
   "source": [
    "### Job Postings on Indeed.com\n",
    "<img src=\"img/trends0.png\" alt=\"Job Postings on Indeed.com\" style=\"display:block; margin-left: auto; margin-right: auto; width: 70%;\"/> <p style=\"text-align: center; font-size: 90%\"> [Source](https://www.ibm.com/developerworks/community/blogs/jfp/entry/What_Language_Is_Best_For_Machine_Learning_And_Data_Science?lang=en) </p>"
   ]
  },
  {
   "cell_type": "markdown",
   "metadata": {
    "slideshow": {
     "slide_type": "slide"
    }
   },
   "source": [
    "## Obtaining Python\n",
    "* *Anaconda* is a Python distribution, developed by Continuum Analytics, and specifically designed for scientific computing.\n",
    "* Comes with its own package manager (conda). Many important packages (the *SciPy stack*) are pre-installed. \n",
    "* Python 2.x is legacy, Python 3.x is the present and future of the language. E.g., all recent standard library improvements are only available in Python 3.x.\n",
    "* However, most of our code should run on both with minimal adjustments (e.g., for 3.x's integer division behavior in 2.x use \"from \\_\\_future\\_\\_ import division\").\n",
    "* Obtain it [here](https://www.anaconda.com/download/).\n",
    "* Optional: Install the RISE plugin to allow viewing notebooks as slide shows:"
   ]
  },
  {
   "cell_type": "code",
   "execution_count": 2,
   "metadata": {
    "slideshow": {
     "slide_type": "skip"
    }
   },
   "outputs": [],
   "source": [
    "#uncomment the next line to install. Note: \"!\" executes shell commands.\n",
    "#!conda install -y -c damianavila82 rise "
   ]
  },
  {
   "cell_type": "markdown",
   "metadata": {
    "slideshow": {
     "slide_type": "slide"
    }
   },
   "source": [
    "## IPython Shell\n",
    "* Python features a *read-eval-print loop* (REPL) which allows you to interact with it.\n",
    "* The most bare-bones method of interactive use is via the *IPython shell*:\n",
    "<img src=\"img/ipython.png\" alt=\"IPython Shell\" style=\"display:block; margin-left: auto; margin-right: auto;width: 50%;\"/>\n",
    "* For now, you can treat it as a fancy calculater. Try entering `2+2`. Use `quit()` or `exit()` to quit, `help()` for Python's interactive help."
   ]
  },
  {
   "cell_type": "markdown",
   "metadata": {
    "slideshow": {
     "slide_type": "slide"
    }
   },
   "source": [
    "<img src=\"img/spyder.png\" alt=\"Spyder IDE\" style=\"display:block; margin-left: auto; margin-right: auto;width: 90%;\"/>\n"
   ]
  },
  {
   "cell_type": "markdown",
   "metadata": {
    "slideshow": {
     "slide_type": "slide"
    }
   },
   "source": [
    "## Writing Python Programs\n",
    "* Apart from using it interactively, we can also write Python *programs* so we can rerun the code later.\n",
    "* A Python program (called a *script* or a *module*) is just a text file, typically with the file extension <tt>.py</tt>.\n",
    "* It contains Python commands and comments (introduced by the `#` character)\n",
    "* To execute a program, do `run filename.py` in IPython (you may need to navigate to the right directory by using the `cd` command). \n",
    "* While it is possible to code Python using just the REPL and a text editor (e.g., consider Github's [Atom](https://atom.io/) in combination with its package [Hydrogen](https://atom.io/packages/hydrogen)), many people prefer to use an *integrated development environment* (IDE).\n",
    "* Anaconda comes with an IDE called *Spyder* (Scientific PYthon Development EnviRonment), which integrates an editor, an IPython shell, and other useful tools."
   ]
  },
  {
   "cell_type": "markdown",
   "metadata": {
    "slideshow": {
     "slide_type": "slide"
    }
   },
   "source": [
    "## Jupyter Notebooks\n",
    "* Another option is the *Jupyter notebook* (JUlia PYThon (e) R, formerly known as IPython notebook). \n",
    "* It's a web app that allows you to create documents (<tt>*.ipynb</tt>) that contain text (formatted in [Markdown](https://daringfireball.net/projects/markdown)), live code, and equations (formatted in $\\LaTeX$).\n",
    "* In fact these very slides are based on Jupyter notebooks. They are available on [Canvas](https://canvas.uva.nl/courses/25150/pages/slides). "
   ]
  },
  {
   "cell_type": "markdown",
   "metadata": {
    "slideshow": {
     "slide_type": "slide"
    }
   },
   "source": [
    "<img src=\"img/jupyter.png\" alt=\"A Jupyter Notebook\" style=\"display:block; margin-left: auto; margin-right: auto;width: 90%;\"/>"
   ]
  },
  {
   "cell_type": "markdown",
   "metadata": {
    "slideshow": {
     "slide_type": "slide"
    }
   },
   "source": [
    "* A notebook consists of cells, each of which is either designated as Markdown (for text and equations), or as code.\n",
    "* You should take a moment to familiarize yourself with the keyboard shortcuts. E.g., <tt>enter</tt> enters edit mode, <tt>esc</tt> enters command mode, <tt>ctrl-enter</tt> evaluates a cell, <tt>shift-enter</tt> evaluates a cell and selects the one below.\n",
    "* Useful references:\n",
    "   * [Jupyter documentation](http://jupyter-notebook.readthedocs.io/en/latest/index.html);\n",
    "   * [Markdown cheat sheet](https://github.com/adam-p/markdown-here/wiki/Markdown-Cheatsheet);\n",
    "   * [Latex math cheat sheet](https://en.wikibooks.org/wiki/LaTeX/Mathematics)."
   ]
  },
  {
   "cell_type": "markdown",
   "metadata": {
    "slideshow": {
     "slide_type": "slide"
    }
   },
   "source": [
    "## Google Colab\n",
    "\n",
    "* Online Jupyter notebook environment.\n",
    "* Advantages over Jupyter:\n",
    "    * Consistent Python distribution (does not depend on local environment).\n",
    "    * No adminsitrator rights needed to install packages.\n",
    "    * Share notebooks via Google Drive.\n",
    "* More information: \n",
    "    * [Introduction](https://colab.research.google.com/notebooks/welcome.ipynb);\n",
    "    * [Accessing local files](https://colab.research.google.com/notebooks/io.ipynb)."
   ]
  },
  {
   "cell_type": "markdown",
   "metadata": {
    "slideshow": {
     "slide_type": "slide"
    }
   },
   "source": [
    "<img src=\"img/googlecolab.png\" alt=\"A Jupyter Notebook in Google Colab\" style=\"display:block; margin-left: auto; margin-right: auto; width: 90%;\"/>"
   ]
  },
  {
   "cell_type": "markdown",
   "metadata": {
    "slideshow": {
     "slide_type": "slide"
    }
   },
   "source": [
    "# Learning programming\n",
    "\n",
    "* It's easier than you think.\n",
    "* Practice makes perfect.\n",
    "* Large part of learning is debugging: learn from (finding) your mistakes.\n",
    "* Computer does exactly what you tell it to do.\n",
    "* More important to understand structure rather than memorize syntax."
   ]
  },
  {
   "cell_type": "markdown",
   "metadata": {
    "slideshow": {
     "slide_type": "slide"
    }
   },
   "source": [
    "# Python Basics\n",
    "## Variables\n",
    "* A variable is a named memory location. It is assigned using \"`=`\"\n",
    "(technically, \"`=`\" binds the name on the LHS to the result of the expression on the RHS)."
   ]
  },
  {
   "cell_type": "code",
   "execution_count": 3,
   "metadata": {},
   "outputs": [
    {
     "name": "stdout",
     "output_type": "stream",
     "text": [
      "3\n"
     ]
    }
   ],
   "source": [
    "a = 2\n",
    "a = a + 1  #bind the name a to the result of the expression a+1\n",
    "print(a)  #show the result"
   ]
  },
  {
   "cell_type": "code",
   "execution_count": 4,
   "metadata": {},
   "outputs": [
    {
     "name": "stdout",
     "output_type": "stream",
     "text": [
      "4\n"
     ]
    }
   ],
   "source": [
    "# '+=' reads 'Add AND', adds the RHS to the LHS and assigns the result to the LHS\n",
    "a += 1  #shorthand for a = a+1\n",
    "print(a)"
   ]
  },
  {
   "cell_type": "markdown",
   "metadata": {},
   "source": [
    "* Variable names can be made up from letters, numbers, and the\n",
    "underscore. They may not start with a number. Python is case-sensitive: `A` is not the same as `a`."
   ]
  },
  {
   "cell_type": "markdown",
   "metadata": {
    "slideshow": {
     "slide_type": "slide"
    }
   },
   "source": [
    "## Built-in Types\n",
    "### Attributes and Methods\n",
    "* Any Python object has a *type*.\n",
    "* One can use the `type` function  to show the type of an object:"
   ]
  },
  {
   "cell_type": "code",
   "execution_count": 5,
   "metadata": {
    "slideshow": {
     "slide_type": "-"
    }
   },
   "outputs": [
    {
     "data": {
      "text/plain": [
       "int"
      ]
     },
     "execution_count": 5,
     "metadata": {},
     "output_type": "execute_result"
    }
   ],
   "source": [
    "type(a)  #Functions take one or more inputs (in parentheses) and return an output."
   ]
  },
  {
   "cell_type": "markdown",
   "metadata": {},
   "source": [
    "* Objects can have **attributes** (i.e., *stored in* an object) and **methods** (i.e., *operating on* an object) associated with them:"
   ]
  },
  {
   "cell_type": "code",
   "execution_count": 6,
   "metadata": {},
   "outputs": [
    {
     "data": {
      "text/plain": [
       "4"
      ]
     },
     "execution_count": 6,
     "metadata": {},
     "output_type": "execute_result"
    }
   ],
   "source": [
    "a.real  #this attribute is the real part of potentially complex number"
   ]
  },
  {
   "cell_type": "code",
   "execution_count": 7,
   "metadata": {},
   "outputs": [
    {
     "data": {
      "text/plain": [
       "3"
      ]
     },
     "execution_count": 7,
     "metadata": {},
     "output_type": "execute_result"
    }
   ],
   "source": [
    "a.bit_length()  #a method (function that operates on objects of a particular type)"
   ]
  },
  {
   "cell_type": "markdown",
   "metadata": {
    "slideshow": {
     "slide_type": "slide"
    }
   },
   "source": [
    "### Numeric Types\n",
    "* Computers distinguish between integers and floating point numbers. \n",
    "* Python integers can be arbitrary large (will use as many bits as necessary).\n",
    "* Python floats are between $\\pm 1.8 \\times 10^{308}$, but are stored with just 64 bits of precision.\n",
    "* Hence, not all real numbers can be represented, and floating point arithmetic is not exact:"
   ]
  },
  {
   "cell_type": "code",
   "execution_count": 8,
   "metadata": {
    "slideshow": {
     "slide_type": "-"
    }
   },
   "outputs": [
    {
     "data": {
      "text/plain": [
       "float"
      ]
     },
     "execution_count": 8,
     "metadata": {},
     "output_type": "execute_result"
    }
   ],
   "source": [
    "a = 1.0; type(a)  #Note that variables can change type: a was an 'int' before"
   ]
  },
  {
   "cell_type": "code",
   "execution_count": 9,
   "metadata": {},
   "outputs": [
    {
     "data": {
      "text/plain": [
       "0.09999999999999998"
      ]
     },
     "execution_count": 9,
     "metadata": {},
     "output_type": "execute_result"
    }
   ],
   "source": [
    "a-0.9"
   ]
  },
  {
   "cell_type": "markdown",
   "metadata": {
    "slideshow": {
     "slide_type": "slide"
    }
   },
   "source": [
    "### Arithmetic\n",
    "* The basic arithmetic operations are `+`, `-`, `*`, `/`, and `**` for exponentiation:"
   ]
  },
  {
   "cell_type": "code",
   "execution_count": 10,
   "metadata": {},
   "outputs": [
    {
     "data": {
      "text/plain": [
       "int"
      ]
     },
     "execution_count": 10,
     "metadata": {},
     "output_type": "execute_result"
    }
   ],
   "source": [
    "type(2*(3-1)**2)"
   ]
  },
  {
   "cell_type": "markdown",
   "metadata": {},
   "source": [
    "* If any of the operands is a `float`, then Python will convert the others to float, too:"
   ]
  },
  {
   "cell_type": "code",
   "execution_count": 11,
   "metadata": {},
   "outputs": [
    {
     "data": {
      "text/plain": [
       "float"
      ]
     },
     "execution_count": 11,
     "metadata": {},
     "output_type": "execute_result"
    }
   ],
   "source": [
    "type(2*(3-1.0)**2)"
   ]
  },
  {
   "cell_type": "markdown",
   "metadata": {},
   "source": [
    "* In Python 3.6 `/` performs a usual division independent of the number type (i.e., also for `int`s). \n",
    "* In 2.7, depending on the number type it performs a floor division:"
   ]
  },
  {
   "cell_type": "code",
   "execution_count": 12,
   "metadata": {},
   "outputs": [
    {
     "data": {
      "text/plain": [
       "float"
      ]
     },
     "execution_count": 12,
     "metadata": {},
     "output_type": "execute_result"
    }
   ],
   "source": [
    "c = 3\n",
    "type(c / 2)  #this would be 1 in Python 2.7 (...)"
   ]
  },
  {
   "cell_type": "markdown",
   "metadata": {
    "slideshow": {
     "slide_type": "slide"
    }
   },
   "source": [
    "* This change is problematic if you are porting code between 2.x and 3.x\n",
    "* The change in integer-division behavior can go unnoticed (i.e., no obvious SyntaxError).<br><br>\n",
    "* In Python 3.6 the following division rules apply:"
   ]
  },
  {
   "cell_type": "code",
   "execution_count": 13,
   "metadata": {},
   "outputs": [
    {
     "name": "stdout",
     "output_type": "stream",
     "text": [
      "3 / 2 = 1.5\n",
      "3 // 2 = 1\n",
      "3 / 2.0 = 1.5\n",
      "3 // 2.0 = 1.0\n"
     ]
    }
   ],
   "source": [
    "print('3 / 2 =', 3 / 2)\n",
    "print('3 // 2 =', 3 // 2)\n",
    "print('3 / 2.0 =', 3 / 2.0)\n",
    "print('3 // 2.0 =', 3 // 2.0)"
   ]
  },
  {
   "cell_type": "markdown",
   "metadata": {
    "collapsed": true
   },
   "source": [
    "* To avoid trouble in projects that (still) involve Python 2.x code, use a `float(3)/2` or `3/2.0` instead of the usual division in Python 3.x.\n",
    "* And vice versa, use \"*from \\_\\_future\\_\\_ import division*\" in Python 2.x."
   ]
  },
  {
   "cell_type": "markdown",
   "metadata": {
    "slideshow": {
     "slide_type": "slide"
    }
   },
   "source": [
    "### Booleans\n",
    "* A `bool` can take one of two values: `True` or `False`.\n",
    "* They are **returned** by *relational operators*: `<`, `<=`, `>`, `>=`, `==` (equality), `!=` (inequality), and can be combined using the *logical operators* `and`, `or`, and `not`."
   ]
  },
  {
   "cell_type": "code",
   "execution_count": 14,
   "metadata": {},
   "outputs": [
    {
     "data": {
      "text/plain": [
       "True"
      ]
     },
     "execution_count": 14,
     "metadata": {},
     "output_type": "execute_result"
    }
   ],
   "source": [
    "1 <= 2 < 4"
   ]
  },
  {
   "cell_type": "code",
   "execution_count": 15,
   "metadata": {},
   "outputs": [
    {
     "data": {
      "text/plain": [
       "False"
      ]
     },
     "execution_count": 15,
     "metadata": {},
     "output_type": "execute_result"
    }
   ],
   "source": [
    "1 < 2 and 2 < 1 "
   ]
  },
  {
   "cell_type": "code",
   "execution_count": 16,
   "metadata": {},
   "outputs": [
    {
     "data": {
      "text/plain": [
       "False"
      ]
     },
     "execution_count": 16,
     "metadata": {},
     "output_type": "execute_result"
    }
   ],
   "source": [
    "not(1 < 2)"
   ]
  },
  {
   "cell_type": "markdown",
   "metadata": {
    "slideshow": {
     "slide_type": "slide"
    }
   },
   "source": [
    "## Sequence Types: Containers with Integer Indexing"
   ]
  },
  {
   "cell_type": "markdown",
   "metadata": {
    "slideshow": {
     "slide_type": "-"
    }
   },
   "source": [
    "### Strings\n",
    "* Strings hold text. They are constructed using either single or double quotes: "
   ]
  },
  {
   "cell_type": "code",
   "execution_count": 17,
   "metadata": {},
   "outputs": [
    {
     "name": "stdout",
     "output_type": "stream",
     "text": [
      "Python is easy.\n"
     ]
    }
   ],
   "source": [
    "s1 = \"Python\"; s2 = ' is easy.'; s0=s1+s2  #Concatenation returning the union\n",
    "print(s0)"
   ]
  },
  {
   "cell_type": "code",
   "execution_count": 18,
   "metadata": {},
   "outputs": [
    {
     "name": "stdout",
     "output_type": "stream",
     "text": [
      "Python is easy.\n"
     ]
    }
   ],
   "source": [
    "print(\"Python\", end=\"\")\n",
    "print(' is easy.')  #print two strings in the same line ('type' is different)"
   ]
  },
  {
   "cell_type": "markdown",
   "metadata": {},
   "source": [
    "* Strings can be indexed into:"
   ]
  },
  {
   "cell_type": "code",
   "execution_count": 19,
   "metadata": {},
   "outputs": [
    {
     "data": {
      "text/plain": [
       "'P'"
      ]
     },
     "execution_count": 19,
     "metadata": {},
     "output_type": "execute_result"
    }
   ],
   "source": [
    "s1[0]  #Note zero-based indexing"
   ]
  },
  {
   "cell_type": "code",
   "execution_count": 20,
   "metadata": {},
   "outputs": [
    {
     "data": {
      "text/plain": [
       "'n'"
      ]
     },
     "execution_count": 20,
     "metadata": {},
     "output_type": "execute_result"
    }
   ],
   "source": [
    "s1[-1]  #Negative indexes count from the right:"
   ]
  },
  {
   "cell_type": "markdown",
   "metadata": {
    "slideshow": {
     "slide_type": "slide"
    }
   },
   "source": [
    "* We can also pick out several elements (\"*slicing*\"). This works for all *sequence types* (lists, NumPy arrays, ...)."
   ]
  },
  {
   "cell_type": "code",
   "execution_count": 21,
   "metadata": {},
   "outputs": [
    {
     "data": {
      "text/plain": [
       "'Py'"
      ]
     },
     "execution_count": 21,
     "metadata": {},
     "output_type": "execute_result"
    }
   ],
   "source": [
    "s1[0:2]  #Elements 0 and 1; left endpoint is included, right endpoint excluded."
   ]
  },
  {
   "cell_type": "code",
   "execution_count": 22,
   "metadata": {},
   "outputs": [
    {
     "data": {
      "text/plain": [
       "'Pto'"
      ]
     },
     "execution_count": 22,
     "metadata": {},
     "output_type": "execute_result"
    }
   ],
   "source": [
    "s1[0:6:2]  #start:stop:step"
   ]
  },
  {
   "cell_type": "code",
   "execution_count": 23,
   "metadata": {},
   "outputs": [
    {
     "data": {
      "text/plain": [
       "'nohtyP'"
      ]
     },
     "execution_count": 23,
     "metadata": {},
     "output_type": "execute_result"
    }
   ],
   "source": [
    "s1[::-1]  #start and stop can be ommitted; default to 0 and len(str)"
   ]
  },
  {
   "cell_type": "markdown",
   "metadata": {},
   "source": [
    "* Strings are *immutable* (i.e., they are *unchangeable*):"
   ]
  },
  {
   "cell_type": "code",
   "execution_count": 24,
   "metadata": {},
   "outputs": [
    {
     "name": "stdout",
     "output_type": "stream",
     "text": [
      "'str' object does not support item assignment\n"
     ]
    }
   ],
   "source": [
    "#Wrapping this in a try block so the error doesn't break `Run all` in Jupyter.\n",
    "try:\n",
    "    s1[0] = \"C\"  #This errors.\n",
    "except TypeError as e:\n",
    "    print(e)"
   ]
  },
  {
   "cell_type": "markdown",
   "metadata": {
    "slideshow": {
     "slide_type": "slide"
    }
   },
   "source": [
    "* Python has many useful methods for strings:"
   ]
  },
  {
   "cell_type": "code",
   "execution_count": 25,
   "metadata": {},
   "outputs": [
    {
     "name": "stdout",
     "output_type": "stream",
     "text": [
      "capitalize, casefold, center, count, encode, endswith, expandtabs, find, format, format_map, index, isalnum, isalpha, isdecimal, isdigit, isidentifier, islower, isnumeric, isprintable, isspace, istitle, isupper, join, ljust, lower, lstrip, maketrans, partition, replace, rfind, rindex, rjust, rpartition, rsplit, rstrip, split, splitlines, startswith, strip, swapcase, title, translate, upper, zfill\n"
     ]
    }
   ],
   "source": [
    "print(', '.join(filter(lambda m: callable(getattr(s1, m)) and not m.startswith(\"_\"), dir(s1))))"
   ]
  },
  {
   "cell_type": "code",
   "execution_count": 26,
   "metadata": {},
   "outputs": [
    {
     "name": "stdout",
     "output_type": "stream",
     "text": [
      "Help on built-in function upper:\n",
      "\n",
      "upper(...) method of builtins.str instance\n",
      "    S.upper() -> str\n",
      "    \n",
      "    Return a copy of S converted to uppercase.\n",
      "\n"
     ]
    }
   ],
   "source": [
    "help(s1.upper)"
   ]
  },
  {
   "cell_type": "code",
   "execution_count": 27,
   "metadata": {},
   "outputs": [
    {
     "data": {
      "text/plain": [
       "'PYTHON IS HARD.'"
      ]
     },
     "execution_count": 27,
     "metadata": {},
     "output_type": "execute_result"
    }
   ],
   "source": [
    "(s1+s2).replace('easy','hard').upper()"
   ]
  },
  {
   "cell_type": "markdown",
   "metadata": {
    "slideshow": {
     "slide_type": "slide"
    }
   },
   "source": [
    "### Lists\n",
    "* Lists are indexable collections of arbitrary (though usually homogeneous) things:"
   ]
  },
  {
   "cell_type": "code",
   "execution_count": 28,
   "metadata": {},
   "outputs": [
    {
     "name": "stdout",
     "output_type": "stream",
     "text": [
      "[1, 2.0, 'hi']\n"
     ]
    }
   ],
   "source": [
    "list1 = [1, 2., 'hi']; print(list1)"
   ]
  },
  {
   "cell_type": "markdown",
   "metadata": {},
   "source": [
    "* The function `len` returns the length of a list (or any other sequence):"
   ]
  },
  {
   "cell_type": "code",
   "execution_count": 29,
   "metadata": {},
   "outputs": [
    {
     "data": {
      "text/plain": [
       "3"
      ]
     },
     "execution_count": 29,
     "metadata": {},
     "output_type": "execute_result"
    }
   ],
   "source": [
    "len(list1)"
   ]
  },
  {
   "cell_type": "markdown",
   "metadata": {},
   "source": [
    "* Like strings, they support indexing, but unlike strings, they are *mutable* (i.e., *changeable*):"
   ]
  },
  {
   "cell_type": "code",
   "execution_count": 30,
   "metadata": {},
   "outputs": [
    {
     "name": "stdout",
     "output_type": "stream",
     "text": [
      "[1, 2.0, 42]\n"
     ]
    }
   ],
   "source": [
    "list1[2] = 42; print(list1)"
   ]
  },
  {
   "cell_type": "markdown",
   "metadata": {
    "slideshow": {
     "slide_type": "slide"
    }
   },
   "source": [
    "* Note the following:"
   ]
  },
  {
   "cell_type": "code",
   "execution_count": 31,
   "metadata": {},
   "outputs": [
    {
     "name": "stdout",
     "output_type": "stream",
     "text": [
      "[13, 2.0, 42]\n"
     ]
    }
   ],
   "source": [
    "list2 = list1  #Bind the name list2 to the object list1. This does not create a copy! But list2 is the object list1.\n",
    "list1[0] = 13\n",
    "print(list2)  #list2 and list1 are the _same_ object! I.e., even after assigning list2 changes in list1 matter."
   ]
  },
  {
   "cell_type": "code",
   "execution_count": 32,
   "metadata": {},
   "outputs": [
    {
     "data": {
      "text/plain": [
       "True"
      ]
     },
     "execution_count": 32,
     "metadata": {},
     "output_type": "execute_result"
    }
   ],
   "source": [
    "list3 = list1[:]  #This DOES create a copy. Similarly, use: 'list3 = list1.copy()'; use deepcopy from copy module for list of objects.\n",
    "list3 == list1  #Tests if all elements are equal."
   ]
  },
  {
   "cell_type": "code",
   "execution_count": 33,
   "metadata": {},
   "outputs": [
    {
     "data": {
      "text/plain": [
       "False"
      ]
     },
     "execution_count": 33,
     "metadata": {},
     "output_type": "execute_result"
    }
   ],
   "source": [
    "list3 is list1  #Tests if list3 and list1 refer to the same object."
   ]
  },
  {
   "cell_type": "code",
   "execution_count": 34,
   "metadata": {},
   "outputs": [
    {
     "data": {
      "text/plain": [
       "True"
      ]
     },
     "execution_count": 34,
     "metadata": {},
     "output_type": "execute_result"
    }
   ],
   "source": [
    "list1 is list2"
   ]
  },
  {
   "cell_type": "markdown",
   "metadata": {
    "slideshow": {
     "slide_type": "slide"
    }
   },
   "source": [
    "* Lists of integers can be constructed using the `range` function:"
   ]
  },
  {
   "cell_type": "code",
   "execution_count": 35,
   "metadata": {},
   "outputs": [
    {
     "data": {
      "text/plain": [
       "[1, 2, 3, 4, 5, 6, 7, 8, 9]"
      ]
     },
     "execution_count": 35,
     "metadata": {},
     "output_type": "execute_result"
    }
   ],
   "source": [
    "list(range(1, 10, 1))  #range([start], stop[, step])"
   ]
  },
  {
   "cell_type": "code",
   "execution_count": 36,
   "metadata": {},
   "outputs": [
    {
     "name": "stdout",
     "output_type": "stream",
     "text": [
      "1\n",
      "6\n"
     ]
    }
   ],
   "source": [
    "for i in range(1, 11, 5):\n",
    "    print(i)"
   ]
  },
  {
   "cell_type": "code",
   "execution_count": 37,
   "metadata": {},
   "outputs": [
    {
     "data": {
      "text/plain": [
       "[0, 1, 2, 3, 4]"
      ]
     },
     "execution_count": 37,
     "metadata": {},
     "output_type": "execute_result"
    }
   ],
   "source": [
    "list(range(5))  #start and step can be ommited."
   ]
  },
  {
   "cell_type": "markdown",
   "metadata": {},
   "source": [
    "* *List comprehensions* allow creating lists programmatically:"
   ]
  },
  {
   "cell_type": "code",
   "execution_count": 38,
   "metadata": {},
   "outputs": [
    {
     "data": {
      "text/plain": [
       "[16, 25, 36]"
      ]
     },
     "execution_count": 38,
     "metadata": {},
     "output_type": "execute_result"
    }
   ],
   "source": [
    "[x**2 for x in range(1, 10) if x > 3 and x < 7]"
   ]
  },
  {
   "cell_type": "markdown",
   "metadata": {},
   "source": [
    "* The `for` and `if` statements will be discussed in more detail later."
   ]
  },
  {
   "cell_type": "markdown",
   "metadata": {
    "slideshow": {
     "slide_type": "slide"
    }
   },
   "source": [
    "* Methods for lists:"
   ]
  },
  {
   "cell_type": "code",
   "execution_count": 39,
   "metadata": {},
   "outputs": [
    {
     "name": "stdout",
     "output_type": "stream",
     "text": [
      "append, clear, copy, count, extend, index, insert, pop, remove, reverse, sort\n"
     ]
    }
   ],
   "source": [
    "print(', '.join(filter(lambda m: callable(getattr(list1, m)) and not m.startswith(\"_\"), dir(list1))))"
   ]
  },
  {
   "cell_type": "code",
   "execution_count": 40,
   "metadata": {},
   "outputs": [
    {
     "name": "stdout",
     "output_type": "stream",
     "text": [
      "[13, 2.0, 42, 13]\n"
     ]
    }
   ],
   "source": [
    "list1.append(13);  #append 13 to the list list1\n",
    "print(list1)"
   ]
  },
  {
   "cell_type": "code",
   "execution_count": 41,
   "metadata": {},
   "outputs": [
    {
     "name": "stdout",
     "output_type": "stream",
     "text": [
      "[2.0, 42, 13]\n"
     ]
    }
   ],
   "source": [
    "list1.remove(13)  #remove first matching value, not an index in list1\n",
    "print(list1)"
   ]
  },
  {
   "cell_type": "markdown",
   "metadata": {},
   "source": [
    "* Note: Table 3-2 in the book *incorrectly* states that `remove[i]` removes the element at index `i`."
   ]
  },
  {
   "cell_type": "markdown",
   "metadata": {
    "slideshow": {
     "slide_type": "slide"
    }
   },
   "source": [
    "* For that, use `del` which removes the item at a specific index."
   ]
  },
  {
   "cell_type": "code",
   "execution_count": 42,
   "metadata": {},
   "outputs": [
    {
     "name": "stdout",
     "output_type": "stream",
     "text": [
      "[42, 13]\n"
     ]
    }
   ],
   "source": [
    "del(list1[0]); print(list1)"
   ]
  },
  {
   "cell_type": "markdown",
   "metadata": {},
   "source": [
    "* `del` can also be used to delete variables (technically, to unbind the variable name), e.g., `del list2`."
   ]
  },
  {
   "cell_type": "markdown",
   "metadata": {},
   "source": [
    "* Lastly, there is `pop` which removes the item at a specific index and returns it (i.e., after the command `list1 = [42]`):"
   ]
  },
  {
   "cell_type": "code",
   "execution_count": 43,
   "metadata": {},
   "outputs": [
    {
     "data": {
      "text/plain": [
       "13"
      ]
     },
     "execution_count": 43,
     "metadata": {},
     "output_type": "execute_result"
    }
   ],
   "source": [
    "list1.pop(1)"
   ]
  },
  {
   "cell_type": "markdown",
   "metadata": {
    "slideshow": {
     "slide_type": "slide"
    }
   },
   "source": [
    "### Tuples\n",
    "* A `tuple` is an *immutable* (i.e., *unchangeable*) sequence and generally used for heterogeneous data structures (i.e., their entries have different meanings). Tuples have structure, while lists have order.\n",
    "* Tuples are created with round brackets:"
   ]
  },
  {
   "cell_type": "code",
   "execution_count": 44,
   "metadata": {},
   "outputs": [
    {
     "data": {
      "text/plain": [
       "(1, 2.0, 'hi')"
      ]
     },
     "execution_count": 44,
     "metadata": {},
     "output_type": "execute_result"
    }
   ],
   "source": [
    "(1, 2., 'hi')"
   ]
  },
  {
   "cell_type": "markdown",
   "metadata": {},
   "source": [
    "## Other built-in datatypes\n",
    "\n",
    "* Other built-in datatypes include `set`s (unordered collections) and `dict`s (collections of key-value pairs). See Hilpisch (2019), pp. 81-83."
   ]
  },
  {
   "cell_type": "markdown",
   "metadata": {
    "slideshow": {
     "slide_type": "slide"
    }
   },
   "source": [
    "## Control Flow\n",
    "* Control flow refers to the order in which commands are executed within a program.\n",
    "* Often we would like to alter the linear way in which commands are executed. Examples:\n",
    "  1. *Conditional branch*: Code that is only evaluated if some condition is true.\n",
    "  2. *Loop*: Code that is evaluated more than once."
   ]
  },
  {
   "cell_type": "markdown",
   "metadata": {
    "slideshow": {
     "slide_type": "slide"
    }
   },
   "source": [
    "### Conditional Branch: The `if-else` statement"
   ]
  },
  {
   "cell_type": "code",
   "execution_count": 45,
   "metadata": {},
   "outputs": [
    {
     "name": "stdout",
     "output_type": "stream",
     "text": [
      "Thank you. You entered 2.\n"
     ]
    }
   ],
   "source": [
    "x = 2  #uncomment the next line for interactive use.\n",
    "#x = int(input(\"Enter a number between 0 and 9: \"))  #input() returns a string; int() converts to integer.\n",
    "if x < 0:\n",
    "    print(\"You have entered a negative number.\")\n",
    "elif x > 9:\n",
    "    print(\"You have entered a number greater than 9.\")\n",
    "else:\n",
    "    print(\"Thank you. You entered {}.\".format(x))  #string interpolation."
   ]
  },
  {
   "cell_type": "markdown",
   "metadata": {},
   "source": [
    "* Notes:\n",
    "  1. Code blocks are introduced by colons and *have* to be indented.\n",
    "  2. The `if` block is executed if and only if the first condition has been evaluated `True`\n",
    "  3. The optional `elif` (short for 'else if') block is executed if and only if the first condition has been evaluated `False` and the second one is `True`. There could be more than one.\n",
    "  4. The optional `else` block is executed if and only if none of the others was `True`.   "
   ]
  },
  {
   "cell_type": "markdown",
   "metadata": {
    "slideshow": {
     "slide_type": "slide"
    }
   },
   "source": [
    "### `While` loops\n",
    "* Similar to `if`, but `while` loops jump back to evaluate the `while` statement after the conditional block has finished.\n",
    "* The `else` block is executed when the condition becomes `False` (not if the loop is exited through a `break` statement; see next)."
   ]
  },
  {
   "cell_type": "code",
   "execution_count": 46,
   "metadata": {},
   "outputs": [
    {
     "name": "stdout",
     "output_type": "stream",
     "text": [
      "Thank you. You entered 0.\n"
     ]
    }
   ],
   "source": [
    "x = 0  #set this to -1 or higher than 9 to run.\n",
    "while x < 0 or x > 9:\n",
    "    x = int(input(\"Enter a number between 0 and 9: \"))\n",
    "    if x < 0:\n",
    "        print(\"You have entered a negative number.\")\n",
    "    elif x > 9:\n",
    "        print(\"You have entered a number greater than 9.\")\n",
    "else:\n",
    "    print(\"Thank you. You entered {}.\".format(x))"
   ]
  },
  {
   "cell_type": "markdown",
   "metadata": {
    "slideshow": {
     "slide_type": "slide"
    }
   },
   "source": [
    "* Alternative implementation:"
   ]
  },
  {
   "cell_type": "code",
   "execution_count": 47,
   "metadata": {},
   "outputs": [],
   "source": [
    "while False:  #Change to 'True' to run.\n",
    "    x = int(input(\"Enter a number between 0 and 9: \"))\n",
    "    if x < 0:\n",
    "        print(\"You have entered a negative number.\")\n",
    "        continue  #Skip remainder of loop body and go back to `while`.\n",
    "    if x > 9:\n",
    "        print(\"You have entered a number greater than 9.\")\n",
    "        continue\n",
    "    print(\"Thank you. You entered {}.\".format(x))\n",
    "    break  #Exit innermost enclosing loop."
   ]
  },
  {
   "cell_type": "markdown",
   "metadata": {
    "slideshow": {
     "slide_type": "slide"
    }
   },
   "source": [
    "### `For` Loops\n",
    "* A `for` loop iterates over the elements of a sequence (e.g., a list, a string, a range, etc.):"
   ]
  },
  {
   "cell_type": "code",
   "execution_count": 48,
   "metadata": {},
   "outputs": [
    {
     "name": "stdout",
     "output_type": "stream",
     "text": [
      "P\n",
      "y\n",
      "t\n",
      "h\n",
      "o\n",
      "n\n"
     ]
    }
   ],
   "source": [
    "for letter in \"Python\":\n",
    "    print(letter)"
   ]
  },
  {
   "cell_type": "markdown",
   "metadata": {
    "collapsed": true
   },
   "source": [
    "* `letter` is called the loop variable (its name is abitrary, i.e., `i` would work too). Every time the loop body is executed, it will in turn assume the value of each element of the sequence."
   ]
  },
  {
   "cell_type": "markdown",
   "metadata": {
    "slideshow": {
     "slide_type": "slide"
    }
   },
   "source": [
    "* In Python 3.x loop variables don’t leak into the global namespace anymore."
   ]
  },
  {
   "cell_type": "code",
   "execution_count": 49,
   "metadata": {},
   "outputs": [
    {
     "name": "stdout",
     "output_type": "stream",
     "text": [
      "before: letter = 1\n",
      "Spell: ['P', 'y', 't', 'h', 'o', 'n']\n",
      "after: letter = 1\n"
     ]
    }
   ],
   "source": [
    "letter = 1\n",
    "print('before: letter =', letter)\n",
    "print('Spell:', [letter for letter in \"Python\"])\n",
    "print('after: letter =', letter)  #in Python 2.7 'letter' would have been 'n' after the loop"
   ]
  },
  {
   "cell_type": "markdown",
   "metadata": {
    "slideshow": {
     "slide_type": "slide"
    }
   },
   "source": [
    "* `For` loops are typically used to execute a block of code a pre-specified number of times; this is why the `range()` function is often used in loops:"
   ]
  },
  {
   "cell_type": "code",
   "execution_count": 50,
   "metadata": {},
   "outputs": [
    {
     "name": "stdout",
     "output_type": "stream",
     "text": [
      "[0, 1, 4, 9, 16]\n"
     ]
    }
   ],
   "source": [
    "squares = []\n",
    "for i in range(5):\n",
    "    squares.append(i**2)\n",
    "print(squares)  #highlights the incremental change"
   ]
  },
  {
   "cell_type": "markdown",
   "metadata": {},
   "source": [
    "* Question: What does the following compute? <br> *(highlight, e.g., with: print('Step {}: f before/after multiplication'.format(i), f))*"
   ]
  },
  {
   "cell_type": "code",
   "execution_count": 51,
   "metadata": {},
   "outputs": [],
   "source": [
    "n = 7\n",
    "f = 1\n",
    "for i in range(n):\n",
    "    f *= i+1  #'*=' read 'multiply AND'"
   ]
  },
  {
   "cell_type": "markdown",
   "metadata": {
    "slideshow": {
     "slide_type": "slide"
    }
   },
   "source": [
    "## Modules\n",
    "* Python's functionality is organized in *modules*. \n",
    "* Some of these are part of Python's *standard library* (e.g., `math`). Others are part of *packages*, many of which come preinstalled with Anaconda (e.g., `numpy`).\n",
    "* Modules need to be imported in order to make them available: \n"
   ]
  },
  {
   "cell_type": "code",
   "execution_count": 52,
   "metadata": {},
   "outputs": [
    {
     "data": {
      "text/plain": [
       "5040"
      ]
     },
     "execution_count": 52,
     "metadata": {},
     "output_type": "execute_result"
    }
   ],
   "source": [
    "import math\n",
    "math.factorial(7)  #read 7!"
   ]
  },
  {
   "cell_type": "markdown",
   "metadata": {},
   "source": [
    "*  You can use *tab completion* to discover which functions are defined by `math`: after importing, enter `math.` and press the `Tab` key. Alternatively, use dir(math):"
   ]
  },
  {
   "cell_type": "code",
   "execution_count": 53,
   "metadata": {},
   "outputs": [
    {
     "name": "stdout",
     "output_type": "stream",
     "text": [
      "acos, acosh, asin, asinh, atan, atan2, atanh, ceil, copysign, cos, cosh, degrees, e, erf, erfc, exp, expm1, fabs, factorial, floor, fmod, frexp, fsum, gamma, gcd, hypot, inf, isclose, isfinite, isinf, isnan, ldexp, lgamma, log, log10, log1p, log2, modf, nan, pi, pow, radians, sin, sinh, sqrt, tan, tanh, tau, trunc\n"
     ]
    }
   ],
   "source": [
    "print(', '.join(filter(lambda m: not m.startswith(\"_\"), dir(math))))  #just so the output fits on the slide"
   ]
  },
  {
   "cell_type": "markdown",
   "metadata": {
    "slideshow": {
     "slide_type": "slide"
    }
   },
   "source": [
    "* Note that importing the module does not bring the functions into the *global namespace*: they need to be called as `module.function()`.\n",
    "* It is possible to bring a function into the global namespace; for this, use "
   ]
  },
  {
   "cell_type": "code",
   "execution_count": 54,
   "metadata": {},
   "outputs": [
    {
     "data": {
      "text/plain": [
       "5040"
      ]
     },
     "execution_count": 54,
     "metadata": {},
     "output_type": "execute_result"
    }
   ],
   "source": [
    "from math import factorial\n",
    "factorial(7)"
   ]
  },
  {
   "cell_type": "markdown",
   "metadata": {
    "slideshow": {
     "slide_type": "-"
    }
   },
   "source": [
    "* It is even possible to import all functions from a module into the global namespace using `from math import *`, but this is frowned upon; it pollutes the namespace, which may lead to name collisions.\n",
    "* *Packages* can contain several modules. They are imported the same way:"
   ]
  },
  {
   "cell_type": "code",
   "execution_count": 55,
   "metadata": {},
   "outputs": [
    {
     "data": {
      "text/plain": [
       "0.18101970194866157"
      ]
     },
     "execution_count": 55,
     "metadata": {},
     "output_type": "execute_result"
    }
   ],
   "source": [
    "import numpy\n",
    "numpy.random.rand()"
   ]
  },
  {
   "cell_type": "markdown",
   "metadata": {
    "slideshow": {
     "slide_type": "slide"
    }
   },
   "source": [
    "* Optionally, you can specify a shorthand name for the imported package/module:"
   ]
  },
  {
   "cell_type": "code",
   "execution_count": 56,
   "metadata": {},
   "outputs": [
    {
     "data": {
      "text/plain": [
       "1.4142135623730951"
      ]
     },
     "execution_count": 56,
     "metadata": {},
     "output_type": "execute_result"
    }
   ],
   "source": [
    "import numpy as np\n",
    "np.sqrt(2.0)  #note that this is not the same function as math.sqrt"
   ]
  },
  {
   "cell_type": "markdown",
   "metadata": {},
   "source": [
    "* Conventions have evolved for the shorthands of some packages (e.g., `np` for `numpy`, `pd` for `pandas`). Following them improves code readability.\n",
    "* For the same reason, it is good practice to put your `import` statements at the beginning of your document (which I didn't do here).\n"
   ]
  },
  {
   "cell_type": "markdown",
   "metadata": {
    "slideshow": {
     "slide_type": "slide"
    }
   },
   "source": [
    "## Functions\n",
    "### Defining Functions\n",
    "* User-defined functions are declared using the `def` keyword:"
   ]
  },
  {
   "cell_type": "code",
   "execution_count": 57,
   "metadata": {},
   "outputs": [
    {
     "data": {
      "text/plain": [
       "9"
      ]
     },
     "execution_count": 57,
     "metadata": {},
     "output_type": "execute_result"
    }
   ],
   "source": [
    "def mypower(x, y):  #zero or more arguments, here two\n",
    "    \"\"\"Compute x^y.\"\"\"\n",
    "    return x**y\n",
    "\n",
    "mypower(3, 2)  #positional arguments"
   ]
  },
  {
   "cell_type": "markdown",
   "metadata": {},
   "source": [
    "* The *docstring* is shown by the help function (proper commenting improves misunderstanding):"
   ]
  },
  {
   "cell_type": "code",
   "execution_count": 58,
   "metadata": {},
   "outputs": [
    {
     "name": "stdout",
     "output_type": "stream",
     "text": [
      "Help on function mypower in module __main__:\n",
      "\n",
      "mypower(x, y)\n",
      "    Compute x^y.\n",
      "\n"
     ]
    }
   ],
   "source": [
    "help(mypower)"
   ]
  },
  {
   "cell_type": "markdown",
   "metadata": {
    "slideshow": {
     "slide_type": "slide"
    }
   },
   "source": [
    "### Several Outputs\n",
    "* Functions can have more than one output argument:"
   ]
  },
  {
   "cell_type": "code",
   "execution_count": 59,
   "metadata": {},
   "outputs": [
    {
     "data": {
      "text/plain": [
       "(3, -1)"
      ]
     },
     "execution_count": 59,
     "metadata": {},
     "output_type": "execute_result"
    }
   ],
   "source": [
    "def plusminus(a, b):\n",
    "    \"\"\"Computes sum and difference of input arguments\"\"\"\n",
    "    c = a+b\n",
    "    d = a-b\n",
    "    return c,d\n",
    "\n",
    "c, d = plusminus(1, 2); c, d"
   ]
  },
  {
   "cell_type": "code",
   "execution_count": 60,
   "metadata": {},
   "outputs": [
    {
     "data": {
      "text/plain": [
       "(3, -1)"
      ]
     },
     "execution_count": 60,
     "metadata": {},
     "output_type": "execute_result"
    }
   ],
   "source": [
    "plusminus(1, 2)"
   ]
  },
  {
   "cell_type": "markdown",
   "metadata": {
    "slideshow": {
     "slide_type": "slide"
    }
   },
   "source": [
    "### Keyword Arguments\n",
    "* Instead of *positional arguments*, we can also pass *keyword arguments*:"
   ]
  },
  {
   "cell_type": "code",
   "execution_count": 61,
   "metadata": {
    "slideshow": {
     "slide_type": "-"
    }
   },
   "outputs": [
    {
     "data": {
      "text/plain": [
       "9"
      ]
     },
     "execution_count": 61,
     "metadata": {},
     "output_type": "execute_result"
    }
   ],
   "source": [
    "mypower(y=2, x=3)  #evaluates 3^2 (instead of 2^3)"
   ]
  },
  {
   "cell_type": "markdown",
   "metadata": {
    "slideshow": {
     "slide_type": "-"
    }
   },
   "source": [
    "* Functions can specify *default arguments*:"
   ]
  },
  {
   "cell_type": "code",
   "execution_count": 62,
   "metadata": {},
   "outputs": [
    {
     "data": {
      "text/plain": [
       "9"
      ]
     },
     "execution_count": 62,
     "metadata": {},
     "output_type": "execute_result"
    }
   ],
   "source": [
    "def mypower(x, y=2):  #default arguments have to appear at the end\n",
    "    \"\"\"Compute x^y (where y is fixed to 2 if unspecified)\"\"\"\n",
    "    return x**y \n",
    "\n",
    "mypower(3)  #evaluates 3^(default value -> 2) "
   ]
  },
  {
   "cell_type": "code",
   "execution_count": 63,
   "metadata": {},
   "outputs": [
    {
     "data": {
      "text/plain": [
       "27"
      ]
     },
     "execution_count": 63,
     "metadata": {},
     "output_type": "execute_result"
    }
   ],
   "source": [
    "mypower(3, 3)  #evaluates 3^3"
   ]
  },
  {
   "cell_type": "markdown",
   "metadata": {
    "slideshow": {
     "slide_type": "slide"
    }
   },
   "source": [
    "### Variable Scope\n",
    "* Variables defined in functions are local not global (i.e., not visible in the calling scope):"
   ]
  },
  {
   "cell_type": "code",
   "execution_count": 64,
   "metadata": {},
   "outputs": [],
   "source": [
    "def f():\n",
    "    z = 1\n",
    "\n",
    "f()  #print(f())"
   ]
  },
  {
   "cell_type": "code",
   "execution_count": 65,
   "metadata": {},
   "outputs": [
    {
     "name": "stdout",
     "output_type": "stream",
     "text": [
      "name 'z' is not defined\n"
     ]
    }
   ],
   "source": [
    "try:\n",
    "    print(z)  #z is local to function f!\n",
    "except NameError as e:\n",
    "    print(e)"
   ]
  },
  {
   "cell_type": "markdown",
   "metadata": {
    "slideshow": {
     "slide_type": "slide"
    }
   },
   "source": [
    "### Calling Convention\n",
    "* Python uses a *calling convention* known as *call by object reference*.\n",
    "* This means that any modifications a function makes to its (mutable) arguments are visible to the caller (i.e., outside the function):"
   ]
  },
  {
   "cell_type": "code",
   "execution_count": 66,
   "metadata": {},
   "outputs": [
    {
     "name": "stdout",
     "output_type": "stream",
     "text": [
      "[2]\n"
     ]
    }
   ],
   "source": [
    "x = [1]  #recall that lists are mutable.\n",
    "def f(y):\n",
    "    y[0] = 2  #note: no return statement. Equivalent to `return None`.\n",
    "\n",
    "f(x);  #we feed the argument 'x' into 'f()'\n",
    "print(x)  #note that x has been modified in the calling scope."
   ]
  },
  {
   "cell_type": "markdown",
   "metadata": {
    "slideshow": {
     "slide_type": "slide"
    }
   },
   "source": [
    "### Nested Functions\n",
    "* Functions can be defined inside other functions. They will only be visible to the enclosing function.\n",
    "* Nested functions can see variables defined in the enclosing function."
   ]
  },
  {
   "cell_type": "code",
   "execution_count": 67,
   "metadata": {},
   "outputs": [
    {
     "data": {
      "text/plain": [
       "8"
      ]
     },
     "execution_count": 67,
     "metadata": {},
     "output_type": "execute_result"
    }
   ],
   "source": [
    "def mypower(x, y):\n",
    "    def helper():  #No need to pass in x and y:\n",
    "        return x**y  #The nested function can see them!   \n",
    "    a = helper()\n",
    "    return a\n",
    "\n",
    "mypower(2, 3)"
   ]
  },
  {
   "cell_type": "markdown",
   "metadata": {
    "slideshow": {
     "slide_type": "slide"
    }
   },
   "source": [
    "### Advanced Material on Functions\n",
    "#### Splatting and Slurping\n",
    "* Splatting: passing the elements of a sequence into a function as positional arguments, one by one."
   ]
  },
  {
   "cell_type": "code",
   "execution_count": 68,
   "metadata": {
    "slideshow": {
     "slide_type": "-"
    }
   },
   "outputs": [
    {
     "data": {
      "text/plain": [
       "8"
      ]
     },
     "execution_count": 68,
     "metadata": {},
     "output_type": "execute_result"
    }
   ],
   "source": [
    "def mypower(x, y): \n",
    "    return x**y \n",
    "\n",
    "args = [2, 3]  #use a list or a tuple - here we use a list\n",
    "mypower(*args)  #Splat (unpack) args into mypower as positional arguments."
   ]
  },
  {
   "cell_type": "markdown",
   "metadata": {},
   "source": [
    "* We can splat keyword arguments too, but we need to use a `dict` (key-value store):"
   ]
  },
  {
   "cell_type": "code",
   "execution_count": 69,
   "metadata": {},
   "outputs": [
    {
     "data": {
      "text/plain": [
       "8"
      ]
     },
     "execution_count": 69,
     "metadata": {},
     "output_type": "execute_result"
    }
   ],
   "source": [
    "kwargs={'y': 3, 'x': 2}  #a dict\n",
    "mypower(**kwargs)  #splat keyword arguments"
   ]
  },
  {
   "cell_type": "markdown",
   "metadata": {
    "slideshow": {
     "slide_type": "slide"
    }
   },
   "source": [
    "* Slurping allows us to create *vararg* functions: functions that can be called with any number of positional and/or keyword arguments. "
   ]
  },
  {
   "cell_type": "code",
   "execution_count": 70,
   "metadata": {},
   "outputs": [
    {
     "name": "stdout",
     "output_type": "stream",
     "text": [
      "The 0th positional argument was 3.\n",
      "The 1th positional argument was 4.\n",
      "Got keyword argument x=2.\n",
      "Got keyword argument y=3.\n"
     ]
    }
   ],
   "source": [
    "def myfunc(*myargs, **mykwargs):\n",
    "    for (i, a) in enumerate(myargs): print(\"The {}th positional argument was {}.\".format(i,a))\n",
    "    for a in mykwargs: print(\"Got keyword argument {}={}.\".format(a,mykwargs[a]))\n",
    "\n",
    "myfunc(3, 4, x=2, y=3)"
   ]
  },
  {
   "cell_type": "markdown",
   "metadata": {},
   "source": [
    "* The asterisk means \"collect all (remaining) positional arguments into a tuple\".\n",
    "* The double asterisk means \"collect all (remaining) keyword arguments into a dict\"."
   ]
  },
  {
   "cell_type": "markdown",
   "metadata": {
    "slideshow": {
     "slide_type": "slide"
    }
   },
   "source": [
    "#### Closures\n",
    "* Functions are *first class objects* in Python.\n",
    "* This implies, inter alia, that functions can return other functions.\n",
    "* Such functions are called *closures*, because they close around (capture) the local variables of the enclosing function."
   ]
  },
  {
   "cell_type": "code",
   "execution_count": 71,
   "metadata": {},
   "outputs": [
    {
     "data": {
      "text/plain": [
       "function"
      ]
     },
     "execution_count": 71,
     "metadata": {},
     "output_type": "execute_result"
    }
   ],
   "source": [
    "def makemultiplier(factor):\n",
    "    \"\"\"Return a function that multiplies its argument by `factor`.\"\"\"\n",
    "    def multiplier(x):\n",
    "        return x*factor\n",
    "    return multiplier\n",
    "\n",
    "timesfive = makemultiplier(5)\n",
    "type(timesfive)"
   ]
  },
  {
   "cell_type": "code",
   "execution_count": 72,
   "metadata": {},
   "outputs": [
    {
     "data": {
      "text/plain": [
       "15"
      ]
     },
     "execution_count": 72,
     "metadata": {},
     "output_type": "execute_result"
    }
   ],
   "source": [
    "timesfive(3)"
   ]
  },
  {
   "cell_type": "markdown",
   "metadata": {
    "slideshow": {
     "slide_type": "slide"
    }
   },
   "source": [
    "#### Anonymous Functions\n",
    "* Anonymous functions (or **lambdas**) are functions without a name (duh...) and whose function body is a single expression.\n",
    "* They are often useful for functions that are needed only once (e.g., to return from a function, or to pass to a function).\n",
    "* E.g., the previous example could be written"
   ]
  },
  {
   "cell_type": "code",
   "execution_count": 73,
   "metadata": {},
   "outputs": [
    {
     "data": {
      "text/plain": [
       "15"
      ]
     },
     "execution_count": 73,
     "metadata": {},
     "output_type": "execute_result"
    }
   ],
   "source": [
    "def makemultiplier(factor):\n",
    "    \"\"\"Return a function that multiplies its argument by `factor`.\"\"\"\n",
    "    return lambda x: x*factor\n",
    "\n",
    "timesfive=makemultiplier(5)\n",
    "timesfive(3)"
   ]
  },
  {
   "cell_type": "markdown",
   "metadata": {
    "slideshow": {
     "slide_type": "slide"
    }
   },
   "source": [
    "# Summary\n",
    "\n",
    "* **Python** is a popular free open-source programming language, that is beginner-friendly.\n",
    "* Each Python objects is a **data type**. Each type has specific atributes and methods. We discussed the following\n",
    "    * Numeric types: integer, float\n",
    "    * Boolean\n",
    "    * Sequence types: string, list (`[]`), tuple (`()`)\n",
    "* ` if-else` statements, `while` loops and `for` loops allow code to be non-linear by controlling under what conditions and how often lines of code are executed.\n",
    "* Python functionality is organized in **modules** from which functions can be imported.\n",
    "* User-specified **functions** can be created too. \n",
    "* Be careful with the structure when defining a function or loop: use indentation, and don't forget the colon (`:`)!\n"
   ]
  },
  {
   "cell_type": "markdown",
   "metadata": {
    "slideshow": {
     "slide_type": "slide"
    }
   },
   "source": [
    "<section id=\"copyrightslide\">\n",
    "\n",
    "# Copyright Statement\n",
    "* Course slides were created by Simon Broda for Python 2.7 $-$ Andreas Rapp adapted them to Python 3.6. Maintained and updated by Bart Keijsers.\n",
    "* Week 4 slides were created by Bart Keijsers. The hierarchical indexing example is from the UvA course Data Science Methods by Cees Diks and Bram Wouters.\n",
    "* All figures have been produced for this course using Python. Empirical results are based on public data available from [FRED](https://fred.stlouisfed.org/), [Quandl/WIKI](https://www.quandl.com/databases/WIKIP), [Kenneth French's website](https://mba.tuck.dartmouth.edu/pages/faculty/ken.french/data_library.html) and [Yahoo Finance](https://finance.yahoo.com/).\n",
    "* This work is licensed under a [Creative Commons Attribution-ShareAlike 4.0 International License](https://creativecommons.org/licenses/by-sa/4.0/).\n",
    "* More information on Simon Broda's [Github](https://github.com/s-broda/ComputationalFinance/blob/master/LICENSE.md)."
   ]
  }
 ],
 "metadata": {
  "celltoolbar": "Slideshow",
  "kernelspec": {
   "display_name": "Python 3 (ipykernel)",
   "language": "python",
   "name": "python3"
  },
  "language_info": {
   "codemirror_mode": {
    "name": "ipython",
    "version": 3
   },
   "file_extension": ".py",
   "mimetype": "text/x-python",
   "name": "python",
   "nbconvert_exporter": "python",
   "pygments_lexer": "ipython3",
   "version": "3.8.8"
  },
  "livereveal": {
   "start_slideshow_at": "selected"
  }
 },
 "nbformat": 4,
 "nbformat_minor": 2
}
